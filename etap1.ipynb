{
 "nbformat": 4,
 "nbformat_minor": 0,
 "metadata": {
  "kernelspec": {
   "display_name": "Python 3",
   "language": "python",
   "name": "python3"
  },
  "language_info": {
   "codemirror_mode": {
    "name": "ipython",
    "version": 2
   },
   "file_extension": ".py",
   "mimetype": "text/x-python",
   "name": "python",
   "nbconvert_exporter": "python",
   "pygments_lexer": "ipython2",
   "version": "2.7.6"
  },
  "colab": {
   "name": "etap1.ipynb",
   "provenance": []
  }
 },
 "cells": [
  {
   "cell_type": "markdown",
   "metadata": {
    "collapsed": false,
    "id": "gbVno9EQH3N1"
   },
   "source": [
    "# Niejasności/głupoty/pytania:\n",
    "\n",
    "- Jakie powinno być biznesowe kryterium sukcesu? +- godzina? Czy to ma sens tylko przy cichym założeniu że czas dostawy <24h? *Myślę, że zawsze ma czas, choć może raczej +/- 30 minut, skoro jednak operujemy w niewielkim oknie. Nie jestem pewna czy to nie jest jednak analityczne krterium sukcesu, a czy biznesowym nie powinno być coś w rodzaju \"wzrostu zadowolenia klientów\"*\n",
    "- W jaki sposób ustalić na podstawie danych kryterium sukcesu? Zbudować już wstępny model żeby to zrobić? *To jedyny sposób, który znam - zasadniczo zbudowanie np. drzewa decyzyjnego, pomijając zupełnie brakujące dane, nie powinno zająć wiele czasu, a da niezłe pojęcie o tym, co da się uzyskać*\n",
    "- Może głupie ale czy powinniśmy sprawdzić powiązanie wszystkich atrybutów ze zmienną celu i dopiero wtedy wybierać czy raczej od razu cisnąć na logikę to co się wydaje? *Zaczynałabym od policzenia powiązań/korelacji/informacji wzajemnej, a pote dopisywać do tego logikę*"
   ]
  },
  {
   "cell_type": "markdown",
   "metadata": {
    "collapsed": true,
    "pycharm": {
     "name": "#%% md\n"
    },
    "id": "Fdb_9y4LH3OB"
   },
   "source": [
    "# TODO:\n",
    "- definicję problemu biznesowego,\n",
    "- zdefiniowanie zadania/zadań modelowania i\n",
    "- wszystkich założeń, zaproponowania kryteriów sukcesu),\n",
    "- ii) analizę danych z perspektywy realizacji tych zadań (trzeba ocenić,\n",
    "- czy dostarczone dane są wystarczające – może czegoś brakuje, może coś trzeba poprawić, domagać się\n",
    "innych danych, …),\n",
    "- wstępne dane wejściowe i zmienna celu\n",
    "- wartości kryterium sukcesu na podstawie danych\n",
    "-\n",
    "\n",
    "\n",
    "- oszacowanie tego jaką dokładnie wartość powinna mieć miara, którą będziemy stosować na podstawie tego, co mamy\n",
    "- no jakieś takie sensowne spięcie całości.\n",
    "- komentarze odnośnie nowych danych (po połączeniu wszystkiego wciąż są brakujące wartości, dalej mamy dostawy <1h)\n",
    "- macierz korelacji zmiennych zobrazowana na heatmapie (sns.heatmap)\n",
    "- podzielić to co wiemy o danych na jakieś sensowne sekcje (nwm analiza starych danych, analiza nowych danych, sformułowanie problemów, etc)\n",
    "\n",
    "\n",
    "- info o atrybutach czyli typ i wartosci\n",
    "- sprawdzenie bledow i brakow\n",
    "- czy dane sie wgl nadaja do modelowania\n",
    "- informacja o zmiennej celu"
   ]
  },
  {
   "cell_type": "markdown",
   "metadata": {
    "collapsed": false,
    "id": "IWTXnmLJH3OD"
   },
   "source": [
    "## IUM - projekt\n",
    "#### Autorzy:\n",
    "Joanna Sokołowska, Rafał Uzarowicz\n",
    "#### Zadanie:\n",
    "3. “Wygląda na to, że nasze firmy kurierskie czasami nie radzą sobie z dostawami. Gdybyśmy\n",
    "wiedzieli, ile taka dostawa dla danego zamówienia potrwa – moglibyśmy przekazywać tą\n",
    "informację klientom.\""
   ]
  },
  {
   "cell_type": "code",
   "metadata": {
    "pycharm": {
     "name": "#%%\n"
    },
    "id": "jFjTgQ84H3OE"
   },
   "source": [
    "# Ustawienie środowiska\n",
    "\n",
    "# Wstępne dane\n",
    "data_v1_dir =\"./data/data_v1/\"\n",
    "\n",
    "deliveries_v1_path = data_v1_dir + \"deliveries.jsonl\"\n",
    "sessions_v1_path = data_v1_dir + \"sessions.jsonl\"\n",
    "users_v1_path = data_v1_dir + \"users.jsonl\"\n",
    "products_v1_path = data_v1_dir + \"products.jsonl\"\n",
    "\n",
    "# Pierwsza aktualizacja\n",
    "data_v2_dir =\"./data/data_v2/\"\n",
    "\n",
    "deliveries_v2_path = data_v2_dir + \"deliveries.jsonl\"\n",
    "sessions_v2_path = data_v2_dir + \"sessions.jsonl\"\n",
    "users_v2_path = data_v2_dir + \"users.jsonl\"\n",
    "products_v2_path = data_v2_dir + \"products.jsonl\"\n",
    "\n",
    "# Biblioteki\n",
    "import pandas as pd\n",
    "import numpy as np\n",
    "import matplotlib.pyplot as plt\n",
    "import seaborn as sns"
   ],
   "execution_count": 127,
   "outputs": []
  },
  {
   "cell_type": "markdown",
   "metadata": {
    "collapsed": false,
    "id": "HNt0wC7NH3OH"
   },
   "source": [
    "# Zadanie\n",
    "\n",
    "### Tło biznesowe\n",
    "\n",
    "#### Zadanie biznesowe\n",
    "Przewidywanie przybliżonego czasu dostawy produktu.\n",
    "\n",
    "#### Biznesowe kryterium sukcesu\n",
    "Przewidywany przez system czas dostawy nie powinien zbytnio odstawać od rzeczywistego czasu dostawy.????\n",
    "\n",
    "\n",
    "### Model\n",
    "\n",
    "#### Zadanie modelowania\n",
    "Przewidywanie czasu dostawy przy użyciu regresji.\n",
    "\n",
    "#### Analityczne kryterium sukcesu\n",
    "\n",
    "NIE WIEM CO TUTEJ KURLA \n",
    "\n",
    "Kryteria oceny modelu mogą być takie jak zazwyczaj dla regresji np. MSE, lub absolute mean error. Dodatkowo można zamiast\n",
    "jednego czasu dostawy przewidywać okno dostawy o założonej szerokości np. 2h i zastosować własną, niestandardową funkcję celu,\n",
    "która traktuje wszystkie dostawy, które wpadły w okienko jako przewidziane poprawnie.\n",
    "\n",
    "#### Zmienna celu\n",
    "Przybliżona liczba godzin potrzebnych na dostawę produktu.\n"
   ]
  },
  {
   "cell_type": "markdown",
   "metadata": {
    "collapsed": false,
    "id": "ctGs27hXH3OJ"
   },
   "source": [
    "## Wstępne obserwacje dotyczące danych"
   ]
  },
  {
   "cell_type": "code",
   "execution_count": 128,
   "outputs": [],
   "source": [
    "deliveries_v1 = pd.read_json(deliveries_v1_path, lines=True)\n",
    "sessions_v1 = pd.read_json(sessions_v1_path, lines=True)\n",
    "users_v1 = pd.read_json(users_v1_path, lines=True)\n",
    "products_v1 = pd.read_json(products_v1_path, lines=True)\n",
    "\n",
    "data_v1 = {\"products\": products_v1, \"sessions\": sessions_v1, \"users\": users_v1, \"deliveries\":deliveries_v1}\n"
   ],
   "metadata": {
    "collapsed": false,
    "pycharm": {
     "name": "#%%\n"
    }
   }
  },
  {
   "cell_type": "markdown",
   "source": [
    "### Krótki opis danych\n",
    "Dane, które dostaliśmy, dotyczą firmy internetowej sprzedającej elektronikę i gry komputerowe. Dostaliśmy bazę użytkowników,\n",
    " katalog produktów, historię sesji oraz dane dotyczące wysyłki zakupionych produktów. Ze względu na specyfikę problemu\n",
    " wydaje się, że jedynymi istotnymi informacjami będą te powiązane z samym transportem."
   ],
   "metadata": {
    "collapsed": false
   }
  },
  {
   "cell_type": "markdown",
   "source": [
    "### Przegląd dostępnych kolumn"
   ],
   "metadata": {
    "collapsed": false
   }
  },
  {
   "cell_type": "code",
   "execution_count": 129,
   "outputs": [
    {
     "name": "stdout",
     "output_type": "stream",
     "text": [
      "products  :  ['product_id', 'product_name', 'category_path', 'price']\n",
      "sessions  :  ['session_id', 'timestamp', 'user_id', 'product_id', 'event_type', 'offered_discount', 'purchase_id']\n",
      "users  :  ['user_id', 'name', 'city', 'street']\n",
      "deliveries  :  ['purchase_id', 'purchase_timestamp', 'delivery_timestamp', 'delivery_company']\n"
     ]
    }
   ],
   "source": [
    "for key, value in data_v1.items():\n",
    "    print(key, \" : \", value.columns.tolist())"
   ],
   "metadata": {
    "collapsed": false,
    "pycharm": {
     "name": "#%%\n"
    }
   }
  },
  {
   "cell_type": "markdown",
   "source": [
    "#### Dane, które wydają się mieć największy wpływ na nasze zadanie:\n",
    "- adres użytkownika (może być konieczne dodanie do niego kolumny z kodem pocztowym-powinno dać to lepsze pojęcie o\n",
    "położeniu punktów dostaw w tym samym rejonie, dalszym przetworzeniem może być też odległość absolutna pomiędzy magazynem/miejscem wysyłki a celem).\n",
    "- dane dt. czasu złożenia zamówienia (prawdopodobnie trzeba będzie je przekształcić w format bardziej nadający się do obróbki).\n",
    "- dane dt. czasu dostawy (atrybut, którego wartość będziemy próbowali przewidzieć wprost tj. datę lub pośrednio tj. czas między złożeniem zamówienia a dostawą).\n",
    "- dane dt. firmy kurierskiej (firma prawdopodobnie będzie mocno wpływać na czas dostawy).\n",
    "\n",
    "#### Omówienie pozostałych danych:\n",
    "- session_id-raczej nieistotne, sesja nie powinna mieć wpływu na czas transportu.\n",
    "- timestamp z tabeli sessions-też raczej nieistotny, podobne informacje niesie timestamp zakupu produktu z tabeli deliveries,\n",
    "gdyż nie obchodzi nas jakie produkty przeglądał użytkownik, a tylko akcje kupna.\n",
    "- user_id-samo w sobie raczej nie niesie wartości, choć może być przydatne do łączenia z innymi tablicami (np. deliveries).\n",
    "Sklep internetowy raczej nie przyspiesza dostaw ze względu na osobę.\n",
    "- product_id-przydatne tylko do łączenia tabel.\n",
    "- event_type-raczej nieistotne, to co wykonywał użytkownik w sesji, raczej nie ma wpływu na czas dostawy.\n",
    "- offered_discount-nie powinno mieć to wpływu na czas dostawy.\n",
    "- purchase_id-istotne do łączenia tabel.\n",
    "- name-samo w sobie nieważne, można by z niego wyciągnąć takie dane jak np. płeć, jednak nie będzie to miało wpływu na czas dostawy.\n",
    "- product_name-raczej nie powinno wpłynąć na czas dostawy.\n",
    "- category_path-może być o tyle ważne, że pewne produkty mogłyby być gabarytami, wtedy ich czas dostawy mógłby się znacznie różnic przez konieczność specjalnego ich traktowania.\n",
    "- price-cena sama w sobie raczej nie niesie informacji o czasie dostawy.\n",
    "\n",
    "#### Dane, które przydałoby się dostać:\n",
    "- dane dt. momentu i miejsca wysyłki produktów (czy zawsze wysyłane są z tego samego miejsca, czy istnieją jakieś opóźnienia).\n",
    "- dane dt. punktów pośrednich na drodze przesyłki (o ile istnieją) np. punktów spedycyjnych, magazynów,\n",
    "to potencjalnie mogłoby pozwolić na ulepszanie predykcji w trakcie podróży przesyłki i im bliżej celu, tym\n",
    "dokładniejsze dane można by było zaprezentować użytkownikowi.\n",
    "\n",
    "### Ogólne komentarze do tabel\n",
    "\n",
    "Tabela deliveries-ważna niesie istotne dane, choć może być konieczność poddania ich odpowiedniemu przetworzeniu\n",
    "przed utworzeniem modelu. Zawarte w niej daty i godziny są prawdopodobnie bardzo ważne w budowie modelu, ale będą\n",
    "wymagały przetworzenia-np. wyciągnięcia oddzielnie miesiąca, dnia, godziny, może też dnia tygodnia.\n",
    "\n",
    "Tabela sessions-raczej nieważna, choć spodziewam się, że może nieść nieco istotnych danych nt. obciążenia systemu\n",
    "w poszczególnych okresach, co prawdopodobnie wpływa na czas dostaw.\n",
    "\n",
    "Tabela products-przy wstępnej analizie nie wydaje się istotna, ale może da się na jej podstawie utworzyć nowe atrybuty\n",
    "bardziej przydatne dla problemu. Być może warto np. dodać do kolumny deliveries kolumnę zliczającą, ile przedmiotów\n",
    "jest w jednym zamówieniu-wielkość zamówienia może wpływać na możliwości firm kurierskich co do czasu dostawy.\n",
    "\n",
    "Tabela users-raczej ważna mówi nam o adresie dostawy-odległość może znacząco wpływać na długość dostawy."
   ],
   "metadata": {
    "collapsed": false
   }
  },
  {
   "cell_type": "markdown",
   "metadata": {
    "collapsed": false,
    "pycharm": {
     "name": "#%% md\n"
    },
    "id": "PLNaEWIHH3OL"
   },
   "source": [
    "## Analiza pierwszej wersji danych\n",
    "\n",
    "- sprawdzenie reprezentatywności danych\n",
    "\n",
    "- tutaj wnioski\n",
    "\n",
    "- tutaj pytania ktore trzeba zadac do klienta\n"
   ]
  },
  {
   "cell_type": "markdown",
   "source": [
    "### Sprawdzenie ilości danych"
   ],
   "metadata": {
    "collapsed": false
   }
  },
  {
   "cell_type": "code",
   "execution_count": 130,
   "outputs": [
    {
     "name": "stdout",
     "output_type": "stream",
     "text": [
      "products  :  (319, 4)\n",
      "sessions  :  (37690, 7)\n",
      "users  :  (200, 4)\n",
      "deliveries  :  (6993, 4)\n"
     ]
    }
   ],
   "source": [
    "for key, value in data_v1.items():\n",
    "    print(key, \" : \", value.shape)"
   ],
   "metadata": {
    "collapsed": false,
    "pycharm": {
     "name": "#%%\n"
    }
   }
  },
  {
   "cell_type": "markdown",
   "source": [
    "Ilościowo danych wydaje się dostatecznie dużo, w najbardziej interesującej nas tabeli (deliveries) jest niemal 7 tysięcy\n",
    "wierszy, co powinno być dość zarówno do wytrenowania, walidacji, jak i testowania modelu."
   ],
   "metadata": {
    "collapsed": false
   }
  },
  {
   "cell_type": "markdown",
   "source": [
    "### Sprawdzenie jakości danych"
   ],
   "metadata": {
    "collapsed": false
   }
  },
  {
   "cell_type": "markdown",
   "source": [
    "#### Sprawdzenie braków w danych"
   ],
   "metadata": {
    "collapsed": false
   }
  },
  {
   "cell_type": "code",
   "execution_count": 131,
   "outputs": [
    {
     "name": "stdout",
     "output_type": "stream",
     "text": [
      "products :\n",
      " product_id       0\n",
      "product_name     0\n",
      "category_path    0\n",
      "price            0\n",
      "dtype: int64 \n",
      "\n",
      "sessions :\n",
      " session_id              0\n",
      "timestamp               0\n",
      "user_id              1915\n",
      "product_id           1913\n",
      "event_type              0\n",
      "offered_discount        0\n",
      "purchase_id         30697\n",
      "dtype: int64 \n",
      "\n",
      "users :\n",
      " user_id    0\n",
      "name       0\n",
      "city       0\n",
      "street     0\n",
      "dtype: int64 \n",
      "\n",
      "deliveries :\n",
      " purchase_id             0\n",
      "purchase_timestamp      0\n",
      "delivery_timestamp    333\n",
      "delivery_company      329\n",
      "dtype: int64 \n",
      "\n"
     ]
    }
   ],
   "source": [
    "for key, value in data_v1.items():\n",
    "  print(key, \":\\n\", value.isnull().sum(), \"\\n\")"
   ],
   "metadata": {
    "collapsed": false,
    "pycharm": {
     "name": "#%%\n"
    }
   }
  },
  {
   "cell_type": "markdown",
   "source": [
    "Brakujące dane w tabeli deliveries są raczej martwiące, dobrze by było jakby dało się je uzupełnić, jednak jeśli nie\n",
    "będzie to możliwe, to pozostałe dane powinny być wystarczające do wytrenowania modelu\n",
    "(maksymalnie 662 wiersze są wybrakowane, to poniżej 10% danych).\n",
    "\n",
    "Cieszy brak pustych wartości w tabelach dotyczących użytkowników-nie powinno być problemu z nieznanymi adresami dostaw.\n",
    "\n",
    "Braki w tabeli sessions nie zaskakują-wynikają prawdopodobnie ze sposobu, w jaki są gromadzone dane,\n",
    "np. puste wartości w kolumnie purchase_id wynikają najpewniej z tego, że dany wiersz odpowiada wartości\n",
    "event_type innej niż BUY_PRODUCT."
   ],
   "metadata": {
    "collapsed": false
   }
  },
  {
   "cell_type": "markdown",
   "source": [
    "#### Sprawdzenie błędów w danych"
   ],
   "metadata": {
    "collapsed": false
   }
  },
  {
   "cell_type": "markdown",
   "source": [
    "##### Dane czasowe"
   ],
   "metadata": {
    "collapsed": false
   }
  },
  {
   "cell_type": "code",
   "execution_count": 132,
   "outputs": [
    {
     "data": {
      "text/plain": "   purchase_id   purchase_timestamp          delivery_timestamp  \\\n0        20001  2021-02-21T12:09:40  2021-02-22T15:06:21.051360   \n1        20002  2021-02-17T15:08:51  2021-02-21T12:16:54.977640   \n2        20003  2021-01-22T14:41:01  2021-01-22T15:19:19.040428   \n3        20004  2021-01-15T12:41:14  2021-01-13T22:45:05.607434   \n4        20005  2021-01-14T02:50:19  2021-01-14T11:35:28.612753   \n\n   delivery_company  \n0             620.0  \n1             360.0  \n2             516.0  \n3             516.0  \n4             516.0  ",
      "text/html": "<div>\n<style scoped>\n    .dataframe tbody tr th:only-of-type {\n        vertical-align: middle;\n    }\n\n    .dataframe tbody tr th {\n        vertical-align: top;\n    }\n\n    .dataframe thead th {\n        text-align: right;\n    }\n</style>\n<table border=\"1\" class=\"dataframe\">\n  <thead>\n    <tr style=\"text-align: right;\">\n      <th></th>\n      <th>purchase_id</th>\n      <th>purchase_timestamp</th>\n      <th>delivery_timestamp</th>\n      <th>delivery_company</th>\n    </tr>\n  </thead>\n  <tbody>\n    <tr>\n      <th>0</th>\n      <td>20001</td>\n      <td>2021-02-21T12:09:40</td>\n      <td>2021-02-22T15:06:21.051360</td>\n      <td>620.0</td>\n    </tr>\n    <tr>\n      <th>1</th>\n      <td>20002</td>\n      <td>2021-02-17T15:08:51</td>\n      <td>2021-02-21T12:16:54.977640</td>\n      <td>360.0</td>\n    </tr>\n    <tr>\n      <th>2</th>\n      <td>20003</td>\n      <td>2021-01-22T14:41:01</td>\n      <td>2021-01-22T15:19:19.040428</td>\n      <td>516.0</td>\n    </tr>\n    <tr>\n      <th>3</th>\n      <td>20004</td>\n      <td>2021-01-15T12:41:14</td>\n      <td>2021-01-13T22:45:05.607434</td>\n      <td>516.0</td>\n    </tr>\n    <tr>\n      <th>4</th>\n      <td>20005</td>\n      <td>2021-01-14T02:50:19</td>\n      <td>2021-01-14T11:35:28.612753</td>\n      <td>516.0</td>\n    </tr>\n  </tbody>\n</table>\n</div>"
     },
     "execution_count": 132,
     "metadata": {},
     "output_type": "execute_result"
    }
   ],
   "source": [
    "deliveries_v1.head()"
   ],
   "metadata": {
    "collapsed": false,
    "pycharm": {
     "name": "#%%\n"
    }
   }
  },
  {
   "cell_type": "code",
   "execution_count": 133,
   "outputs": [
    {
     "data": {
      "text/plain": "   purchase_id  purchase_timestamp         delivery_timestamp  \\\n0        20001 2021-02-21 12:09:40 2021-02-22 15:06:21.051360   \n1        20002 2021-02-17 15:08:51 2021-02-21 12:16:54.977640   \n2        20003 2021-01-22 14:41:01 2021-01-22 15:19:19.040428   \n3        20004 2021-01-15 12:41:14 2021-01-13 22:45:05.607434   \n4        20005 2021-01-14 02:50:19 2021-01-14 11:35:28.612753   \n\n   delivery_company          time_difference  \n0             620.0   1 days 02:56:41.051360  \n1             360.0   3 days 21:08:03.977640  \n2             516.0   0 days 00:38:18.040428  \n3             516.0 -2 days +10:03:51.607434  \n4             516.0   0 days 08:45:09.612753  ",
      "text/html": "<div>\n<style scoped>\n    .dataframe tbody tr th:only-of-type {\n        vertical-align: middle;\n    }\n\n    .dataframe tbody tr th {\n        vertical-align: top;\n    }\n\n    .dataframe thead th {\n        text-align: right;\n    }\n</style>\n<table border=\"1\" class=\"dataframe\">\n  <thead>\n    <tr style=\"text-align: right;\">\n      <th></th>\n      <th>purchase_id</th>\n      <th>purchase_timestamp</th>\n      <th>delivery_timestamp</th>\n      <th>delivery_company</th>\n      <th>time_difference</th>\n    </tr>\n  </thead>\n  <tbody>\n    <tr>\n      <th>0</th>\n      <td>20001</td>\n      <td>2021-02-21 12:09:40</td>\n      <td>2021-02-22 15:06:21.051360</td>\n      <td>620.0</td>\n      <td>1 days 02:56:41.051360</td>\n    </tr>\n    <tr>\n      <th>1</th>\n      <td>20002</td>\n      <td>2021-02-17 15:08:51</td>\n      <td>2021-02-21 12:16:54.977640</td>\n      <td>360.0</td>\n      <td>3 days 21:08:03.977640</td>\n    </tr>\n    <tr>\n      <th>2</th>\n      <td>20003</td>\n      <td>2021-01-22 14:41:01</td>\n      <td>2021-01-22 15:19:19.040428</td>\n      <td>516.0</td>\n      <td>0 days 00:38:18.040428</td>\n    </tr>\n    <tr>\n      <th>3</th>\n      <td>20004</td>\n      <td>2021-01-15 12:41:14</td>\n      <td>2021-01-13 22:45:05.607434</td>\n      <td>516.0</td>\n      <td>-2 days +10:03:51.607434</td>\n    </tr>\n    <tr>\n      <th>4</th>\n      <td>20005</td>\n      <td>2021-01-14 02:50:19</td>\n      <td>2021-01-14 11:35:28.612753</td>\n      <td>516.0</td>\n      <td>0 days 08:45:09.612753</td>\n    </tr>\n  </tbody>\n</table>\n</div>"
     },
     "execution_count": 133,
     "metadata": {},
     "output_type": "execute_result"
    }
   ],
   "source": [
    "deliveries_v1[\"purchase_timestamp\"] = pd.to_datetime ( deliveries_v1[\"purchase_timestamp\"], format='%Y-%m-%dT%H:%M', errors=\"coerce\")\n",
    "deliveries_v1['delivery_timestamp'] = pd.to_datetime ( deliveries_v1[\"delivery_timestamp\"], format='%Y-%m-%dT%H:%M:%S', errors=\"coerce\")\n",
    "deliveries_v1[\"time_difference\"] = deliveries_v1[\"delivery_timestamp\"] - deliveries_v1[\"purchase_timestamp\"]\n",
    "deliveries_v1.head()"
   ],
   "metadata": {
    "collapsed": false,
    "pycharm": {
     "name": "#%%\n"
    }
   }
  },
  {
   "cell_type": "code",
   "execution_count": 134,
   "outputs": [
    {
     "data": {
      "text/plain": "4596"
     },
     "execution_count": 134,
     "metadata": {},
     "output_type": "execute_result"
    }
   ],
   "source": [
    "len(deliveries_v1[deliveries_v1[\"time_difference\"] > pd.Timedelta(hours=0)])"
   ],
   "metadata": {
    "collapsed": false,
    "pycharm": {
     "name": "#%%\n"
    }
   }
  },
  {
   "cell_type": "code",
   "execution_count": 135,
   "outputs": [
    {
     "data": {
      "text/plain": "3312"
     },
     "execution_count": 135,
     "metadata": {},
     "output_type": "execute_result"
    }
   ],
   "source": [
    "len(deliveries_v1[deliveries_v1[\"time_difference\"] > pd.Timedelta(hours=24)])"
   ],
   "metadata": {
    "collapsed": false,
    "pycharm": {
     "name": "#%%\n"
    }
   }
  },
  {
   "cell_type": "code",
   "execution_count": 136,
   "outputs": [
    {
     "data": {
      "text/plain": "2064"
     },
     "execution_count": 136,
     "metadata": {},
     "output_type": "execute_result"
    }
   ],
   "source": [
    "len(deliveries_v1[deliveries_v1[\"time_difference\"] < pd.Timedelta(hours=0)])"
   ],
   "metadata": {
    "collapsed": false,
    "pycharm": {
     "name": "#%%\n"
    }
   }
  },
  {
   "cell_type": "markdown",
   "source": [
    "Ujemne wartości w nowoutworzonej kolumnie wskazują na to, że dane są zanieczyszczone-produkt nie mógł być dostarczony\n",
    "przed zakupem. Takich zanieczyszczeń jest stosunkowo wiele - 2 tysiące wierszy, które przez to nie będą mogły zostać\n",
    "wykorzystane w modelowaniu. To zbyt wiele danych, żebyśmy mogli je po prostu pominąć, jak w przypadku brakujących czasów dostawy."
   ],
   "metadata": {
    "collapsed": false,
    "pycharm": {
     "name": "#%% md\n"
    }
   }
  },
  {
   "cell_type": "code",
   "source": [
    "preped = deliveries_v1[deliveries_v1[\"time_difference\"] > pd.Timedelta(hours=0)].copy()\n",
    "preped[\"time[s]\"]=preped[\"time_difference\"].apply(lambda time_delta: time_delta.total_seconds())\n",
    "preped[\"time[h]\"]=preped[\"time_difference\"].apply(lambda x: x.total_seconds()/(60*60))\n",
    "preped[\"delivery_weekday\"]=preped['delivery_timestamp'].dt.day_name()\n",
    "preped.head()"
   ],
   "metadata": {
    "collapsed": false,
    "pycharm": {
     "name": "#%%\n"
    }
   },
   "execution_count": 141,
   "outputs": [
    {
     "data": {
      "text/plain": "   purchase_id  purchase_timestamp         delivery_timestamp  \\\n0        20001 2021-02-21 12:09:40 2021-02-22 15:06:21.051360   \n1        20002 2021-02-17 15:08:51 2021-02-21 12:16:54.977640   \n2        20003 2021-01-22 14:41:01 2021-01-22 15:19:19.040428   \n4        20005 2021-01-14 02:50:19 2021-01-14 11:35:28.612753   \n5        20006 2021-02-16 08:27:14 2021-02-19 09:58:54.243499   \n\n   delivery_company        time_difference        time[s]    time[h]  \\\n0             620.0 1 days 02:56:41.051360   97001.051360  26.944736   \n1             360.0 3 days 21:08:03.977640  335283.977640  93.134438   \n2             516.0 0 days 00:38:18.040428    2298.040428   0.638345   \n4             516.0 0 days 08:45:09.612753   31509.612753   8.752670   \n5             620.0 3 days 01:31:40.243499  264700.243499  73.527845   \n\n  delivery_weekday  \n0           Monday  \n1           Sunday  \n2           Friday  \n4         Thursday  \n5           Friday  ",
      "text/html": "<div>\n<style scoped>\n    .dataframe tbody tr th:only-of-type {\n        vertical-align: middle;\n    }\n\n    .dataframe tbody tr th {\n        vertical-align: top;\n    }\n\n    .dataframe thead th {\n        text-align: right;\n    }\n</style>\n<table border=\"1\" class=\"dataframe\">\n  <thead>\n    <tr style=\"text-align: right;\">\n      <th></th>\n      <th>purchase_id</th>\n      <th>purchase_timestamp</th>\n      <th>delivery_timestamp</th>\n      <th>delivery_company</th>\n      <th>time_difference</th>\n      <th>time[s]</th>\n      <th>time[h]</th>\n      <th>delivery_weekday</th>\n    </tr>\n  </thead>\n  <tbody>\n    <tr>\n      <th>0</th>\n      <td>20001</td>\n      <td>2021-02-21 12:09:40</td>\n      <td>2021-02-22 15:06:21.051360</td>\n      <td>620.0</td>\n      <td>1 days 02:56:41.051360</td>\n      <td>97001.051360</td>\n      <td>26.944736</td>\n      <td>Monday</td>\n    </tr>\n    <tr>\n      <th>1</th>\n      <td>20002</td>\n      <td>2021-02-17 15:08:51</td>\n      <td>2021-02-21 12:16:54.977640</td>\n      <td>360.0</td>\n      <td>3 days 21:08:03.977640</td>\n      <td>335283.977640</td>\n      <td>93.134438</td>\n      <td>Sunday</td>\n    </tr>\n    <tr>\n      <th>2</th>\n      <td>20003</td>\n      <td>2021-01-22 14:41:01</td>\n      <td>2021-01-22 15:19:19.040428</td>\n      <td>516.0</td>\n      <td>0 days 00:38:18.040428</td>\n      <td>2298.040428</td>\n      <td>0.638345</td>\n      <td>Friday</td>\n    </tr>\n    <tr>\n      <th>4</th>\n      <td>20005</td>\n      <td>2021-01-14 02:50:19</td>\n      <td>2021-01-14 11:35:28.612753</td>\n      <td>516.0</td>\n      <td>0 days 08:45:09.612753</td>\n      <td>31509.612753</td>\n      <td>8.752670</td>\n      <td>Thursday</td>\n    </tr>\n    <tr>\n      <th>5</th>\n      <td>20006</td>\n      <td>2021-02-16 08:27:14</td>\n      <td>2021-02-19 09:58:54.243499</td>\n      <td>620.0</td>\n      <td>3 days 01:31:40.243499</td>\n      <td>264700.243499</td>\n      <td>73.527845</td>\n      <td>Friday</td>\n    </tr>\n  </tbody>\n</table>\n</div>"
     },
     "execution_count": 141,
     "metadata": {},
     "output_type": "execute_result"
    }
   ]
  },
  {
   "cell_type": "code",
   "execution_count": 139,
   "outputs": [
    {
     "data": {
      "text/plain": "<seaborn.axisgrid.FacetGrid at 0x2918e781850>"
     },
     "execution_count": 139,
     "metadata": {},
     "output_type": "execute_result"
    },
    {
     "data": {
      "text/plain": "<Figure size 1440x720 with 0 Axes>"
     },
     "metadata": {},
     "output_type": "display_data"
    },
    {
     "data": {
      "text/plain": "<Figure size 360x360 with 1 Axes>",
      "image/png": "[encoded data removed]"
     },
     "metadata": {
      "needs_background": "light"
     },
     "output_type": "display_data"
    }
   ],
   "source": [
    "plt.figure(figsize=(20,10))\n",
    "sns.displot(preped[\"time[s]\"])"
   ],
   "metadata": {
    "collapsed": false,
    "pycharm": {
     "name": "#%%\n"
    }
   }
  },
  {
   "cell_type": "code",
   "execution_count": 151,
   "outputs": [
    {
     "data": {
      "text/plain": "<Figure size 1440x720 with 0 Axes>"
     },
     "metadata": {},
     "output_type": "display_data"
    },
    {
     "data": {
      "text/plain": "<Figure size 360x360 with 1 Axes>",
      "image/png": "[encoded data removed]"
     },
     "metadata": {
      "needs_background": "light"
     },
     "output_type": "display_data"
    }
   ],
   "source": [
    "#map purchase timestamp to days for distplot\n",
    "plt.figure(figsize=(20,10))\n",
    "sns.displot(preped[\"delivery_weekday\"])\n",
    "plt.show()\n",
    "# average time by day?\n",
    "# plt.figure(figsize=(20,10))\n",
    "# days = ['Monday' 'Sunday' 'Friday' 'Thursday' 'Tuesday' 'Saturday' 'Wednesday']\n",
    "# avg_time_by_day = [np.average(preped[preped[\"delivery_weekday\"]==day][\"time[s]\"]) for day in days]\n",
    "# sns.lineplot(x=days, y=avg_time_by_day)\n",
    "# plt.show()"
   ],
   "metadata": {
    "collapsed": false,
    "pycharm": {
     "name": "#%%\n"
    }
   }
  },
  {
   "cell_type": "markdown",
   "source": [
    "Paczki są dostarczane równomiernie w całym tygodniu. Jest to dziwne ze względu na dostarczanie paczek również w niedziele.\n",
    "Trzeba będzie te kwestie omówić z klientem.\n",
    "\n",
    "Wydaje się, że dodanie dnia tygodnia jak nowego atrybutu może być przydatne do regresji."
   ],
   "metadata": {
    "collapsed": false
   }
  },
  {
   "cell_type": "code",
   "source": [
    "plt.figure(figsize=(20,10))\n",
    "sns.histplot(preped[\"time[h]\"])\n",
    "plt.show()"
   ],
   "metadata": {
    "collapsed": false,
    "pycharm": {
     "name": "#%%\n"
    }
   },
   "execution_count": 148,
   "outputs": [
    {
     "data": {
      "text/plain": "<Figure size 1440x720 with 1 Axes>",
      "image/png": "[encoded data removed]"
     },
     "metadata": {
      "needs_background": "light"
     },
     "output_type": "display_data"
    }
   ]
  },
  {
   "cell_type": "code",
   "execution_count": 150,
   "outputs": [
    {
     "data": {
      "text/plain": "<Figure size 1440x720 with 1 Axes>",
      "image/png": "[encoded data removed]"
     },
     "metadata": {
      "needs_background": "light"
     },
     "output_type": "display_data"
    }
   ],
   "source": [
    "plt.figure(figsize=(20,10))\n",
    "sns.histplot(preped[preped[\"time[h]\"] < 24][\"time[h]\"])\n",
    "plt.show()"
   ],
   "metadata": {
    "collapsed": false,
    "pycharm": {
     "name": "#%%\n"
    }
   }
  },
  {
   "cell_type": "markdown",
   "source": [
    "Na pierwszy rzut oka martwiące są czasy dostawy poniżej godziny, ale także te krótkie - 2 lub 3 - godzinne.\n",
    "Obecnym standardem w e-commerce jest dostawa przesyłki w ciągu 1-2 dni roboczych,\n",
    "czyli czas dostawy od mniej więcej 10 do 30-kilku godzin. Być może te krótkie dane są poprawne, jeśli firma realizuje\n",
    "dostawy ekspresowe (np. z usługą dostawy tego samego dnia) albo np. możliwość odbioru towaru z salonu, jeśli jest on w nim dostępny.\n",
    "\n",
    "Podejrzanie krótkie czasy dostawy (poniżej 5 godzin) zdecydowanie wymagają wyjaśnienia z przedstawicielem firmy.\n",
    "\n",
    "Warto jeszcze sprawdzić jak wygląda rozkład czasu dostawy w godzinach w podziale na poszczególne\n",
    "firmy kurierskie-być może okaże się, że krótkie dostawy są realizowane tylko przez jedną firmę,\n",
    "co wskazywałoby na prawidłowość hipotezy o możliwości wykupienia ekspresowej dostawy.\n",
    "\n",
    "Ponadto warto też przyjrzeć się godzinom, w jakich realizowana jest dostawa-jest szansa,\n",
    "że znajdziemy tam jakieś dostawy w nieprzyzwoicie nocnych godzinach.\n",
    "\n",
    "Dane nt. czasu dostawy wymagają dokładniejszego przyjrzenia się ich rozkładowi."
   ],
   "metadata": {
    "collapsed": false
   }
  },
  {
   "cell_type": "code",
   "execution_count": 153,
   "outputs": [
    {
     "data": {
      "text/plain": "<Figure size 864x864 with 4 Axes>",
      "image/png": "[encoded data removed]"
     },
     "metadata": {
      "needs_background": "light"
     },
     "output_type": "display_data"
    }
   ],
   "source": [
    "companies = preped[\"delivery_company\"].unique()\n",
    "dfs = {\n",
    "    \"unknown\": preped[preped['delivery_company'].isna()][\"time[h]\"],\n",
    "    \"360\": preped[preped['delivery_company']==360][\"time[h]\"],\n",
    "    \"516\": preped[preped['delivery_company']==516][\"time[h]\"],\n",
    "    \"620\": preped[preped['delivery_company']==620][\"time[h]\"]\n",
    "}\n",
    "\n",
    "fgs, axes = plt.subplots(2, 2, figsize=(12,12))\n",
    "axs = [axes[i][j] for i in [0,1] for j in [0,1]]\n",
    "i=0\n",
    "for key, df in dfs.items():\n",
    "  sns.histplot(data = df, binwidth=1, ax = axs[i])\n",
    "  axs[i].title.set_text(key)\n",
    "  i+=1\n",
    "plt.show()"
   ],
   "metadata": {
    "collapsed": false,
    "pycharm": {
     "name": "#%%\n"
    }
   }
  },
  {
   "cell_type": "markdown",
   "source": [
    "Nie wydaje się, żeby któraś z firm kurierskich dostarczała paczki znacznie szybciej od innych."
   ],
   "metadata": {
    "collapsed": false
   }
  },
  {
   "cell_type": "code",
   "execution_count": 157,
   "outputs": [
    {
     "data": {
      "text/plain": "                               id\ndelivery_timestamp               \n2021-02-22 15:06:21.051360  20001\n2021-02-21 12:16:54.977640  20002\n2021-01-22 15:19:19.040428  20003\n2021-01-14 11:35:28.612753  20005\n2021-02-19 09:58:54.243499  20006",
      "text/html": "<div>\n<style scoped>\n    .dataframe tbody tr th:only-of-type {\n        vertical-align: middle;\n    }\n\n    .dataframe tbody tr th {\n        vertical-align: top;\n    }\n\n    .dataframe thead th {\n        text-align: right;\n    }\n</style>\n<table border=\"1\" class=\"dataframe\">\n  <thead>\n    <tr style=\"text-align: right;\">\n      <th></th>\n      <th>id</th>\n    </tr>\n    <tr>\n      <th>delivery_timestamp</th>\n      <th></th>\n    </tr>\n  </thead>\n  <tbody>\n    <tr>\n      <th>2021-02-22 15:06:21.051360</th>\n      <td>20001</td>\n    </tr>\n    <tr>\n      <th>2021-02-21 12:16:54.977640</th>\n      <td>20002</td>\n    </tr>\n    <tr>\n      <th>2021-01-22 15:19:19.040428</th>\n      <td>20003</td>\n    </tr>\n    <tr>\n      <th>2021-01-14 11:35:28.612753</th>\n      <td>20005</td>\n    </tr>\n    <tr>\n      <th>2021-02-19 09:58:54.243499</th>\n      <td>20006</td>\n    </tr>\n  </tbody>\n</table>\n</div>"
     },
     "execution_count": 157,
     "metadata": {},
     "output_type": "execute_result"
    }
   ],
   "source": [
    "night_deliveries = pd.DataFrame({\"id\": preped[\"purchase_id\"].to_list()}, index=pd.DatetimeIndex(preped[\"delivery_timestamp\"])).between_time(\"22:00\", \"6:00\")\n",
    "print(len(night_deliveries))"
   ],
   "metadata": {
    "collapsed": false,
    "pycharm": {
     "name": "#%%\n"
    }
   }
  },
  {
   "cell_type": "markdown",
   "source": [
    "Z danych wynika, że paczki są dostarczane nawet w nocy. Jest to bardzo mało prawdopobone i musi być omówione z klientem."
   ],
   "metadata": {
    "collapsed": false
   }
  },
  {
   "cell_type": "code",
   "execution_count": 163,
   "outputs": [
    {
     "data": {
      "text/plain": "['Konin',\n 'Kutno',\n 'Radom',\n 'Police',\n 'Szczecin',\n 'Warszawa',\n 'Gdynia',\n 'Mielec']"
     },
     "execution_count": 163,
     "metadata": {},
     "output_type": "execute_result"
    }
   ],
   "source": [
    "users_v1[\"city\"].unique().tolist()\n"
   ],
   "metadata": {
    "collapsed": false,
    "pycharm": {
     "name": "#%%\n"
    }
   }
  },
  {
   "cell_type": "markdown",
   "source": [
    "Paczki są dostarczane do miast w różnych rejonach Polski. Bardzo małe czasy dostawy w takiej sytuacji muszą wynikać z\n",
    "błędu lub paczki są wysyłane z wielu miejsc."
   ],
   "metadata": {
    "collapsed": false
   }
  },
  {
   "cell_type": "markdown",
   "source": [
    "### Sprawdzenie dostępnych kategorii produktów"
   ],
   "metadata": {
    "collapsed": false
   }
  },
  {
   "cell_type": "code",
   "execution_count": 145,
   "outputs": [
    {
     "data": {
      "text/plain": "{'Akcesoria telefoniczne',\n 'Anteny RTV',\n 'Audio',\n 'Biurowe urządzenia wielofunkcyjne',\n 'Drukarki i skanery',\n 'Gry PlayStation3',\n 'Gry Xbox 360',\n 'Gry i konsole',\n 'Gry komputerowe',\n 'Gry na konsole',\n 'Komputery',\n 'Monitory',\n 'Monitory LCD',\n 'Odtwarzacze DVD',\n 'Odtwarzacze mp3 i mp4',\n 'Okulary 3D',\n 'Przenośne audio i video',\n 'Sprzęt RTV',\n 'Słuchawki',\n 'Tablety',\n 'Tablety i akcesoria',\n 'Telefony i akcesoria',\n 'Telefony komórkowe',\n 'Telefony stacjonarne',\n 'Telewizory i akcesoria',\n 'Video',\n 'Zestawy głośnomówiące',\n 'Zestawy słuchawkowe'}"
     },
     "execution_count": 145,
     "metadata": {},
     "output_type": "execute_result"
    }
   ],
   "source": [
    "categories = set()\n",
    "for value in products_v1[\"category_path\"]:\n",
    "  categories.update(value.split(\";\"))\n",
    "categories"
   ],
   "metadata": {
    "collapsed": false,
    "pycharm": {
     "name": "#%%\n"
    }
   }
  },
  {
   "cell_type": "markdown",
   "source": [
    "Po przyjrzeniu się kategoriom można zauważyć, że gabaryty sprzedawanych przedmiotów nie będą się bardzo różnić-\n",
    "choć transport monitorów LCD i słuchawek jest różny, to raczej nie dość różny, by wpłynąć na czas dostawy.\n",
    "Mimo to można dodać kolumnę dzielącą przedmioty na większe np. Drukarki i skaner, Komputery, Monitory i Monitory LCD\n",
    "jako urządzenia „duże\", a telefony komórkowe, zestawy słuchawkowe i gry na konsole jako „małe\"."
   ],
   "metadata": {
    "collapsed": false
   }
  },
  {
   "cell_type": "markdown",
   "source": [
    "### Wnioski\n",
    "\n",
    "Dane, które wydają się mieć znaczenie, nie wyglądają najlepiej. Kontakt z klientem i wyjaśnienie podstawowych kwestii będzie kluczowe.\n",
    "\n",
    "Po wstępnym obejrzeniu danych, z klientem należy ustalić następujące szczegóły:\n",
    "- miejsce wysyłki paczek i jego adres\n",
    "- trasa paczki\n",
    "- dostępność produktów w sklepie\n",
    "\n",
    "Wszystkie te kwestie mogą wpłynąć na czas dostawy.\n",
    "\n",
    "Ważną kwestią będzie także zapytanie o uzupełnienie brakujących danych - dane o czasie dostawy są dla nas kluczowe\n",
    "oraz o błędne dane - krótkie czasy dostawy, ujemne czasy dostawy, dostawy w nocy."
   ],
   "metadata": {
    "collapsed": false
   }
  },
  {
   "cell_type": "markdown",
   "metadata": {
    "collapsed": false,
    "pycharm": {
     "name": "#%% md\n"
    },
    "id": "HtzyJA3kH3ON"
   },
   "source": [
    "## Analiza pierwszej aktualizacji zbioru danych\n",
    "\n",
    "- odpowiedzi od klienta/krotki opis aktualizacji danych\n",
    "\n",
    "- sprawdzenie czy poprawiono poprzednie problemy\n",
    "\n",
    "- sprawdzenie czy istnieja elementy odstajace\n",
    "\n",
    "- sprawdzenie rozkladow?\n",
    "\n",
    "- tutaj wnioski\n",
    "\n",
    "- tutaj pytania ktore trzeba zadac do klienta\n",
    "\n",
    "- heatmap\n",
    "\n",
    "- sprawdzenie powiazania wszystkiego ze zmienna celu?????????????????????????????????????????????????\n",
    "\n",
    "- typ i wartosci wybranych atrybutow\n",
    "\n",
    "- ustalenie wejscia do modelu ?\n",
    "\n",
    "- sprawdzenie powiazania wejscia ze zmienna celu ?"
   ]
  },
  {
   "cell_type": "markdown",
   "source": [
    "### Opis informacji od klienta\n",
    "\n",
    "Od klienta dowiedzieliśmy się, że istnieje jeden centralny magazyn ( nie ma jego adresu ), nie istnieją żadne miejsca\n",
    "na ścieżce produktu do klienta, nie istnieje żaden czas oczekiwania na wysłanie, można kupic produkty tylko dostępne.\n",
    "\n",
    "Dostaliśmy takę aktualizację danych po przedstawieniu problemów jakie w nich znaleźliśmy."
   ],
   "metadata": {
    "collapsed": false
   }
  },
  {
   "cell_type": "code",
   "execution_count": 164,
   "outputs": [],
   "source": [
    "deliveries_v2 = pd.read_json(deliveries_v2_path, lines=True)\n",
    "sessions_v2 = pd.read_json(sessions_v2_path, lines=True)\n",
    "users_v2 = pd.read_json(users_v2_path, lines=True)\n",
    "products_v2 = pd.read_json(products_v2_path, lines=True)\n",
    "\n",
    "data_v2 = {\"products\": products_v2, \"sessions\": sessions_v2, \"users\": users_v2, \"deliveries\":deliveries_v2}"
   ],
   "metadata": {
    "collapsed": false,
    "pycharm": {
     "name": "#%%\n"
    }
   }
  },
  {
   "cell_type": "markdown",
   "source": [
    "##### Lączenie tabel w jedną tabele"
   ],
   "metadata": {
    "collapsed": false,
    "pycharm": {
     "name": "#%% md\n"
    }
   }
  },
  {
   "cell_type": "code",
   "execution_count": null,
   "outputs": [],
   "source": [
    "sessions_purchases = sessions_v2[sessions_v2[\"purchase_id\"].notnull()].copy()\n",
    "print(sessions_purchases.shape, sessions_v2.shape)"
   ],
   "metadata": {
    "collapsed": false,
    "pycharm": {
     "name": "#%%\n"
    }
   }
  },
  {
   "cell_type": "code",
   "execution_count": null,
   "outputs": [],
   "source": [
    "sessions_purchases.sort_values(\"purchase_id\", axis=0, inplace=True)\n",
    "deliveries_v2.sort_values(\"purchase_id\", axis=0, inplace=True)\n",
    "\n",
    "merged = pd.merge(sessions_purchases, deliveries_v2, on='purchase_id', how = \"outer\")\n",
    "print(deliveries_v2.shape, sessions_purchases.shape, merged.shape) #sanity check\n",
    "\n",
    "print(merged.isnull().sum())\n",
    "merged.head()"
   ],
   "metadata": {
    "collapsed": false,
    "pycharm": {
     "name": "#%%\n"
    }
   }
  },
  {
   "cell_type": "code",
   "execution_count": null,
   "outputs": [],
   "source": [
    "merged2 = pd.merge(merged, users_v2, on=\"user_id\", how = \"outer\")\n",
    "print(merged.shape, users_v2.shape, merged2.shape)\n",
    "print(merged2.isnull().sum())\n",
    "merged2.head()"
   ],
   "metadata": {
    "collapsed": false,
    "pycharm": {
     "name": "#%%\n"
    }
   }
  },
  {
   "cell_type": "code",
   "execution_count": null,
   "outputs": [],
   "source": [
    "merged_full = pd.merge(merged2, products_v2, on=\"product_id\", how = \"left\")\n",
    "print(merged2.shape, users_v2.shape, merged_full.shape)\n",
    "print(merged_full.isnull().sum())\n",
    "merged_full.head()"
   ],
   "metadata": {
    "collapsed": false,
    "pycharm": {
     "name": "#%%\n"
    }
   }
  },
  {
   "cell_type": "markdown",
   "source": [
    "Po połączeniu wszystkich dostępnych danych w jedną megatabelę widać, że do 402 dostaw brakuje kluczowych informacji o adresie dostawy (wynika to z braków w tabeli sessions, gdzie w miejscu id użytkownika była wartość pusta). To dość niewiele rekordów w porównaniu z całym rozmiarem zbioru danych, więc jeśli nie będzie dało się ich uzupełnić to będzie można po prostu zrezygnować z tych wierszy i nie wykorzystywać ich do predykcji. \n"
   ],
   "metadata": {
    "collapsed": false
   }
  },
  {
   "cell_type": "markdown",
   "source": [
    "### Sprawdzenie poprzednich problemów"
   ],
   "metadata": {
    "collapsed": false
   }
  },
  {
   "cell_type": "markdown",
   "source": [
    "#### Braki danych"
   ],
   "metadata": {
    "collapsed": false
   }
  },
  {
   "cell_type": "code",
   "execution_count": 167,
   "outputs": [
    {
     "name": "stdout",
     "output_type": "stream",
     "text": [
      "products :\n",
      " product_id       0\n",
      "product_name     0\n",
      "category_path    0\n",
      "price            0\n",
      "dtype: int64 \n",
      "\n",
      "sessions :\n",
      " session_id              0\n",
      "timestamp               0\n",
      "user_id              1915\n",
      "product_id           1913\n",
      "event_type              0\n",
      "offered_discount        0\n",
      "purchase_id         30697\n",
      "dtype: int64 \n",
      "\n",
      "users :\n",
      " user_id    0\n",
      "name       0\n",
      "city       0\n",
      "street     0\n",
      "dtype: int64 \n",
      "\n",
      "deliveries :\n",
      " purchase_id             0\n",
      "purchase_timestamp      0\n",
      "delivery_timestamp    333\n",
      "delivery_company      329\n",
      "time_difference       333\n",
      "dtype: int64 \n",
      "\n"
     ]
    }
   ],
   "source": [
    "for key, value in data_v1.items():\n",
    "  print(key, \":\\n\", value.isnull().sum(), \"\\n\")"
   ],
   "metadata": {
    "collapsed": false,
    "pycharm": {
     "name": "#%%\n"
    }
   }
  },
  {
   "cell_type": "code",
   "execution_count": 166,
   "outputs": [
    {
     "name": "stdout",
     "output_type": "stream",
     "text": [
      "products :\n",
      " product_id       0\n",
      "product_name     0\n",
      "category_path    0\n",
      "price            0\n",
      "dtype: int64 \n",
      "\n",
      "sessions :\n",
      " session_id              0\n",
      "timestamp               0\n",
      "user_id              2174\n",
      "product_id           2101\n",
      "event_type              0\n",
      "offered_discount        0\n",
      "purchase_id         35071\n",
      "dtype: int64 \n",
      "\n",
      "users :\n",
      " user_id    0\n",
      "name       0\n",
      "city       0\n",
      "street     0\n",
      "dtype: int64 \n",
      "\n",
      "deliveries :\n",
      " purchase_id           0\n",
      "purchase_timestamp    0\n",
      "delivery_timestamp    0\n",
      "delivery_company      0\n",
      "dtype: int64 \n",
      "\n"
     ]
    }
   ],
   "source": [
    "for key, value in data_v2.items():\n",
    "  print(key, \":\\n\", value.isnull().sum(), \"\\n\")\n"
   ],
   "metadata": {
    "collapsed": false,
    "pycharm": {
     "name": "#%%\n"
    }
   }
  },
  {
   "cell_type": "markdown",
   "source": [
    "Braki w kluczowej tabeli \"deliveries\" zostały uzupełnione. Zwiększyła się liczba braków w tabeli „sessions\", ale\n",
    "nie powinno być to dla nas problemem. Te dane wydają się mało istotne dla naszego problemu."
   ],
   "metadata": {
    "collapsed": false
   }
  },
  {
   "cell_type": "markdown",
   "source": [
    "#### Błędy danych"
   ],
   "metadata": {
    "collapsed": false,
    "pycharm": {
     "name": "#%% md\n"
    }
   }
  },
  {
   "cell_type": "code",
   "execution_count": 173,
   "outputs": [],
   "source": [
    "deliveries_v2[\"purchase_timestamp\"] = pd.to_datetime ( deliveries_v2[\"purchase_timestamp\"], format='%Y-%m-%dT%H:%M', errors=\"coerce\")\n",
    "deliveries_v2['delivery_timestamp'] = pd.to_datetime ( deliveries_v2[\"delivery_timestamp\"], format='%Y-%m-%dT%H:%M:%S', errors=\"coerce\")\n",
    "deliveries_v2[\"time_difference\"] = deliveries_v2[\"delivery_timestamp\"] - deliveries_v2[\"purchase_timestamp\"]"
   ],
   "metadata": {
    "collapsed": false,
    "pycharm": {
     "name": "#%%\n"
    }
   }
  },
  {
   "cell_type": "markdown",
   "source": [
    "##### Ujemne czasy dostawy"
   ],
   "metadata": {
    "collapsed": false,
    "pycharm": {
     "name": "#%% md\n"
    }
   }
  },
  {
   "cell_type": "code",
   "execution_count": 174,
   "outputs": [
    {
     "data": {
      "text/plain": "0"
     },
     "execution_count": 174,
     "metadata": {},
     "output_type": "execute_result"
    }
   ],
   "source": [
    "len(deliveries_v2[deliveries_v2[\"purchase_timestamp\"] > deliveries_v2[\"delivery_timestamp\"]])"
   ],
   "metadata": {
    "collapsed": false,
    "pycharm": {
     "name": "#%%\n"
    }
   }
  },
  {
   "cell_type": "markdown",
   "source": [
    "Na szczęście dane ze złym czasem dostawy zostały poprawione."
   ],
   "metadata": {
    "collapsed": false
   }
  },
  {
   "cell_type": "markdown",
   "source": [
    "##### Nocne dostawy"
   ],
   "metadata": {
    "collapsed": false
   }
  },
  {
   "cell_type": "code",
   "execution_count": 175,
   "outputs": [
    {
     "name": "stdout",
     "output_type": "stream",
     "text": [
      "0\n"
     ]
    }
   ],
   "source": [
    "night_deliveries = pd.DataFrame({\"id\": deliveries_v2[\"purchase_id\"].to_list()}, index=pd.DatetimeIndex(deliveries_v2[\"delivery_timestamp\"])).between_time(\"22:00\", \"6:00\")\n",
    "print(len(night_deliveries))\n"
   ],
   "metadata": {
    "collapsed": false,
    "pycharm": {
     "name": "#%%\n"
    }
   }
  },
  {
   "cell_type": "markdown",
   "source": [
    "Dostawy w nocy już nie występują."
   ],
   "metadata": {
    "collapsed": false
   }
  },
  {
   "cell_type": "markdown",
   "source": [
    "##### Dostawy w niedziele"
   ],
   "metadata": {
    "collapsed": false
   }
  },
  {
   "cell_type": "code",
   "execution_count": 183,
   "outputs": [
    {
     "data": {
      "text/plain": "<Figure size 1440x720 with 0 Axes>"
     },
     "metadata": {},
     "output_type": "display_data"
    },
    {
     "data": {
      "text/plain": "<Figure size 360x360 with 1 Axes>",
      "image/png": "[encoded data removed]"
     },
     "metadata": {
      "needs_background": "light"
     },
     "output_type": "display_data"
    }
   ],
   "source": [
    "preped = deliveries_v2.copy()\n",
    "preped[\"delivery_weekday\"]=preped['delivery_timestamp'].dt.day_name()\n",
    "\n",
    "plt.figure(figsize=(20,10))\n",
    "sns.displot(preped[\"delivery_weekday\"])\n",
    "plt.show()"
   ],
   "metadata": {
    "collapsed": false,
    "pycharm": {
     "name": "#%%\n"
    }
   }
  },
  {
   "cell_type": "markdown",
   "source": [
    "Dostawy w niedzielę już nie występują. Widać, że dostawy w poniedziałki występują teraz około dwóch razy częściej\n",
    "niż te w inne dni tygodnia."
   ],
   "metadata": {
    "collapsed": false
   }
  },
  {
   "cell_type": "markdown",
   "source": [
    "##### Krótkie dostawy"
   ],
   "metadata": {
    "collapsed": false
   }
  },
  {
   "cell_type": "code",
   "execution_count": 182,
   "outputs": [
    {
     "name": "stdout",
     "output_type": "stream",
     "text": [
      "0.008320532514080901\n"
     ]
    }
   ],
   "source": [
    "len(deliveries_v2[deliveries_v2[\"time_difference\"] < pd.Timedelta(hours=12)])"
   ],
   "metadata": {
    "collapsed": false,
    "pycharm": {
     "name": "#%%\n"
    }
   }
  },
  {
   "cell_type": "markdown",
   "source": [
    "Krótkie czasy dostawy ( poniżej dwunastu godzin ) nadal występują, ale jest to niecały procent danych."
   ],
   "metadata": {
    "collapsed": false
   }
  }
 ]
}