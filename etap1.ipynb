{
 "cells": [
  {
   "cell_type": "markdown",
   "source": [
    "Niejasności/głupoty/pytania:\n",
    "\n",
    "- Jakie powinno być biznesowe kryterium sukcesu? +- godzina? Czy to ma sens tylko przy cichym założeniu że czas dostawy <24h?\n"
   ],
   "metadata": {
    "collapsed": false
   }
  },
  {
   "cell_type": "markdown",
   "metadata": {
    "collapsed": true,
    "pycharm": {
     "name": "#%% md\n"
    }
   },
   "source": [
    "TODO:\n",
    "- definicję problemu biznesowego,\n",
    "- zdefiniowanie zadania/zadań modelowania i\n",
    "- wszystkich założeń, zaproponowania kryteriów sukcesu),\n",
    "- ii) analizę danych z perspektywy realizacji tych zadań (trzeba ocenić,\n",
    "- czy dostarczone dane są wystarczające – może czegoś brakuje, może coś trzeba poprawić, domagać się\n",
    "innych danych, …),\n",
    "\n",
    "\n",
    "- oszacowanie tego jaką dokładnie wartość powinna mieć miara, którą będziemy stosować na podstawie tego, co mamy\n",
    "- no jakieś takie sensowne spięcie całości.\n",
    "- komentarze odnośnie nowych danych (po połączeniu wszystkiego wciąż są brakujące wartości, dalej mamy dostawy <1h)\n",
    "- macierz korelacji zmiennych zobrazowana na heatmapie (sns.heatmap)\n",
    "- podzielić to co wiemy o danych na jakieś sensowne sekcje (nwm analiza starych danych, analiza nowych danych, sformułowanie problemów, etc)"
   ]
  },
  {
   "cell_type": "markdown",
   "source": [
    "## IUM - projekt\n",
    "#### Autorzy:\n",
    "Joanna Sokołowska, Rafał Uzarowicz\n",
    "#### Zadanie:\n",
    "3. “Wygląda na to, że nasze firmy kurierskie czasami nie radzą sobie z dostawami. Gdybyśmy\n",
    "wiedzieli, ile taka dostawa dla danego zamówienia potrwa – moglibyśmy przekazywać tą\n",
    "informację klientom.\""
   ],
   "metadata": {
    "collapsed": false
   }
  },
  {
   "cell_type": "markdown",
   "source": [
    "# Zadanie\n",
    "\n",
    "### Problem biznesowy\n",
    "Przewidywanie przybliżonego czasu dostawy produktu.\n",
    "\n",
    "### Biznesowe kryterium sukcesu\n",
    "Przewidywany czas dostawy nie powinien odstawać od rzeczywistego czasu dostawy.\n",
    "\n"
   ],
   "metadata": {
    "collapsed": false
   }
  },
  {
   "cell_type": "markdown",
   "source": [
    "# Analiza wstępnego zbioru danych"
   ],
   "metadata": {
    "collapsed": false,
    "pycharm": {
     "name": "#%% md\n"
    }
   }
  },
  {
   "cell_type": "markdown",
   "source": [
    "# Analiza pierwszej modyfikacji zbioru danych\n"
   ],
   "metadata": {
    "collapsed": false,
    "pycharm": {
     "name": "#%% md\n"
    }
   }
  }
 ],
 "metadata": {
  "kernelspec": {
   "display_name": "Python 3",
   "language": "python",
   "name": "python3"
  },
  "language_info": {
   "codemirror_mode": {
    "name": "ipython",
    "version": 2
   },
   "file_extension": ".py",
   "mimetype": "text/x-python",
   "name": "python",
   "nbconvert_exporter": "python",
   "pygments_lexer": "ipython2",
   "version": "2.7.6"
  }
 },
 "nbformat": 4,
 "nbformat_minor": 0
}