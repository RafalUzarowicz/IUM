{
 "nbformat": 4,
 "nbformat_minor": 0,
 "metadata": {
  "kernelspec": {
   "display_name": "Python 3",
   "language": "python",
   "name": "python3"
  },
  "language_info": {
   "codemirror_mode": {
    "name": "ipython",
    "version": 2
   },
   "file_extension": ".py",
   "mimetype": "text/x-python",
   "name": "python",
   "nbconvert_exporter": "python",
   "pygments_lexer": "ipython2",
   "version": "2.7.6"
  },
  "colab": {
   "name": "etap1.ipynb",
   "provenance": []
  }
 },
 "cells": [
  {
   "cell_type": "markdown",
   "metadata": {
    "collapsed": true,
    "pycharm": {
     "name": "#%% md\n"
    },
    "id": "Fdb_9y4LH3OB"
   },
   "source": [
    "# TODO:\n",
    "- definicję problemu biznesowego,\n",
    "- zdefiniowanie zadania/zadań modelowania i\n",
    "- wszystkich założeń, zaproponowania kryteriów sukcesu),"
   ]
  },
  {
   "cell_type": "markdown",
   "metadata": {
    "collapsed": false,
    "id": "IWTXnmLJH3OD"
   },
   "source": [
    "## IUM - projekt\n",
    "#### Autorzy:\n",
    "Joanna Sokołowska, Rafał Uzarowicz\n",
    "#### Zadanie:\n",
    "3. \"Wygląda na to, że nasze firmy kurierskie czasami nie radzą sobie z dostawami. Gdybyśmy\n",
    "wiedzieli, ile taka dostawa dla danego zamówienia potrwa – moglibyśmy przekazywać tą\n",
    "informację klientom.\""
   ]
  },
  {
   "cell_type": "code",
   "metadata": {
    "pycharm": {
     "name": "#%%\n"
    },
    "id": "jFjTgQ84H3OE"
   },
   "source": [
    "# Ustawienie środowiska\n",
    "\n",
    "# Wstępne dane\n",
    "data_v1_dir =\"./data/data_v1/\"\n",
    "\n",
    "deliveries_v1_path = data_v1_dir + \"deliveries.jsonl\"\n",
    "sessions_v1_path = data_v1_dir + \"sessions.jsonl\"\n",
    "users_v1_path = data_v1_dir + \"users.jsonl\"\n",
    "products_v1_path = data_v1_dir + \"products.jsonl\"\n",
    "\n",
    "# Pierwsza aktualizacja\n",
    "data_v2_dir =\"./data/data_v2/\"\n",
    "\n",
    "deliveries_v2_path = data_v2_dir + \"deliveries.jsonl\"\n",
    "sessions_v2_path = data_v2_dir + \"sessions.jsonl\"\n",
    "users_v2_path = data_v2_dir + \"users.jsonl\"\n",
    "products_v2_path = data_v2_dir + \"products.jsonl\"\n",
    "\n",
    "# Biblioteki\n",
    "import pandas as pd\n",
    "import numpy as np\n",
    "import matplotlib.pyplot as plt\n",
    "import seaborn as sns"
   ],
   "execution_count": 368,
   "outputs": []
  },
  {
   "cell_type": "markdown",
   "metadata": {
    "collapsed": false,
    "id": "HNt0wC7NH3OH"
   },
   "source": [
    "# Zadanie\n",
    "\n",
    "### Tło biznesowe\n",
    "\n",
    "#### Zadanie biznesowe\n",
    "Przewidywanie przybliżonego czasu dostawy produktu.\n",
    "\n",
    "#### Biznesowe kryterium sukcesu\n",
    "Przewidywany przez system czas dostawy nie powinien zbytnio odstawać od rzeczywistego czasu dostawy.\n",
    "Zastosowanie systemu powinno sprawiać, że użytkownicy lepiej oceniają swoje doświadczenia ze sklepem.\n",
    "\n",
    "\n",
    "### Model\n",
    "\n",
    "#### Zadanie modelowania\n",
    "Przewidywanie czasu dostawy przy użyciu regresji.\n",
    "\n",
    "#### Analityczne kryterium sukcesu\n",
    "\n",
    "Miara Median Absolute Error mniejsza niż 12h (720 min).\n",
    "Dokładna wartość została oszacowana poprzez zbudowanie bazowego modelu regresji liniowej, którego miara MAE wynosi ok. 804 minuty (13,4h) na zbiorze testowym.\n",
    "\n",
    "#### Zmienna celu\n",
    "Przybliżona liczba minut potrzebnych na dostawę produktu.\n"
   ]
  },
  {
   "cell_type": "markdown",
   "metadata": {
    "collapsed": false,
    "id": "ctGs27hXH3OJ"
   },
   "source": [
    "## Wstępne obserwacje dotyczące danych"
   ]
  },
  {
   "cell_type": "code",
   "execution_count": 369,
   "outputs": [],
   "source": [
    "deliveries_v1 = pd.read_json(deliveries_v1_path, lines=True)\n",
    "sessions_v1 = pd.read_json(sessions_v1_path, lines=True)\n",
    "users_v1 = pd.read_json(users_v1_path, lines=True)\n",
    "products_v1 = pd.read_json(products_v1_path, lines=True)\n",
    "\n",
    "data_v1 = {\"products\": products_v1, \"sessions\": sessions_v1, \"users\": users_v1, \"deliveries\":deliveries_v1}"
   ],
   "metadata": {
    "collapsed": false,
    "pycharm": {
     "name": "#%%\n"
    }
   }
  },
  {
   "cell_type": "markdown",
   "source": [
    "### Krótki opis danych\n",
    "Dane, które dostaliśmy, dotyczą firmy internetowej sprzedającej elektronikę i gry komputerowe. Dostaliśmy bazę użytkowników,\n",
    " katalog produktów, historię sesji oraz dane dotyczące wysyłki zakupionych produktów. Ze względu na specyfikę problemu\n",
    " wydaje się, że jedynymi istotnymi informacjami będą te powiązane z samym transportem."
   ],
   "metadata": {
    "collapsed": false
   }
  },
  {
   "cell_type": "markdown",
   "source": [
    "### Przegląd dostępnych kolumn"
   ],
   "metadata": {
    "collapsed": false
   }
  },
  {
   "cell_type": "code",
   "execution_count": 370,
   "outputs": [
    {
     "name": "stdout",
     "output_type": "stream",
     "text": [
      "products  :  ['product_id', 'product_name', 'category_path', 'price']\n",
      "sessions  :  ['session_id', 'timestamp', 'user_id', 'product_id', 'event_type', 'offered_discount', 'purchase_id']\n",
      "users  :  ['user_id', 'name', 'city', 'street']\n",
      "deliveries  :  ['purchase_id', 'purchase_timestamp', 'delivery_timestamp', 'delivery_company']\n"
     ]
    }
   ],
   "source": [
    "for key, value in data_v1.items():\n",
    "    print(key, \" : \", value.columns.tolist())"
   ],
   "metadata": {
    "collapsed": false,
    "pycharm": {
     "name": "#%%\n"
    }
   }
  },
  {
   "cell_type": "code",
   "execution_count": 371,
   "outputs": [
    {
     "name": "stdout",
     "output_type": "stream",
     "text": [
      "product_id  :  int64\n",
      "product_name  :  object\n",
      "category_path  :  object\n",
      "price  :  float64\n",
      "session_id  :  int64\n",
      "timestamp  :  datetime64[ns]\n",
      "user_id  :  float64\n",
      "product_id  :  float64\n",
      "event_type  :  object\n",
      "offered_discount  :  int64\n",
      "purchase_id  :  float64\n",
      "user_id  :  int64\n",
      "name  :  object\n",
      "city  :  object\n",
      "street  :  object\n",
      "purchase_id  :  int64\n",
      "purchase_timestamp  :  object\n",
      "delivery_timestamp  :  object\n",
      "delivery_company  :  float64\n"
     ]
    }
   ],
   "source": [
    "for key, value in data_v1.items():\n",
    "    for column in value.columns.tolist():\n",
    "        print(column, \" : \", data_v1[key][column].dtypes)"
   ],
   "metadata": {
    "collapsed": false,
    "pycharm": {
     "name": "#%%\n"
    }
   }
  },
  {
   "cell_type": "markdown",
   "source": [
    "#### Dane, które wydają się mieć największy wpływ na nasze zadanie:\n",
    "- adres użytkownika (może być konieczne dodanie do niego kolumny z kodem pocztowym-powinno dać to lepsze pojęcie o\n",
    "położeniu punktów dostaw w tym samym rejonie, dalszym przetworzeniem może być też odległość absolutna pomiędzy magazynem/miejscem wysyłki a celem).\n",
    "- dane dt. czasu złożenia zamówienia (prawdopodobnie trzeba będzie je przekształcić w format bardziej nadający się do obróbki).\n",
    "- dane dt. czasu dostawy (atrybut, którego wartość będziemy próbowali przewidzieć wprost tj. datę lub pośrednio tj. czas między złożeniem zamówienia a dostawą).\n",
    "- dane dt. firmy kurierskiej (firma prawdopodobnie będzie mocno wpływać na czas dostawy).\n",
    "\n",
    "#### Omówienie pozostałych danych:\n",
    "- session_id-raczej nieistotne, sesja nie powinna mieć wpływu na czas transportu.\n",
    "- timestamp z tabeli sessions-też raczej nieistotny, podobne informacje niesie timestamp zakupu produktu z tabeli deliveries,\n",
    "gdyż nie obchodzi nas jakie produkty przeglądał użytkownik, a tylko akcje kupna.\n",
    "- user_id-samo w sobie raczej nie niesie wartości, choć może być przydatne do łączenia z innymi tablicami (np. deliveries).\n",
    "Sklep internetowy raczej nie przyspiesza dostaw ze względu na osobę.\n",
    "- product_id-przydatne tylko do łączenia tabel.\n",
    "- event_type-raczej nieistotne, to co wykonywał użytkownik w sesji, raczej nie ma wpływu na czas dostawy.\n",
    "- offered_discount-nie powinno mieć to wpływu na czas dostawy.\n",
    "- purchase_id-istotne do łączenia tabel.\n",
    "- name-samo w sobie nieważne, można by z niego wyciągnąć takie dane jak np. płeć, jednak nie będzie to miało wpływu na czas dostawy.\n",
    "- product_name-raczej nie powinno wpłynąć na czas dostawy.\n",
    "- category_path-może być o tyle ważne, że pewne produkty mogłyby być gabarytami, wtedy ich czas dostawy mógłby się znacznie różnic przez konieczność specjalnego ich traktowania.\n",
    "- price-cena sama w sobie raczej nie niesie informacji o czasie dostawy.\n",
    "\n",
    "#### Dane, które przydałoby się dostać:\n",
    "- dane dt. momentu i miejsca wysyłki produktów (czy zawsze wysyłane są z tego samego miejsca, czy istnieją jakieś opóźnienia).\n",
    "- dane dt. punktów pośrednich na drodze przesyłki (o ile istnieją) np. punktów spedycyjnych, magazynów,\n",
    "to potencjalnie mogłoby pozwolić na ulepszanie predykcji w trakcie podróży przesyłki i im bliżej celu, tym\n",
    "dokładniejsze dane można by było zaprezentować użytkownikowi."
   ],
   "metadata": {
    "collapsed": false
   }
  },
  {
   "cell_type": "markdown",
   "source": [
    "### Ogólne komentarze do tabel\n",
    "\n",
    "Tabela deliveries-ważna niesie istotne dane, choć może być konieczność poddania ich odpowiedniemu przetworzeniu\n",
    "przed utworzeniem modelu. Zawarte w niej daty i godziny są prawdopodobnie bardzo ważne w budowie modelu, ale będą\n",
    "wymagały przetworzenia-np. wyciągnięcia oddzielnie miesiąca, dnia, godziny, może też dnia tygodnia.\n",
    "\n",
    "Tabela sessions-raczej nieważna, choć spodziewam się, że może nieść nieco istotnych danych nt. obciążenia systemu\n",
    "w poszczególnych okresach, co prawdopodobnie wpływa na czas dostaw.\n",
    "\n",
    "Tabela products-przy wstępnej analizie nie wydaje się istotna, ale może da się na jej podstawie utworzyć nowe atrybuty\n",
    "bardziej przydatne dla problemu. Być może warto np. dodać do kolumny deliveries kolumnę zliczającą, ile przedmiotów\n",
    "jest w jednym zamówieniu-wielkość zamówienia może wpływać na możliwości firm kurierskich co do czasu dostawy.\n",
    "\n",
    "Tabela users-raczej ważna mówi nam o adresie dostawy-odległość może znacząco wpływać na długość dostawy."
   ],
   "metadata": {
    "collapsed": false,
    "pycharm": {
     "name": "#%% md\n"
    }
   }
  },
  {
   "cell_type": "markdown",
   "metadata": {
    "collapsed": false,
    "pycharm": {
     "name": "#%% md\n"
    },
    "id": "PLNaEWIHH3OL"
   },
   "source": [
    "## Analiza pierwszej wersji danych"
   ]
  },
  {
   "cell_type": "markdown",
   "source": [
    "### Sprawdzenie ilości danych"
   ],
   "metadata": {
    "collapsed": false
   }
  },
  {
   "cell_type": "code",
   "execution_count": 372,
   "outputs": [
    {
     "name": "stdout",
     "output_type": "stream",
     "text": [
      "products  :  (319, 4)\n",
      "sessions  :  (37690, 7)\n",
      "users  :  (200, 4)\n",
      "deliveries  :  (6993, 4)\n"
     ]
    }
   ],
   "source": [
    "for key, value in data_v1.items():\n",
    "    print(key, \" : \", value.shape)"
   ],
   "metadata": {
    "collapsed": false,
    "pycharm": {
     "name": "#%%\n"
    }
   }
  },
  {
   "cell_type": "markdown",
   "source": [
    "Ilościowo danych wydaje się dostatecznie dużo, w najbardziej interesującej nas tabeli (deliveries) jest niemal 7 tysięcy\n",
    "wierszy, co powinno być dość zarówno do wytrenowania, walidacji, jak i testowania modelu."
   ],
   "metadata": {
    "collapsed": false
   }
  },
  {
   "cell_type": "markdown",
   "source": [
    "### Sprawdzenie jakości danych"
   ],
   "metadata": {
    "collapsed": false
   }
  },
  {
   "cell_type": "markdown",
   "source": [
    "#### Sprawdzenie braków w danych"
   ],
   "metadata": {
    "collapsed": false
   }
  },
  {
   "cell_type": "code",
   "execution_count": 373,
   "outputs": [
    {
     "name": "stdout",
     "output_type": "stream",
     "text": [
      "products :\n",
      " product_id       0\n",
      "product_name     0\n",
      "category_path    0\n",
      "price            0\n",
      "dtype: int64 \n",
      "\n",
      "sessions :\n",
      " session_id              0\n",
      "timestamp               0\n",
      "user_id              1915\n",
      "product_id           1913\n",
      "event_type              0\n",
      "offered_discount        0\n",
      "purchase_id         30697\n",
      "dtype: int64 \n",
      "\n",
      "users :\n",
      " user_id    0\n",
      "name       0\n",
      "city       0\n",
      "street     0\n",
      "dtype: int64 \n",
      "\n",
      "deliveries :\n",
      " purchase_id             0\n",
      "purchase_timestamp      0\n",
      "delivery_timestamp    333\n",
      "delivery_company      329\n",
      "dtype: int64 \n",
      "\n"
     ]
    }
   ],
   "source": [
    "for key, value in data_v1.items():\n",
    "  print(key, \":\\n\", value.isnull().sum(), \"\\n\")"
   ],
   "metadata": {
    "collapsed": false,
    "pycharm": {
     "name": "#%%\n"
    }
   }
  },
  {
   "cell_type": "markdown",
   "source": [
    "Brakujące dane w tabeli deliveries są raczej martwiące, dobrze by było jakby dało się je uzupełnić, jednak jeśli nie\n",
    "będzie to możliwe, to pozostałe dane powinny być wystarczające do wytrenowania modelu\n",
    "(maksymalnie 662 wiersze są wybrakowane, to poniżej 10% danych).\n",
    "\n",
    "Cieszy brak pustych wartości w tabelach dotyczących użytkowników-nie powinno być problemu z nieznanymi adresami dostaw.\n",
    "\n",
    "Braki w tabeli sessions nie zaskakują-wynikają prawdopodobnie ze sposobu, w jaki są gromadzone dane,\n",
    "np. puste wartości w kolumnie purchase_id wynikają najpewniej z tego, że dany wiersz odpowiada wartości\n",
    "event_type innej niż BUY_PRODUCT."
   ],
   "metadata": {
    "collapsed": false
   }
  },
  {
   "cell_type": "markdown",
   "source": [
    "#### Sprawdzenie błędów w danych"
   ],
   "metadata": {
    "collapsed": false
   }
  },
  {
   "cell_type": "markdown",
   "source": [
    "##### Dane czasowe"
   ],
   "metadata": {
    "collapsed": false
   }
  },
  {
   "cell_type": "code",
   "execution_count": 374,
   "outputs": [
    {
     "data": {
      "text/plain": "   purchase_id   purchase_timestamp          delivery_timestamp  \\\n0        20001  2021-02-21T12:09:40  2021-02-22T15:06:21.051360   \n1        20002  2021-02-17T15:08:51  2021-02-21T12:16:54.977640   \n2        20003  2021-01-22T14:41:01  2021-01-22T15:19:19.040428   \n3        20004  2021-01-15T12:41:14  2021-01-13T22:45:05.607434   \n4        20005  2021-01-14T02:50:19  2021-01-14T11:35:28.612753   \n\n   delivery_company  \n0             620.0  \n1             360.0  \n2             516.0  \n3             516.0  \n4             516.0  ",
      "text/html": "<div>\n<style scoped>\n    .dataframe tbody tr th:only-of-type {\n        vertical-align: middle;\n    }\n\n    .dataframe tbody tr th {\n        vertical-align: top;\n    }\n\n    .dataframe thead th {\n        text-align: right;\n    }\n</style>\n<table border=\"1\" class=\"dataframe\">\n  <thead>\n    <tr style=\"text-align: right;\">\n      <th></th>\n      <th>purchase_id</th>\n      <th>purchase_timestamp</th>\n      <th>delivery_timestamp</th>\n      <th>delivery_company</th>\n    </tr>\n  </thead>\n  <tbody>\n    <tr>\n      <th>0</th>\n      <td>20001</td>\n      <td>2021-02-21T12:09:40</td>\n      <td>2021-02-22T15:06:21.051360</td>\n      <td>620.0</td>\n    </tr>\n    <tr>\n      <th>1</th>\n      <td>20002</td>\n      <td>2021-02-17T15:08:51</td>\n      <td>2021-02-21T12:16:54.977640</td>\n      <td>360.0</td>\n    </tr>\n    <tr>\n      <th>2</th>\n      <td>20003</td>\n      <td>2021-01-22T14:41:01</td>\n      <td>2021-01-22T15:19:19.040428</td>\n      <td>516.0</td>\n    </tr>\n    <tr>\n      <th>3</th>\n      <td>20004</td>\n      <td>2021-01-15T12:41:14</td>\n      <td>2021-01-13T22:45:05.607434</td>\n      <td>516.0</td>\n    </tr>\n    <tr>\n      <th>4</th>\n      <td>20005</td>\n      <td>2021-01-14T02:50:19</td>\n      <td>2021-01-14T11:35:28.612753</td>\n      <td>516.0</td>\n    </tr>\n  </tbody>\n</table>\n</div>"
     },
     "execution_count": 374,
     "metadata": {},
     "output_type": "execute_result"
    }
   ],
   "source": [
    "deliveries_v1.head()"
   ],
   "metadata": {
    "collapsed": false,
    "pycharm": {
     "name": "#%%\n"
    }
   }
  },
  {
   "cell_type": "code",
   "execution_count": 375,
   "outputs": [
    {
     "data": {
      "text/plain": "   purchase_id  purchase_timestamp         delivery_timestamp  \\\n0        20001 2021-02-21 12:09:40 2021-02-22 15:06:21.051360   \n1        20002 2021-02-17 15:08:51 2021-02-21 12:16:54.977640   \n2        20003 2021-01-22 14:41:01 2021-01-22 15:19:19.040428   \n3        20004 2021-01-15 12:41:14 2021-01-13 22:45:05.607434   \n4        20005 2021-01-14 02:50:19 2021-01-14 11:35:28.612753   \n\n   delivery_company          time_difference  \n0             620.0   1 days 02:56:41.051360  \n1             360.0   3 days 21:08:03.977640  \n2             516.0   0 days 00:38:18.040428  \n3             516.0 -2 days +10:03:51.607434  \n4             516.0   0 days 08:45:09.612753  ",
      "text/html": "<div>\n<style scoped>\n    .dataframe tbody tr th:only-of-type {\n        vertical-align: middle;\n    }\n\n    .dataframe tbody tr th {\n        vertical-align: top;\n    }\n\n    .dataframe thead th {\n        text-align: right;\n    }\n</style>\n<table border=\"1\" class=\"dataframe\">\n  <thead>\n    <tr style=\"text-align: right;\">\n      <th></th>\n      <th>purchase_id</th>\n      <th>purchase_timestamp</th>\n      <th>delivery_timestamp</th>\n      <th>delivery_company</th>\n      <th>time_difference</th>\n    </tr>\n  </thead>\n  <tbody>\n    <tr>\n      <th>0</th>\n      <td>20001</td>\n      <td>2021-02-21 12:09:40</td>\n      <td>2021-02-22 15:06:21.051360</td>\n      <td>620.0</td>\n      <td>1 days 02:56:41.051360</td>\n    </tr>\n    <tr>\n      <th>1</th>\n      <td>20002</td>\n      <td>2021-02-17 15:08:51</td>\n      <td>2021-02-21 12:16:54.977640</td>\n      <td>360.0</td>\n      <td>3 days 21:08:03.977640</td>\n    </tr>\n    <tr>\n      <th>2</th>\n      <td>20003</td>\n      <td>2021-01-22 14:41:01</td>\n      <td>2021-01-22 15:19:19.040428</td>\n      <td>516.0</td>\n      <td>0 days 00:38:18.040428</td>\n    </tr>\n    <tr>\n      <th>3</th>\n      <td>20004</td>\n      <td>2021-01-15 12:41:14</td>\n      <td>2021-01-13 22:45:05.607434</td>\n      <td>516.0</td>\n      <td>-2 days +10:03:51.607434</td>\n    </tr>\n    <tr>\n      <th>4</th>\n      <td>20005</td>\n      <td>2021-01-14 02:50:19</td>\n      <td>2021-01-14 11:35:28.612753</td>\n      <td>516.0</td>\n      <td>0 days 08:45:09.612753</td>\n    </tr>\n  </tbody>\n</table>\n</div>"
     },
     "execution_count": 375,
     "metadata": {},
     "output_type": "execute_result"
    }
   ],
   "source": [
    "deliveries_v1[\"purchase_timestamp\"] = pd.to_datetime ( deliveries_v1[\"purchase_timestamp\"], format='%Y-%m-%dT%H:%M', errors=\"coerce\")\n",
    "deliveries_v1['delivery_timestamp'] = pd.to_datetime ( deliveries_v1[\"delivery_timestamp\"], format='%Y-%m-%dT%H:%M:%S', errors=\"coerce\")\n",
    "deliveries_v1[\"time_difference\"] = deliveries_v1[\"delivery_timestamp\"] - deliveries_v1[\"purchase_timestamp\"]\n",
    "deliveries_v1.head()"
   ],
   "metadata": {
    "collapsed": false,
    "pycharm": {
     "name": "#%%\n"
    }
   }
  },
  {
   "cell_type": "code",
   "execution_count": 376,
   "outputs": [
    {
     "data": {
      "text/plain": "4596"
     },
     "execution_count": 376,
     "metadata": {},
     "output_type": "execute_result"
    }
   ],
   "source": [
    "len(deliveries_v1[deliveries_v1[\"time_difference\"] > pd.Timedelta(hours=0)])"
   ],
   "metadata": {
    "collapsed": false,
    "pycharm": {
     "name": "#%%\n"
    }
   }
  },
  {
   "cell_type": "code",
   "execution_count": 377,
   "outputs": [
    {
     "data": {
      "text/plain": "2064"
     },
     "execution_count": 377,
     "metadata": {},
     "output_type": "execute_result"
    }
   ],
   "source": [
    "len(deliveries_v1[deliveries_v1[\"time_difference\"] < pd.Timedelta(hours=0)])"
   ],
   "metadata": {
    "collapsed": false,
    "pycharm": {
     "name": "#%%\n"
    }
   }
  },
  {
   "cell_type": "markdown",
   "source": [
    "Ujemne wartości w nowoutworzonej kolumnie wskazują na to, że dane są zanieczyszczone-produkt nie mógł być dostarczony\n",
    "przed zakupem. Takich zanieczyszczeń jest stosunkowo wiele - 2 tysiące wierszy, które przez to nie będą mogły zostać\n",
    "wykorzystane w modelowaniu. To zbyt wiele danych, żebyśmy mogli je po prostu pominąć tak, jak w przypadku brakujących czasów dostawy."
   ],
   "metadata": {
    "collapsed": false,
    "pycharm": {
     "name": "#%% md\n"
    }
   }
  },
  {
   "cell_type": "code",
   "source": [
    "preped = deliveries_v1[deliveries_v1[\"time_difference\"] > pd.Timedelta(hours=0)].copy()\n",
    "preped[\"time[s]\"]=preped[\"time_difference\"].apply(lambda time_delta: time_delta.total_seconds())\n",
    "preped[\"time[h]\"]=preped[\"time_difference\"].apply(lambda x: x.total_seconds()/(60*60))\n",
    "preped[\"delivery_weekday\"]=preped['delivery_timestamp'].apply(lambda x: x.weekday())\n",
    "preped.head()"
   ],
   "metadata": {
    "collapsed": false,
    "pycharm": {
     "name": "#%%\n"
    }
   },
   "execution_count": 378,
   "outputs": [
    {
     "data": {
      "text/plain": "   purchase_id  purchase_timestamp         delivery_timestamp  \\\n0        20001 2021-02-21 12:09:40 2021-02-22 15:06:21.051360   \n1        20002 2021-02-17 15:08:51 2021-02-21 12:16:54.977640   \n2        20003 2021-01-22 14:41:01 2021-01-22 15:19:19.040428   \n4        20005 2021-01-14 02:50:19 2021-01-14 11:35:28.612753   \n5        20006 2021-02-16 08:27:14 2021-02-19 09:58:54.243499   \n\n   delivery_company        time_difference        time[s]    time[h]  \\\n0             620.0 1 days 02:56:41.051360   97001.051360  26.944736   \n1             360.0 3 days 21:08:03.977640  335283.977640  93.134438   \n2             516.0 0 days 00:38:18.040428    2298.040428   0.638345   \n4             516.0 0 days 08:45:09.612753   31509.612753   8.752670   \n5             620.0 3 days 01:31:40.243499  264700.243499  73.527845   \n\n   delivery_weekday  \n0                 0  \n1                 6  \n2                 4  \n4                 3  \n5                 4  ",
      "text/html": "<div>\n<style scoped>\n    .dataframe tbody tr th:only-of-type {\n        vertical-align: middle;\n    }\n\n    .dataframe tbody tr th {\n        vertical-align: top;\n    }\n\n    .dataframe thead th {\n        text-align: right;\n    }\n</style>\n<table border=\"1\" class=\"dataframe\">\n  <thead>\n    <tr style=\"text-align: right;\">\n      <th></th>\n      <th>purchase_id</th>\n      <th>purchase_timestamp</th>\n      <th>delivery_timestamp</th>\n      <th>delivery_company</th>\n      <th>time_difference</th>\n      <th>time[s]</th>\n      <th>time[h]</th>\n      <th>delivery_weekday</th>\n    </tr>\n  </thead>\n  <tbody>\n    <tr>\n      <th>0</th>\n      <td>20001</td>\n      <td>2021-02-21 12:09:40</td>\n      <td>2021-02-22 15:06:21.051360</td>\n      <td>620.0</td>\n      <td>1 days 02:56:41.051360</td>\n      <td>97001.051360</td>\n      <td>26.944736</td>\n      <td>0</td>\n    </tr>\n    <tr>\n      <th>1</th>\n      <td>20002</td>\n      <td>2021-02-17 15:08:51</td>\n      <td>2021-02-21 12:16:54.977640</td>\n      <td>360.0</td>\n      <td>3 days 21:08:03.977640</td>\n      <td>335283.977640</td>\n      <td>93.134438</td>\n      <td>6</td>\n    </tr>\n    <tr>\n      <th>2</th>\n      <td>20003</td>\n      <td>2021-01-22 14:41:01</td>\n      <td>2021-01-22 15:19:19.040428</td>\n      <td>516.0</td>\n      <td>0 days 00:38:18.040428</td>\n      <td>2298.040428</td>\n      <td>0.638345</td>\n      <td>4</td>\n    </tr>\n    <tr>\n      <th>4</th>\n      <td>20005</td>\n      <td>2021-01-14 02:50:19</td>\n      <td>2021-01-14 11:35:28.612753</td>\n      <td>516.0</td>\n      <td>0 days 08:45:09.612753</td>\n      <td>31509.612753</td>\n      <td>8.752670</td>\n      <td>3</td>\n    </tr>\n    <tr>\n      <th>5</th>\n      <td>20006</td>\n      <td>2021-02-16 08:27:14</td>\n      <td>2021-02-19 09:58:54.243499</td>\n      <td>620.0</td>\n      <td>3 days 01:31:40.243499</td>\n      <td>264700.243499</td>\n      <td>73.527845</td>\n      <td>4</td>\n    </tr>\n  </tbody>\n</table>\n</div>"
     },
     "execution_count": 378,
     "metadata": {},
     "output_type": "execute_result"
    }
   ]
  },
  {
   "cell_type": "code",
   "execution_count": 379,
   "outputs": [
    {
     "data": {
      "text/plain": "<seaborn.axisgrid.FacetGrid at 0x291ba1dffd0>"
     },
     "execution_count": 379,
     "metadata": {},
     "output_type": "execute_result"
    },
    {
     "data": {
      "text/plain": "<Figure size 1440x720 with 0 Axes>"
     },
     "metadata": {},
     "output_type": "display_data"
    },
    {
     "data": {
      "text/plain": "<Figure size 360x360 with 1 Axes>",
      "image/png": "[encoded data removed]"
     },
     "metadata": {
      "needs_background": "light"
     },
     "output_type": "display_data"
    }
   ],
   "source": [
    "plt.figure(figsize=(20,10))\n",
    "sns.displot(preped[\"time[s]\"]).set(title=\"Rozkład czasu dostawy\")"
   ],
   "metadata": {
    "collapsed": false,
    "pycharm": {
     "name": "#%%\n"
    }
   }
  },
  {
   "cell_type": "code",
   "execution_count": 380,
   "outputs": [
    {
     "data": {
      "text/plain": "<seaborn.axisgrid.FacetGrid at 0x291bc3f8130>"
     },
     "execution_count": 380,
     "metadata": {},
     "output_type": "execute_result"
    },
    {
     "data": {
      "text/plain": "<Figure size 1440x720 with 0 Axes>"
     },
     "metadata": {},
     "output_type": "display_data"
    },
    {
     "data": {
      "text/plain": "<Figure size 360x360 with 1 Axes>",
      "image/png": "[encoded data removed]"
     },
     "metadata": {
      "needs_background": "light"
     },
     "output_type": "display_data"
    }
   ],
   "source": [
    "plt.figure(figsize=(20,10))\n",
    "sns.displot(preped[\"delivery_weekday\"]).set(title=\"Rozkład dostaw w tygodniu\")"
   ],
   "metadata": {
    "collapsed": false,
    "pycharm": {
     "name": "#%%\n"
    }
   }
  },
  {
   "cell_type": "markdown",
   "source": [
    "Paczki są dostarczane równomiernie w całym tygodniu. Jest to dziwne ze względu na dostarczanie paczek również w niedziele.\n",
    "Trzeba będzie te kwestie omówić z klientem."
   ],
   "metadata": {
    "collapsed": false
   }
  },
  {
   "cell_type": "code",
   "execution_count": 381,
   "outputs": [
    {
     "data": {
      "text/plain": "[Text(0.5, 1.0, 'Rozkład dostaw w tygodniu ( < 24h )')]"
     },
     "execution_count": 381,
     "metadata": {},
     "output_type": "execute_result"
    },
    {
     "data": {
      "text/plain": "<Figure size 1440x720 with 1 Axes>",
      "image/png": "[encoded data removed]"
     },
     "metadata": {
      "needs_background": "light"
     },
     "output_type": "display_data"
    }
   ],
   "source": [
    "plt.figure(figsize=(20,10))\n",
    "sns.histplot(preped[preped[\"time[h]\"] < 24][\"time[h]\"]).set(title=\"Rozkład dostaw w tygodniu ( < 24h )\")"
   ],
   "metadata": {
    "collapsed": false,
    "pycharm": {
     "name": "#%%\n"
    }
   }
  },
  {
   "cell_type": "markdown",
   "source": [
    "Na pierwszy rzut oka martwiące są czasy dostawy poniżej godziny, ale także te krótkie - 2 lub 3 - godzinne.\n",
    "Obecnym standardem w e-commerce jest dostawa przesyłki w ciągu 1-2 dni roboczych,\n",
    "czyli czas dostawy od mniej więcej 10 do 30-kilku godzin. Być może te krótkie dane są poprawne, jeśli firma realizuje\n",
    "dostawy ekspresowe (np. z usługą dostawy tego samego dnia) albo np. możliwość odbioru towaru z salonu, jeśli jest on w nim dostępny.\n",
    "\n",
    "Podejrzanie krótkie czasy dostawy (poniżej 5 godzin) zdecydowanie wymagają wyjaśnienia z przedstawicielem firmy.\n",
    "\n",
    "Warto jeszcze sprawdzić jak wygląda rozkład czasu dostawy w godzinach w podziale na poszczególne\n",
    "firmy kurierskie-być może okaże się, że krótkie dostawy są realizowane tylko przez jedną firmę,\n",
    "co wskazywałoby na prawidłowość hipotezy o możliwości wykupienia ekspresowej dostawy.\n",
    "\n",
    "Ponadto warto też przyjrzeć się godzinom, w jakich realizowana jest dostawa-jest szansa,\n",
    "że znajdziemy tam jakieś dostawy w nieprzyzwoicie nocnych godzinach.\n",
    "\n",
    "Dane nt. czasu dostawy wymagają dokładniejszego przyjrzenia się ich rozkładowi."
   ],
   "metadata": {
    "collapsed": false
   }
  },
  {
   "cell_type": "code",
   "execution_count": 382,
   "outputs": [
    {
     "data": {
      "text/plain": "<Figure size 864x864 with 4 Axes>",
      "image/png": "[encoded data removed]"
     },
     "metadata": {
      "needs_background": "light"
     },
     "output_type": "display_data"
    }
   ],
   "source": [
    "companies = preped[\"delivery_company\"].unique()\n",
    "dfs = {\n",
    "    \"unknown\": preped[preped['delivery_company'].isna()][\"time[h]\"],\n",
    "    \"360\": preped[preped['delivery_company']==360][\"time[h]\"],\n",
    "    \"516\": preped[preped['delivery_company']==516][\"time[h]\"],\n",
    "    \"620\": preped[preped['delivery_company']==620][\"time[h]\"]\n",
    "}\n",
    "\n",
    "fgs, axes = plt.subplots(2, 2, figsize=(12,12))\n",
    "axs = [axes[i][j] for i in [0,1] for j in [0,1]]\n",
    "i=0\n",
    "for key, df in dfs.items():\n",
    "  sns.histplot(data = df, binwidth=1, ax = axs[i])\n",
    "  axs[i].title.set_text(key)\n",
    "  i+=1\n",
    "plt.show()"
   ],
   "metadata": {
    "collapsed": false,
    "pycharm": {
     "name": "#%%\n"
    }
   }
  },
  {
   "cell_type": "markdown",
   "source": [
    "Nie wydaje się, żeby któraś z firm kurierskich dostarczała paczki znacznie szybciej od innych."
   ],
   "metadata": {
    "collapsed": false
   }
  },
  {
   "cell_type": "code",
   "execution_count": 383,
   "outputs": [
    {
     "name": "stdout",
     "output_type": "stream",
     "text": [
      "1568\n"
     ]
    }
   ],
   "source": [
    "night_deliveries = pd.DataFrame({\"id\": preped[\"purchase_id\"].to_list()}, index=pd.DatetimeIndex(preped[\"delivery_timestamp\"])).between_time(\"22:00\", \"6:00\")\n",
    "print(len(night_deliveries))"
   ],
   "metadata": {
    "collapsed": false,
    "pycharm": {
     "name": "#%%\n"
    }
   }
  },
  {
   "cell_type": "markdown",
   "source": [
    "Z danych wynika, że paczki są dostarczane nawet w nocy. Jest to bardzo mało prawdopodobne i musi być omówione z klientem."
   ],
   "metadata": {
    "collapsed": false
   }
  },
  {
   "cell_type": "code",
   "execution_count": 384,
   "outputs": [
    {
     "data": {
      "text/plain": "['Konin',\n 'Kutno',\n 'Radom',\n 'Police',\n 'Szczecin',\n 'Warszawa',\n 'Gdynia',\n 'Mielec']"
     },
     "execution_count": 384,
     "metadata": {},
     "output_type": "execute_result"
    }
   ],
   "source": [
    "users_v1[\"city\"].unique().tolist()\n"
   ],
   "metadata": {
    "collapsed": false,
    "pycharm": {
     "name": "#%%\n"
    }
   }
  },
  {
   "cell_type": "markdown",
   "source": [
    "Paczki są dostarczane do miast w różnych rejonach Polski. Bardzo małe czasy dostawy w takiej sytuacji muszą wynikać z\n",
    "błędu lub paczki są wysyłane z wielu miejsc."
   ],
   "metadata": {
    "collapsed": false
   }
  },
  {
   "cell_type": "markdown",
   "source": [
    "### Sprawdzenie dostępnych kategorii produktów"
   ],
   "metadata": {
    "collapsed": false
   }
  },
  {
   "cell_type": "code",
   "execution_count": 385,
   "outputs": [
    {
     "data": {
      "text/plain": "{'Akcesoria telefoniczne',\n 'Anteny RTV',\n 'Audio',\n 'Biurowe urządzenia wielofunkcyjne',\n 'Drukarki i skanery',\n 'Gry PlayStation3',\n 'Gry Xbox 360',\n 'Gry i konsole',\n 'Gry komputerowe',\n 'Gry na konsole',\n 'Komputery',\n 'Monitory',\n 'Monitory LCD',\n 'Odtwarzacze DVD',\n 'Odtwarzacze mp3 i mp4',\n 'Okulary 3D',\n 'Przenośne audio i video',\n 'Sprzęt RTV',\n 'Słuchawki',\n 'Tablety',\n 'Tablety i akcesoria',\n 'Telefony i akcesoria',\n 'Telefony komórkowe',\n 'Telefony stacjonarne',\n 'Telewizory i akcesoria',\n 'Video',\n 'Zestawy głośnomówiące',\n 'Zestawy słuchawkowe'}"
     },
     "execution_count": 385,
     "metadata": {},
     "output_type": "execute_result"
    }
   ],
   "source": [
    "categories = set()\n",
    "for value in products_v1[\"category_path\"]:\n",
    "  categories.update(value.split(\";\"))\n",
    "categories"
   ],
   "metadata": {
    "collapsed": false,
    "pycharm": {
     "name": "#%%\n"
    }
   }
  },
  {
   "cell_type": "markdown",
   "source": [
    "Po przyjrzeniu się kategoriom można zauważyć, że gabaryty sprzedawanych przedmiotów nie będą się bardzo różnić-\n",
    "choć transport monitorów LCD i słuchawek jest różny, to raczej nie dość różny, by wpłynąć na czas dostawy.\n",
    "Mimo to można dodać kolumnę dzielącą przedmioty na większe np. Drukarki i skaner, Komputery, Monitory i Monitory LCD\n",
    "jako urządzenia „duże\", a telefony komórkowe, zestawy słuchawkowe i gry na konsole jako „małe\"."
   ],
   "metadata": {
    "collapsed": false
   }
  },
  {
   "cell_type": "markdown",
   "source": [
    "### Wnioski\n",
    "\n",
    "Dane, które wydają się mieć znaczenie, zawierają wiele błędów. Kontakt z klientem i wyjaśnienie podstawowych kwestii będzie kluczowe.\n",
    "\n",
    "Po wstępnym obejrzeniu danych, z klientem należy ustalić następujące szczegóły:\n",
    "- miejsce wysyłki paczek i jego adres\n",
    "- trasa paczki\n",
    "- dostępność produktów w sklepie\n",
    "\n",
    "Wszystkie te kwestie mogą wpłynąć na czas dostawy.\n",
    "\n",
    "Ważną kwestią będzie także zapytanie o uzupełnienie brakujących danych-dane o czasie dostawy są dla nas kluczowe\n",
    "oraz o błędne dane-krótkie czasy dostawy, ujemne czasy dostawy, dostawy w nocy."
   ],
   "metadata": {
    "collapsed": false
   }
  },
  {
   "cell_type": "markdown",
   "metadata": {
    "collapsed": false,
    "pycharm": {
     "name": "#%% md\n"
    },
    "id": "HtzyJA3kH3ON"
   },
   "source": [
    "## Analiza pierwszej aktualizacji zbioru danych\n",
    "\n",
    "- typ i wartosci wybranych atrybutow"
   ]
  },
  {
   "cell_type": "markdown",
   "source": [
    "### Opis informacji od klienta\n",
    "\n",
    "Dostaliśmy aktualizację danych po przedstawieniu problemów, jakie w nich znaleźliśmy.\n",
    "\n",
    "Od klienta dowiedzieliśmy się, że istnieje jeden centralny magazyn (nie ma jego adresu), nie istnieją żadne miejsca\n",
    "na ścieżce produktu do klienta, nie występuje czas oczekiwania na wysłanie, można kupić produkty tylko dostępne w magazynie\n",
    "(brak czasu oczekiwania na dostawę do magazynu)."
   ],
   "metadata": {
    "collapsed": false
   }
  },
  {
   "cell_type": "code",
   "execution_count": 386,
   "outputs": [],
   "source": [
    "deliveries_v2 = pd.read_json(deliveries_v2_path, lines=True)\n",
    "sessions_v2 = pd.read_json(sessions_v2_path, lines=True)\n",
    "users_v2 = pd.read_json(users_v2_path, lines=True)\n",
    "products_v2 = pd.read_json(products_v2_path, lines=True)\n",
    "\n",
    "data_v2 = {\"products\": products_v2, \"sessions\": sessions_v2, \"users\": users_v2, \"deliveries\":deliveries_v2}"
   ],
   "metadata": {
    "collapsed": false,
    "pycharm": {
     "name": "#%%\n"
    }
   }
  },
  {
   "cell_type": "code",
   "execution_count": 387,
   "outputs": [
    {
     "data": {
      "text/plain": "   session_id           timestamp  user_id  product_id   event_type  \\\n0      100002 2021-04-01 15:52:47    102.0      1234.0  BUY_PRODUCT   \n1      100003 2021-04-01 02:26:23    102.0      1289.0  BUY_PRODUCT   \n2      100004 2021-01-03 05:11:17    102.0      1009.0  BUY_PRODUCT   \n3      100006 2021-02-13 09:17:52    102.0      1057.0  BUY_PRODUCT   \n4      100007 2021-01-15 15:42:34    102.0      1072.0  BUY_PRODUCT   \n\n   offered_discount  purchase_id  purchase_timestamp  \\\n0                 0      20001.0 2021-04-01 15:52:47   \n1                15      20002.0 2021-04-01 02:26:23   \n2                 0      20003.0 2021-01-03 05:11:17   \n3                 5      20005.0 2021-02-13 09:17:52   \n4                 0      20006.0 2021-01-15 15:42:34   \n\n          delivery_timestamp  delivery_company        time_difference  \\\n0 2021-04-02 14:06:34.432964               620 0 days 22:13:47.432964   \n1 2021-04-02 10:45:27.707128               360 1 days 08:19:04.707128   \n2 2021-01-04 15:43:07.635371               620 1 days 10:31:50.635371   \n3 2021-02-15 08:59:28.973167               620 1 days 23:41:36.973167   \n4 2021-01-16 18:09:23.624555               516 1 days 02:26:49.624555   \n\n         time[s]    time[h]           name    city                   street  \\\n0   80027.432964  22.229842  Aurelia Malon  Police  pl. Brzoskwiniowa 11/53   \n1  116344.707128  32.317974  Aurelia Malon  Police  pl. Brzoskwiniowa 11/53   \n2  124310.635371  34.530732  Aurelia Malon  Police  pl. Brzoskwiniowa 11/53   \n3  171696.973167  47.693604  Aurelia Malon  Police  pl. Brzoskwiniowa 11/53   \n4   95209.624555  26.447118  Aurelia Malon  Police  pl. Brzoskwiniowa 11/53   \n\n                 product_name  \\\n0              Sony DVP-SR760   \n1             Philips SDV5225   \n2  Kinect Joy Ride (Xbox 360)   \n3                 Doom 3 (PC)   \n4               Jabra Freeway   \n\n                                       category_path        price  \n0                   Sprzęt RTV;Video;Odtwarzacze DVD       193.00  \n1  Sprzęt RTV;Video;Telewizory i akcesoria;Anteny...       129.00  \n2          Gry i konsole;Gry na konsole;Gry Xbox 360  69000000.00  \n3                      Gry i konsole;Gry komputerowe        19.99  \n4  Telefony i akcesoria;Akcesoria telefoniczne;Ze...       299.00  ",
      "text/html": "<div>\n<style scoped>\n    .dataframe tbody tr th:only-of-type {\n        vertical-align: middle;\n    }\n\n    .dataframe tbody tr th {\n        vertical-align: top;\n    }\n\n    .dataframe thead th {\n        text-align: right;\n    }\n</style>\n<table border=\"1\" class=\"dataframe\">\n  <thead>\n    <tr style=\"text-align: right;\">\n      <th></th>\n      <th>session_id</th>\n      <th>timestamp</th>\n      <th>user_id</th>\n      <th>product_id</th>\n      <th>event_type</th>\n      <th>offered_discount</th>\n      <th>purchase_id</th>\n      <th>purchase_timestamp</th>\n      <th>delivery_timestamp</th>\n      <th>delivery_company</th>\n      <th>time_difference</th>\n      <th>time[s]</th>\n      <th>time[h]</th>\n      <th>name</th>\n      <th>city</th>\n      <th>street</th>\n      <th>product_name</th>\n      <th>category_path</th>\n      <th>price</th>\n    </tr>\n  </thead>\n  <tbody>\n    <tr>\n      <th>0</th>\n      <td>100002</td>\n      <td>2021-04-01 15:52:47</td>\n      <td>102.0</td>\n      <td>1234.0</td>\n      <td>BUY_PRODUCT</td>\n      <td>0</td>\n      <td>20001.0</td>\n      <td>2021-04-01 15:52:47</td>\n      <td>2021-04-02 14:06:34.432964</td>\n      <td>620</td>\n      <td>0 days 22:13:47.432964</td>\n      <td>80027.432964</td>\n      <td>22.229842</td>\n      <td>Aurelia Malon</td>\n      <td>Police</td>\n      <td>pl. Brzoskwiniowa 11/53</td>\n      <td>Sony DVP-SR760</td>\n      <td>Sprzęt RTV;Video;Odtwarzacze DVD</td>\n      <td>193.00</td>\n    </tr>\n    <tr>\n      <th>1</th>\n      <td>100003</td>\n      <td>2021-04-01 02:26:23</td>\n      <td>102.0</td>\n      <td>1289.0</td>\n      <td>BUY_PRODUCT</td>\n      <td>15</td>\n      <td>20002.0</td>\n      <td>2021-04-01 02:26:23</td>\n      <td>2021-04-02 10:45:27.707128</td>\n      <td>360</td>\n      <td>1 days 08:19:04.707128</td>\n      <td>116344.707128</td>\n      <td>32.317974</td>\n      <td>Aurelia Malon</td>\n      <td>Police</td>\n      <td>pl. Brzoskwiniowa 11/53</td>\n      <td>Philips SDV5225</td>\n      <td>Sprzęt RTV;Video;Telewizory i akcesoria;Anteny...</td>\n      <td>129.00</td>\n    </tr>\n    <tr>\n      <th>2</th>\n      <td>100004</td>\n      <td>2021-01-03 05:11:17</td>\n      <td>102.0</td>\n      <td>1009.0</td>\n      <td>BUY_PRODUCT</td>\n      <td>0</td>\n      <td>20003.0</td>\n      <td>2021-01-03 05:11:17</td>\n      <td>2021-01-04 15:43:07.635371</td>\n      <td>620</td>\n      <td>1 days 10:31:50.635371</td>\n      <td>124310.635371</td>\n      <td>34.530732</td>\n      <td>Aurelia Malon</td>\n      <td>Police</td>\n      <td>pl. Brzoskwiniowa 11/53</td>\n      <td>Kinect Joy Ride (Xbox 360)</td>\n      <td>Gry i konsole;Gry na konsole;Gry Xbox 360</td>\n      <td>69000000.00</td>\n    </tr>\n    <tr>\n      <th>3</th>\n      <td>100006</td>\n      <td>2021-02-13 09:17:52</td>\n      <td>102.0</td>\n      <td>1057.0</td>\n      <td>BUY_PRODUCT</td>\n      <td>5</td>\n      <td>20005.0</td>\n      <td>2021-02-13 09:17:52</td>\n      <td>2021-02-15 08:59:28.973167</td>\n      <td>620</td>\n      <td>1 days 23:41:36.973167</td>\n      <td>171696.973167</td>\n      <td>47.693604</td>\n      <td>Aurelia Malon</td>\n      <td>Police</td>\n      <td>pl. Brzoskwiniowa 11/53</td>\n      <td>Doom 3 (PC)</td>\n      <td>Gry i konsole;Gry komputerowe</td>\n      <td>19.99</td>\n    </tr>\n    <tr>\n      <th>4</th>\n      <td>100007</td>\n      <td>2021-01-15 15:42:34</td>\n      <td>102.0</td>\n      <td>1072.0</td>\n      <td>BUY_PRODUCT</td>\n      <td>0</td>\n      <td>20006.0</td>\n      <td>2021-01-15 15:42:34</td>\n      <td>2021-01-16 18:09:23.624555</td>\n      <td>516</td>\n      <td>1 days 02:26:49.624555</td>\n      <td>95209.624555</td>\n      <td>26.447118</td>\n      <td>Aurelia Malon</td>\n      <td>Police</td>\n      <td>pl. Brzoskwiniowa 11/53</td>\n      <td>Jabra Freeway</td>\n      <td>Telefony i akcesoria;Akcesoria telefoniczne;Ze...</td>\n      <td>299.00</td>\n    </tr>\n  </tbody>\n</table>\n</div>"
     },
     "execution_count": 387,
     "metadata": {},
     "output_type": "execute_result"
    }
   ],
   "source": [
    "# Łączenie tabel w jedną tabelę\n",
    "\n",
    "deliveries_v2[\"purchase_timestamp\"] = pd.to_datetime ( deliveries_v2[\"purchase_timestamp\"], format='%Y-%m-%dT%H:%M', errors=\"coerce\")\n",
    "deliveries_v2['delivery_timestamp'] = pd.to_datetime ( deliveries_v2[\"delivery_timestamp\"], format='%Y-%m-%dT%H:%M:%S', errors=\"coerce\")\n",
    "deliveries_v2[\"time_difference\"] = deliveries_v2[\"delivery_timestamp\"] - deliveries_v2[\"purchase_timestamp\"]\n",
    "\n",
    "deliveries_v2[\"time[s]\"]=deliveries_v2[\"time_difference\"].apply(lambda time_delta: time_delta.total_seconds())\n",
    "deliveries_v2[\"time[h]\"]=deliveries_v2[\"time_difference\"].apply(lambda x: x.total_seconds()/(60*60))\n",
    "\n",
    "sessions_purchases = sessions_v2[sessions_v2[\"purchase_id\"].notnull()].copy()\n",
    "merged = pd.merge(sessions_purchases, deliveries_v2, on='purchase_id', how = \"outer\")\n",
    "merged2 = pd.merge(merged, users_v2, on=\"user_id\", how = \"outer\")\n",
    "merged_full = pd.merge(merged2, products_v2, on=\"product_id\", how = \"left\")\n",
    "merged_full.head()"
   ],
   "metadata": {
    "collapsed": false,
    "pycharm": {
     "name": "#%%\n"
    }
   }
  },
  {
   "cell_type": "markdown",
   "source": [
    "### Sprawdzenie poprzednich problemów"
   ],
   "metadata": {
    "collapsed": false
   }
  },
  {
   "cell_type": "markdown",
   "source": [
    "#### Braki danych"
   ],
   "metadata": {
    "collapsed": false
   }
  },
  {
   "cell_type": "code",
   "execution_count": 388,
   "outputs": [
    {
     "name": "stdout",
     "output_type": "stream",
     "text": [
      "products :\n",
      " product_id       0\n",
      "product_name     0\n",
      "category_path    0\n",
      "price            0\n",
      "dtype: int64 \n",
      "\n",
      "sessions :\n",
      " session_id              0\n",
      "timestamp               0\n",
      "user_id              1915\n",
      "product_id           1913\n",
      "event_type              0\n",
      "offered_discount        0\n",
      "purchase_id         30697\n",
      "dtype: int64 \n",
      "\n",
      "users :\n",
      " user_id    0\n",
      "name       0\n",
      "city       0\n",
      "street     0\n",
      "dtype: int64 \n",
      "\n",
      "deliveries :\n",
      " purchase_id             0\n",
      "purchase_timestamp      0\n",
      "delivery_timestamp    333\n",
      "delivery_company      329\n",
      "time_difference       333\n",
      "dtype: int64 \n",
      "\n"
     ]
    }
   ],
   "source": [
    "for key, value in data_v1.items():\n",
    "  print(key, \":\\n\", value.isnull().sum(), \"\\n\")"
   ],
   "metadata": {
    "collapsed": false,
    "pycharm": {
     "name": "#%%\n"
    }
   }
  },
  {
   "cell_type": "code",
   "execution_count": 389,
   "outputs": [
    {
     "name": "stdout",
     "output_type": "stream",
     "text": [
      "products :\n",
      " product_id       0\n",
      "product_name     0\n",
      "category_path    0\n",
      "price            0\n",
      "dtype: int64 \n",
      "\n",
      "sessions :\n",
      " session_id              0\n",
      "timestamp               0\n",
      "user_id              2174\n",
      "product_id           2101\n",
      "event_type              0\n",
      "offered_discount        0\n",
      "purchase_id         35071\n",
      "dtype: int64 \n",
      "\n",
      "users :\n",
      " user_id    0\n",
      "name       0\n",
      "city       0\n",
      "street     0\n",
      "dtype: int64 \n",
      "\n",
      "deliveries :\n",
      " purchase_id           0\n",
      "purchase_timestamp    0\n",
      "delivery_timestamp    0\n",
      "delivery_company      0\n",
      "time_difference       0\n",
      "time[s]               0\n",
      "time[h]               0\n",
      "dtype: int64 \n",
      "\n"
     ]
    }
   ],
   "source": [
    "for key, value in data_v2.items():\n",
    "  print(key, \":\\n\", value.isnull().sum(), \"\\n\")\n"
   ],
   "metadata": {
    "collapsed": false,
    "pycharm": {
     "name": "#%%\n"
    }
   }
  },
  {
   "cell_type": "markdown",
   "source": [
    "Braki w kluczowej tabeli „deliveries\" zostały uzupełnione. Zwiększyła się liczba braków w tabeli „sessions\", ale\n",
    "nie powinno być to dla nas problemem, ponieważ te dane wydają się mało istotne dla naszego problemu.\n"
   ],
   "metadata": {
    "collapsed": false
   }
  },
  {
   "cell_type": "code",
   "execution_count": 390,
   "outputs": [
    {
     "name": "stdout",
     "output_type": "stream",
     "text": [
      "session_id : 0\n",
      "timestamp : 0\n",
      "user_id : 402\n",
      "product_id : 384\n",
      "event_type : 0\n",
      "offered_discount : 0\n",
      "purchase_id : 0\n",
      "purchase_timestamp : 0\n",
      "delivery_timestamp : 0\n",
      "delivery_company : 0\n",
      "time_difference : 0\n",
      "time[s] : 0\n",
      "time[h] : 0\n",
      "name : 402\n",
      "city : 402\n",
      "street : 402\n",
      "product_name : 384\n",
      "category_path : 384\n",
      "price : 384\n"
     ]
    }
   ],
   "source": [
    "for key, value in merged_full.items():\n",
    "  print(key, \":\", value.isnull().sum())\n"
   ],
   "metadata": {
    "collapsed": false,
    "pycharm": {
     "name": "#%%\n"
    }
   }
  },
  {
   "cell_type": "markdown",
   "source": [
    "Po połączeniu wszystkich dostępnych danych w jedną tabelę widać, że do 402 dostaw brakuje kluczowych informacji o\n",
    "adresie dostawy (wynika to z braków w tabeli sessions, gdzie w miejscu id użytkownika była wartość pusta).\n",
    "To dość niewiele rekordów w porównaniu z całym rozmiarem zbioru danych, więc jeśli nie będzie możliwości ich uzupełnienia,\n",
    "to będzie można po prostu zrezygnować z tych wierszy i nie wykorzystywać ich do predykcji."
   ],
   "metadata": {
    "collapsed": false
   }
  },
  {
   "cell_type": "markdown",
   "source": [
    "#### Błędy danych"
   ],
   "metadata": {
    "collapsed": false,
    "pycharm": {
     "name": "#%% md\n"
    }
   }
  },
  {
   "cell_type": "markdown",
   "source": [
    "##### Ujemne czasy dostawy"
   ],
   "metadata": {
    "collapsed": false,
    "pycharm": {
     "name": "#%% md\n"
    }
   }
  },
  {
   "cell_type": "code",
   "execution_count": 391,
   "outputs": [
    {
     "data": {
      "text/plain": "0"
     },
     "execution_count": 391,
     "metadata": {},
     "output_type": "execute_result"
    }
   ],
   "source": [
    "len(deliveries_v2[deliveries_v2[\"purchase_timestamp\"] > deliveries_v2[\"delivery_timestamp\"]])"
   ],
   "metadata": {
    "collapsed": false,
    "pycharm": {
     "name": "#%%\n"
    }
   }
  },
  {
   "cell_type": "markdown",
   "source": [
    "##### Nocne dostawy"
   ],
   "metadata": {
    "collapsed": false
   }
  },
  {
   "cell_type": "code",
   "execution_count": 392,
   "outputs": [
    {
     "name": "stdout",
     "output_type": "stream",
     "text": [
      "0\n"
     ]
    }
   ],
   "source": [
    "night_deliveries = pd.DataFrame({\"id\": deliveries_v2[\"purchase_id\"].to_list()}, index=pd.DatetimeIndex(deliveries_v2[\"delivery_timestamp\"])).between_time(\"22:00\", \"6:00\")\n",
    "print(len(night_deliveries))"
   ],
   "metadata": {
    "collapsed": false,
    "pycharm": {
     "name": "#%%\n"
    }
   }
  },
  {
   "cell_type": "markdown",
   "source": [
    "##### Dostawy w niedziele"
   ],
   "metadata": {
    "collapsed": false
   }
  },
  {
   "cell_type": "code",
   "execution_count": 393,
   "outputs": [
    {
     "data": {
      "text/plain": "<Figure size 1440x720 with 0 Axes>"
     },
     "metadata": {},
     "output_type": "display_data"
    },
    {
     "data": {
      "text/plain": "<Figure size 360x360 with 1 Axes>",
      "image/png": "[encoded data removed]"
     },
     "metadata": {
      "needs_background": "light"
     },
     "output_type": "display_data"
    }
   ],
   "source": [
    "preped = deliveries_v2.copy()\n",
    "preped[\"delivery_weekday\"]=preped['delivery_timestamp'].apply(lambda x: x.weekday())\n",
    "\n",
    "plt.figure(figsize=(20,10))\n",
    "sns.displot(preped[\"delivery_weekday\"])\n",
    "plt.show()"
   ],
   "metadata": {
    "collapsed": false,
    "pycharm": {
     "name": "#%%\n"
    }
   }
  },
  {
   "cell_type": "markdown",
   "source": [
    "##### Krótkie dostawy"
   ],
   "metadata": {
    "collapsed": false
   }
  },
  {
   "cell_type": "code",
   "execution_count": 394,
   "outputs": [
    {
     "data": {
      "text/plain": "65"
     },
     "execution_count": 394,
     "metadata": {},
     "output_type": "execute_result"
    }
   ],
   "source": [
    "quick_deliveries = merged_full[merged_full[\"time[h]\"]< 12]\n",
    "len(quick_deliveries)"
   ],
   "metadata": {
    "collapsed": false,
    "pycharm": {
     "name": "#%%\n"
    }
   }
  },
  {
   "cell_type": "code",
   "execution_count": 395,
   "outputs": [
    {
     "data": {
      "text/plain": "array([nan, 'Police', 'Mielec', 'Kutno'], dtype=object)"
     },
     "execution_count": 395,
     "metadata": {},
     "output_type": "execute_result"
    }
   ],
   "source": [
    "quick_deliveries[\"city\"].unique()"
   ],
   "metadata": {
    "collapsed": false,
    "pycharm": {
     "name": "#%%\n"
    }
   }
  },
  {
   "cell_type": "markdown",
   "source": [
    "##### Podsumowanie analizy błędów danych"
   ],
   "metadata": {
    "collapsed": false
   }
  },
  {
   "cell_type": "markdown",
   "source": [
    "Znalezione błędy zostały poprawione. Widać, że dostawy w poniedziałki występują teraz około dwóch razy częściej\n",
    "niż te w inne dni tygodnia. Krótkie czasy dostawy (poniżej dwunastu godzin) nadal występują, ale jest to niecały procent danych.\n",
    "Występują one w 4 różnych miastach w Polsce,\n",
    "co wraz z informacją o jednym miejscu wysyłki brzmi co najmniej mało prawdopodobnie. Jest tych danych jednak tak mało,\n",
    "że istnieje możliwość pominięcia ich w przyszłych procesach."
   ],
   "metadata": {
    "collapsed": false
   }
  },
  {
   "cell_type": "markdown",
   "source": [
    "### Reprezentatywność"
   ],
   "metadata": {
    "collapsed": false,
    "pycharm": {
     "name": "#%% md\n"
    }
   }
  },
  {
   "cell_type": "code",
   "execution_count": 396,
   "outputs": [
    {
     "data": {
      "text/plain": "array(['Police', nan, 'Mielec', 'Szczecin', 'Warszawa', 'Radom', 'Kutno',\n       'Gdynia', 'Konin'], dtype=object)"
     },
     "execution_count": 396,
     "metadata": {},
     "output_type": "execute_result"
    }
   ],
   "source": [
    "merged_full[\"city\"].unique()"
   ],
   "metadata": {
    "collapsed": false,
    "pycharm": {
     "name": "#%%\n"
    }
   }
  },
  {
   "cell_type": "code",
   "execution_count": 397,
   "outputs": [
    {
     "data": {
      "text/plain": "array(['Police', 'Mielec', 'Szczecin', 'Warszawa', 'Radom', 'Kutno',\n       'Gdynia', 'Konin'], dtype=object)"
     },
     "execution_count": 397,
     "metadata": {},
     "output_type": "execute_result"
    }
   ],
   "source": [
    "users_v2[\"city\"].unique()"
   ],
   "metadata": {
    "collapsed": false,
    "pycharm": {
     "name": "#%%\n"
    }
   }
  },
  {
   "cell_type": "markdown",
   "source": [
    "Wydaje się, że mamy dane dotyczące wszystkich interesujących nas miejsc dostaw, jednak warto byłoby się upewnić,\n",
    "czy firma faktycznie działa tylko w tych 8 miastach."
   ],
   "metadata": {
    "collapsed": false
   }
  },
  {
   "cell_type": "code",
   "execution_count": 398,
   "outputs": [
    {
     "name": "stdout",
     "output_type": "stream",
     "text": [
      "Police:1181\n",
      "nan:0\n",
      "Mielec:761\n",
      "Szczecin:1118\n",
      "Warszawa:1045\n",
      "Radom:1005\n",
      "Kutno:575\n",
      "Gdynia:711\n",
      "Konin:1014\n",
      "NaN:402\n"
     ]
    }
   ],
   "source": [
    "cities = merged_full[\"city\"].unique().tolist()\n",
    "cities_count = [(city, len(merged_full[merged_full[\"city\"]==city])) for city in cities]\n",
    "cities_count.append((\"NaN\", len(merged_full[merged_full[\"city\"].isnull()])))\n",
    "for c, n in cities_count:\n",
    "  print(f\"{c}:{n}\")"
   ],
   "metadata": {
    "collapsed": false,
    "pycharm": {
     "name": "#%%\n"
    }
   }
  },
  {
   "cell_type": "markdown",
   "source": [
    "Położenie geograficzne odbiorców jest w miarę równomiernie rozłożone i nie powinno wywoływać problemów."
   ],
   "metadata": {
    "collapsed": false,
    "pycharm": {
     "name": "#%% md\n"
    }
   }
  },
  {
   "cell_type": "markdown",
   "source": [
    "W danych znajduje się adres danego użytkownika. Jest to jednak za mało reprezentatywny zbiór ulic.\n",
    "W dalszych etapach dobrym rozwiązaniem będzie zamiana konkretnych adresów na przykładowo kody pocztowe.\n",
    "Są one mniejszym zbiorem, obejmują sobą większe regiony niż ulice, ale jednocześnie są mniejszymi regionami niż całe miasta."
   ],
   "metadata": {
    "collapsed": false
   }
  },
  {
   "cell_type": "markdown",
   "source": [
    "### Ponowne sprawdzenie właściwości danych\n"
   ],
   "metadata": {
    "collapsed": false
   }
  },
  {
   "cell_type": "markdown",
   "source": [
    "#### Sprawdzenie nowego rozkładu czasu dostawy"
   ],
   "metadata": {
    "collapsed": false
   }
  },
  {
   "cell_type": "code",
   "execution_count": 399,
   "outputs": [
    {
     "data": {
      "text/plain": "<seaborn.axisgrid.FacetGrid at 0x291b5b9c520>"
     },
     "execution_count": 399,
     "metadata": {},
     "output_type": "execute_result"
    },
    {
     "data": {
      "text/plain": "<Figure size 1440x720 with 0 Axes>"
     },
     "metadata": {},
     "output_type": "display_data"
    },
    {
     "data": {
      "text/plain": "<Figure size 360x360 with 1 Axes>",
      "image/png": "[encoded data removed]"
     },
     "metadata": {
      "needs_background": "light"
     },
     "output_type": "display_data"
    }
   ],
   "source": [
    "plt.figure(figsize=(20,10))\n",
    "sns.displot(preped[\"time[h]\"]).set(title=\"Rozkład czasu dostawy\")\n"
   ],
   "metadata": {
    "collapsed": false,
    "pycharm": {
     "name": "#%%\n"
    }
   }
  },
  {
   "cell_type": "markdown",
   "source": [
    "Rozkład znacząco się zmienił. Maksymalna wartość sięga 120h, zamiast około 220h jak w poprzedniej wersji.\n",
    "Środek rozkładu przesunął się dalej od zera. Jest to bardziej prawdopodobny rozkład-godziny wyglądają na realne czasy\n",
    "dostaw w tej branży."
   ],
   "metadata": {
    "collapsed": false
   }
  },
  {
   "cell_type": "markdown",
   "source": [
    "#### Sprawdzenie ilości danych"
   ],
   "metadata": {
    "collapsed": false
   }
  },
  {
   "cell_type": "code",
   "execution_count": 400,
   "outputs": [
    {
     "name": "stdout",
     "output_type": "stream",
     "text": [
      "products  :  (319, 4)\n",
      "sessions  :  (42883, 7)\n",
      "users  :  (200, 4)\n",
      "deliveries  :  (7812, 7)\n"
     ]
    }
   ],
   "source": [
    "for key, value in data_v2.items():\n",
    "    print(key, \" : \", value.shape)"
   ],
   "metadata": {
    "collapsed": false,
    "pycharm": {
     "name": "#%%\n"
    }
   }
  },
  {
   "cell_type": "markdown",
   "source": [
    "Danych nadal jest zadowalająco dużo."
   ],
   "metadata": {
    "collapsed": false
   }
  },
  {
   "cell_type": "markdown",
   "source": [
    "#### Sprawdzenie rozkładu dostaw pomiędzy firmami"
   ],
   "metadata": {
    "collapsed": false
   }
  },
  {
   "cell_type": "code",
   "execution_count": 401,
   "outputs": [
    {
     "data": {
      "text/plain": "<Figure size 864x864 with 4 Axes>",
      "image/png": "[encoded data removed]"
     },
     "metadata": {
      "needs_background": "light"
     },
     "output_type": "display_data"
    }
   ],
   "source": [
    "companies = preped[\"delivery_company\"].unique()\n",
    "dfs = {\n",
    "    \"unknown\": preped[preped['delivery_company'].isna()][\"time[h]\"],\n",
    "    \"360\": preped[preped['delivery_company']==360][\"time[h]\"],\n",
    "    \"516\": preped[preped['delivery_company']==516][\"time[h]\"],\n",
    "    \"620\": preped[preped['delivery_company']==620][\"time[h]\"]\n",
    "}\n",
    "\n",
    "fgs, axes = plt.subplots(2, 2, figsize=(12,12))\n",
    "axs = [axes[i][j] for i in [0,1] for j in [0,1]]\n",
    "i=0\n",
    "for key, df in dfs.items():\n",
    "  sns.histplot(data = df, binwidth=1, ax = axs[i])\n",
    "  axs[i].title.set_text(key)\n",
    "  i+=1\n",
    "plt.show()"
   ],
   "metadata": {
    "collapsed": false,
    "pycharm": {
     "name": "#%%\n"
    }
   }
  },
  {
   "cell_type": "markdown",
   "source": [
    "Dane o brakujących firmach zostały uzupełnione. Dane w firmach bardziej się różnią-w związku tym zmienna oznaczająca\n",
    "firmę dostawczą prawdopodobnie będzie miała większy wpływ w modelowaniu.\n"
   ],
   "metadata": {
    "collapsed": false
   }
  },
  {
   "cell_type": "markdown",
   "source": [
    "### Sprawdzanie powiązań między zmiennymi i wstępny wybór danych wejściowych"
   ],
   "metadata": {
    "collapsed": false
   }
  },
  {
   "cell_type": "code",
   "execution_count": 402,
   "outputs": [
    {
     "name": "stderr",
     "output_type": "stream",
     "text": [
      "c:\\users\\szafer\\appdata\\local\\programs\\python\\python38\\lib\\site-packages\\sklearn\\metrics\\cluster\\_supervised.py:58: UserWarning: Clustering metrics expects discrete values but received multiclass values for label, and continuous values for target\n",
      "  warnings.warn(msg, UserWarning)\n",
      "c:\\users\\szafer\\appdata\\local\\programs\\python\\python38\\lib\\site-packages\\sklearn\\metrics\\cluster\\_supervised.py:58: UserWarning: Clustering metrics expects discrete values but received multiclass values for label, and continuous values for target\n",
      "  warnings.warn(msg, UserWarning)\n",
      "c:\\users\\szafer\\appdata\\local\\programs\\python\\python38\\lib\\site-packages\\sklearn\\metrics\\cluster\\_supervised.py:58: UserWarning: Clustering metrics expects discrete values but received multiclass values for label, and continuous values for target\n",
      "  warnings.warn(msg, UserWarning)\n",
      "c:\\users\\szafer\\appdata\\local\\programs\\python\\python38\\lib\\site-packages\\sklearn\\metrics\\cluster\\_supervised.py:58: UserWarning: Clustering metrics expects discrete values but received multiclass values for label, and continuous values for target\n",
      "  warnings.warn(msg, UserWarning)\n",
      "c:\\users\\szafer\\appdata\\local\\programs\\python\\python38\\lib\\site-packages\\sklearn\\metrics\\cluster\\_supervised.py:58: UserWarning: Clustering metrics expects discrete values but received multiclass values for label, and continuous values for target\n",
      "  warnings.warn(msg, UserWarning)\n",
      "c:\\users\\szafer\\appdata\\local\\programs\\python\\python38\\lib\\site-packages\\sklearn\\metrics\\cluster\\_supervised.py:58: UserWarning: Clustering metrics expects discrete values but received multiclass values for label, and continuous values for target\n",
      "  warnings.warn(msg, UserWarning)\n",
      "c:\\users\\szafer\\appdata\\local\\programs\\python\\python38\\lib\\site-packages\\sklearn\\metrics\\cluster\\_supervised.py:58: UserWarning: Clustering metrics expects discrete values but received multiclass values for label, and continuous values for target\n",
      "  warnings.warn(msg, UserWarning)\n",
      "c:\\users\\szafer\\appdata\\local\\programs\\python\\python38\\lib\\site-packages\\sklearn\\metrics\\cluster\\_supervised.py:58: UserWarning: Clustering metrics expects discrete values but received multiclass values for label, and continuous values for target\n",
      "  warnings.warn(msg, UserWarning)\n",
      "c:\\users\\szafer\\appdata\\local\\programs\\python\\python38\\lib\\site-packages\\sklearn\\metrics\\cluster\\_supervised.py:58: UserWarning: Clustering metrics expects discrete values but received multiclass values for label, and continuous values for target\n",
      "  warnings.warn(msg, UserWarning)\n",
      "c:\\users\\szafer\\appdata\\local\\programs\\python\\python38\\lib\\site-packages\\sklearn\\metrics\\cluster\\_supervised.py:58: UserWarning: Clustering metrics expects discrete values but received multiclass values for label, and continuous values for target\n",
      "  warnings.warn(msg, UserWarning)\n",
      "c:\\users\\szafer\\appdata\\local\\programs\\python\\python38\\lib\\site-packages\\sklearn\\metrics\\cluster\\_supervised.py:58: UserWarning: Clustering metrics expects discrete values but received multiclass values for label, and continuous values for target\n",
      "  warnings.warn(msg, UserWarning)\n",
      "c:\\users\\szafer\\appdata\\local\\programs\\python\\python38\\lib\\site-packages\\sklearn\\metrics\\cluster\\_supervised.py:58: UserWarning: Clustering metrics expects discrete values but received multiclass values for label, and continuous values for target\n",
      "  warnings.warn(msg, UserWarning)\n",
      "c:\\users\\szafer\\appdata\\local\\programs\\python\\python38\\lib\\site-packages\\sklearn\\metrics\\cluster\\_supervised.py:58: UserWarning: Clustering metrics expects discrete values but received binary values for label, and continuous values for target\n",
      "  warnings.warn(msg, UserWarning)\n",
      "c:\\users\\szafer\\appdata\\local\\programs\\python\\python38\\lib\\site-packages\\sklearn\\metrics\\cluster\\_supervised.py:58: UserWarning: Clustering metrics expects discrete values but received binary values for label, and continuous values for target\n",
      "  warnings.warn(msg, UserWarning)\n",
      "c:\\users\\szafer\\appdata\\local\\programs\\python\\python38\\lib\\site-packages\\sklearn\\metrics\\cluster\\_supervised.py:58: UserWarning: Clustering metrics expects discrete values but received binary values for label, and continuous values for target\n",
      "  warnings.warn(msg, UserWarning)\n",
      "c:\\users\\szafer\\appdata\\local\\programs\\python\\python38\\lib\\site-packages\\sklearn\\metrics\\cluster\\_supervised.py:58: UserWarning: Clustering metrics expects discrete values but received multiclass values for label, and continuous values for target\n",
      "  warnings.warn(msg, UserWarning)\n",
      "c:\\users\\szafer\\appdata\\local\\programs\\python\\python38\\lib\\site-packages\\sklearn\\metrics\\cluster\\_supervised.py:58: UserWarning: Clustering metrics expects discrete values but received multiclass values for label, and continuous values for target\n",
      "  warnings.warn(msg, UserWarning)\n",
      "c:\\users\\szafer\\appdata\\local\\programs\\python\\python38\\lib\\site-packages\\sklearn\\metrics\\cluster\\_supervised.py:58: UserWarning: Clustering metrics expects discrete values but received multiclass values for label, and continuous values for target\n",
      "  warnings.warn(msg, UserWarning)\n",
      "c:\\users\\szafer\\appdata\\local\\programs\\python\\python38\\lib\\site-packages\\sklearn\\metrics\\cluster\\_supervised.py:58: UserWarning: Clustering metrics expects discrete values but received multiclass values for label, and continuous values for target\n",
      "  warnings.warn(msg, UserWarning)\n",
      "c:\\users\\szafer\\appdata\\local\\programs\\python\\python38\\lib\\site-packages\\sklearn\\metrics\\cluster\\_supervised.py:58: UserWarning: Clustering metrics expects discrete values but received multiclass values for label, and continuous values for target\n",
      "  warnings.warn(msg, UserWarning)\n",
      "c:\\users\\szafer\\appdata\\local\\programs\\python\\python38\\lib\\site-packages\\sklearn\\metrics\\cluster\\_supervised.py:58: UserWarning: Clustering metrics expects discrete values but received multiclass values for label, and continuous values for target\n",
      "  warnings.warn(msg, UserWarning)\n",
      "c:\\users\\szafer\\appdata\\local\\programs\\python\\python38\\lib\\site-packages\\sklearn\\metrics\\cluster\\_supervised.py:58: UserWarning: Clustering metrics expects discrete values but received multiclass values for label, and continuous values for target\n",
      "  warnings.warn(msg, UserWarning)\n",
      "c:\\users\\szafer\\appdata\\local\\programs\\python\\python38\\lib\\site-packages\\sklearn\\metrics\\cluster\\_supervised.py:58: UserWarning: Clustering metrics expects discrete values but received multiclass values for label, and continuous values for target\n",
      "  warnings.warn(msg, UserWarning)\n",
      "c:\\users\\szafer\\appdata\\local\\programs\\python\\python38\\lib\\site-packages\\sklearn\\metrics\\cluster\\_supervised.py:58: UserWarning: Clustering metrics expects discrete values but received multiclass values for label, and continuous values for target\n",
      "  warnings.warn(msg, UserWarning)\n",
      "c:\\users\\szafer\\appdata\\local\\programs\\python\\python38\\lib\\site-packages\\sklearn\\metrics\\cluster\\_supervised.py:58: UserWarning: Clustering metrics expects discrete values but received multiclass values for label, and continuous values for target\n",
      "  warnings.warn(msg, UserWarning)\n",
      "c:\\users\\szafer\\appdata\\local\\programs\\python\\python38\\lib\\site-packages\\sklearn\\metrics\\cluster\\_supervised.py:58: UserWarning: Clustering metrics expects discrete values but received multiclass values for label, and continuous values for target\n",
      "  warnings.warn(msg, UserWarning)\n",
      "c:\\users\\szafer\\appdata\\local\\programs\\python\\python38\\lib\\site-packages\\sklearn\\metrics\\cluster\\_supervised.py:58: UserWarning: Clustering metrics expects discrete values but received multiclass values for label, and continuous values for target\n",
      "  warnings.warn(msg, UserWarning)\n",
      "c:\\users\\szafer\\appdata\\local\\programs\\python\\python38\\lib\\site-packages\\sklearn\\metrics\\cluster\\_supervised.py:58: UserWarning: Clustering metrics expects discrete values but received multiclass values for label, and continuous values for target\n",
      "  warnings.warn(msg, UserWarning)\n",
      "c:\\users\\szafer\\appdata\\local\\programs\\python\\python38\\lib\\site-packages\\sklearn\\metrics\\cluster\\_supervised.py:58: UserWarning: Clustering metrics expects discrete values but received multiclass values for label, and continuous values for target\n",
      "  warnings.warn(msg, UserWarning)\n",
      "c:\\users\\szafer\\appdata\\local\\programs\\python\\python38\\lib\\site-packages\\sklearn\\metrics\\cluster\\_supervised.py:58: UserWarning: Clustering metrics expects discrete values but received multiclass values for label, and continuous values for target\n",
      "  warnings.warn(msg, UserWarning)\n",
      "c:\\users\\szafer\\appdata\\local\\programs\\python\\python38\\lib\\site-packages\\sklearn\\metrics\\cluster\\_supervised.py:58: UserWarning: Clustering metrics expects discrete values but received continuous values for label, and continuous values for target\n",
      "  warnings.warn(msg, UserWarning)\n",
      "c:\\users\\szafer\\appdata\\local\\programs\\python\\python38\\lib\\site-packages\\sklearn\\metrics\\cluster\\_supervised.py:58: UserWarning: Clustering metrics expects discrete values but received continuous values for label, and continuous values for target\n",
      "  warnings.warn(msg, UserWarning)\n",
      "c:\\users\\szafer\\appdata\\local\\programs\\python\\python38\\lib\\site-packages\\sklearn\\metrics\\cluster\\_supervised.py:58: UserWarning: Clustering metrics expects discrete values but received continuous values for label, and multiclass values for target\n",
      "  warnings.warn(msg, UserWarning)\n",
      "c:\\users\\szafer\\appdata\\local\\programs\\python\\python38\\lib\\site-packages\\sklearn\\metrics\\cluster\\_supervised.py:58: UserWarning: Clustering metrics expects discrete values but received continuous values for label, and multiclass values for target\n",
      "  warnings.warn(msg, UserWarning)\n",
      "c:\\users\\szafer\\appdata\\local\\programs\\python\\python38\\lib\\site-packages\\sklearn\\metrics\\cluster\\_supervised.py:58: UserWarning: Clustering metrics expects discrete values but received continuous values for label, and multiclass values for target\n",
      "  warnings.warn(msg, UserWarning)\n",
      "c:\\users\\szafer\\appdata\\local\\programs\\python\\python38\\lib\\site-packages\\sklearn\\metrics\\cluster\\_supervised.py:58: UserWarning: Clustering metrics expects discrete values but received continuous values for label, and multiclass values for target\n",
      "  warnings.warn(msg, UserWarning)\n",
      "c:\\users\\szafer\\appdata\\local\\programs\\python\\python38\\lib\\site-packages\\sklearn\\metrics\\cluster\\_supervised.py:58: UserWarning: Clustering metrics expects discrete values but received continuous values for label, and multiclass values for target\n",
      "  warnings.warn(msg, UserWarning)\n",
      "c:\\users\\szafer\\appdata\\local\\programs\\python\\python38\\lib\\site-packages\\sklearn\\metrics\\cluster\\_supervised.py:58: UserWarning: Clustering metrics expects discrete values but received continuous values for label, and continuous values for target\n",
      "  warnings.warn(msg, UserWarning)\n",
      "c:\\users\\szafer\\appdata\\local\\programs\\python\\python38\\lib\\site-packages\\sklearn\\metrics\\cluster\\_supervised.py:58: UserWarning: Clustering metrics expects discrete values but received continuous values for label, and multiclass values for target\n",
      "  warnings.warn(msg, UserWarning)\n",
      "c:\\users\\szafer\\appdata\\local\\programs\\python\\python38\\lib\\site-packages\\sklearn\\metrics\\cluster\\_supervised.py:58: UserWarning: Clustering metrics expects discrete values but received continuous values for label, and continuous values for target\n",
      "  warnings.warn(msg, UserWarning)\n",
      "c:\\users\\szafer\\appdata\\local\\programs\\python\\python38\\lib\\site-packages\\sklearn\\metrics\\cluster\\_supervised.py:58: UserWarning: Clustering metrics expects discrete values but received continuous values for label, and multiclass values for target\n",
      "  warnings.warn(msg, UserWarning)\n",
      "c:\\users\\szafer\\appdata\\local\\programs\\python\\python38\\lib\\site-packages\\sklearn\\metrics\\cluster\\_supervised.py:58: UserWarning: Clustering metrics expects discrete values but received continuous values for label, and multiclass values for target\n",
      "  warnings.warn(msg, UserWarning)\n",
      "c:\\users\\szafer\\appdata\\local\\programs\\python\\python38\\lib\\site-packages\\sklearn\\metrics\\cluster\\_supervised.py:58: UserWarning: Clustering metrics expects discrete values but received continuous values for label, and multiclass values for target\n",
      "  warnings.warn(msg, UserWarning)\n",
      "c:\\users\\szafer\\appdata\\local\\programs\\python\\python38\\lib\\site-packages\\sklearn\\metrics\\cluster\\_supervised.py:58: UserWarning: Clustering metrics expects discrete values but received continuous values for label, and multiclass values for target\n",
      "  warnings.warn(msg, UserWarning)\n",
      "c:\\users\\szafer\\appdata\\local\\programs\\python\\python38\\lib\\site-packages\\sklearn\\metrics\\cluster\\_supervised.py:58: UserWarning: Clustering metrics expects discrete values but received continuous values for label, and multiclass values for target\n",
      "  warnings.warn(msg, UserWarning)\n",
      "c:\\users\\szafer\\appdata\\local\\programs\\python\\python38\\lib\\site-packages\\sklearn\\metrics\\cluster\\_supervised.py:58: UserWarning: Clustering metrics expects discrete values but received continuous values for label, and continuous values for target\n",
      "  warnings.warn(msg, UserWarning)\n",
      "c:\\users\\szafer\\appdata\\local\\programs\\python\\python38\\lib\\site-packages\\sklearn\\metrics\\cluster\\_supervised.py:58: UserWarning: Clustering metrics expects discrete values but received continuous values for label, and multiclass values for target\n",
      "  warnings.warn(msg, UserWarning)\n",
      "c:\\users\\szafer\\appdata\\local\\programs\\python\\python38\\lib\\site-packages\\sklearn\\metrics\\cluster\\_supervised.py:58: UserWarning: Clustering metrics expects discrete values but received multiclass values for label, and continuous values for target\n",
      "  warnings.warn(msg, UserWarning)\n",
      "c:\\users\\szafer\\appdata\\local\\programs\\python\\python38\\lib\\site-packages\\sklearn\\metrics\\cluster\\_supervised.py:58: UserWarning: Clustering metrics expects discrete values but received multiclass values for label, and continuous values for target\n",
      "  warnings.warn(msg, UserWarning)\n",
      "c:\\users\\szafer\\appdata\\local\\programs\\python\\python38\\lib\\site-packages\\sklearn\\metrics\\cluster\\_supervised.py:58: UserWarning: Clustering metrics expects discrete values but received multiclass values for label, and continuous values for target\n",
      "  warnings.warn(msg, UserWarning)\n",
      "c:\\users\\szafer\\appdata\\local\\programs\\python\\python38\\lib\\site-packages\\sklearn\\metrics\\cluster\\_supervised.py:58: UserWarning: Clustering metrics expects discrete values but received multiclass values for label, and continuous values for target\n",
      "  warnings.warn(msg, UserWarning)\n",
      "c:\\users\\szafer\\appdata\\local\\programs\\python\\python38\\lib\\site-packages\\sklearn\\metrics\\cluster\\_supervised.py:58: UserWarning: Clustering metrics expects discrete values but received multiclass values for label, and continuous values for target\n",
      "  warnings.warn(msg, UserWarning)\n",
      "c:\\users\\szafer\\appdata\\local\\programs\\python\\python38\\lib\\site-packages\\sklearn\\metrics\\cluster\\_supervised.py:58: UserWarning: Clustering metrics expects discrete values but received continuous values for label, and continuous values for target\n",
      "  warnings.warn(msg, UserWarning)\n",
      "c:\\users\\szafer\\appdata\\local\\programs\\python\\python38\\lib\\site-packages\\sklearn\\metrics\\cluster\\_supervised.py:58: UserWarning: Clustering metrics expects discrete values but received continuous values for label, and multiclass values for target\n",
      "  warnings.warn(msg, UserWarning)\n"
     ]
    },
    {
     "data": {
      "text/plain": "<AxesSubplot:>"
     },
     "execution_count": 402,
     "metadata": {},
     "output_type": "execute_result"
    },
    {
     "data": {
      "text/plain": "<Figure size 864x864 with 2 Axes>",
      "image/png": "[encoded data removed]"
     },
     "metadata": {
      "needs_background": "light"
     },
     "output_type": "display_data"
    }
   ],
   "source": [
    "from sklearn.metrics import mutual_info_score\n",
    "\n",
    "def calc_mutual_info_score(df):\n",
    "  attributes = df.columns.to_list()\n",
    "  scores = pd.DataFrame(data = np.zeros((len(attributes), len(attributes))), columns = attributes, index = attributes)\n",
    "  for i in range(len(attributes)):\n",
    "    for j in range(i, len(attributes)):\n",
    "      at1 = attributes[i]\n",
    "      at2 = attributes[j]\n",
    "      mi_score = mutual_info_score(df[at1], df[at2])\n",
    "      scores[at1][at2] = mi_score\n",
    "      scores[at2][at1] = mi_score\n",
    "  return scores\n",
    "\n",
    "#data prep\n",
    "merged_full[\"purchase_timestamp\"] = pd.to_datetime ( merged_full[\"purchase_timestamp\"], format='%Y-%m-%dT%H:%M', errors=\"coerce\")\n",
    "merged_full['delivery_timestamp'] = pd.to_datetime ( merged_full[\"delivery_timestamp\"], format='%Y-%m-%dT%H:%M:%S', errors=\"coerce\")\n",
    "merged_full[\"delivery_time[min]\"] = (merged_full['delivery_timestamp'] - merged_full[\"purchase_timestamp\"]).apply(lambda x: x.total_seconds()//60)\n",
    "temp = merged_full.drop(labels=[\"delivery_timestamp\"], axis=1)\n",
    "temp = temp.dropna()\n",
    "\n",
    "mi_scores = calc_mutual_info_score(temp)\n",
    "plt.figure(figsize=(12,12))\n",
    "sns.heatmap(mi_scores)"
   ],
   "metadata": {
    "collapsed": false,
    "pycharm": {
     "name": "#%%\n"
    }
   }
  },
  {
   "cell_type": "code",
   "execution_count": 403,
   "outputs": [
    {
     "name": "stdout",
     "output_type": "stream",
     "text": [
      "Identical timestamps for purchase and session:  7812\n",
      "Different session events:  1\n",
      "Different session_ids:  7812\n",
      "Different purchase_ids:  7812\n",
      "Different buy timestamps:  7809\n"
     ]
    }
   ],
   "source": [
    "print(\"Identical timestamps for purchase and session: \",len(merged_full[merged_full[\"timestamp\"] == merged_full[\"purchase_timestamp\"]]))\n",
    "print(\"Different session events: \", merged_full[\"event_type\"].nunique())\n",
    "print(\"Different session_ids: \", merged_full[\"session_id\"].nunique())\n",
    "print(\"Different purchase_ids: \", merged_full[\"purchase_id\"].nunique())\n",
    "print(\"Different buy timestamps: \", merged_full[\"timestamp\"].nunique())"
   ],
   "metadata": {
    "collapsed": false,
    "pycharm": {
     "name": "#%%\n"
    }
   }
  },
  {
   "cell_type": "code",
   "execution_count": 404,
   "outputs": [],
   "source": [
    "merged_full[\"purchase_day_of_week\"] = merged_full[\"purchase_timestamp\"].apply(lambda x: x.day_name())\n",
    "merged_full[\"purchase_hour\"] = merged_full[\"purchase_timestamp\"].apply(lambda x: x.hour)"
   ],
   "metadata": {
    "collapsed": false,
    "pycharm": {
     "name": "#%%\n"
    }
   }
  },
  {
   "cell_type": "markdown",
   "source": [
    "\n",
    "Ze zbioru danych wejściowych możemy na pewno na wstępie odrzucić atrybuty:\n",
    "- event_type, gdyż jest tylko jeden (\"BUY_EVENT\"),\n",
    "- session_id i purchase id, gdyż każdy zakup  ma je unikatowe,\n",
    "- timestamp, bo jest identyczny do purchase_timestamp, a nie potrzebujemy idealnie zduplikowanych danych,\n",
    "- purchase timestamp, bo przyjmuje niemal zawsze unikatowe wartości.\n",
    "\n",
    "Atrybuty \"timestamp\" i \"purchase_timestamp\" zastąpione zostaną atrybutami \"purchase_day_of_week\" (dzień tygodnia) i \"purchase_hour\" (godzina zakupu zaokrąglona w dół). Spodziewamy się że te zmienne pozwolą lepiej odzwierciedlić spodziewany dobowy i godzinowy trend w rozkładzie czasu dostay.\n",
    "\n",
    "Ponadto z danych usunięte też będą atrybuty user_id, name i street (która zawiera nie tylko ulicę, ale też numer bloku i mieszkania konkretnego użytkownika), ponieważ nie zawierają informacji, które będą się dobrze generalizować, a raczej te identyfikujące konkretnych użytkowników. Oczywiście adres to prawdopodobnie cenna informacja, przydatna do przewidzenia czasu dostawy, jednak będzie potrzebny na większym poziomie granulacji np. miast, ulic, a może rejonów związanych z kodami pocztowymi.\n",
    "\n",
    "Atrybuty, które planujemy pozostawić w modelu:\n",
    "product_id, offered_discount, delivery_company, city,\n",
    "product_name, category_path, price, purchase_day_of_week, purchase_hour.\n",
    "\n",
    "Atrybutem wyjściowym modelu będzie: delivery_time[min], obliczany z danych jako różnica czasu pomiędzy delivery_timestamp i purchase_timestamp, zaokrąglona do minut. Z tak wyliczonej różnicy czasowej będzie można później z łatwością wyliczyć przewidywany czas dostawy i zaprezentować klientowi."
   ],
   "metadata": {
    "collapsed": false
   }
  },
  {
   "cell_type": "code",
   "execution_count": 405,
   "outputs": [],
   "source": [
    "selected = merged_full[['product_id', 'offered_discount', 'delivery_company',\n",
    "                     'city', 'product_name', 'category_path', 'price',\n",
    "                     'purchase_day_of_week', 'purchase_hour', 'delivery_time[min]']]\n",
    "target = 'delivery_time[min]'"
   ],
   "metadata": {
    "collapsed": false,
    "pycharm": {
     "name": "#%%\n"
    }
   }
  },
  {
   "cell_type": "code",
   "execution_count": 406,
   "outputs": [
    {
     "name": "stderr",
     "output_type": "stream",
     "text": [
      "c:\\users\\szafer\\appdata\\local\\programs\\python\\python38\\lib\\site-packages\\sklearn\\metrics\\cluster\\_supervised.py:58: UserWarning: Clustering metrics expects discrete values but received multiclass values for label, and continuous values for target\n",
      "  warnings.warn(msg, UserWarning)\n",
      "c:\\users\\szafer\\appdata\\local\\programs\\python\\python38\\lib\\site-packages\\sklearn\\metrics\\cluster\\_supervised.py:58: UserWarning: Clustering metrics expects discrete values but received multiclass values for label, and continuous values for target\n",
      "  warnings.warn(msg, UserWarning)\n",
      "c:\\users\\szafer\\appdata\\local\\programs\\python\\python38\\lib\\site-packages\\sklearn\\metrics\\cluster\\_supervised.py:58: UserWarning: Clustering metrics expects discrete values but received multiclass values for label, and continuous values for target\n",
      "  warnings.warn(msg, UserWarning)\n",
      "c:\\users\\szafer\\appdata\\local\\programs\\python\\python38\\lib\\site-packages\\sklearn\\metrics\\cluster\\_supervised.py:58: UserWarning: Clustering metrics expects discrete values but received multiclass values for label, and continuous values for target\n",
      "  warnings.warn(msg, UserWarning)\n",
      "c:\\users\\szafer\\appdata\\local\\programs\\python\\python38\\lib\\site-packages\\sklearn\\metrics\\cluster\\_supervised.py:58: UserWarning: Clustering metrics expects discrete values but received multiclass values for label, and continuous values for target\n",
      "  warnings.warn(msg, UserWarning)\n",
      "c:\\users\\szafer\\appdata\\local\\programs\\python\\python38\\lib\\site-packages\\sklearn\\metrics\\cluster\\_supervised.py:58: UserWarning: Clustering metrics expects discrete values but received multiclass values for label, and continuous values for target\n",
      "  warnings.warn(msg, UserWarning)\n",
      "c:\\users\\szafer\\appdata\\local\\programs\\python\\python38\\lib\\site-packages\\sklearn\\metrics\\cluster\\_supervised.py:58: UserWarning: Clustering metrics expects discrete values but received continuous values for label, and continuous values for target\n",
      "  warnings.warn(msg, UserWarning)\n",
      "c:\\users\\szafer\\appdata\\local\\programs\\python\\python38\\lib\\site-packages\\sklearn\\metrics\\cluster\\_supervised.py:58: UserWarning: Clustering metrics expects discrete values but received continuous values for label, and multiclass values for target\n",
      "  warnings.warn(msg, UserWarning)\n",
      "c:\\users\\szafer\\appdata\\local\\programs\\python\\python38\\lib\\site-packages\\sklearn\\metrics\\cluster\\_supervised.py:58: UserWarning: Clustering metrics expects discrete values but received continuous values for label, and multiclass values for target\n",
      "  warnings.warn(msg, UserWarning)\n",
      "c:\\users\\szafer\\appdata\\local\\programs\\python\\python38\\lib\\site-packages\\sklearn\\metrics\\cluster\\_supervised.py:58: UserWarning: Clustering metrics expects discrete values but received continuous values for label, and multiclass values for target\n",
      "  warnings.warn(msg, UserWarning)\n"
     ]
    },
    {
     "data": {
      "text/plain": "<AxesSubplot:>"
     },
     "execution_count": 406,
     "metadata": {},
     "output_type": "execute_result"
    },
    {
     "data": {
      "text/plain": "<Figure size 864x864 with 2 Axes>",
      "image/png": "[encoded data removed]"
     },
     "metadata": {
      "needs_background": "light"
     },
     "output_type": "display_data"
    }
   ],
   "source": [
    "selected = selected.dropna()\n",
    "mi_scores = calc_mutual_info_score(selected)\n",
    "plt.figure(figsize=(12,12))\n",
    "sns.heatmap(mi_scores)"
   ],
   "metadata": {
    "collapsed": false,
    "pycharm": {
     "name": "#%%\n"
    }
   }
  },
  {
   "cell_type": "markdown",
   "source": [
    "### Drzewo decyzyjne"
   ],
   "metadata": {
    "collapsed": false
   }
  },
  {
   "cell_type": "code",
   "execution_count": 407,
   "outputs": [
    {
     "name": "stdout",
     "output_type": "stream",
     "text": [
      "Train Median absolute error: 780.3592599873348, test Median absolute error: 803.5931909169003\n"
     ]
    }
   ],
   "source": [
    "from sklearn.linear_model import LinearRegression\n",
    "from sklearn.model_selection import train_test_split\n",
    "from sklearn.metrics import median_absolute_error\n",
    "from sklearn.preprocessing import LabelEncoder\n",
    "\n",
    "\n",
    "x_train, x_test, y_train, y_test = train_test_split(\n",
    "    selected.drop(target, axis=1),selected[target], random_state=23, test_size=0.2)\n",
    "\n",
    "categoricals = x_train.select_dtypes(object).columns.to_list()\n",
    "encoder = LabelEncoder()\n",
    "for c in categoricals:\n",
    "  x_train.loc[:,c] = encoder.fit_transform(x_train[c].astype(str))\n",
    "  x_test.loc[:,c] = encoder.transform(x_test[c].astype(str))\n",
    "\n",
    "\n",
    "\n",
    "reg = LinearRegression()\n",
    "reg.fit(x_train, y_train)\n",
    "pred_train = reg.predict(x_train)\n",
    "pred_test = reg.predict(x_test)\n",
    "\n",
    "train_score = median_absolute_error(pred_train, y_train)\n",
    "test_score = median_absolute_error(pred_test, y_test)\n",
    "print(f'Train Median absolute error: {train_score}, test Median absolute error: {test_score}')"
   ],
   "metadata": {
    "collapsed": false,
    "pycharm": {
     "name": "#%%\n"
    }
   }
  },
  {
   "cell_type": "markdown",
   "source": [
    "### Wnioski i pytania"
   ],
   "metadata": {
    "collapsed": false
   }
  },
  {
   "cell_type": "markdown",
   "source": [
    "Dane uległy znaczącej poprawie, wyeliminowano większość znalezionych błędów.\n",
    "Nadal mamy problem z bardzo krótkimi czasami dostawy, ale jest to na tyle mało przypadków,\n",
    "że będzie możliwość rozważenia pominięcia ich przy procesie uczenia.\n",
    "\n",
    "Na podstawie kolejnej analizy pojawiły się nowe pytania:\n",
    "- Czy jest możliwość uzupełnienia brakujących informacji o adresach dostawy?\n",
    "- Czy firma działa tylko w miastach obecnych w danych?"
   ],
   "metadata": {
    "collapsed": false,
    "pycharm": {
     "name": "#%% md\n"
    }
   }
  }
 ]
}