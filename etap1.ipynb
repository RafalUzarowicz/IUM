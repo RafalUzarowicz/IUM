{
  "nbformat": 4,
  "nbformat_minor": 0,
  "metadata": {
    "kernelspec": {
      "display_name": "Python 3",
      "language": "python",
      "name": "python3"
    },
    "language_info": {
      "codemirror_mode": {
        "name": "ipython",
        "version": 2
      },
      "file_extension": ".py",
      "mimetype": "text/x-python",
      "name": "python",
      "nbconvert_exporter": "python",
      "pygments_lexer": "ipython2",
      "version": "2.7.6"
    },
    "colab": {
      "name": "etap1.ipynb",
      "provenance": [],
      "toc_visible": true
    }
  },
  "cells": [
    {
      "cell_type": "markdown",
      "metadata": {
        "collapsed": false,
        "id": "IWTXnmLJH3OD"
      },
      "source": [
        "## IUM - projekt\n",
        "#### Autorzy:\n",
        "Joanna Sokołowska, Rafał Uzarowicz\n",
        "#### Zadanie:\n",
        "3. \"Wygląda na to, że nasze firmy kurierskie czasami nie radzą sobie z dostawami. Gdybyśmy\n",
        "wiedzieli, ile taka dostawa dla danego zamówienia potrwa – moglibyśmy przekazywać tą\n",
        "informację klientom.\""
      ]
    },
    {
      "cell_type": "code",
      "metadata": {
        "pycharm": {
          "name": "#%%\n"
        },
        "id": "jFjTgQ84H3OE"
      },
      "source": [
        "# Ustawienie środowiska\n",
        "\n",
        "# Wstępne dane\n",
        "data_v1_dir =\"/content/drive/MyDrive/Data/IUM/\"\n",
        "\n",
        "deliveries_v1_path = data_v1_dir + \"deliveries.jsonl\"\n",
        "sessions_v1_path = data_v1_dir + \"sessions.jsonl\"\n",
        "users_v1_path = data_v1_dir + \"users.jsonl\"\n",
        "products_v1_path = data_v1_dir + \"products.jsonl\"\n",
        "\n",
        "# Pierwsza aktualizacja\n",
        "data_v2_dir =\"/content/drive/MyDrive/Data/IUM/V2/\"\n",
        "\n",
        "deliveries_v2_path = data_v2_dir + \"deliveries.jsonl\"\n",
        "sessions_v2_path = data_v2_dir + \"sessions.jsonl\"\n",
        "users_v2_path = data_v2_dir + \"users.jsonl\"\n",
        "products_v2_path = data_v2_dir + \"products.jsonl\"\n",
        "\n",
        "# Biblioteki\n",
        "import pandas as pd\n",
        "import numpy as np\n",
        "import matplotlib.pyplot as plt\n",
        "import seaborn as sns"
      ],
      "execution_count": 1,
      "outputs": []
    },
    {
      "cell_type": "markdown",
      "metadata": {
        "collapsed": false,
        "id": "HNt0wC7NH3OH"
      },
      "source": [
        "# Zadanie\n",
        "\n",
        "### Tło biznesowe\n",
        "\n",
        "**Zadanie biznesowe**:\n",
        "przewidywanie przybliżonego czasu dostawy produktu.\n",
        "\n",
        "**Biznesowe kryterium sukcesu:**\n",
        "przewidywany przez system czas dostawy nie powinien zbytnio odstawać od rzeczywistego czasu dostawy.\n",
        "Zastosowanie systemu powinno sprawiać, że użytkownicy lepiej oceniają swoje doświadczenia ze sklepem.\n",
        "\n",
        "\n",
        "### Model\n",
        "\n",
        "**Zadanie modelowania:**\n",
        "przewidywanie czasu dostawy przy użyciu regresji.\n",
        "\n",
        "**Analityczne kryterium sukcesu:**\n",
        "miara Median Absolute Error mniejsza niż 12h (720 min).\n",
        "Dokładna wartość została oszacowana poprzez zbudowanie bazowego modelu regresji liniowej, którego miara MAE wynosi ok. 804 minuty (13,4h) na zbiorze testowym.\n",
        "\n",
        "**Zmienna celu: **\n",
        "przybliżona liczba minut potrzebnych na dostawę produktu.\n"
      ]
    },
    {
      "cell_type": "markdown",
      "metadata": {
        "collapsed": false,
        "id": "ctGs27hXH3OJ"
      },
      "source": [
        "## Wstępne obserwacje dotyczące danych"
      ]
    },
    {
      "cell_type": "code",
      "metadata": {
        "pycharm": {
          "name": "#%%\n"
        },
        "id": "6KNrGcw6yi5y"
      },
      "source": [
        "deliveries_v1 = pd.read_json(deliveries_v1_path, lines=True)\n",
        "sessions_v1 = pd.read_json(sessions_v1_path, lines=True)\n",
        "users_v1 = pd.read_json(users_v1_path, lines=True)\n",
        "products_v1 = pd.read_json(products_v1_path, lines=True)\n",
        "\n",
        "data_v1 = {\"products\": products_v1, \"sessions\": sessions_v1, \"users\": users_v1, \"deliveries\":deliveries_v1}"
      ],
      "execution_count": 2,
      "outputs": []
    },
    {
      "cell_type": "markdown",
      "metadata": {
        "collapsed": false,
        "id": "qQwDjkWNyi50"
      },
      "source": [
        "### Krótki opis danych\n",
        "Dane, które dostaliśmy, dotyczą firmy internetowej sprzedającej elektronikę i gry komputerowe. Dostaliśmy bazę użytkowników,\n",
        " katalog produktów, historię sesji oraz dane dotyczące wysyłki zakupionych produktów. Ze względu na specyfikę problemu\n",
        " wydaje się, że jedynymi istotnymi informacjami będą te powiązane z samym transportem."
      ]
    },
    {
      "cell_type": "markdown",
      "metadata": {
        "collapsed": false,
        "id": "E_z--JGpyi51"
      },
      "source": [
        "### Przegląd dostępnych kolumn"
      ]
    },
    {
      "cell_type": "code",
      "metadata": {
        "pycharm": {
          "name": "#%%\n"
        },
        "colab": {
          "base_uri": "https://localhost:8080/"
        },
        "id": "Hd7Uhjmlyi52",
        "outputId": "814b2422-bc0d-49a3-8c37-75269e8e77e0"
      },
      "source": [
        "for key, value in data_v1.items():\n",
        "    print(key, \" : \", value.columns.tolist())"
      ],
      "execution_count": 3,
      "outputs": [
        {
          "output_type": "stream",
          "text": [
            "products  :  ['product_id', 'product_name', 'category_path', 'price']\n",
            "sessions  :  ['session_id', 'timestamp', 'user_id', 'product_id', 'event_type', 'offered_discount', 'purchase_id']\n",
            "users  :  ['user_id', 'name', 'city', 'street']\n",
            "deliveries  :  ['purchase_id', 'purchase_timestamp', 'delivery_timestamp', 'delivery_company']\n"
          ],
          "name": "stdout"
        }
      ]
    },
    {
      "cell_type": "code",
      "metadata": {
        "pycharm": {
          "name": "#%%\n"
        },
        "colab": {
          "base_uri": "https://localhost:8080/"
        },
        "id": "dRbqmNQ5yi55",
        "outputId": "645065d7-e384-4510-a6d9-3b23031f0adc"
      },
      "source": [
        "for key, value in data_v1.items():\n",
        "    for column in value.columns.tolist():\n",
        "        print(column, \" : \", data_v1[key][column].dtypes)"
      ],
      "execution_count": 4,
      "outputs": [
        {
          "output_type": "stream",
          "text": [
            "product_id  :  int64\n",
            "product_name  :  object\n",
            "category_path  :  object\n",
            "price  :  float64\n",
            "session_id  :  int64\n",
            "timestamp  :  datetime64[ns]\n",
            "user_id  :  float64\n",
            "product_id  :  float64\n",
            "event_type  :  object\n",
            "offered_discount  :  int64\n",
            "purchase_id  :  float64\n",
            "user_id  :  int64\n",
            "name  :  object\n",
            "city  :  object\n",
            "street  :  object\n",
            "purchase_id  :  int64\n",
            "purchase_timestamp  :  object\n",
            "delivery_timestamp  :  object\n",
            "delivery_company  :  float64\n"
          ],
          "name": "stdout"
        }
      ]
    },
    {
      "cell_type": "markdown",
      "metadata": {
        "collapsed": false,
        "id": "ObwN1Pmuyi59"
      },
      "source": [
        "#### Dane, które wydają się mieć największy wpływ na nasze zadanie:\n",
        "- adres użytkownika (może być konieczne dodanie do niego kolumny z kodem pocztowym - powinno dać to lepsze pojęcie o\n",
        "położeniu punktów dostaw w tym samym rejonie, dalszym przetworzeniem może być też odległość absolutna pomiędzy magazynem/miejscem wysyłki a adresem dostawy),\n",
        "- dane dt. czasu złożenia zamówienia (prawdopodobnie trzeba będzie je przekształcić w format bardziej nadający się do obróbki),\n",
        "- dane dt. czasu dostawy (atrybut, którego wartość będziemy próbowali przewidzieć  pośrednio tj. będziemy obliczać czas między złożeniem zamówienia a dostawą),\n",
        "- dane dt. firmy kurierskiej (firma prawdopodobnie będzie mocno wpływać na czas dostawy).\n",
        "\n",
        "#### Omówienie pozostałych danych:\n",
        "- session_id - raczej nieistotne, sesja nie powinna mieć wpływu na czas transportu,\n",
        "- timestamp z tabeli sessions - też raczej nieistotny, podobne informacje niesie timestamp zakupu produktu z tabeli deliveries,\n",
        "gdyż nie obchodzi nas jakie produkty przeglądał użytkownik, a tylko akcje kupna,\n",
        "- user_id - samo w sobie raczej nie niesie wartości, bo sklep internetowy raczej nie przyspiesza dostaw ze względu na osobę zamawiającego; może okazać się przydatny do łączenia z innymi tabelami (np. deliveries),\n",
        "- product_id - przydatne tylko do łączenia tabel,\n",
        "- event_type - raczej nieistotne, to co wykonywał użytkownik w sesji, nie ma wpływu na czas dostawy,\n",
        "- offered_discount - nie powinno mieć to wpływu na czas dostawy.\n",
        "- purchase_id - istotne do łączenia tabel,\n",
        "- name - nie będzie to miało wpływu na czas dostawy,\n",
        "- product_name - raczej nie powinno wpłynąć na czas dostawy,\n",
        "- category_path - może być o tyle ważne, że pewne produkty mogłyby być gabarytami, wtedy ich czas dostawy mógłby się znacznie różnic przez konieczność specjalnego ich traktowania,\n",
        "- price - cena sama w sobie raczej nie niesie informacji o czasie dostawy.\n",
        "\n",
        "#### Dane, które przydałoby się dostać:\n",
        "- dane dt. momentu i miejsca wysyłki produktów (czy zawsze wysyłane są z tego samego miejsca, czy istnieją jakieś opóźnienia),\n",
        "- dane dt. punktów pośrednich na drodze przesyłki (o ile istnieją) np. punktów spedycyjnych, magazynów,\n",
        "to potencjalnie mogłoby pozwolić na ulepszanie predykcji w trakcie podróży przesyłki i im bliżej celu, tym\n",
        "dokładniejsze dane można by było zaprezentować użytkownikowi."
      ]
    },
    {
      "cell_type": "markdown",
      "metadata": {
        "collapsed": false,
        "pycharm": {
          "name": "#%% md\n"
        },
        "id": "wRCIglFyyi6A"
      },
      "source": [
        "### Ogólne komentarze do tabel\n",
        "\n",
        "Tabela deliveries - zawarte w niej daty i godziny są prawdopodobnie bardzo ważne w budowie modelu, ale będą\n",
        "wymagały przetworzenia np. wydzielenia miesiąca, dnia, godziny, a może też dnia tygodnia.\n",
        "\n",
        "Tabela sessions - raczej nieważna, choć spodziewamy się, że może nieść nieco istotnych danych nt. obciążenia systemu\n",
        "w poszczególnych okresach, co prawdopodobnie wpływa na czas dostaw.\n",
        "\n",
        "Tabela products - przy wstępnej analizie nie wydaje się istotna, ale może da się na jej podstawie utworzyć nowe atrybuty\n",
        "bardziej przydatne dla problemu. Być może warto np. dodać do kolumny deliveries kolumnę zliczającą, ile przedmiotów\n",
        "jest w jednym zamówieniu - wielkość zamówienia może wpływać na możliwości firm kurierskich co do czasu dostawy.\n",
        "\n",
        "Tabela users - raczej ważna, bo mówi nam o adresie dostawy, a odległość od punktu wysyłki może znacząco wpływać na czas dostawy."
      ]
    },
    {
      "cell_type": "markdown",
      "metadata": {
        "collapsed": false,
        "pycharm": {
          "name": "#%% md\n"
        },
        "id": "PLNaEWIHH3OL"
      },
      "source": [
        "## Analiza pierwszej wersji danych"
      ]
    },
    {
      "cell_type": "markdown",
      "metadata": {
        "collapsed": false,
        "id": "bsYLPq2zyi6B"
      },
      "source": [
        "### Sprawdzenie ilości danych"
      ]
    },
    {
      "cell_type": "code",
      "metadata": {
        "pycharm": {
          "name": "#%%\n"
        },
        "colab": {
          "base_uri": "https://localhost:8080/"
        },
        "id": "hVP16qxvyi6B",
        "outputId": "e05012b7-d88b-4a72-d2cb-352d13b45b7f"
      },
      "source": [
        "for key, value in data_v1.items():\n",
        "    print(key, \" : \", value.shape)"
      ],
      "execution_count": 5,
      "outputs": [
        {
          "output_type": "stream",
          "text": [
            "products  :  (319, 4)\n",
            "sessions  :  (37690, 7)\n",
            "users  :  (200, 4)\n",
            "deliveries  :  (6993, 4)\n"
          ],
          "name": "stdout"
        }
      ]
    },
    {
      "cell_type": "markdown",
      "metadata": {
        "collapsed": false,
        "id": "bTH7nnI_yi6C"
      },
      "source": [
        "Ilościowo danych wydaje się dostatecznie dużo, w najbardziej interesującej nas tabeli (deliveries) jest niemal 7 tysięcy\n",
        "wierszy, co powinno być dość zarówno do wytrenowania, walidacji, jak i testowania modelu."
      ]
    },
    {
      "cell_type": "markdown",
      "metadata": {
        "collapsed": false,
        "id": "qhojy3pzyi6C"
      },
      "source": [
        "### Sprawdzenie jakości danych"
      ]
    },
    {
      "cell_type": "markdown",
      "metadata": {
        "collapsed": false,
        "id": "ebXyJTpByi6D"
      },
      "source": [
        "#### Sprawdzenie braków w danych"
      ]
    },
    {
      "cell_type": "code",
      "metadata": {
        "pycharm": {
          "name": "#%%\n"
        },
        "colab": {
          "base_uri": "https://localhost:8080/"
        },
        "id": "D3FpKZ5Nyi6D",
        "outputId": "49eb2357-a897-41cf-e7ba-7d0fa8b4696d"
      },
      "source": [
        "for key, value in data_v1.items():\n",
        "  print(key, \":\\n\", value.isnull().sum(), \"\\n\")"
      ],
      "execution_count": 6,
      "outputs": [
        {
          "output_type": "stream",
          "text": [
            "products :\n",
            " product_id       0\n",
            "product_name     0\n",
            "category_path    0\n",
            "price            0\n",
            "dtype: int64 \n",
            "\n",
            "sessions :\n",
            " session_id              0\n",
            "timestamp               0\n",
            "user_id              1915\n",
            "product_id           1913\n",
            "event_type              0\n",
            "offered_discount        0\n",
            "purchase_id         30697\n",
            "dtype: int64 \n",
            "\n",
            "users :\n",
            " user_id    0\n",
            "name       0\n",
            "city       0\n",
            "street     0\n",
            "dtype: int64 \n",
            "\n",
            "deliveries :\n",
            " purchase_id             0\n",
            "purchase_timestamp      0\n",
            "delivery_timestamp    333\n",
            "delivery_company      329\n",
            "dtype: int64 \n",
            "\n"
          ],
          "name": "stdout"
        }
      ]
    },
    {
      "cell_type": "markdown",
      "metadata": {
        "collapsed": false,
        "id": "pXpW7fBqyi6D"
      },
      "source": [
        "Brakujące dane w tabeli deliveries są raczej martwiące, dobrze by było jakby dało się je uzupełnić, jednak jeśli nie\n",
        "będzie to możliwe, to pozostałe dane powinny być wystarczające do wytrenowania modelu\n",
        "(maksymalnie 662 wiersze są wybrakowane, to poniżej 10% danych).\n",
        "\n",
        "Cieszy brak pustych wartości w tabelach dotyczących użytkowników, dzięki czemu nie powinno być problemu z nieznanymi adresami dostaw.\n",
        "\n",
        "Braki w tabeli sessions nie zaskakują - wynikają prawdopodobnie ze sposobu, w jaki są gromadzone dane,\n",
        "np. puste wartości w kolumnie purchase_id wynikają najpewniej z tego, że dany wiersz odpowiada wartości\n",
        "event_type innej niż BUY_PRODUCT."
      ]
    },
    {
      "cell_type": "markdown",
      "metadata": {
        "collapsed": false,
        "id": "0RIO1Lz7yi6E"
      },
      "source": [
        "#### Sprawdzenie błędów w danych"
      ]
    },
    {
      "cell_type": "markdown",
      "metadata": {
        "collapsed": false,
        "id": "J5N59KB9yi6E"
      },
      "source": [
        "##### Dane czasowe"
      ]
    },
    {
      "cell_type": "code",
      "metadata": {
        "pycharm": {
          "name": "#%%\n"
        },
        "colab": {
          "base_uri": "https://localhost:8080/",
          "height": 0
        },
        "id": "lBbGII00yi6E",
        "outputId": "2e5d4fe5-87ac-4466-b389-d65f8aa9935d"
      },
      "source": [
        "deliveries_v1.head()"
      ],
      "execution_count": 7,
      "outputs": [
        {
          "output_type": "execute_result",
          "data": {
            "text/html": [
              "<div>\n",
              "<style scoped>\n",
              "    .dataframe tbody tr th:only-of-type {\n",
              "        vertical-align: middle;\n",
              "    }\n",
              "\n",
              "    .dataframe tbody tr th {\n",
              "        vertical-align: top;\n",
              "    }\n",
              "\n",
              "    .dataframe thead th {\n",
              "        text-align: right;\n",
              "    }\n",
              "</style>\n",
              "<table border=\"1\" class=\"dataframe\">\n",
              "  <thead>\n",
              "    <tr style=\"text-align: right;\">\n",
              "      <th></th>\n",
              "      <th>purchase_id</th>\n",
              "      <th>purchase_timestamp</th>\n",
              "      <th>delivery_timestamp</th>\n",
              "      <th>delivery_company</th>\n",
              "    </tr>\n",
              "  </thead>\n",
              "  <tbody>\n",
              "    <tr>\n",
              "      <th>0</th>\n",
              "      <td>20001</td>\n",
              "      <td>2021-02-21T12:09:40</td>\n",
              "      <td>2021-02-22T15:06:21.051360</td>\n",
              "      <td>620.0</td>\n",
              "    </tr>\n",
              "    <tr>\n",
              "      <th>1</th>\n",
              "      <td>20002</td>\n",
              "      <td>2021-02-17T15:08:51</td>\n",
              "      <td>2021-02-21T12:16:54.977640</td>\n",
              "      <td>360.0</td>\n",
              "    </tr>\n",
              "    <tr>\n",
              "      <th>2</th>\n",
              "      <td>20003</td>\n",
              "      <td>2021-01-22T14:41:01</td>\n",
              "      <td>2021-01-22T15:19:19.040428</td>\n",
              "      <td>516.0</td>\n",
              "    </tr>\n",
              "    <tr>\n",
              "      <th>3</th>\n",
              "      <td>20004</td>\n",
              "      <td>2021-01-15T12:41:14</td>\n",
              "      <td>2021-01-13T22:45:05.607434</td>\n",
              "      <td>516.0</td>\n",
              "    </tr>\n",
              "    <tr>\n",
              "      <th>4</th>\n",
              "      <td>20005</td>\n",
              "      <td>2021-01-14T02:50:19</td>\n",
              "      <td>2021-01-14T11:35:28.612753</td>\n",
              "      <td>516.0</td>\n",
              "    </tr>\n",
              "  </tbody>\n",
              "</table>\n",
              "</div>"
            ],
            "text/plain": [
              "   purchase_id  ... delivery_company\n",
              "0        20001  ...            620.0\n",
              "1        20002  ...            360.0\n",
              "2        20003  ...            516.0\n",
              "3        20004  ...            516.0\n",
              "4        20005  ...            516.0\n",
              "\n",
              "[5 rows x 4 columns]"
            ]
          },
          "metadata": {
            "tags": []
          },
          "execution_count": 7
        }
      ]
    },
    {
      "cell_type": "code",
      "metadata": {
        "pycharm": {
          "name": "#%%\n"
        },
        "colab": {
          "base_uri": "https://localhost:8080/",
          "height": 0
        },
        "id": "ywN4N2Riyi6F",
        "outputId": "f6d96733-2b85-4fbc-974e-1ed012d39acb"
      },
      "source": [
        "deliveries_v1[\"purchase_timestamp\"] = pd.to_datetime ( deliveries_v1[\"purchase_timestamp\"], format='%Y-%m-%dT%H:%M', errors=\"coerce\")\n",
        "deliveries_v1['delivery_timestamp'] = pd.to_datetime ( deliveries_v1[\"delivery_timestamp\"], format='%Y-%m-%dT%H:%M:%S', errors=\"coerce\")\n",
        "deliveries_v1[\"time_difference\"] = deliveries_v1[\"delivery_timestamp\"] - deliveries_v1[\"purchase_timestamp\"]\n",
        "deliveries_v1.head()"
      ],
      "execution_count": 8,
      "outputs": [
        {
          "output_type": "execute_result",
          "data": {
            "text/html": [
              "<div>\n",
              "<style scoped>\n",
              "    .dataframe tbody tr th:only-of-type {\n",
              "        vertical-align: middle;\n",
              "    }\n",
              "\n",
              "    .dataframe tbody tr th {\n",
              "        vertical-align: top;\n",
              "    }\n",
              "\n",
              "    .dataframe thead th {\n",
              "        text-align: right;\n",
              "    }\n",
              "</style>\n",
              "<table border=\"1\" class=\"dataframe\">\n",
              "  <thead>\n",
              "    <tr style=\"text-align: right;\">\n",
              "      <th></th>\n",
              "      <th>purchase_id</th>\n",
              "      <th>purchase_timestamp</th>\n",
              "      <th>delivery_timestamp</th>\n",
              "      <th>delivery_company</th>\n",
              "      <th>time_difference</th>\n",
              "    </tr>\n",
              "  </thead>\n",
              "  <tbody>\n",
              "    <tr>\n",
              "      <th>0</th>\n",
              "      <td>20001</td>\n",
              "      <td>2021-02-21 12:09:40</td>\n",
              "      <td>2021-02-22 15:06:21.051360</td>\n",
              "      <td>620.0</td>\n",
              "      <td>1 days 02:56:41.051360</td>\n",
              "    </tr>\n",
              "    <tr>\n",
              "      <th>1</th>\n",
              "      <td>20002</td>\n",
              "      <td>2021-02-17 15:08:51</td>\n",
              "      <td>2021-02-21 12:16:54.977640</td>\n",
              "      <td>360.0</td>\n",
              "      <td>3 days 21:08:03.977640</td>\n",
              "    </tr>\n",
              "    <tr>\n",
              "      <th>2</th>\n",
              "      <td>20003</td>\n",
              "      <td>2021-01-22 14:41:01</td>\n",
              "      <td>2021-01-22 15:19:19.040428</td>\n",
              "      <td>516.0</td>\n",
              "      <td>0 days 00:38:18.040428</td>\n",
              "    </tr>\n",
              "    <tr>\n",
              "      <th>3</th>\n",
              "      <td>20004</td>\n",
              "      <td>2021-01-15 12:41:14</td>\n",
              "      <td>2021-01-13 22:45:05.607434</td>\n",
              "      <td>516.0</td>\n",
              "      <td>-2 days +10:03:51.607434</td>\n",
              "    </tr>\n",
              "    <tr>\n",
              "      <th>4</th>\n",
              "      <td>20005</td>\n",
              "      <td>2021-01-14 02:50:19</td>\n",
              "      <td>2021-01-14 11:35:28.612753</td>\n",
              "      <td>516.0</td>\n",
              "      <td>0 days 08:45:09.612753</td>\n",
              "    </tr>\n",
              "  </tbody>\n",
              "</table>\n",
              "</div>"
            ],
            "text/plain": [
              "   purchase_id  purchase_timestamp  ... delivery_company          time_difference\n",
              "0        20001 2021-02-21 12:09:40  ...            620.0   1 days 02:56:41.051360\n",
              "1        20002 2021-02-17 15:08:51  ...            360.0   3 days 21:08:03.977640\n",
              "2        20003 2021-01-22 14:41:01  ...            516.0   0 days 00:38:18.040428\n",
              "3        20004 2021-01-15 12:41:14  ...            516.0 -2 days +10:03:51.607434\n",
              "4        20005 2021-01-14 02:50:19  ...            516.0   0 days 08:45:09.612753\n",
              "\n",
              "[5 rows x 5 columns]"
            ]
          },
          "metadata": {
            "tags": []
          },
          "execution_count": 8
        }
      ]
    },
    {
      "cell_type": "code",
      "metadata": {
        "pycharm": {
          "name": "#%%\n"
        },
        "colab": {
          "base_uri": "https://localhost:8080/"
        },
        "id": "FNpG9UzMyi6F",
        "outputId": "8f051e2b-63dd-4d20-9a53-0bc93abc7a58"
      },
      "source": [
        "len(deliveries_v1[deliveries_v1[\"time_difference\"] > pd.Timedelta(hours=0)])"
      ],
      "execution_count": 9,
      "outputs": [
        {
          "output_type": "execute_result",
          "data": {
            "text/plain": [
              "4596"
            ]
          },
          "metadata": {
            "tags": []
          },
          "execution_count": 9
        }
      ]
    },
    {
      "cell_type": "code",
      "metadata": {
        "pycharm": {
          "name": "#%%\n"
        },
        "colab": {
          "base_uri": "https://localhost:8080/"
        },
        "id": "rsHd5Uq6yi6G",
        "outputId": "d0339a42-b432-4353-8728-3a47cb9124e0"
      },
      "source": [
        "len(deliveries_v1[deliveries_v1[\"time_difference\"] < pd.Timedelta(hours=0)])"
      ],
      "execution_count": 10,
      "outputs": [
        {
          "output_type": "execute_result",
          "data": {
            "text/plain": [
              "2064"
            ]
          },
          "metadata": {
            "tags": []
          },
          "execution_count": 10
        }
      ]
    },
    {
      "cell_type": "markdown",
      "metadata": {
        "collapsed": false,
        "pycharm": {
          "name": "#%% md\n"
        },
        "id": "hEYnwllZyi6J"
      },
      "source": [
        "Ujemne wartości w nowoutworzonej kolumnie wskazują na to, że dane są zanieczyszczone-produkt nie mógł być dostarczony\n",
        "przed zakupem. Takich zanieczyszczeń jest stosunkowo wiele - 2 tysiące wierszy, które przez to nie będą mogły zostać\n",
        "wykorzystane w modelowaniu. To zbyt wiele danych, żebyśmy mogli je po prostu pominąć tak, jak w przypadku brakujących czasów dostawy."
      ]
    },
    {
      "cell_type": "code",
      "metadata": {
        "pycharm": {
          "name": "#%%\n"
        },
        "colab": {
          "base_uri": "https://localhost:8080/",
          "height": 0
        },
        "id": "xyZv5rEuyi6J",
        "outputId": "6b44e8ab-c13c-4e93-ca19-708c4e917bae"
      },
      "source": [
        "preped = deliveries_v1[deliveries_v1[\"time_difference\"] > pd.Timedelta(hours=0)].copy()\n",
        "preped[\"time[s]\"]=preped[\"time_difference\"].apply(lambda time_delta: time_delta.total_seconds())\n",
        "preped[\"time[h]\"]=preped[\"time_difference\"].apply(lambda x: x.total_seconds()/(60*60))\n",
        "preped[\"delivery_weekday\"]=preped['delivery_timestamp'].apply(lambda x: x.weekday())\n",
        "preped.head()"
      ],
      "execution_count": 11,
      "outputs": [
        {
          "output_type": "execute_result",
          "data": {
            "text/html": [
              "<div>\n",
              "<style scoped>\n",
              "    .dataframe tbody tr th:only-of-type {\n",
              "        vertical-align: middle;\n",
              "    }\n",
              "\n",
              "    .dataframe tbody tr th {\n",
              "        vertical-align: top;\n",
              "    }\n",
              "\n",
              "    .dataframe thead th {\n",
              "        text-align: right;\n",
              "    }\n",
              "</style>\n",
              "<table border=\"1\" class=\"dataframe\">\n",
              "  <thead>\n",
              "    <tr style=\"text-align: right;\">\n",
              "      <th></th>\n",
              "      <th>purchase_id</th>\n",
              "      <th>purchase_timestamp</th>\n",
              "      <th>delivery_timestamp</th>\n",
              "      <th>delivery_company</th>\n",
              "      <th>time_difference</th>\n",
              "      <th>time[s]</th>\n",
              "      <th>time[h]</th>\n",
              "      <th>delivery_weekday</th>\n",
              "    </tr>\n",
              "  </thead>\n",
              "  <tbody>\n",
              "    <tr>\n",
              "      <th>0</th>\n",
              "      <td>20001</td>\n",
              "      <td>2021-02-21 12:09:40</td>\n",
              "      <td>2021-02-22 15:06:21.051360</td>\n",
              "      <td>620.0</td>\n",
              "      <td>1 days 02:56:41.051360</td>\n",
              "      <td>97001.051360</td>\n",
              "      <td>26.944736</td>\n",
              "      <td>0</td>\n",
              "    </tr>\n",
              "    <tr>\n",
              "      <th>1</th>\n",
              "      <td>20002</td>\n",
              "      <td>2021-02-17 15:08:51</td>\n",
              "      <td>2021-02-21 12:16:54.977640</td>\n",
              "      <td>360.0</td>\n",
              "      <td>3 days 21:08:03.977640</td>\n",
              "      <td>335283.977640</td>\n",
              "      <td>93.134438</td>\n",
              "      <td>6</td>\n",
              "    </tr>\n",
              "    <tr>\n",
              "      <th>2</th>\n",
              "      <td>20003</td>\n",
              "      <td>2021-01-22 14:41:01</td>\n",
              "      <td>2021-01-22 15:19:19.040428</td>\n",
              "      <td>516.0</td>\n",
              "      <td>0 days 00:38:18.040428</td>\n",
              "      <td>2298.040428</td>\n",
              "      <td>0.638345</td>\n",
              "      <td>4</td>\n",
              "    </tr>\n",
              "    <tr>\n",
              "      <th>4</th>\n",
              "      <td>20005</td>\n",
              "      <td>2021-01-14 02:50:19</td>\n",
              "      <td>2021-01-14 11:35:28.612753</td>\n",
              "      <td>516.0</td>\n",
              "      <td>0 days 08:45:09.612753</td>\n",
              "      <td>31509.612753</td>\n",
              "      <td>8.752670</td>\n",
              "      <td>3</td>\n",
              "    </tr>\n",
              "    <tr>\n",
              "      <th>5</th>\n",
              "      <td>20006</td>\n",
              "      <td>2021-02-16 08:27:14</td>\n",
              "      <td>2021-02-19 09:58:54.243499</td>\n",
              "      <td>620.0</td>\n",
              "      <td>3 days 01:31:40.243499</td>\n",
              "      <td>264700.243499</td>\n",
              "      <td>73.527845</td>\n",
              "      <td>4</td>\n",
              "    </tr>\n",
              "  </tbody>\n",
              "</table>\n",
              "</div>"
            ],
            "text/plain": [
              "   purchase_id  purchase_timestamp  ...    time[h]  delivery_weekday\n",
              "0        20001 2021-02-21 12:09:40  ...  26.944736                 0\n",
              "1        20002 2021-02-17 15:08:51  ...  93.134438                 6\n",
              "2        20003 2021-01-22 14:41:01  ...   0.638345                 4\n",
              "4        20005 2021-01-14 02:50:19  ...   8.752670                 3\n",
              "5        20006 2021-02-16 08:27:14  ...  73.527845                 4\n",
              "\n",
              "[5 rows x 8 columns]"
            ]
          },
          "metadata": {
            "tags": []
          },
          "execution_count": 11
        }
      ]
    },
    {
      "cell_type": "code",
      "metadata": {
        "pycharm": {
          "name": "#%%\n"
        },
        "colab": {
          "base_uri": "https://localhost:8080/",
          "height": 0
        },
        "id": "LKb2Jhbcyi6K",
        "outputId": "18669add-e13b-4181-e3fc-43e3ce25a964"
      },
      "source": [
        "plt.figure(figsize=(20,10))\n",
        "sns.displot(preped[\"time[s]\"]).set(title=\"Rozkład czasu dostawy\")"
      ],
      "execution_count": 12,
      "outputs": [
        {
          "output_type": "execute_result",
          "data": {
            "text/plain": [
              "<seaborn.axisgrid.FacetGrid at 0x7fa237526910>"
            ]
          },
          "metadata": {
            "tags": []
          },
          "execution_count": 12
        },
        {
          "output_type": "display_data",
          "data": {
            "text/plain": [
              "<Figure size 1440x720 with 0 Axes>"
            ]
          },
          "metadata": {
            "tags": []
          }
        },
        {
          "output_type": "display_data",
          "data": {
            "image/png": "[encoded data removed]",
            "text/plain": [
              "<Figure size 360x360 with 1 Axes>"
            ]
          },
          "metadata": {
            "tags": [],
            "needs_background": "light"
          }
        }
      ]
    },
    {
      "cell_type": "code",
      "metadata": {
        "pycharm": {
          "name": "#%%\n"
        },
        "colab": {
          "base_uri": "https://localhost:8080/",
          "height": 0
        },
        "id": "Ch5dChUPyi6O",
        "outputId": "11b912e9-b72e-4289-85ef-9f77a31474d1"
      },
      "source": [
        "plt.figure(figsize=(20,10))\n",
        "sns.displot(preped[\"delivery_weekday\"]).set(title=\"Rozkład dostaw w tygodniu\")"
      ],
      "execution_count": 13,
      "outputs": [
        {
          "output_type": "execute_result",
          "data": {
            "text/plain": [
              "<seaborn.axisgrid.FacetGrid at 0x7fa23204e490>"
            ]
          },
          "metadata": {
            "tags": []
          },
          "execution_count": 13
        },
        {
          "output_type": "display_data",
          "data": {
            "text/plain": [
              "<Figure size 1440x720 with 0 Axes>"
            ]
          },
          "metadata": {
            "tags": []
          }
        },
        {
          "output_type": "display_data",
          "data": {
            "image/png": "[encoded data removed]",
            "text/plain": [
              "<Figure size 360x360 with 1 Axes>"
            ]
          },
          "metadata": {
            "tags": [],
            "needs_background": "light"
          }
        }
      ]
    },
    {
      "cell_type": "markdown",
      "metadata": {
        "collapsed": false,
        "id": "pbI9ZdZUyi6P"
      },
      "source": [
        "Paczki są dostarczane równomiernie w całym tygodniu. Jest to dziwne ze względu na dostarczanie paczek również w niedziele.\n",
        "Trzeba będzie te kwestie omówić z klientem."
      ]
    },
    {
      "cell_type": "code",
      "metadata": {
        "pycharm": {
          "name": "#%%\n"
        },
        "colab": {
          "base_uri": "https://localhost:8080/",
          "height": 0
        },
        "id": "QAXmWJaiyi6Q",
        "outputId": "bda9d1c5-bbe2-4181-c4a2-c88215f3e9bd"
      },
      "source": [
        "plt.figure(figsize=(20,10))\n",
        "sns.histplot(preped[preped[\"time[h]\"] < 24][\"time[h]\"]).set(title=\"Rozkład dostaw w tygodniu ( < 24h )\")"
      ],
      "execution_count": 14,
      "outputs": [
        {
          "output_type": "execute_result",
          "data": {
            "text/plain": [
              "[Text(0.5, 1.0, 'Rozkład dostaw w tygodniu ( < 24h )')]"
            ]
          },
          "metadata": {
            "tags": []
          },
          "execution_count": 14
        },
        {
          "output_type": "display_data",
          "data": {
            "image/png": "[encoded data removed]",
            "text/plain": [
              "<Figure size 1440x720 with 1 Axes>"
            ]
          },
          "metadata": {
            "tags": [],
            "needs_background": "light"
          }
        }
      ]
    },
    {
      "cell_type": "markdown",
      "metadata": {
        "collapsed": false,
        "id": "vXaMP8Pbyi6Q"
      },
      "source": [
        "Na pierwszy rzut oka martwiące są czasy dostawy poniżej godziny, ale także te krótkie - 2 lub 3 - godzinne.\n",
        "Obecnym standardem w e-commerce jest dostawa przesyłki w ciągu 1-2 dni roboczych,\n",
        "czyli czas dostawy od mniej więcej 10 do 30-kilku godzin. Być może te krótkie dane są poprawne, jeśli firma realizuje\n",
        "dostawy ekspresowe (np. z usługą dostawy tego samego dnia) albo np. możliwość odbioru towaru z salonu, jeśli jest on w nim dostępny.\n",
        "\n",
        "Podejrzanie krótkie czasy dostawy (poniżej 5 godzin) zdecydowanie wymagają wyjaśnienia z przedstawicielem firmy.\n",
        "\n",
        "Warto jeszcze sprawdzić jak wygląda rozkład czasu dostawy w godzinach w podziale na poszczególne\n",
        "firmy kurierskie-być może okaże się, że krótkie dostawy są realizowane tylko przez jedną firmę,\n",
        "co wskazywałoby na prawidłowość hipotezy o możliwości wykupienia ekspresowej dostawy.\n",
        "\n",
        "Ponadto warto też przyjrzeć się godzinom, w jakich realizowana jest dostawa-jest szansa,\n",
        "że znajdziemy tam jakieś dostawy w nieprzyzwoicie nocnych godzinach.\n",
        "\n",
        "Dane nt. czasu dostawy wymagają dokładniejszego przyjrzenia się ich rozkładowi."
      ]
    },
    {
      "cell_type": "code",
      "metadata": {
        "pycharm": {
          "name": "#%%\n"
        },
        "colab": {
          "base_uri": "https://localhost:8080/",
          "height": 0
        },
        "id": "VZEGyllFyi6R",
        "outputId": "af031ba3-94e2-4545-b97c-92c3f7f9ea4d"
      },
      "source": [
        "companies = preped[\"delivery_company\"].unique()\n",
        "dfs = {\n",
        "    \"unknown\": preped[preped['delivery_company'].isna()][\"time[h]\"],\n",
        "    \"360\": preped[preped['delivery_company']==360][\"time[h]\"],\n",
        "    \"516\": preped[preped['delivery_company']==516][\"time[h]\"],\n",
        "    \"620\": preped[preped['delivery_company']==620][\"time[h]\"]\n",
        "}\n",
        "\n",
        "fgs, axes = plt.subplots(2, 2, figsize=(12,12))\n",
        "axs = [axes[i][j] for i in [0,1] for j in [0,1]]\n",
        "i=0\n",
        "for key, df in dfs.items():\n",
        "  sns.histplot(data = df, binwidth=1, ax = axs[i])\n",
        "  axs[i].title.set_text(key)\n",
        "  i+=1\n",
        "plt.show()"
      ],
      "execution_count": 15,
      "outputs": [
        {
          "output_type": "display_data",
          "data": {
            "image/png": "[encoded data removed]",
            "text/plain": [
              "<Figure size 864x864 with 4 Axes>"
            ]
          },
          "metadata": {
            "tags": [],
            "needs_background": "light"
          }
        }
      ]
    },
    {
      "cell_type": "markdown",
      "metadata": {
        "collapsed": false,
        "id": "2gayjO02yi6R"
      },
      "source": [
        "Nie wydaje się, żeby któraś z firm kurierskich dostarczała paczki znacznie szybciej od innych."
      ]
    },
    {
      "cell_type": "code",
      "metadata": {
        "pycharm": {
          "name": "#%%\n"
        },
        "colab": {
          "base_uri": "https://localhost:8080/"
        },
        "id": "3PV-CAD5yi6R",
        "outputId": "8b875420-0eb7-4136-8af7-70c3013d6c42"
      },
      "source": [
        "night_deliveries = pd.DataFrame({\"id\": preped[\"purchase_id\"].to_list()}, index=pd.DatetimeIndex(preped[\"delivery_timestamp\"])).between_time(\"22:00\", \"6:00\")\n",
        "print(len(night_deliveries))"
      ],
      "execution_count": 16,
      "outputs": [
        {
          "output_type": "stream",
          "text": [
            "1568\n"
          ],
          "name": "stdout"
        }
      ]
    },
    {
      "cell_type": "markdown",
      "metadata": {
        "collapsed": false,
        "id": "gOAJyFruyi6S"
      },
      "source": [
        "Z danych wynika, że paczki są dostarczane nawet w nocy. Jest to bardzo mało prawdopodobne i musi być omówione z klientem."
      ]
    },
    {
      "cell_type": "code",
      "metadata": {
        "pycharm": {
          "name": "#%%\n"
        },
        "colab": {
          "base_uri": "https://localhost:8080/"
        },
        "id": "glLgtpYWyi6S",
        "outputId": "6db45206-f755-43c4-8e9f-dbc768c211d9"
      },
      "source": [
        "users_v1[\"city\"].unique().tolist()\n"
      ],
      "execution_count": 17,
      "outputs": [
        {
          "output_type": "execute_result",
          "data": {
            "text/plain": [
              "['Konin',\n",
              " 'Kutno',\n",
              " 'Radom',\n",
              " 'Police',\n",
              " 'Szczecin',\n",
              " 'Warszawa',\n",
              " 'Gdynia',\n",
              " 'Mielec']"
            ]
          },
          "metadata": {
            "tags": []
          },
          "execution_count": 17
        }
      ]
    },
    {
      "cell_type": "markdown",
      "metadata": {
        "collapsed": false,
        "id": "CafzQIkiyi6T"
      },
      "source": [
        "Paczki są dostarczane do miast w różnych rejonach Polski. Bardzo małe czasy dostawy w takiej sytuacji muszą wynikać z\n",
        "błędu lub paczki są wysyłane z wielu miejsc."
      ]
    },
    {
      "cell_type": "markdown",
      "metadata": {
        "collapsed": false,
        "id": "AfXz26f7yi6T"
      },
      "source": [
        "### Sprawdzenie dostępnych kategorii produktów"
      ]
    },
    {
      "cell_type": "code",
      "metadata": {
        "pycharm": {
          "name": "#%%\n"
        },
        "colab": {
          "base_uri": "https://localhost:8080/"
        },
        "id": "klq0TD7Dyi6T",
        "outputId": "1be6a142-b26f-445a-f955-da4697326973"
      },
      "source": [
        "categories = set()\n",
        "for value in products_v1[\"category_path\"]:\n",
        "  categories.update(value.split(\";\"))\n",
        "categories"
      ],
      "execution_count": 18,
      "outputs": [
        {
          "output_type": "execute_result",
          "data": {
            "text/plain": [
              "{'Akcesoria telefoniczne',\n",
              " 'Anteny RTV',\n",
              " 'Audio',\n",
              " 'Biurowe urządzenia wielofunkcyjne',\n",
              " 'Drukarki i skanery',\n",
              " 'Gry PlayStation3',\n",
              " 'Gry Xbox 360',\n",
              " 'Gry i konsole',\n",
              " 'Gry komputerowe',\n",
              " 'Gry na konsole',\n",
              " 'Komputery',\n",
              " 'Monitory',\n",
              " 'Monitory LCD',\n",
              " 'Odtwarzacze DVD',\n",
              " 'Odtwarzacze mp3 i mp4',\n",
              " 'Okulary 3D',\n",
              " 'Przenośne audio i video',\n",
              " 'Sprzęt RTV',\n",
              " 'Słuchawki',\n",
              " 'Tablety',\n",
              " 'Tablety i akcesoria',\n",
              " 'Telefony i akcesoria',\n",
              " 'Telefony komórkowe',\n",
              " 'Telefony stacjonarne',\n",
              " 'Telewizory i akcesoria',\n",
              " 'Video',\n",
              " 'Zestawy głośnomówiące',\n",
              " 'Zestawy słuchawkowe'}"
            ]
          },
          "metadata": {
            "tags": []
          },
          "execution_count": 18
        }
      ]
    },
    {
      "cell_type": "markdown",
      "metadata": {
        "collapsed": false,
        "id": "JF7ozxBIyi6U"
      },
      "source": [
        "Po przyjrzeniu się kategoriom można zauważyć, że gabaryty sprzedawanych przedmiotów nie będą się bardzo różnić -\n",
        "choć transport monitorów LCD i słuchawek jest różny, to raczej nie dość różny, by wpłynąć na czas dostawy.\n",
        "Mimo to można dodać kolumnę dzielącą przedmioty na większe np. Drukarki i skaner, Komputery, Monitory i Monitory LCD\n",
        "jako urządzenia „duże\", a telefony komórkowe, zestawy słuchawkowe i gry na konsole jako „małe\"."
      ]
    },
    {
      "cell_type": "markdown",
      "metadata": {
        "collapsed": false,
        "id": "0DG9338zyi6U"
      },
      "source": [
        "### Wnioski\n",
        "\n",
        "Dane, które wydają się mieć znaczenie, zawierają istotnie wiele błędów. Kontakt z klientem i wyjaśnienie podstawowych kwestii będzie kluczowe.\n",
        "\n",
        "Po wstępnym obejrzeniu danych, z klientem należy ustalić następujące szczegóły:\n",
        "- miejsce wysyłki paczek i jego adres\n",
        "- trasa paczki\n",
        "- dostępność produktów w sklepie\n",
        "\n",
        "Wszystkie te kwestie mogą wpłynąć na zmienną celu.\n",
        "\n",
        "Ważne będzie także zapytanie o uzupełnienie brakujących danych (w szczególnośći znaczniki czasowe dostawy)\n",
        "oraz o błędne dane (krótkie czasy dostawy, ujemne czasy dostawy, dostawy w nocy i w niedziele)."
      ]
    },
    {
      "cell_type": "markdown",
      "metadata": {
        "collapsed": false,
        "pycharm": {
          "name": "#%% md\n"
        },
        "id": "HtzyJA3kH3ON"
      },
      "source": [
        "## Analiza pierwszej aktualizacji zbioru danych\n",
        "\n"
      ]
    },
    {
      "cell_type": "markdown",
      "metadata": {
        "collapsed": false,
        "id": "8gNus032yi6U"
      },
      "source": [
        "### Opis informacji od klienta\n",
        "\n",
        "Dostaliśmy aktualizację danych po przedstawieniu problemów, jakie w nich znaleźliśmy.\n",
        "\n",
        "Od klienta dowiedzieliśmy się, że istnieje jeden centralny magazyn (nie ma jego adresu), nie istnieją żadne miejsca\n",
        "na ścieżce produktu do klienta, nie występuje czas oczekiwania na wysłanie, można kupić produkty tylko dostępne w magazynie\n",
        "(brak czasu oczekiwania na dostawę do magazynu)."
      ]
    },
    {
      "cell_type": "code",
      "metadata": {
        "pycharm": {
          "name": "#%%\n"
        },
        "id": "R11y8cI8yi6V"
      },
      "source": [
        "deliveries_v2 = pd.read_json(deliveries_v2_path, lines=True)\n",
        "sessions_v2 = pd.read_json(sessions_v2_path, lines=True)\n",
        "users_v2 = pd.read_json(users_v2_path, lines=True)\n",
        "products_v2 = pd.read_json(products_v2_path, lines=True)\n",
        "\n",
        "data_v2 = {\"products\": products_v2, \"sessions\": sessions_v2, \"users\": users_v2, \"deliveries\":deliveries_v2}"
      ],
      "execution_count": 19,
      "outputs": []
    },
    {
      "cell_type": "code",
      "metadata": {
        "pycharm": {
          "name": "#%%\n"
        },
        "colab": {
          "base_uri": "https://localhost:8080/",
          "height": 400
        },
        "id": "_0THUWW3yi6W",
        "outputId": "207a6ec5-e006-434e-fb96-d344c38871fa"
      },
      "source": [
        "# Łączenie tabel w jedną tabelę\n",
        "\n",
        "deliveries_v2[\"purchase_timestamp\"] = pd.to_datetime ( deliveries_v2[\"purchase_timestamp\"], format='%Y-%m-%dT%H:%M', errors=\"coerce\")\n",
        "deliveries_v2['delivery_timestamp'] = pd.to_datetime ( deliveries_v2[\"delivery_timestamp\"], format='%Y-%m-%dT%H:%M:%S', errors=\"coerce\")\n",
        "deliveries_v2[\"time_difference\"] = deliveries_v2[\"delivery_timestamp\"] - deliveries_v2[\"purchase_timestamp\"]\n",
        "\n",
        "deliveries_v2[\"time[s]\"]=deliveries_v2[\"time_difference\"].apply(lambda time_delta: time_delta.total_seconds())\n",
        "deliveries_v2[\"time[h]\"]=deliveries_v2[\"time_difference\"].apply(lambda x: x.total_seconds()/(60*60))\n",
        "\n",
        "sessions_purchases = sessions_v2[sessions_v2[\"purchase_id\"].notnull()].copy()\n",
        "merged = pd.merge(sessions_purchases, deliveries_v2, on='purchase_id', how = \"outer\")\n",
        "merged2 = pd.merge(merged, users_v2, on=\"user_id\", how = \"outer\")\n",
        "merged_full = pd.merge(merged2, products_v2, on=\"product_id\", how = \"left\")\n",
        "merged_full.head()"
      ],
      "execution_count": 20,
      "outputs": [
        {
          "output_type": "execute_result",
          "data": {
            "text/html": [
              "<div>\n",
              "<style scoped>\n",
              "    .dataframe tbody tr th:only-of-type {\n",
              "        vertical-align: middle;\n",
              "    }\n",
              "\n",
              "    .dataframe tbody tr th {\n",
              "        vertical-align: top;\n",
              "    }\n",
              "\n",
              "    .dataframe thead th {\n",
              "        text-align: right;\n",
              "    }\n",
              "</style>\n",
              "<table border=\"1\" class=\"dataframe\">\n",
              "  <thead>\n",
              "    <tr style=\"text-align: right;\">\n",
              "      <th></th>\n",
              "      <th>session_id</th>\n",
              "      <th>timestamp</th>\n",
              "      <th>user_id</th>\n",
              "      <th>product_id</th>\n",
              "      <th>event_type</th>\n",
              "      <th>offered_discount</th>\n",
              "      <th>purchase_id</th>\n",
              "      <th>purchase_timestamp</th>\n",
              "      <th>delivery_timestamp</th>\n",
              "      <th>delivery_company</th>\n",
              "      <th>time_difference</th>\n",
              "      <th>time[s]</th>\n",
              "      <th>time[h]</th>\n",
              "      <th>name</th>\n",
              "      <th>city</th>\n",
              "      <th>street</th>\n",
              "      <th>product_name</th>\n",
              "      <th>category_path</th>\n",
              "      <th>price</th>\n",
              "    </tr>\n",
              "  </thead>\n",
              "  <tbody>\n",
              "    <tr>\n",
              "      <th>0</th>\n",
              "      <td>100002</td>\n",
              "      <td>2021-04-01 15:52:47</td>\n",
              "      <td>102.0</td>\n",
              "      <td>1234.0</td>\n",
              "      <td>BUY_PRODUCT</td>\n",
              "      <td>0</td>\n",
              "      <td>20001.0</td>\n",
              "      <td>2021-04-01 15:52:47</td>\n",
              "      <td>2021-04-02 14:06:34.432964</td>\n",
              "      <td>620</td>\n",
              "      <td>0 days 22:13:47.432964</td>\n",
              "      <td>80027.432964</td>\n",
              "      <td>22.229842</td>\n",
              "      <td>Aurelia Malon</td>\n",
              "      <td>Police</td>\n",
              "      <td>pl. Brzoskwiniowa 11/53</td>\n",
              "      <td>Sony DVP-SR760</td>\n",
              "      <td>Sprzęt RTV;Video;Odtwarzacze DVD</td>\n",
              "      <td>193.00</td>\n",
              "    </tr>\n",
              "    <tr>\n",
              "      <th>1</th>\n",
              "      <td>100003</td>\n",
              "      <td>2021-04-01 02:26:23</td>\n",
              "      <td>102.0</td>\n",
              "      <td>1289.0</td>\n",
              "      <td>BUY_PRODUCT</td>\n",
              "      <td>15</td>\n",
              "      <td>20002.0</td>\n",
              "      <td>2021-04-01 02:26:23</td>\n",
              "      <td>2021-04-02 10:45:27.707128</td>\n",
              "      <td>360</td>\n",
              "      <td>1 days 08:19:04.707128</td>\n",
              "      <td>116344.707128</td>\n",
              "      <td>32.317974</td>\n",
              "      <td>Aurelia Malon</td>\n",
              "      <td>Police</td>\n",
              "      <td>pl. Brzoskwiniowa 11/53</td>\n",
              "      <td>Philips SDV5225</td>\n",
              "      <td>Sprzęt RTV;Video;Telewizory i akcesoria;Anteny...</td>\n",
              "      <td>129.00</td>\n",
              "    </tr>\n",
              "    <tr>\n",
              "      <th>2</th>\n",
              "      <td>100004</td>\n",
              "      <td>2021-01-03 05:11:17</td>\n",
              "      <td>102.0</td>\n",
              "      <td>1009.0</td>\n",
              "      <td>BUY_PRODUCT</td>\n",
              "      <td>0</td>\n",
              "      <td>20003.0</td>\n",
              "      <td>2021-01-03 05:11:17</td>\n",
              "      <td>2021-01-04 15:43:07.635371</td>\n",
              "      <td>620</td>\n",
              "      <td>1 days 10:31:50.635371</td>\n",
              "      <td>124310.635371</td>\n",
              "      <td>34.530732</td>\n",
              "      <td>Aurelia Malon</td>\n",
              "      <td>Police</td>\n",
              "      <td>pl. Brzoskwiniowa 11/53</td>\n",
              "      <td>Kinect Joy Ride (Xbox 360)</td>\n",
              "      <td>Gry i konsole;Gry na konsole;Gry Xbox 360</td>\n",
              "      <td>69000000.00</td>\n",
              "    </tr>\n",
              "    <tr>\n",
              "      <th>3</th>\n",
              "      <td>100006</td>\n",
              "      <td>2021-02-13 09:17:52</td>\n",
              "      <td>102.0</td>\n",
              "      <td>1057.0</td>\n",
              "      <td>BUY_PRODUCT</td>\n",
              "      <td>5</td>\n",
              "      <td>20005.0</td>\n",
              "      <td>2021-02-13 09:17:52</td>\n",
              "      <td>2021-02-15 08:59:28.973167</td>\n",
              "      <td>620</td>\n",
              "      <td>1 days 23:41:36.973167</td>\n",
              "      <td>171696.973167</td>\n",
              "      <td>47.693604</td>\n",
              "      <td>Aurelia Malon</td>\n",
              "      <td>Police</td>\n",
              "      <td>pl. Brzoskwiniowa 11/53</td>\n",
              "      <td>Doom 3 (PC)</td>\n",
              "      <td>Gry i konsole;Gry komputerowe</td>\n",
              "      <td>19.99</td>\n",
              "    </tr>\n",
              "    <tr>\n",
              "      <th>4</th>\n",
              "      <td>100007</td>\n",
              "      <td>2021-01-15 15:42:34</td>\n",
              "      <td>102.0</td>\n",
              "      <td>1072.0</td>\n",
              "      <td>BUY_PRODUCT</td>\n",
              "      <td>0</td>\n",
              "      <td>20006.0</td>\n",
              "      <td>2021-01-15 15:42:34</td>\n",
              "      <td>2021-01-16 18:09:23.624555</td>\n",
              "      <td>516</td>\n",
              "      <td>1 days 02:26:49.624555</td>\n",
              "      <td>95209.624555</td>\n",
              "      <td>26.447118</td>\n",
              "      <td>Aurelia Malon</td>\n",
              "      <td>Police</td>\n",
              "      <td>pl. Brzoskwiniowa 11/53</td>\n",
              "      <td>Jabra Freeway</td>\n",
              "      <td>Telefony i akcesoria;Akcesoria telefoniczne;Ze...</td>\n",
              "      <td>299.00</td>\n",
              "    </tr>\n",
              "  </tbody>\n",
              "</table>\n",
              "</div>"
            ],
            "text/plain": [
              "   session_id  ...        price\n",
              "0      100002  ...       193.00\n",
              "1      100003  ...       129.00\n",
              "2      100004  ...  69000000.00\n",
              "3      100006  ...        19.99\n",
              "4      100007  ...       299.00\n",
              "\n",
              "[5 rows x 19 columns]"
            ]
          },
          "metadata": {
            "tags": []
          },
          "execution_count": 20
        }
      ]
    },
    {
      "cell_type": "markdown",
      "metadata": {
        "collapsed": false,
        "id": "47x8pPEwyi6W"
      },
      "source": [
        "### Sprawdzenie poprzednich problemów"
      ]
    },
    {
      "cell_type": "markdown",
      "metadata": {
        "collapsed": false,
        "id": "wzJbMoqQyi6X"
      },
      "source": [
        "#### Braki danych"
      ]
    },
    {
      "cell_type": "code",
      "metadata": {
        "pycharm": {
          "name": "#%%\n"
        },
        "colab": {
          "base_uri": "https://localhost:8080/"
        },
        "id": "OvQTFPgpyi6a",
        "outputId": "1af3c8f4-45d8-4f3b-f319-257e0d983713"
      },
      "source": [
        "for key, value in data_v2.items():\n",
        "  print(key, \":\\n\", value.isnull().sum(), \"\\n\")\n"
      ],
      "execution_count": 21,
      "outputs": [
        {
          "output_type": "stream",
          "text": [
            "products :\n",
            " product_id       0\n",
            "product_name     0\n",
            "category_path    0\n",
            "price            0\n",
            "dtype: int64 \n",
            "\n",
            "sessions :\n",
            " session_id              0\n",
            "timestamp               0\n",
            "user_id              2174\n",
            "product_id           2101\n",
            "event_type              0\n",
            "offered_discount        0\n",
            "purchase_id         35071\n",
            "dtype: int64 \n",
            "\n",
            "users :\n",
            " user_id    0\n",
            "name       0\n",
            "city       0\n",
            "street     0\n",
            "dtype: int64 \n",
            "\n",
            "deliveries :\n",
            " purchase_id           0\n",
            "purchase_timestamp    0\n",
            "delivery_timestamp    0\n",
            "delivery_company      0\n",
            "time_difference       0\n",
            "time[s]               0\n",
            "time[h]               0\n",
            "dtype: int64 \n",
            "\n"
          ],
          "name": "stdout"
        }
      ]
    },
    {
      "cell_type": "markdown",
      "metadata": {
        "collapsed": false,
        "id": "kgVcBQaPyi6c"
      },
      "source": [
        "Braki w kluczowej tabeli „deliveries\" zostały uzupełnione. Zwiększyła się liczba braków w tabeli „sessions\", ale\n",
        "nie powinno być to dla nas problemem, ponieważ te dane wydają się mało istotne dla naszego problemu.\n"
      ]
    },
    {
      "cell_type": "code",
      "metadata": {
        "pycharm": {
          "name": "#%%\n"
        },
        "colab": {
          "base_uri": "https://localhost:8080/"
        },
        "id": "T_RzHTrIyi6e",
        "outputId": "e818d941-b91b-4dad-c59a-fbd908cf30c0"
      },
      "source": [
        "for key, value in merged_full.items():\n",
        "  print(key, \":\", value.isnull().sum())\n"
      ],
      "execution_count": 22,
      "outputs": [
        {
          "output_type": "stream",
          "text": [
            "session_id : 0\n",
            "timestamp : 0\n",
            "user_id : 402\n",
            "product_id : 384\n",
            "event_type : 0\n",
            "offered_discount : 0\n",
            "purchase_id : 0\n",
            "purchase_timestamp : 0\n",
            "delivery_timestamp : 0\n",
            "delivery_company : 0\n",
            "time_difference : 0\n",
            "time[s] : 0\n",
            "time[h] : 0\n",
            "name : 402\n",
            "city : 402\n",
            "street : 402\n",
            "product_name : 384\n",
            "category_path : 384\n",
            "price : 384\n"
          ],
          "name": "stdout"
        }
      ]
    },
    {
      "cell_type": "markdown",
      "metadata": {
        "collapsed": false,
        "id": "iedLJCQiyi6f"
      },
      "source": [
        "Po połączeniu wszystkich dostępnych danych w jedną tabelę widać, że do 402 dostaw brakuje kluczowych informacji o\n",
        "adresie dostawy (wynika to z braków w tabeli sessions, gdzie w miejscu id użytkownika była wartość pusta).\n",
        "To dość niewiele rekordów w porównaniu z całym rozmiarem zbioru danych, więc jeśli nie będzie możliwości ich uzupełnienia,\n",
        "to będzie można po prostu zrezygnować z tych wierszy i nie wykorzystywać ich do predykcji."
      ]
    },
    {
      "cell_type": "markdown",
      "metadata": {
        "collapsed": false,
        "pycharm": {
          "name": "#%% md\n"
        },
        "id": "l9HffQV6yi6f"
      },
      "source": [
        "#### Błędy danych"
      ]
    },
    {
      "cell_type": "markdown",
      "metadata": {
        "collapsed": false,
        "pycharm": {
          "name": "#%% md\n"
        },
        "id": "Gx4IgRwlyi6g"
      },
      "source": [
        "##### Ujemne czasy dostawy"
      ]
    },
    {
      "cell_type": "code",
      "metadata": {
        "pycharm": {
          "name": "#%%\n"
        },
        "colab": {
          "base_uri": "https://localhost:8080/"
        },
        "id": "QFWFcaMdyi6g",
        "outputId": "c5053183-dfaf-40f0-d4d1-91911795f832"
      },
      "source": [
        "len(deliveries_v2[deliveries_v2[\"purchase_timestamp\"] > deliveries_v2[\"delivery_timestamp\"]])"
      ],
      "execution_count": 23,
      "outputs": [
        {
          "output_type": "execute_result",
          "data": {
            "text/plain": [
              "0"
            ]
          },
          "metadata": {
            "tags": []
          },
          "execution_count": 23
        }
      ]
    },
    {
      "cell_type": "markdown",
      "metadata": {
        "collapsed": false,
        "id": "pHppfnqayi6g"
      },
      "source": [
        "##### Nocne dostawy"
      ]
    },
    {
      "cell_type": "code",
      "metadata": {
        "pycharm": {
          "name": "#%%\n"
        },
        "colab": {
          "base_uri": "https://localhost:8080/"
        },
        "id": "Z9PRQDHeyi6g",
        "outputId": "25754e6f-c7b8-4488-880f-5d1a8134dca5"
      },
      "source": [
        "night_deliveries = pd.DataFrame({\"id\": deliveries_v2[\"purchase_id\"].to_list()}, \n",
        "                                index=pd.DatetimeIndex(deliveries_v2[\"delivery_timestamp\"])).between_time(\"22:00\", \"6:00\")\n",
        "print(len(night_deliveries))"
      ],
      "execution_count": 24,
      "outputs": [
        {
          "output_type": "stream",
          "text": [
            "0\n"
          ],
          "name": "stdout"
        }
      ]
    },
    {
      "cell_type": "markdown",
      "metadata": {
        "collapsed": false,
        "id": "FEC5rXJDyi6h"
      },
      "source": [
        "##### Dostawy w niedziele"
      ]
    },
    {
      "cell_type": "code",
      "metadata": {
        "pycharm": {
          "name": "#%%\n"
        },
        "colab": {
          "base_uri": "https://localhost:8080/",
          "height": 386
        },
        "id": "v3Ll264Hyi6h",
        "outputId": "0c1bf91d-2fd2-42dd-f549-06be733dcd02"
      },
      "source": [
        "preped = deliveries_v2.copy()\n",
        "preped[\"delivery_weekday\"]=preped['delivery_timestamp'].apply(lambda x: x.weekday())\n",
        "\n",
        "plt.figure(figsize=(20,10))\n",
        "sns.displot(preped[\"delivery_weekday\"])\n",
        "plt.show()"
      ],
      "execution_count": 25,
      "outputs": [
        {
          "output_type": "display_data",
          "data": {
            "text/plain": [
              "<Figure size 1440x720 with 0 Axes>"
            ]
          },
          "metadata": {
            "tags": []
          }
        },
        {
          "output_type": "display_data",
          "data": {
            "image/png": "[encoded data removed]",
            "text/plain": [
              "<Figure size 360x360 with 1 Axes>"
            ]
          },
          "metadata": {
            "tags": [],
            "needs_background": "light"
          }
        }
      ]
    },
    {
      "cell_type": "markdown",
      "metadata": {
        "collapsed": false,
        "id": "-E7ZHWEXyi6h"
      },
      "source": [
        "##### Krótkie dostawy"
      ]
    },
    {
      "cell_type": "code",
      "metadata": {
        "pycharm": {
          "name": "#%%\n"
        },
        "colab": {
          "base_uri": "https://localhost:8080/"
        },
        "id": "f8leMqmhyi6i",
        "outputId": "1a50d09a-b286-4367-dcd3-22298fab0c0c"
      },
      "source": [
        "quick_deliveries = merged_full[merged_full[\"time[h]\"]< 12]\n",
        "len(quick_deliveries)"
      ],
      "execution_count": 26,
      "outputs": [
        {
          "output_type": "execute_result",
          "data": {
            "text/plain": [
              "65"
            ]
          },
          "metadata": {
            "tags": []
          },
          "execution_count": 26
        }
      ]
    },
    {
      "cell_type": "code",
      "metadata": {
        "pycharm": {
          "name": "#%%\n"
        },
        "colab": {
          "base_uri": "https://localhost:8080/"
        },
        "id": "R79BCgu4yi6i",
        "outputId": "0dc6e2da-51bc-46d1-9cbe-1f547582e677"
      },
      "source": [
        "quick_deliveries[\"city\"].unique()"
      ],
      "execution_count": 27,
      "outputs": [
        {
          "output_type": "execute_result",
          "data": {
            "text/plain": [
              "array([nan, 'Police', 'Mielec', 'Kutno'], dtype=object)"
            ]
          },
          "metadata": {
            "tags": []
          },
          "execution_count": 27
        }
      ]
    },
    {
      "cell_type": "markdown",
      "metadata": {
        "collapsed": false,
        "id": "VkEwG2Mbyi6i"
      },
      "source": [
        "##### Podsumowanie analizy błędów danych"
      ]
    },
    {
      "cell_type": "markdown",
      "metadata": {
        "collapsed": false,
        "id": "FV6oR7zdyi6j"
      },
      "source": [
        "Znalezione błędy zostały poprawione. Widać, że dostawy w poniedziałki występują teraz około dwóch razy częściej\n",
        "niż te w inne dni tygodnia. Krótkie czasy dostawy (poniżej dwunastu godzin) nadal występują, ale jest to niecały procent danych.\n",
        "Występują one w 4 różnych miastach w Polsce,\n",
        "co wraz z informacją o jednym miejscu wysyłki brzmi co najmniej mało prawdopodobnie. Jest tych danych jednak tak mało,\n",
        "że istnieje możliwość pominięcia ich w dalszym modelowaniu."
      ]
    },
    {
      "cell_type": "markdown",
      "metadata": {
        "collapsed": false,
        "pycharm": {
          "name": "#%% md\n"
        },
        "id": "_QQMLcCTyi6j"
      },
      "source": [
        "### Reprezentatywność"
      ]
    },
    {
      "cell_type": "code",
      "metadata": {
        "pycharm": {
          "name": "#%%\n"
        },
        "colab": {
          "base_uri": "https://localhost:8080/"
        },
        "id": "FU3Vn5Gzyi6j",
        "outputId": "70f9cabb-d164-4249-d150-c6b772648dce"
      },
      "source": [
        "merged_full[\"city\"].unique()"
      ],
      "execution_count": 28,
      "outputs": [
        {
          "output_type": "execute_result",
          "data": {
            "text/plain": [
              "array(['Police', nan, 'Mielec', 'Szczecin', 'Warszawa', 'Radom', 'Kutno',\n",
              "       'Gdynia', 'Konin'], dtype=object)"
            ]
          },
          "metadata": {
            "tags": []
          },
          "execution_count": 28
        }
      ]
    },
    {
      "cell_type": "code",
      "metadata": {
        "pycharm": {
          "name": "#%%\n"
        },
        "colab": {
          "base_uri": "https://localhost:8080/"
        },
        "id": "3iJkJItcyi6k",
        "outputId": "a0b9225d-e5b9-4724-d235-b5da46ae1f20"
      },
      "source": [
        "users_v2[\"city\"].unique()"
      ],
      "execution_count": 29,
      "outputs": [
        {
          "output_type": "execute_result",
          "data": {
            "text/plain": [
              "array(['Police', 'Mielec', 'Szczecin', 'Warszawa', 'Radom', 'Kutno',\n",
              "       'Gdynia', 'Konin'], dtype=object)"
            ]
          },
          "metadata": {
            "tags": []
          },
          "execution_count": 29
        }
      ]
    },
    {
      "cell_type": "markdown",
      "metadata": {
        "collapsed": false,
        "id": "Ad53pZqoyi6k"
      },
      "source": [
        "Wydaje się, że mamy dane dotyczące wszystkich interesujących nas miejsc dostaw, jednak warto byłoby się upewnić,\n",
        "czy firma faktycznie działa tylko w tych 8 miastach."
      ]
    },
    {
      "cell_type": "code",
      "metadata": {
        "pycharm": {
          "name": "#%%\n"
        },
        "colab": {
          "base_uri": "https://localhost:8080/"
        },
        "id": "oboHqICIyi6k",
        "outputId": "4d12d61c-3b5b-45d4-bbc0-94ac4cbb4bfa"
      },
      "source": [
        "cities = merged_full[\"city\"].unique().tolist()\n",
        "cities_count = [(city, len(merged_full[merged_full[\"city\"]==city])) for city in cities]\n",
        "cities_count.append((\"NaN\", len(merged_full[merged_full[\"city\"].isnull()])))\n",
        "for c, n in cities_count:\n",
        "  print(f\"{c}:{n}\")"
      ],
      "execution_count": 30,
      "outputs": [
        {
          "output_type": "stream",
          "text": [
            "Police:1181\n",
            "nan:0\n",
            "Mielec:761\n",
            "Szczecin:1118\n",
            "Warszawa:1045\n",
            "Radom:1005\n",
            "Kutno:575\n",
            "Gdynia:711\n",
            "Konin:1014\n",
            "NaN:402\n"
          ],
          "name": "stdout"
        }
      ]
    },
    {
      "cell_type": "markdown",
      "metadata": {
        "collapsed": false,
        "pycharm": {
          "name": "#%% md\n"
        },
        "id": "kvEhX_IDyi6l"
      },
      "source": [
        "Położenie geograficzne odbiorców jest w miarę równomiernie rozłożone i nie powinno wywoływać problemów."
      ]
    },
    {
      "cell_type": "markdown",
      "metadata": {
        "collapsed": false,
        "id": "OimNzbeXyi6l"
      },
      "source": [
        "W danych znajduje się adres danego użytkownika, jednak sam adres (szczególnie w postaci napisu łączącego i ulicę, i numer bloku i numer mieszkania) nie niesie informacji o położeniu geograficznym miejsca dostawy, a także o relacji odległości pomiędzy różnymi adresami dostaw. Prawdopodobnie źle wpłynie to na zdolność modelu do generalizacji, dlatego należałoby zmienić granularność tego atrybutu np. zastępując go odpowiadającym kodem pocztowym, nazwą ulicy bądź nawet samą nazwą miasta. Te opcje będą rozważane w dalszych etapach realizacji projektu.\n"
      ]
    },
    {
      "cell_type": "markdown",
      "metadata": {
        "collapsed": false,
        "id": "Ia8ayhxVyi6l"
      },
      "source": [
        "### Ponowne sprawdzenie właściwości danych\n"
      ]
    },
    {
      "cell_type": "markdown",
      "metadata": {
        "collapsed": false,
        "id": "f0sM6lGcyi6l"
      },
      "source": [
        "#### Sprawdzenie nowego rozkładu czasu dostawy"
      ]
    },
    {
      "cell_type": "code",
      "metadata": {
        "pycharm": {
          "name": "#%%\n"
        },
        "colab": {
          "base_uri": "https://localhost:8080/",
          "height": 420
        },
        "id": "6rFVOwrEyi6m",
        "outputId": "d2efee96-1fe0-4efe-9011-17d3a0a6aae4"
      },
      "source": [
        "plt.figure(figsize=(20,10))\n",
        "sns.displot(preped[\"time[h]\"]).set(title=\"Rozkład czasu dostawy\")\n"
      ],
      "execution_count": 31,
      "outputs": [
        {
          "output_type": "execute_result",
          "data": {
            "text/plain": [
              "<seaborn.axisgrid.FacetGrid at 0x7fa231ee7d10>"
            ]
          },
          "metadata": {
            "tags": []
          },
          "execution_count": 31
        },
        {
          "output_type": "display_data",
          "data": {
            "text/plain": [
              "<Figure size 1440x720 with 0 Axes>"
            ]
          },
          "metadata": {
            "tags": []
          }
        },
        {
          "output_type": "display_data",
          "data": {
            "image/png": "[encoded data removed]",
            "text/plain": [
              "<Figure size 360x360 with 1 Axes>"
            ]
          },
          "metadata": {
            "tags": [],
            "needs_background": "light"
          }
        }
      ]
    },
    {
      "cell_type": "markdown",
      "metadata": {
        "collapsed": false,
        "id": "y7heaZSHyi6n"
      },
      "source": [
        "Rozkład znacząco się zmienił - maksymalna wartość sięga 120h, zamiast około 220h jak w poprzedniej wersji, środek rozkładu przesunął się dalej od zera. Ogółem rozkład wygląda znacznie bardziej prawdopodobnie i jest zgodny z powszechnym standardem 1-2 dnich roboczych na dostawę. Zniknęło zeń wiele dostaw ultrakrótkich, a zaobserwowane wyjątkowo długie czasy dostaw wynikają najpewniej z rzadkich, lecz prawidłowych zdarzeń. "
      ]
    },
    {
      "cell_type": "markdown",
      "metadata": {
        "collapsed": false,
        "id": "rLetKTBryi6n"
      },
      "source": [
        "#### Sprawdzenie ilości danych"
      ]
    },
    {
      "cell_type": "code",
      "metadata": {
        "pycharm": {
          "name": "#%%\n"
        },
        "colab": {
          "base_uri": "https://localhost:8080/"
        },
        "id": "JDB8xvx_yi6n",
        "outputId": "4c429bec-bf13-498c-bc4c-3dbd4a037ffe"
      },
      "source": [
        "for key, value in data_v2.items():\n",
        "    print(key, \" : \", value.shape)"
      ],
      "execution_count": 32,
      "outputs": [
        {
          "output_type": "stream",
          "text": [
            "products  :  (319, 4)\n",
            "sessions  :  (42883, 7)\n",
            "users  :  (200, 4)\n",
            "deliveries  :  (7812, 7)\n"
          ],
          "name": "stdout"
        }
      ]
    },
    {
      "cell_type": "markdown",
      "metadata": {
        "collapsed": false,
        "id": "V_pcZzo_yi6o"
      },
      "source": [
        "Danych nadal jest zadowalająco dużo."
      ]
    },
    {
      "cell_type": "markdown",
      "metadata": {
        "collapsed": false,
        "id": "zkldMc9xyi6p"
      },
      "source": [
        "#### Sprawdzenie rozkładu dostaw pomiędzy firmami"
      ]
    },
    {
      "cell_type": "code",
      "metadata": {
        "pycharm": {
          "name": "#%%\n"
        },
        "colab": {
          "base_uri": "https://localhost:8080/",
          "height": 730
        },
        "id": "FYFMnNlXyi6q",
        "outputId": "b97100a8-ef83-4e82-bba6-fb5e1d2c687c"
      },
      "source": [
        "companies = preped[\"delivery_company\"].unique()\n",
        "dfs = {\n",
        "    \"unknown\": preped[preped['delivery_company'].isna()][\"time[h]\"],\n",
        "    \"360\": preped[preped['delivery_company']==360][\"time[h]\"],\n",
        "    \"516\": preped[preped['delivery_company']==516][\"time[h]\"],\n",
        "    \"620\": preped[preped['delivery_company']==620][\"time[h]\"]\n",
        "}\n",
        "\n",
        "fgs, axes = plt.subplots(2, 2, figsize=(12,12))\n",
        "axs = [axes[i][j] for i in [0,1] for j in [0,1]]\n",
        "i=0\n",
        "for key, df in dfs.items():\n",
        "  sns.histplot(data = df, binwidth=1, ax = axs[i])\n",
        "  axs[i].title.set_text(key)\n",
        "  i+=1\n",
        "plt.show()"
      ],
      "execution_count": 33,
      "outputs": [
        {
          "output_type": "display_data",
          "data": {
            "image/png": "[encoded data removed]",
            "text/plain": [
              "<Figure size 864x864 with 4 Axes>"
            ]
          },
          "metadata": {
            "tags": [],
            "needs_background": "light"
          }
        }
      ]
    },
    {
      "cell_type": "markdown",
      "metadata": {
        "collapsed": false,
        "id": "UQM5k-R6yi6q"
      },
      "source": [
        "Dane o brakujących firmach zostały uzupełnione. Dane w firmach bardziej się różnią - w związku z czym zmienna oznaczająca\n",
        "firmę dostawczą prawdopodobnie będzie miała większy wpływ w modelowaniu.\n"
      ]
    },
    {
      "cell_type": "markdown",
      "metadata": {
        "collapsed": false,
        "id": "A7CfAQHhyi6r"
      },
      "source": [
        "### Sprawdzanie powiązań między zmiennymi i wstępny wybór danych wejściowych"
      ]
    },
    {
      "cell_type": "code",
      "metadata": {
        "pycharm": {
          "name": "#%%\n"
        },
        "colab": {
          "base_uri": "https://localhost:8080/",
          "height": 812
        },
        "id": "JOju6L6ayi6s",
        "outputId": "12ff76bc-0052-4004-f3d8-e5f3aba428f5"
      },
      "source": [
        "from sklearn.metrics import mutual_info_score\n",
        "\n",
        "def calc_mutual_info_score(df):\n",
        "  attributes = df.columns.to_list()\n",
        "  scores = pd.DataFrame(data = np.zeros((len(attributes), len(attributes))), columns = attributes, index = attributes)\n",
        "  for i in range(len(attributes)):\n",
        "    for j in range(i, len(attributes)):\n",
        "      at1 = attributes[i]\n",
        "      at2 = attributes[j]\n",
        "      mi_score = mutual_info_score(df[at1], df[at2])\n",
        "      scores[at1][at2] = mi_score\n",
        "      scores[at2][at1] = mi_score\n",
        "  return scores\n",
        "\n",
        "#data prep\n",
        "merged_full[\"purchase_timestamp\"] = pd.to_datetime ( merged_full[\"purchase_timestamp\"], format='%Y-%m-%dT%H:%M', errors=\"coerce\")\n",
        "merged_full['delivery_timestamp'] = pd.to_datetime ( merged_full[\"delivery_timestamp\"], format='%Y-%m-%dT%H:%M:%S', errors=\"coerce\")\n",
        "merged_full[\"delivery_time[min]\"] = (merged_full['delivery_timestamp'] - merged_full[\"purchase_timestamp\"]).apply(lambda x: x.total_seconds()//60)\n",
        "temp = merged_full.drop(labels=[\"delivery_timestamp\"], axis=1)\n",
        "temp = temp.dropna()\n",
        "\n",
        "mi_scores = calc_mutual_info_score(temp)\n",
        "plt.figure(figsize=(12,12))\n",
        "sns.heatmap(mi_scores)"
      ],
      "execution_count": 34,
      "outputs": [
        {
          "output_type": "execute_result",
          "data": {
            "text/plain": [
              "<matplotlib.axes._subplots.AxesSubplot at 0x7fa231f5eb10>"
            ]
          },
          "metadata": {
            "tags": []
          },
          "execution_count": 34
        },
        {
          "output_type": "display_data",
          "data": {
            "image/png": "[encoded data removed]",
            "text/plain": [
              "<Figure size 864x864 with 2 Axes>"
            ]
          },
          "metadata": {
            "tags": [],
            "needs_background": "light"
          }
        }
      ]
    },
    {
      "cell_type": "code",
      "metadata": {
        "pycharm": {
          "name": "#%%\n"
        },
        "colab": {
          "base_uri": "https://localhost:8080/"
        },
        "id": "NMIrC4vpyi6u",
        "outputId": "c12dd84a-fb55-4b46-beb1-0739dfbffb4f"
      },
      "source": [
        "print(\"Identical timestamps for purchase and session: \",len(merged_full[merged_full[\"timestamp\"] == merged_full[\"purchase_timestamp\"]]))\n",
        "print(\"Different session events: \", merged_full[\"event_type\"].nunique())\n",
        "print(\"Different session_ids: \", merged_full[\"session_id\"].nunique())\n",
        "print(\"Different purchase_ids: \", merged_full[\"purchase_id\"].nunique())\n",
        "print(\"Different buy timestamps: \", merged_full[\"timestamp\"].nunique())"
      ],
      "execution_count": 35,
      "outputs": [
        {
          "output_type": "stream",
          "text": [
            "Identical timestamps for purchase and session:  7812\n",
            "Different session events:  1\n",
            "Different session_ids:  7812\n",
            "Different purchase_ids:  7812\n",
            "Different buy timestamps:  7809\n"
          ],
          "name": "stdout"
        }
      ]
    },
    {
      "cell_type": "code",
      "metadata": {
        "pycharm": {
          "name": "#%%\n"
        },
        "id": "MuK8_uVhyi6v"
      },
      "source": [
        "merged_full[\"purchase_day_of_week\"] = merged_full[\"purchase_timestamp\"].apply(lambda x: x.day_name())\n",
        "merged_full[\"purchase_hour\"] = merged_full[\"purchase_timestamp\"].apply(lambda x: x.hour)"
      ],
      "execution_count": 36,
      "outputs": []
    },
    {
      "cell_type": "markdown",
      "metadata": {
        "collapsed": false,
        "id": "8nO8-5VYyi6v"
      },
      "source": [
        "\n",
        "Ze zbioru danych wejściowych możemy na pewno na wstępie odrzucić atrybuty:\n",
        "- event_type, gdyż jest tylko jeden (\"BUY_EVENT\"),\n",
        "- session_id i purchase id, gdyż każdy zakup  ma je unikatowe,\n",
        "- timestamp, bo jest identyczny do purchase_timestamp, a nie potrzebujemy idealnie zduplikowanych danych,\n",
        "- purchase timestamp, bo przyjmuje niemal zawsze unikatowe wartości.\n",
        "\n",
        "Atrybuty \"timestamp\" i \"purchase_timestamp\" zastąpione zostaną atrybutami \"purchase_day_of_week\" (dzień tygodnia) i \"purchase_hour\" (godzina zakupu zaokrąglona w dół). Spodziewamy się że te zmienne pozwolą lepiej odzwierciedlić spodziewany dobowy i godzinowy trend w rozkładzie czasu dostay.\n",
        "\n",
        "Ponadto z danych usunięte też będą atrybuty user_id, name i street (która zawiera nie tylko ulicę, ale też numer bloku i mieszkania konkretnego użytkownika), ponieważ nie zawierają informacji, które będą się dobrze generalizować, a raczej te identyfikujące konkretnych użytkowników. Oczywiście adres to prawdopodobnie cenna informacja, przydatna do przewidzenia czasu dostawy, jednak będzie potrzebny na większym poziomie granulacji np. miast, ulic, a może rejonów związanych z kodami pocztowymi.\n",
        "\n",
        "Atrybuty, które planujemy pozostawić w modelu:\n",
        "product_id, offered_discount, delivery_company, city,\n",
        "product_name, category_path, price, purchase_day_of_week, purchase_hour.\n",
        "\n",
        "Atrybutem wyjściowym modelu będzie: delivery_time[min], obliczany z danych jako różnica czasu pomiędzy delivery_timestamp i purchase_timestamp, zaokrąglona do minut. Z tak wyliczonej różnicy czasowej będzie można później z łatwością wyliczyć przewidywany czas dostawy i zaprezentować klientowi."
      ]
    },
    {
      "cell_type": "code",
      "metadata": {
        "pycharm": {
          "name": "#%%\n"
        },
        "id": "fNrzdYwdyi6w"
      },
      "source": [
        "selected = merged_full[['product_id', 'offered_discount', 'delivery_company',\n",
        "                     'city', 'product_name', 'category_path', 'price',\n",
        "                     'purchase_day_of_week', 'purchase_hour', 'delivery_time[min]']]\n",
        "target = 'delivery_time[min]'"
      ],
      "execution_count": 37,
      "outputs": []
    },
    {
      "cell_type": "code",
      "metadata": {
        "pycharm": {
          "name": "#%%\n"
        },
        "colab": {
          "base_uri": "https://localhost:8080/",
          "height": 823
        },
        "id": "8U7_lO5Gyi6w",
        "outputId": "7e7058e2-944b-4534-82e9-c147b649d3f2"
      },
      "source": [
        "selected = selected.dropna()\n",
        "mi_scores = calc_mutual_info_score(selected)\n",
        "plt.figure(figsize=(12,12))\n",
        "sns.heatmap(mi_scores)"
      ],
      "execution_count": 38,
      "outputs": [
        {
          "output_type": "execute_result",
          "data": {
            "text/plain": [
              "<matplotlib.axes._subplots.AxesSubplot at 0x7fa231dff0d0>"
            ]
          },
          "metadata": {
            "tags": []
          },
          "execution_count": 38
        },
        {
          "output_type": "display_data",
          "data": {
            "image/png": "[encoded data removed]",
            "text/plain": [
              "<Figure size 864x864 with 2 Axes>"
            ]
          },
          "metadata": {
            "tags": [],
            "needs_background": "light"
          }
        }
      ]
    },
    {
      "cell_type": "markdown",
      "metadata": {
        "collapsed": false,
        "id": "vnLIXTnVyi6w"
      },
      "source": [
        "### Drzewo decyzyjne"
      ]
    },
    {
      "cell_type": "code",
      "metadata": {
        "pycharm": {
          "name": "#%%\n"
        },
        "colab": {
          "base_uri": "https://localhost:8080/"
        },
        "id": "OBAMIe_Hyi6x",
        "outputId": "fd546e93-fb0d-4451-8878-44c4fd4f8449"
      },
      "source": [
        "from sklearn.linear_model import LinearRegression\n",
        "from sklearn.model_selection import train_test_split\n",
        "from sklearn.metrics import median_absolute_error\n",
        "from sklearn.preprocessing import LabelEncoder\n",
        "\n",
        "\n",
        "x_train, x_test, y_train, y_test = train_test_split(\n",
        "    selected.drop(target, axis=1),selected[target], random_state=23, test_size=0.2)\n",
        "\n",
        "# minimalne przetworzenie danych niezbędne do zastosowania regresji liniowej\n",
        "categoricals = x_train.select_dtypes(object).columns.to_list()\n",
        "encoder = LabelEncoder()\n",
        "for c in categoricals:\n",
        "  x_train.loc[:,c] = encoder.fit_transform(x_train[c].astype(str))\n",
        "  x_test.loc[:,c] = encoder.transform(x_test[c].astype(str))\n",
        "\n",
        "\n",
        "\n",
        "reg = LinearRegression()\n",
        "reg.fit(x_train, y_train)\n",
        "pred_train = reg.predict(x_train)\n",
        "pred_test = reg.predict(x_test)\n",
        "\n",
        "train_score = median_absolute_error(pred_train, y_train)\n",
        "test_score = median_absolute_error(pred_test, y_test)\n",
        "print(f'Train Median absolute error: {train_score}, test Median absolute error: {test_score}')"
      ],
      "execution_count": 39,
      "outputs": [
        {
          "output_type": "stream",
          "text": [
            "Train Median absolute error: 780.3592599998249, test Median absolute error: 803.5931909265801\n"
          ],
          "name": "stdout"
        }
      ]
    },
    {
      "cell_type": "markdown",
      "metadata": {
        "collapsed": false,
        "id": "j-JNW2pZyi6x"
      },
      "source": [
        "### Wnioski i pytania"
      ]
    },
    {
      "cell_type": "markdown",
      "metadata": {
        "collapsed": false,
        "pycharm": {
          "name": "#%% md\n"
        },
        "id": "pV1-wSFlyi6x"
      },
      "source": [
        "Dane uległy znaczącej poprawie, wyeliminowano większość znalezionych błędów. Otrzymane dane wydają się dostatecznie dobre do zbudowania modelu o satysfakcjonującym działaniu, co potwierdziliśmy sprawdzając wyniki działania algorytmu regresji liniowej z minimalnym wstępnym przetworzeniem danych. \n",
        "Nadal mamy problem z bardzo krótkimi czasami dostawy, ale jest to na tyle mało przypadków,\n",
        "że będzie można rozważyć ich pominięcie przy procesie uczenia.\n",
        "\n",
        "Na podstawie kolejnej analizy pojawiły się nowe pytania:\n",
        "- Czy jest możliwość uzupełnienia brakujących informacji o użytkownikach, którzy zakupili produkty? (Braki w kolumnie *user_id* w tabeli *sessions*).\n",
        "- Czy firma działa tylko w 8 miastach obecnych w danych?\n",
        "\n"
      ]
    }
  ]
}