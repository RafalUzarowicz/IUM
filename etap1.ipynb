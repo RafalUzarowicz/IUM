{
 "cells": [
  {
   "cell_type": "markdown",
   "source": [
    "# Niejasności/głupoty/pytania:\n",
    "\n",
    "- Jakie powinno być biznesowe kryterium sukcesu? +- godzina? Czy to ma sens tylko przy cichym założeniu że czas dostawy <24h?\n",
    "- W jaki sposób ustalić na podstawie danych kryterium sukcesu? Zbudować już wstępny model żeby to zrobić?\n",
    "- Może głupie ale czy powinniśmy sprawdzić powiązanie wszystkich atrybutów ze zmienną celu i dopiero wtedy wybierać czy raczej od razu cisnąć na logikę to co się wydaje?"
   ],
   "metadata": {
    "collapsed": false
   }
  },
  {
   "cell_type": "markdown",
   "metadata": {
    "collapsed": true,
    "pycharm": {
     "name": "#%% md\n"
    }
   },
   "source": [
    "# TODO:\n",
    "- definicję problemu biznesowego,\n",
    "- zdefiniowanie zadania/zadań modelowania i\n",
    "- wszystkich założeń, zaproponowania kryteriów sukcesu),\n",
    "- ii) analizę danych z perspektywy realizacji tych zadań (trzeba ocenić,\n",
    "- czy dostarczone dane są wystarczające – może czegoś brakuje, może coś trzeba poprawić, domagać się\n",
    "innych danych, …),\n",
    "- wstępne dane wejściowe i zmienna celu\n",
    "- wartości kryterium sukcesu na podstawie danych\n",
    "-\n",
    "\n",
    "\n",
    "- oszacowanie tego jaką dokładnie wartość powinna mieć miara, którą będziemy stosować na podstawie tego, co mamy\n",
    "- no jakieś takie sensowne spięcie całości.\n",
    "- komentarze odnośnie nowych danych (po połączeniu wszystkiego wciąż są brakujące wartości, dalej mamy dostawy <1h)\n",
    "- macierz korelacji zmiennych zobrazowana na heatmapie (sns.heatmap)\n",
    "- podzielić to co wiemy o danych na jakieś sensowne sekcje (nwm analiza starych danych, analiza nowych danych, sformułowanie problemów, etc)\n",
    "\n",
    "\n",
    "- info o atrybutach czyli typ i wartosci\n",
    "- sprawdzenie bledow i brakow\n",
    "- czy dane sie wgl nadaja do modelowania\n",
    "- informacja o zmiennej celu"
   ]
  },
  {
   "cell_type": "markdown",
   "source": [
    "## IUM - projekt\n",
    "#### Autorzy:\n",
    "Joanna Sokołowska, Rafał Uzarowicz\n",
    "#### Zadanie:\n",
    "3. “Wygląda na to, że nasze firmy kurierskie czasami nie radzą sobie z dostawami. Gdybyśmy\n",
    "wiedzieli, ile taka dostawa dla danego zamówienia potrwa – moglibyśmy przekazywać tą\n",
    "informację klientom.\""
   ],
   "metadata": {
    "collapsed": false
   }
  },
  {
   "cell_type": "code",
   "execution_count": null,
   "outputs": [],
   "source": [
    "# Ustawienie środowiska\n",
    "\n",
    "# Wstępne dane\n",
    "data_v1_dir =\"/data/data_v1\"\n",
    "\n",
    "deliveries_v1_path = data_v1_dir + \"deliveries.jsonl\"\n",
    "sessions_v1_path = data_v1_dir + \"sessions.jsonl\"\n",
    "users_v1_path = data_v1_dir + \"users.jsonl\"\n",
    "products_v1_path = data_v1_dir + \"products.jsonl\"\n",
    "\n",
    "# Pierwsza aktualizacja\n",
    "data_v2_dir =\"/data/data_v2\"\n",
    "\n",
    "deliveries_v2_path = data_v2_dir + \"deliveries.jsonl\"\n",
    "sessions_v2_path = data_v2_dir + \"sessions.jsonl\"\n",
    "users_v2_path = data_v2_dir + \"users.jsonl\"\n",
    "products_v2_path = data_v2_dir + \"products.jsonl\"\n",
    "\n",
    "# Tutaj może importy?"
   ],
   "metadata": {
    "collapsed": false,
    "pycharm": {
     "name": "#%%\n"
    }
   }
  },
  {
   "cell_type": "markdown",
   "source": [
    "# Zadanie\n",
    "\n",
    "### Tło biznesowe\n",
    "\n",
    "#### Zadanie biznesowe\n",
    "Przewidywanie przybliżonego czasu dostawy produktu.\n",
    "\n",
    "#### Biznesowe kryterium sukcesu\n",
    "Przewidywany przez system czas dostawy nie powinien zbytnio odstawać od rzeczywistego czasu dostawy.\n",
    "\n",
    "\n",
    "### Model\n",
    "\n",
    "#### Zadanie modelowania\n",
    "Przewidywanie czasu dostawy przy użyciu regresji.\n",
    "\n",
    "#### Analityczne kryterium sukcesu\n",
    "\n",
    "NIE WIEM CO TUTEJ KURLA\n",
    "\n",
    "Kryteria oceny modelu mogą być takie jak zazwyczaj dla regresji np. MSE, lub absolute mean error. Dodatkowo można zamiast\n",
    "jednego czasu dostawy przewidywać okno dostawy o założonej szerokości np. 2h i zastosować własną, niestandardową funkcję celu,\n",
    "która traktuje wszystkie dostawy, które wpadły w okienko jako przewidziane poprawnie.\n",
    "\n",
    "#### Zmienna celu\n",
    "Przybliżona liczba godzin potrzebnych na dostawę produktu.\n"
   ],
   "metadata": {
    "collapsed": false
   }
  },
  {
   "cell_type": "markdown",
   "source": [
    "## Wstępna analiza zbioru danych\n",
    "\n",
    "- krotki opis danych\n",
    "\n",
    "- przeglad kolumn\n",
    "\n",
    "- sprawdzenie powiazania wszystkiego ze zmienna celu?????????????????????????????????????????????????\n",
    "\n",
    "- typ i wartosci wybranych atrybutow\n",
    "\n",
    "- ustalenie wejscia do modelu ?\n",
    "\n",
    "- sprawdzenie powiazania wejscia ze zmienna celu ?"
   ],
   "metadata": {
    "collapsed": false
   }
  },
  {
   "cell_type": "markdown",
   "source": [
    "# Analiza wstępnie wybranych danych\n",
    "\n",
    "- sprawdzenie ilosci/jakości/reprezentatywności danych\n",
    "\n",
    "- sprawdzenie brakow w danych\n",
    "\n",
    "- sprawdzenie bledow w danych\n",
    "\n",
    "- tutaj wnioski\n",
    "\n",
    "- tutaj pytania ktore trzeba zadac do klienta\n"
   ],
   "metadata": {
    "collapsed": false,
    "pycharm": {
     "name": "#%% md\n"
    }
   }
  },
  {
   "cell_type": "markdown",
   "source": [
    "# Analiza pierwszej modyfikacji zbioru danych\n",
    "\n",
    "- odpowiedzi od klienta/krotki opis aktualizacji danych\n",
    "\n",
    "- sprawdzenie czy poprawiono poprzednie problemy\n",
    "\n",
    "- sprawdzenie czy istnieja elementy odstajace\n",
    "\n",
    "- sprawdzenie rozkladow?\n",
    "\n",
    "- tutaj wnioski\n",
    "\n",
    "- tutaj pytania ktore trzeba zadac do klienta"
   ],
   "metadata": {
    "collapsed": false,
    "pycharm": {
     "name": "#%% md\n"
    }
   }
  }
 ],
 "metadata": {
  "kernelspec": {
   "display_name": "Python 3",
   "language": "python",
   "name": "python3"
  },
  "language_info": {
   "codemirror_mode": {
    "name": "ipython",
    "version": 2
   },
   "file_extension": ".py",
   "mimetype": "text/x-python",
   "name": "python",
   "nbconvert_exporter": "python",
   "pygments_lexer": "ipython2",
   "version": "2.7.6"
  }
 },
 "nbformat": 4,
 "nbformat_minor": 0
}