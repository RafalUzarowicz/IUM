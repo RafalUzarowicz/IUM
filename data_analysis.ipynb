{
 "nbformat": 4,
 "nbformat_minor": 0,
 "metadata": {
  "colab": {
   "name": "data-analysis.ipynb",
   "provenance": [],
   "collapsed_sections": [],
   "toc_visible": true,
   "mount_file_id": "1uBw7iGPrnO12Fav0ftfv7j2psxEiqc2R",
   "authorship_tag": "ABX9TyNR5v8V+GqpO3HHBYn/p+hi",
   "include_colab_link": true
  },
  "kernelspec": {
   "name": "python3",
   "language": "python",
   "display_name": "Python 3"
  },
  "language_info": {
   "name": "python"
  }
 },
 "cells": [
  {
   "cell_type": "markdown",
   "metadata": {
    "id": "view-in-github",
    "colab_type": "text"
   },
   "source": [
    "<a href=\"https://colab.research.google.com/github/RafalUzarowicz/IUM/blob/master/data_analysis.ipynb\" target=\"_parent\"><img src=\"https://colab.research.google.com/assets/colab-badge.svg\" alt=\"Open In Colab\"/></a>"
   ]
  },
  {
   "cell_type": "markdown",
   "source": [],
   "metadata": {
    "collapsed": false
   }
  },
  {
   "cell_type": "markdown",
   "metadata": {
    "id": "yIr8DWdJXwxm"
   },
   "source": [
    "Setup\n",
    "===\n"
   ]
  },
  {
   "cell_type": "markdown",
   "metadata": {
    "id": "x3VEvlReX8Nz"
   },
   "source": [
    "Zadanie biznesowe: \n",
    "\n",
    "*Wygląda na to, że nasze firmy kurierskie czasami nie radzą sobie z dostawami. Gdybyśmy wiedzieli, ile taka dostawa dla danego zamówienia potrwa – moglibyśmy przekazywać tą informację klientom.*\n",
    "\n",
    "Zadanie modelowania:\n",
    "\n",
    "Zadanie regregresji - przewidzieć czas dostawy zamówienia. Kryteria oceny modelu mogą być takie jak zazwyczaj dla regresji np. MSE, lub absolute mean error. Dodatkowo można zamiast jednego czasu dostawy przewidywać okno dostawy o założonej szerokości np. 2h i zastosować własną, niestandardową funkcję celu, która traktuje wszystkie dostawy, które wpadły w okienko jako przewidziane poprawnie."
   ]
  },
  {
   "cell_type": "code",
   "metadata": {
    "id": "Xnat2DuhXAG7"
   },
   "source": [
    "import pandas as pd\n",
    "\n"
   ],
   "execution_count": 1,
   "outputs": []
  },
  {
   "cell_type": "code",
   "metadata": {
    "id": "ZhWbsasxYbR5"
   },
   "source": [
    "data_dir =\"/content/drive/MyDrive/Data/IUM/\"\n",
    "\n",
    "deliveries = pd.read_json(data_dir + \"deliveries.jsonl\", lines=True)\n",
    "sessions = pd.read_json(data_dir + \"sessions.jsonl\", lines=True)\n",
    "users = pd.read_json(data_dir + \"users.jsonl\", lines=True)\n",
    "products = pd.read_json(data_dir + \"products.jsonl\", lines=True)\n",
    "\n",
    "data = {\"products\": products, \"sessions\": sessions, \"users\": users, \"deliveries\":deliveries}"
   ],
   "execution_count": null,
   "outputs": []
  },
  {
   "cell_type": "code",
   "metadata": {
    "colab": {
     "base_uri": "https://localhost:8080/",
     "height": 206
    },
    "id": "21uzQm3DutiD",
    "outputId": "a5bd1443-05b6-469f-b868-7c6a824dac0d"
   },
   "source": [
    "deliveries.head()"
   ],
   "execution_count": null,
   "outputs": [
    {
     "output_type": "execute_result",
     "data": {
      "text/html": [
       "<div>\n",
       "<style scoped>\n",
       "    .dataframe tbody tr th:only-of-type {\n",
       "        vertical-align: middle;\n",
       "    }\n",
       "\n",
       "    .dataframe tbody tr th {\n",
       "        vertical-align: top;\n",
       "    }\n",
       "\n",
       "    .dataframe thead th {\n",
       "        text-align: right;\n",
       "    }\n",
       "</style>\n",
       "<table border=\"1\" class=\"dataframe\">\n",
       "  <thead>\n",
       "    <tr style=\"text-align: right;\">\n",
       "      <th></th>\n",
       "      <th>purchase_id</th>\n",
       "      <th>purchase_timestamp</th>\n",
       "      <th>delivery_timestamp</th>\n",
       "      <th>delivery_company</th>\n",
       "    </tr>\n",
       "  </thead>\n",
       "  <tbody>\n",
       "    <tr>\n",
       "      <th>0</th>\n",
       "      <td>20001</td>\n",
       "      <td>2021-02-21T12:09:40</td>\n",
       "      <td>2021-02-22T15:06:21.051360</td>\n",
       "      <td>620.0</td>\n",
       "    </tr>\n",
       "    <tr>\n",
       "      <th>1</th>\n",
       "      <td>20002</td>\n",
       "      <td>2021-02-17T15:08:51</td>\n",
       "      <td>2021-02-21T12:16:54.977640</td>\n",
       "      <td>360.0</td>\n",
       "    </tr>\n",
       "    <tr>\n",
       "      <th>2</th>\n",
       "      <td>20003</td>\n",
       "      <td>2021-01-22T14:41:01</td>\n",
       "      <td>2021-01-22T15:19:19.040428</td>\n",
       "      <td>516.0</td>\n",
       "    </tr>\n",
       "    <tr>\n",
       "      <th>3</th>\n",
       "      <td>20004</td>\n",
       "      <td>2021-01-15T12:41:14</td>\n",
       "      <td>2021-01-13T22:45:05.607434</td>\n",
       "      <td>516.0</td>\n",
       "    </tr>\n",
       "    <tr>\n",
       "      <th>4</th>\n",
       "      <td>20005</td>\n",
       "      <td>2021-01-14T02:50:19</td>\n",
       "      <td>2021-01-14T11:35:28.612753</td>\n",
       "      <td>516.0</td>\n",
       "    </tr>\n",
       "  </tbody>\n",
       "</table>\n",
       "</div>"
      ],
      "text/plain": [
       "   purchase_id  ... delivery_company\n",
       "0        20001  ...            620.0\n",
       "1        20002  ...            360.0\n",
       "2        20003  ...            516.0\n",
       "3        20004  ...            516.0\n",
       "4        20005  ...            516.0\n",
       "\n",
       "[5 rows x 4 columns]"
      ]
     },
     "metadata": {
      "tags": []
     },
     "execution_count": 3
    }
   ]
  },
  {
   "cell_type": "markdown",
   "metadata": {
    "id": "0NFY_7RkutSH"
   },
   "source": [
    ""
   ]
  },
  {
   "cell_type": "markdown",
   "metadata": {
    "id": "Cznw7mzglsWC"
   },
   "source": [
    "Eksploracyjna analiza danych \n",
    "======"
   ]
  },
  {
   "cell_type": "code",
   "metadata": {
    "colab": {
     "base_uri": "https://localhost:8080/"
    },
    "id": "T0Q0anYTZSXl",
    "outputId": "60fb38b1-7015-4481-95ca-a8d4de93f055"
   },
   "source": [
    "print(deliveries.shape, sessions.shape, users.shape, products.shape)\n",
    "print(deliveries.columns, \"\\n\", sessions.columns,\"\\n\", users.columns,\"\\n\", products.columns)"
   ],
   "execution_count": null,
   "outputs": [
    {
     "output_type": "stream",
     "text": [
      "(6993, 4) (37690, 7) (200, 4) (319, 4)\n",
      "Index(['purchase_id', 'purchase_timestamp', 'delivery_timestamp',\n",
      "       'delivery_company'],\n",
      "      dtype='object') \n",
      " Index(['session_id', 'timestamp', 'user_id', 'product_id', 'event_type',\n",
      "       'offered_discount', 'purchase_id'],\n",
      "      dtype='object') \n",
      " Index(['user_id', 'name', 'city', 'street'], dtype='object') \n",
      " Index(['product_id', 'product_name', 'category_path', 'price'], dtype='object')\n"
     ],
     "name": "stdout"
    }
   ]
  },
  {
   "cell_type": "markdown",
   "metadata": {
    "id": "1XzO4FD6mOuX"
   },
   "source": [
    "Ilościowo danych wydaje się być dostatecznie dużo, w najbardziej interesującej nas tabeli (deliveries) jest niemal 7 tysięcy wierszy, co powinno być dość zarówno do wytrenowania, walidacji jak i testowania modelu. \n"
   ]
  },
  {
   "cell_type": "code",
   "metadata": {
    "colab": {
     "base_uri": "https://localhost:8080/",
     "height": 206
    },
    "id": "muLfv8CdZ36k",
    "outputId": "43800529-da0c-46b9-fea9-4a794bc0b904"
   },
   "source": [
    "deliveries.head()"
   ],
   "execution_count": null,
   "outputs": [
    {
     "output_type": "execute_result",
     "data": {
      "text/html": [
       "<div>\n",
       "<style scoped>\n",
       "    .dataframe tbody tr th:only-of-type {\n",
       "        vertical-align: middle;\n",
       "    }\n",
       "\n",
       "    .dataframe tbody tr th {\n",
       "        vertical-align: top;\n",
       "    }\n",
       "\n",
       "    .dataframe thead th {\n",
       "        text-align: right;\n",
       "    }\n",
       "</style>\n",
       "<table border=\"1\" class=\"dataframe\">\n",
       "  <thead>\n",
       "    <tr style=\"text-align: right;\">\n",
       "      <th></th>\n",
       "      <th>purchase_id</th>\n",
       "      <th>purchase_timestamp</th>\n",
       "      <th>delivery_timestamp</th>\n",
       "      <th>delivery_company</th>\n",
       "    </tr>\n",
       "  </thead>\n",
       "  <tbody>\n",
       "    <tr>\n",
       "      <th>0</th>\n",
       "      <td>20001</td>\n",
       "      <td>2021-02-21T12:09:40</td>\n",
       "      <td>2021-02-22T15:06:21.051360</td>\n",
       "      <td>620.0</td>\n",
       "    </tr>\n",
       "    <tr>\n",
       "      <th>1</th>\n",
       "      <td>20002</td>\n",
       "      <td>2021-02-17T15:08:51</td>\n",
       "      <td>2021-02-21T12:16:54.977640</td>\n",
       "      <td>360.0</td>\n",
       "    </tr>\n",
       "    <tr>\n",
       "      <th>2</th>\n",
       "      <td>20003</td>\n",
       "      <td>2021-01-22T14:41:01</td>\n",
       "      <td>2021-01-22T15:19:19.040428</td>\n",
       "      <td>516.0</td>\n",
       "    </tr>\n",
       "    <tr>\n",
       "      <th>3</th>\n",
       "      <td>20004</td>\n",
       "      <td>2021-01-15T12:41:14</td>\n",
       "      <td>2021-01-13T22:45:05.607434</td>\n",
       "      <td>516.0</td>\n",
       "    </tr>\n",
       "    <tr>\n",
       "      <th>4</th>\n",
       "      <td>20005</td>\n",
       "      <td>2021-01-14T02:50:19</td>\n",
       "      <td>2021-01-14T11:35:28.612753</td>\n",
       "      <td>516.0</td>\n",
       "    </tr>\n",
       "  </tbody>\n",
       "</table>\n",
       "</div>"
      ],
      "text/plain": [
       "   purchase_id  ... delivery_company\n",
       "0        20001  ...            620.0\n",
       "1        20002  ...            360.0\n",
       "2        20003  ...            516.0\n",
       "3        20004  ...            516.0\n",
       "4        20005  ...            516.0\n",
       "\n",
       "[5 rows x 4 columns]"
      ]
     },
     "metadata": {
      "tags": []
     },
     "execution_count": 5
    }
   ]
  },
  {
   "cell_type": "code",
   "metadata": {
    "colab": {
     "base_uri": "https://localhost:8080/",
     "height": 206
    },
    "id": "ty-qEwMWZ334",
    "outputId": "5f37664b-913e-46e6-a66c-c2f0f88b2c52"
   },
   "source": [
    "sessions.head()"
   ],
   "execution_count": null,
   "outputs": [
    {
     "output_type": "execute_result",
     "data": {
      "text/html": [
       "<div>\n",
       "<style scoped>\n",
       "    .dataframe tbody tr th:only-of-type {\n",
       "        vertical-align: middle;\n",
       "    }\n",
       "\n",
       "    .dataframe tbody tr th {\n",
       "        vertical-align: top;\n",
       "    }\n",
       "\n",
       "    .dataframe thead th {\n",
       "        text-align: right;\n",
       "    }\n",
       "</style>\n",
       "<table border=\"1\" class=\"dataframe\">\n",
       "  <thead>\n",
       "    <tr style=\"text-align: right;\">\n",
       "      <th></th>\n",
       "      <th>session_id</th>\n",
       "      <th>timestamp</th>\n",
       "      <th>user_id</th>\n",
       "      <th>product_id</th>\n",
       "      <th>event_type</th>\n",
       "      <th>offered_discount</th>\n",
       "      <th>purchase_id</th>\n",
       "    </tr>\n",
       "  </thead>\n",
       "  <tbody>\n",
       "    <tr>\n",
       "      <th>0</th>\n",
       "      <td>100001</td>\n",
       "      <td>2021-02-21 12:00:09</td>\n",
       "      <td>102.0</td>\n",
       "      <td>NaN</td>\n",
       "      <td>VIEW_PRODUCT</td>\n",
       "      <td>0</td>\n",
       "      <td>NaN</td>\n",
       "    </tr>\n",
       "    <tr>\n",
       "      <th>1</th>\n",
       "      <td>100001</td>\n",
       "      <td>2021-02-21 12:05:06</td>\n",
       "      <td>102.0</td>\n",
       "      <td>1319.0</td>\n",
       "      <td>VIEW_PRODUCT</td>\n",
       "      <td>0</td>\n",
       "      <td>NaN</td>\n",
       "    </tr>\n",
       "    <tr>\n",
       "      <th>2</th>\n",
       "      <td>100001</td>\n",
       "      <td>2021-02-21 12:07:17</td>\n",
       "      <td>102.0</td>\n",
       "      <td>1317.0</td>\n",
       "      <td>VIEW_PRODUCT</td>\n",
       "      <td>0</td>\n",
       "      <td>NaN</td>\n",
       "    </tr>\n",
       "    <tr>\n",
       "      <th>3</th>\n",
       "      <td>100001</td>\n",
       "      <td>2021-02-21 12:09:40</td>\n",
       "      <td>102.0</td>\n",
       "      <td>1317.0</td>\n",
       "      <td>BUY_PRODUCT</td>\n",
       "      <td>0</td>\n",
       "      <td>20001.0</td>\n",
       "    </tr>\n",
       "    <tr>\n",
       "      <th>4</th>\n",
       "      <td>100002</td>\n",
       "      <td>2021-02-17 15:08:42</td>\n",
       "      <td>102.0</td>\n",
       "      <td>1278.0</td>\n",
       "      <td>VIEW_PRODUCT</td>\n",
       "      <td>0</td>\n",
       "      <td>NaN</td>\n",
       "    </tr>\n",
       "  </tbody>\n",
       "</table>\n",
       "</div>"
      ],
      "text/plain": [
       "   session_id           timestamp  ...  offered_discount  purchase_id\n",
       "0      100001 2021-02-21 12:00:09  ...                 0          NaN\n",
       "1      100001 2021-02-21 12:05:06  ...                 0          NaN\n",
       "2      100001 2021-02-21 12:07:17  ...                 0          NaN\n",
       "3      100001 2021-02-21 12:09:40  ...                 0      20001.0\n",
       "4      100002 2021-02-17 15:08:42  ...                 0          NaN\n",
       "\n",
       "[5 rows x 7 columns]"
      ]
     },
     "metadata": {
      "tags": []
     },
     "execution_count": 6
    }
   ]
  },
  {
   "cell_type": "code",
   "metadata": {
    "colab": {
     "base_uri": "https://localhost:8080/",
     "height": 206
    },
    "id": "NAj4ux89Z31U",
    "outputId": "141e8aee-937c-420f-9e7a-33709bd65ced"
   },
   "source": [
    "users.head()"
   ],
   "execution_count": null,
   "outputs": [
    {
     "output_type": "execute_result",
     "data": {
      "text/html": [
       "<div>\n",
       "<style scoped>\n",
       "    .dataframe tbody tr th:only-of-type {\n",
       "        vertical-align: middle;\n",
       "    }\n",
       "\n",
       "    .dataframe tbody tr th {\n",
       "        vertical-align: top;\n",
       "    }\n",
       "\n",
       "    .dataframe thead th {\n",
       "        text-align: right;\n",
       "    }\n",
       "</style>\n",
       "<table border=\"1\" class=\"dataframe\">\n",
       "  <thead>\n",
       "    <tr style=\"text-align: right;\">\n",
       "      <th></th>\n",
       "      <th>user_id</th>\n",
       "      <th>name</th>\n",
       "      <th>city</th>\n",
       "      <th>street</th>\n",
       "    </tr>\n",
       "  </thead>\n",
       "  <tbody>\n",
       "    <tr>\n",
       "      <th>0</th>\n",
       "      <td>102</td>\n",
       "      <td>Daniel Lenarcik</td>\n",
       "      <td>Konin</td>\n",
       "      <td>ul. Ceglana 28/79</td>\n",
       "    </tr>\n",
       "    <tr>\n",
       "      <th>1</th>\n",
       "      <td>103</td>\n",
       "      <td>Ernest Kusik</td>\n",
       "      <td>Konin</td>\n",
       "      <td>al. Zakole 710</td>\n",
       "    </tr>\n",
       "    <tr>\n",
       "      <th>2</th>\n",
       "      <td>104</td>\n",
       "      <td>Łukasz Fąferek</td>\n",
       "      <td>Konin</td>\n",
       "      <td>plac Kolonia 19</td>\n",
       "    </tr>\n",
       "    <tr>\n",
       "      <th>3</th>\n",
       "      <td>105</td>\n",
       "      <td>Grzegorz Wisz</td>\n",
       "      <td>Kutno</td>\n",
       "      <td>pl. Pomorska 20/90</td>\n",
       "    </tr>\n",
       "    <tr>\n",
       "      <th>4</th>\n",
       "      <td>106</td>\n",
       "      <td>Olaf Pacyga</td>\n",
       "      <td>Radom</td>\n",
       "      <td>ul. Dębowa 06/04</td>\n",
       "    </tr>\n",
       "  </tbody>\n",
       "</table>\n",
       "</div>"
      ],
      "text/plain": [
       "   user_id             name   city              street\n",
       "0      102  Daniel Lenarcik  Konin   ul. Ceglana 28/79\n",
       "1      103     Ernest Kusik  Konin      al. Zakole 710\n",
       "2      104   Łukasz Fąferek  Konin     plac Kolonia 19\n",
       "3      105    Grzegorz Wisz  Kutno  pl. Pomorska 20/90\n",
       "4      106      Olaf Pacyga  Radom    ul. Dębowa 06/04"
      ]
     },
     "metadata": {
      "tags": []
     },
     "execution_count": 7
    }
   ]
  },
  {
   "cell_type": "code",
   "metadata": {
    "colab": {
     "base_uri": "https://localhost:8080/",
     "height": 206
    },
    "id": "3iq1bMmQZ3ya",
    "outputId": "03a74ea2-6ab7-4cdd-8ed9-2693841585d7"
   },
   "source": [
    "products.head()"
   ],
   "execution_count": null,
   "outputs": [
    {
     "output_type": "execute_result",
     "data": {
      "text/html": [
       "<div>\n",
       "<style scoped>\n",
       "    .dataframe tbody tr th:only-of-type {\n",
       "        vertical-align: middle;\n",
       "    }\n",
       "\n",
       "    .dataframe tbody tr th {\n",
       "        vertical-align: top;\n",
       "    }\n",
       "\n",
       "    .dataframe thead th {\n",
       "        text-align: right;\n",
       "    }\n",
       "</style>\n",
       "<table border=\"1\" class=\"dataframe\">\n",
       "  <thead>\n",
       "    <tr style=\"text-align: right;\">\n",
       "      <th></th>\n",
       "      <th>product_id</th>\n",
       "      <th>product_name</th>\n",
       "      <th>category_path</th>\n",
       "      <th>price</th>\n",
       "    </tr>\n",
       "  </thead>\n",
       "  <tbody>\n",
       "    <tr>\n",
       "      <th>0</th>\n",
       "      <td>1001</td>\n",
       "      <td>Telefon Siemens Gigaset DA310</td>\n",
       "      <td>Telefony i akcesoria;Telefony stacjonarne</td>\n",
       "      <td>58.97</td>\n",
       "    </tr>\n",
       "    <tr>\n",
       "      <th>1</th>\n",
       "      <td>1002</td>\n",
       "      <td>Kyocera FS-1135MFP</td>\n",
       "      <td>Komputery;Drukarki i skanery;Biurowe urządzeni...</td>\n",
       "      <td>2048.50</td>\n",
       "    </tr>\n",
       "    <tr>\n",
       "      <th>2</th>\n",
       "      <td>1003</td>\n",
       "      <td>Kyocera FS-3640MFP</td>\n",
       "      <td>Komputery;Drukarki i skanery;Biurowe urządzeni...</td>\n",
       "      <td>7639.00</td>\n",
       "    </tr>\n",
       "    <tr>\n",
       "      <th>3</th>\n",
       "      <td>1004</td>\n",
       "      <td>Fallout 3 (Xbox 360)</td>\n",
       "      <td>Gry i konsole;Gry na konsole;Gry Xbox 360</td>\n",
       "      <td>49.99</td>\n",
       "    </tr>\n",
       "    <tr>\n",
       "      <th>4</th>\n",
       "      <td>1005</td>\n",
       "      <td>Szalone Króliki Na żywo i w kolorze (Xbox 360)</td>\n",
       "      <td>Gry i konsole;Gry na konsole;Gry Xbox 360</td>\n",
       "      <td>49.99</td>\n",
       "    </tr>\n",
       "  </tbody>\n",
       "</table>\n",
       "</div>"
      ],
      "text/plain": [
       "   product_id  ...    price\n",
       "0        1001  ...    58.97\n",
       "1        1002  ...  2048.50\n",
       "2        1003  ...  7639.00\n",
       "3        1004  ...    49.99\n",
       "4        1005  ...    49.99\n",
       "\n",
       "[5 rows x 4 columns]"
      ]
     },
     "metadata": {
      "tags": []
     },
     "execution_count": 8
    }
   ]
  },
  {
   "cell_type": "markdown",
   "metadata": {
    "id": "-d6AzQMIZyHq"
   },
   "source": [
    "Omówienie kolumn\n",
    "----\n",
    "\n",
    "**Dane które na pewno będą istotne:**\n",
    "- adres użytkownika (może być konieczne dodanie do niego kolumny z kodem pocztowym - powinno dać to lepsze pojęcie o położeniu punktów dostaw w tym samym rejonie, dalszym przetworzeniem może być też odległość absolutna pomiędzy magazynem/miejscem wysyłki a celem)\n",
    "- dane dt. czasu złożenia zamówienia (prawdopodobnie trzeba będzie je przekszałcić w format bardziej nadający się do obróbki)\n",
    "- dane dt. czasu dostawy (atrybut którego wartość będziemy próbowali przewidzieć wprost tj. datę lub pośrednio tj. czas między złożeniem zamówienia, a dostawą)\n",
    "- dane dt. firmy kurierskiej (firma prawdopodobnie będzie mocno wpływać na czas dostawy)\n",
    "\n",
    "**Dane które by się przydały:**\n",
    "- dane dt. momentu i miejsca wysyłki produktów (czy zawsze wysyłane są z tego samego miejsca, czy istnieją jakieś opóźnienia)\n",
    "- dane dt. punktów pośrednich na drodze przesyłki (o ile istnieją) np. punktów spedycyjnych, magazynów, to potencjalnie mogłoby pozwolić na ulepszanie predykcji w trakcie podróży przesyłki i im bliżej celu, tym dokładniejsze dane można by było zaprezentować użytkownikowi\n",
    "- \n",
    "\n",
    "**Pozostałe dane:**\n",
    "\n",
    "- session_id - raczej nieistotne \n",
    "-\ttimestamp z tabeli sessions - też raczej nieistotny, podobne informacje niesie timestamp zakupu produktu z tabeli deliveries, gdyż nie obchodzi nas jakie produkty przeglądał użytkownik, a tylko akcje kupna\n",
    "- user_id - samo w sobie raczej nie niesie wartości, choć może być przydatne do łączenia z innymi tablicami (np. deliveries)\n",
    "- product_id \t- przydatne do łączenia\n",
    "- event_type \t- raczej nieistotne\n",
    "- offered_discount \t- raczej nieistotne\n",
    "- purchase_id - istotne do łączenia\n",
    "- name \t- samo w sobie nieważne, można by z niego wyciągnąć takie dane jak np. płeć, jednak nie będzie to miało wpływu na czas dostawy\n",
    "- product_name - raczej nie istotne\n",
    "- category_path - może być o tyle ważne, że pewne produkty mogłyby być gabarytami, wtedy ich czas dostawy mógłby się znacznie różnic przez konieczność specjalnego ich traktowania\n",
    "- price - cena sama w sobie raczej nie niesie wartości\n",
    "\n",
    "\n",
    "**Ogólny komentarz**\n",
    "\n",
    "Tabela deliveries - ważna, niesie istotne dane, choć może być konieczność poddania ich odpowiedniemu przetworzeniu przed utworzeniem modelu. Zawarte w niej daty i godziny są prawdopodobnie bardzo ważne w budowie modelu, ale będą wymagały przetworzenia - np. wyciągnięcia oddzielnie miesiąca, dnia, godziny, może też dnia tygodnia. \n",
    "\n",
    "Tabela sessions - raczej nieważna, choć spodziewam się że może nieść nieco istotnych danych nt. obciążenia systemu w poszczególnych okresach, co prawdopodobnie wpływa na czas dostaw. \n",
    ":owe użytkowników. \n",
    "\n",
    "Tabela products - przy wstępnej analizie nie wydaje się istotna, ale może da się na jej podstawie utworzyć nowe atrybuty bardziej przydatne dla problemu. Być może warto np. dodać do kolumny deliveries kolumnę zliczającą ile przedmiotów jest w jednym zamówieniu - wielkość zamówienia może wpływać na możliwości firm kurierskich co do czasu dostawy.\n"
   ]
  },
  {
   "cell_type": "code",
   "metadata": {
    "colab": {
     "base_uri": "https://localhost:8080/"
    },
    "id": "3XQ83fD1ba6Q",
    "outputId": "6774dcec-f421-4d38-c934-bc555cfc2d9f"
   },
   "source": [
    "for key in data.keys():\n",
    "  print(key, \":\\n\", data[key].isnull().sum(), \"\\n\")"
   ],
   "execution_count": null,
   "outputs": [
    {
     "output_type": "stream",
     "text": [
      "products :\n",
      " product_id       0\n",
      "product_name     0\n",
      "category_path    0\n",
      "price            0\n",
      "dtype: int64 \n",
      "\n",
      "sessions :\n",
      " session_id              0\n",
      "timestamp               0\n",
      "user_id              1915\n",
      "product_id           1913\n",
      "event_type              0\n",
      "offered_discount        0\n",
      "purchase_id         30697\n",
      "dtype: int64 \n",
      "\n",
      "users :\n",
      " user_id    0\n",
      "name       0\n",
      "city       0\n",
      "street     0\n",
      "dtype: int64 \n",
      "\n",
      "deliveries :\n",
      " purchase_id             0\n",
      "purchase_timestamp      0\n",
      "delivery_timestamp    333\n",
      "delivery_company      329\n",
      "dtype: int64 \n",
      "\n"
     ],
     "name": "stdout"
    }
   ]
  },
  {
   "cell_type": "markdown",
   "metadata": {
    "id": "MFH9Jo5Wferz"
   },
   "source": [
    "Brakujące dane w tabeli deliveries są raczej martwiące, dobrze by było jakby dało się je uzupełnić, jednak jeśli nie będzie to możliwe to pozostałe dane powinny być wystarczające do wytrenowania modelu (max 662 wiersze są wybrakowane, to poniżej 10% danych)\n",
    "\n",
    "Cieszy brak pustych wartości w tabelach dotyczących użytkowników - nie powinno być problemu z nieznanymi adresami dostaw.\n",
    "\n",
    "Braki w tabeli sessions nie zaskakują - wynikają prawdopodobnie ze sposobu jaki są gromadzone dane, np. puste wartości w kolumnie purchase_id wynikają najpewniej z tego że dany wiersz odpowiada wartości event_type innej niż BUY_PRODUCT"
   ]
  },
  {
   "cell_type": "code",
   "metadata": {
    "colab": {
     "base_uri": "https://localhost:8080/"
    },
    "id": "J-CUkbfcZsB6",
    "outputId": "68054e29-c2d6-4924-d7c7-bd8a8123378a"
   },
   "source": [
    "categories = set()\n",
    "for value in products[\"category_path\"]:\n",
    "  categories.update(value.split(\";\"))\n",
    "\n",
    "categories"
   ],
   "execution_count": null,
   "outputs": [
    {
     "output_type": "execute_result",
     "data": {
      "text/plain": [
       "{'Akcesoria telefoniczne',\n",
       " 'Anteny RTV',\n",
       " 'Audio',\n",
       " 'Biurowe urządzenia wielofunkcyjne',\n",
       " 'Drukarki i skanery',\n",
       " 'Gry PlayStation3',\n",
       " 'Gry Xbox 360',\n",
       " 'Gry i konsole',\n",
       " 'Gry komputerowe',\n",
       " 'Gry na konsole',\n",
       " 'Komputery',\n",
       " 'Monitory',\n",
       " 'Monitory LCD',\n",
       " 'Odtwarzacze DVD',\n",
       " 'Odtwarzacze mp3 i mp4',\n",
       " 'Okulary 3D',\n",
       " 'Przenośne audio i video',\n",
       " 'Sprzęt RTV',\n",
       " 'Słuchawki',\n",
       " 'Tablety',\n",
       " 'Tablety i akcesoria',\n",
       " 'Telefony i akcesoria',\n",
       " 'Telefony komórkowe',\n",
       " 'Telefony stacjonarne',\n",
       " 'Telewizory i akcesoria',\n",
       " 'Video',\n",
       " 'Zestawy głośnomówiące',\n",
       " 'Zestawy słuchawkowe'}"
      ]
     },
     "metadata": {
      "tags": []
     },
     "execution_count": 10
    }
   ]
  },
  {
   "cell_type": "markdown",
   "metadata": {
    "id": "v4ZF2sG8g-6j"
   },
   "source": [
    "Po przyjrzeniu się kategoriom można zauważyć, że gabaryty sprzedawanych przedmiotów nie będą się bardzo różnić - choć transport monitorów LCD i Słuchawek jest różny, to raczej nie dość różny by wpłynąć na czas dostawy. Mimo to można dodać kolumnę dzielącą przedmioty na większe np. Drukarki i skaner, Komputery, Monitory i Monitory LCD jako urządzenia \"duże\", a telefony komorkowe, zestawy słuchawkowe i gry na konsole jako \"małe\". "
   ]
  },
  {
   "cell_type": "code",
   "metadata": {
    "id": "iCe1sV5Gg-Up"
   },
   "source": [
    ""
   ],
   "execution_count": null,
   "outputs": []
  },
  {
   "cell_type": "code",
   "metadata": {
    "id": "eNXZtsTjgbwc"
   },
   "source": [
    ""
   ],
   "execution_count": null,
   "outputs": []
  },
  {
   "cell_type": "markdown",
   "metadata": {
    "id": "2Ap1U_u7l3W2"
   },
   "source": [
    "Feature engineering\n",
    "-----\n",
    "\n",
    "Dane czasowe - zamienić na czas absolutny, policzyć kolumnę czasu dostawy, pokazać dane na grafie i sprawdzić jakie są w nich trendy.\n",
    "\n",
    "Adres - kod pocztowy, odległość absolutna"
   ]
  },
  {
   "cell_type": "code",
   "metadata": {
    "colab": {
     "base_uri": "https://localhost:8080/",
     "height": 206
    },
    "id": "xZHcvP2smKMz",
    "outputId": "40e3f487-a259-4fe7-cf27-fb1631906328"
   },
   "source": [
    "deliveries.head()\n"
   ],
   "execution_count": null,
   "outputs": [
    {
     "output_type": "execute_result",
     "data": {
      "text/html": [
       "<div>\n",
       "<style scoped>\n",
       "    .dataframe tbody tr th:only-of-type {\n",
       "        vertical-align: middle;\n",
       "    }\n",
       "\n",
       "    .dataframe tbody tr th {\n",
       "        vertical-align: top;\n",
       "    }\n",
       "\n",
       "    .dataframe thead th {\n",
       "        text-align: right;\n",
       "    }\n",
       "</style>\n",
       "<table border=\"1\" class=\"dataframe\">\n",
       "  <thead>\n",
       "    <tr style=\"text-align: right;\">\n",
       "      <th></th>\n",
       "      <th>purchase_id</th>\n",
       "      <th>purchase_timestamp</th>\n",
       "      <th>delivery_timestamp</th>\n",
       "      <th>delivery_company</th>\n",
       "    </tr>\n",
       "  </thead>\n",
       "  <tbody>\n",
       "    <tr>\n",
       "      <th>0</th>\n",
       "      <td>20001</td>\n",
       "      <td>2021-02-21T12:09:40</td>\n",
       "      <td>2021-02-22T15:06:21.051360</td>\n",
       "      <td>620.0</td>\n",
       "    </tr>\n",
       "    <tr>\n",
       "      <th>1</th>\n",
       "      <td>20002</td>\n",
       "      <td>2021-02-17T15:08:51</td>\n",
       "      <td>2021-02-21T12:16:54.977640</td>\n",
       "      <td>360.0</td>\n",
       "    </tr>\n",
       "    <tr>\n",
       "      <th>2</th>\n",
       "      <td>20003</td>\n",
       "      <td>2021-01-22T14:41:01</td>\n",
       "      <td>2021-01-22T15:19:19.040428</td>\n",
       "      <td>516.0</td>\n",
       "    </tr>\n",
       "    <tr>\n",
       "      <th>3</th>\n",
       "      <td>20004</td>\n",
       "      <td>2021-01-15T12:41:14</td>\n",
       "      <td>2021-01-13T22:45:05.607434</td>\n",
       "      <td>516.0</td>\n",
       "    </tr>\n",
       "    <tr>\n",
       "      <th>4</th>\n",
       "      <td>20005</td>\n",
       "      <td>2021-01-14T02:50:19</td>\n",
       "      <td>2021-01-14T11:35:28.612753</td>\n",
       "      <td>516.0</td>\n",
       "    </tr>\n",
       "  </tbody>\n",
       "</table>\n",
       "</div>"
      ],
      "text/plain": [
       "   purchase_id  ... delivery_company\n",
       "0        20001  ...            620.0\n",
       "1        20002  ...            360.0\n",
       "2        20003  ...            516.0\n",
       "3        20004  ...            516.0\n",
       "4        20005  ...            516.0\n",
       "\n",
       "[5 rows x 4 columns]"
      ]
     },
     "metadata": {
      "tags": []
     },
     "execution_count": 11
    }
   ]
  },
  {
   "cell_type": "code",
   "metadata": {
    "colab": {
     "base_uri": "https://localhost:8080/",
     "height": 206
    },
    "id": "d9RNf-5At49T",
    "outputId": "9db5a7eb-5b0e-4f04-c8e1-e87757d089ea"
   },
   "source": [
    "deliveries[\"purchase_timestamp\"] = pd.to_datetime ( deliveries[\"purchase_timestamp\"], format='%Y-%m-%dT%H:%M', errors=\"coerce\")\n",
    "deliveries['delivery_timestamp'] = pd.to_datetime ( deliveries[\"delivery_timestamp\"], format='%Y-%m-%dT%H:%M:%S', errors=\"coerce\")\n",
    "deliveries.head()"
   ],
   "execution_count": null,
   "outputs": [
    {
     "output_type": "execute_result",
     "data": {
      "text/html": [
       "<div>\n",
       "<style scoped>\n",
       "    .dataframe tbody tr th:only-of-type {\n",
       "        vertical-align: middle;\n",
       "    }\n",
       "\n",
       "    .dataframe tbody tr th {\n",
       "        vertical-align: top;\n",
       "    }\n",
       "\n",
       "    .dataframe thead th {\n",
       "        text-align: right;\n",
       "    }\n",
       "</style>\n",
       "<table border=\"1\" class=\"dataframe\">\n",
       "  <thead>\n",
       "    <tr style=\"text-align: right;\">\n",
       "      <th></th>\n",
       "      <th>purchase_id</th>\n",
       "      <th>purchase_timestamp</th>\n",
       "      <th>delivery_timestamp</th>\n",
       "      <th>delivery_company</th>\n",
       "    </tr>\n",
       "  </thead>\n",
       "  <tbody>\n",
       "    <tr>\n",
       "      <th>0</th>\n",
       "      <td>20001</td>\n",
       "      <td>2021-02-21 12:09:40</td>\n",
       "      <td>2021-02-22 15:06:21.051360</td>\n",
       "      <td>620.0</td>\n",
       "    </tr>\n",
       "    <tr>\n",
       "      <th>1</th>\n",
       "      <td>20002</td>\n",
       "      <td>2021-02-17 15:08:51</td>\n",
       "      <td>2021-02-21 12:16:54.977640</td>\n",
       "      <td>360.0</td>\n",
       "    </tr>\n",
       "    <tr>\n",
       "      <th>2</th>\n",
       "      <td>20003</td>\n",
       "      <td>2021-01-22 14:41:01</td>\n",
       "      <td>2021-01-22 15:19:19.040428</td>\n",
       "      <td>516.0</td>\n",
       "    </tr>\n",
       "    <tr>\n",
       "      <th>3</th>\n",
       "      <td>20004</td>\n",
       "      <td>2021-01-15 12:41:14</td>\n",
       "      <td>2021-01-13 22:45:05.607434</td>\n",
       "      <td>516.0</td>\n",
       "    </tr>\n",
       "    <tr>\n",
       "      <th>4</th>\n",
       "      <td>20005</td>\n",
       "      <td>2021-01-14 02:50:19</td>\n",
       "      <td>2021-01-14 11:35:28.612753</td>\n",
       "      <td>516.0</td>\n",
       "    </tr>\n",
       "  </tbody>\n",
       "</table>\n",
       "</div>"
      ],
      "text/plain": [
       "   purchase_id  purchase_timestamp         delivery_timestamp  delivery_company\n",
       "0        20001 2021-02-21 12:09:40 2021-02-22 15:06:21.051360             620.0\n",
       "1        20002 2021-02-17 15:08:51 2021-02-21 12:16:54.977640             360.0\n",
       "2        20003 2021-01-22 14:41:01 2021-01-22 15:19:19.040428             516.0\n",
       "3        20004 2021-01-15 12:41:14 2021-01-13 22:45:05.607434             516.0\n",
       "4        20005 2021-01-14 02:50:19 2021-01-14 11:35:28.612753             516.0"
      ]
     },
     "metadata": {
      "tags": []
     },
     "execution_count": 12
    }
   ]
  },
  {
   "cell_type": "code",
   "metadata": {
    "colab": {
     "base_uri": "https://localhost:8080/",
     "height": 206
    },
    "id": "IpX3ufgXvn-g",
    "outputId": "a4a2a247-62d3-4fae-dc3a-e097fcbb0ba5"
   },
   "source": [
    "deliveries[\"time_difference\"] = deliveries[\"delivery_timestamp\"] - deliveries[\"purchase_timestamp\"]\n",
    "deliveries.head()"
   ],
   "execution_count": null,
   "outputs": [
    {
     "output_type": "execute_result",
     "data": {
      "text/html": [
       "<div>\n",
       "<style scoped>\n",
       "    .dataframe tbody tr th:only-of-type {\n",
       "        vertical-align: middle;\n",
       "    }\n",
       "\n",
       "    .dataframe tbody tr th {\n",
       "        vertical-align: top;\n",
       "    }\n",
       "\n",
       "    .dataframe thead th {\n",
       "        text-align: right;\n",
       "    }\n",
       "</style>\n",
       "<table border=\"1\" class=\"dataframe\">\n",
       "  <thead>\n",
       "    <tr style=\"text-align: right;\">\n",
       "      <th></th>\n",
       "      <th>purchase_id</th>\n",
       "      <th>purchase_timestamp</th>\n",
       "      <th>delivery_timestamp</th>\n",
       "      <th>delivery_company</th>\n",
       "      <th>time_difference</th>\n",
       "    </tr>\n",
       "  </thead>\n",
       "  <tbody>\n",
       "    <tr>\n",
       "      <th>0</th>\n",
       "      <td>20001</td>\n",
       "      <td>2021-02-21 12:09:40</td>\n",
       "      <td>2021-02-22 15:06:21.051360</td>\n",
       "      <td>620.0</td>\n",
       "      <td>1 days 02:56:41.051360</td>\n",
       "    </tr>\n",
       "    <tr>\n",
       "      <th>1</th>\n",
       "      <td>20002</td>\n",
       "      <td>2021-02-17 15:08:51</td>\n",
       "      <td>2021-02-21 12:16:54.977640</td>\n",
       "      <td>360.0</td>\n",
       "      <td>3 days 21:08:03.977640</td>\n",
       "    </tr>\n",
       "    <tr>\n",
       "      <th>2</th>\n",
       "      <td>20003</td>\n",
       "      <td>2021-01-22 14:41:01</td>\n",
       "      <td>2021-01-22 15:19:19.040428</td>\n",
       "      <td>516.0</td>\n",
       "      <td>0 days 00:38:18.040428</td>\n",
       "    </tr>\n",
       "    <tr>\n",
       "      <th>3</th>\n",
       "      <td>20004</td>\n",
       "      <td>2021-01-15 12:41:14</td>\n",
       "      <td>2021-01-13 22:45:05.607434</td>\n",
       "      <td>516.0</td>\n",
       "      <td>-2 days +10:03:51.607434</td>\n",
       "    </tr>\n",
       "    <tr>\n",
       "      <th>4</th>\n",
       "      <td>20005</td>\n",
       "      <td>2021-01-14 02:50:19</td>\n",
       "      <td>2021-01-14 11:35:28.612753</td>\n",
       "      <td>516.0</td>\n",
       "      <td>0 days 08:45:09.612753</td>\n",
       "    </tr>\n",
       "  </tbody>\n",
       "</table>\n",
       "</div>"
      ],
      "text/plain": [
       "   purchase_id  purchase_timestamp  ... delivery_company          time_difference\n",
       "0        20001 2021-02-21 12:09:40  ...            620.0   1 days 02:56:41.051360\n",
       "1        20002 2021-02-17 15:08:51  ...            360.0   3 days 21:08:03.977640\n",
       "2        20003 2021-01-22 14:41:01  ...            516.0   0 days 00:38:18.040428\n",
       "3        20004 2021-01-15 12:41:14  ...            516.0 -2 days +10:03:51.607434\n",
       "4        20005 2021-01-14 02:50:19  ...            516.0   0 days 08:45:09.612753\n",
       "\n",
       "[5 rows x 5 columns]"
      ]
     },
     "metadata": {
      "tags": []
     },
     "execution_count": 13
    }
   ]
  },
  {
   "cell_type": "code",
   "metadata": {
    "colab": {
     "base_uri": "https://localhost:8080/"
    },
    "id": "eu8KzpjbwSPG",
    "outputId": "7b6670ce-c26e-4015-bad1-fc72739ce81f"
   },
   "source": [
    "len(deliveries[deliveries[\"purchase_timestamp\"] > deliveries[\"delivery_timestamp\"]])"
   ],
   "execution_count": null,
   "outputs": [
    {
     "output_type": "execute_result",
     "data": {
      "text/plain": [
       "2064"
      ]
     },
     "metadata": {
      "tags": []
     },
     "execution_count": 14
    }
   ]
  },
  {
   "cell_type": "markdown",
   "metadata": {
    "id": "O73gDEJdvzWw"
   },
   "source": [
    "Ujemne wartości w nowoutworzonej kolumnie wskazują na to, że dane są zanieczyszczone - produkt nie mógł być dostarczony przed zakupem. Takich zanieczyszczeń jest stosunkowo wiele - 2 tysiące wierszy, które przez to nie będą mogły zostać wykorzystane w modelowaniu. To zbyt wiele danych, żebyśmy mogli je po prostu pominąć, jak w przypadku brakujących czasów dostawy. "
   ]
  },
  {
   "cell_type": "code",
   "metadata": {
    "colab": {
     "base_uri": "https://localhost:8080/",
     "height": 424
    },
    "id": "-FPT5qDIwi9T",
    "outputId": "e6e52f69-5887-43bd-fe19-9f5e81ef3c53"
   },
   "source": [
    "deliveries[deliveries[\"purchase_timestamp\"] > deliveries[\"delivery_timestamp\"]]"
   ],
   "execution_count": null,
   "outputs": [
    {
     "output_type": "execute_result",
     "data": {
      "text/html": [
       "<div>\n",
       "<style scoped>\n",
       "    .dataframe tbody tr th:only-of-type {\n",
       "        vertical-align: middle;\n",
       "    }\n",
       "\n",
       "    .dataframe tbody tr th {\n",
       "        vertical-align: top;\n",
       "    }\n",
       "\n",
       "    .dataframe thead th {\n",
       "        text-align: right;\n",
       "    }\n",
       "</style>\n",
       "<table border=\"1\" class=\"dataframe\">\n",
       "  <thead>\n",
       "    <tr style=\"text-align: right;\">\n",
       "      <th></th>\n",
       "      <th>purchase_id</th>\n",
       "      <th>purchase_timestamp</th>\n",
       "      <th>delivery_timestamp</th>\n",
       "      <th>delivery_company</th>\n",
       "      <th>time_difference</th>\n",
       "    </tr>\n",
       "  </thead>\n",
       "  <tbody>\n",
       "    <tr>\n",
       "      <th>3</th>\n",
       "      <td>20004</td>\n",
       "      <td>2021-01-15 12:41:14</td>\n",
       "      <td>2021-01-13 22:45:05.607434</td>\n",
       "      <td>516.0</td>\n",
       "      <td>-2 days +10:03:51.607434</td>\n",
       "    </tr>\n",
       "    <tr>\n",
       "      <th>12</th>\n",
       "      <td>20013</td>\n",
       "      <td>2021-03-10 20:54:25</td>\n",
       "      <td>2021-03-08 18:44:44.993229</td>\n",
       "      <td>516.0</td>\n",
       "      <td>-3 days +21:50:19.993229</td>\n",
       "    </tr>\n",
       "    <tr>\n",
       "      <th>24</th>\n",
       "      <td>20025</td>\n",
       "      <td>2021-02-15 09:58:52</td>\n",
       "      <td>2021-02-13 00:16:50.381008</td>\n",
       "      <td>360.0</td>\n",
       "      <td>-3 days +14:17:58.381008</td>\n",
       "    </tr>\n",
       "    <tr>\n",
       "      <th>29</th>\n",
       "      <td>20030</td>\n",
       "      <td>2021-01-30 08:02:24</td>\n",
       "      <td>2021-01-29 10:57:39.292954</td>\n",
       "      <td>360.0</td>\n",
       "      <td>-1 days +02:55:15.292954</td>\n",
       "    </tr>\n",
       "    <tr>\n",
       "      <th>34</th>\n",
       "      <td>20035</td>\n",
       "      <td>2021-03-12 21:20:24</td>\n",
       "      <td>2021-03-10 11:09:53.776848</td>\n",
       "      <td>620.0</td>\n",
       "      <td>-3 days +13:49:29.776848</td>\n",
       "    </tr>\n",
       "    <tr>\n",
       "      <th>...</th>\n",
       "      <td>...</td>\n",
       "      <td>...</td>\n",
       "      <td>...</td>\n",
       "      <td>...</td>\n",
       "      <td>...</td>\n",
       "    </tr>\n",
       "    <tr>\n",
       "      <th>6973</th>\n",
       "      <td>26974</td>\n",
       "      <td>2021-02-15 11:44:29</td>\n",
       "      <td>2021-02-15 00:28:42.002261</td>\n",
       "      <td>620.0</td>\n",
       "      <td>-1 days +12:44:13.002261</td>\n",
       "    </tr>\n",
       "    <tr>\n",
       "      <th>6974</th>\n",
       "      <td>26975</td>\n",
       "      <td>2021-01-29 20:49:03</td>\n",
       "      <td>2021-01-27 20:05:11.558722</td>\n",
       "      <td>360.0</td>\n",
       "      <td>-3 days +23:16:08.558722</td>\n",
       "    </tr>\n",
       "    <tr>\n",
       "      <th>6977</th>\n",
       "      <td>26978</td>\n",
       "      <td>2021-02-27 07:00:37</td>\n",
       "      <td>2021-02-25 12:43:34.486762</td>\n",
       "      <td>620.0</td>\n",
       "      <td>-2 days +05:42:57.486762</td>\n",
       "    </tr>\n",
       "    <tr>\n",
       "      <th>6982</th>\n",
       "      <td>26983</td>\n",
       "      <td>2021-01-21 14:11:09</td>\n",
       "      <td>2021-01-19 05:09:48.570606</td>\n",
       "      <td>516.0</td>\n",
       "      <td>-3 days +14:58:39.570606</td>\n",
       "    </tr>\n",
       "    <tr>\n",
       "      <th>6990</th>\n",
       "      <td>26991</td>\n",
       "      <td>2021-01-14 03:00:20</td>\n",
       "      <td>2021-01-09 17:44:05.846776</td>\n",
       "      <td>360.0</td>\n",
       "      <td>-5 days +14:43:45.846776</td>\n",
       "    </tr>\n",
       "  </tbody>\n",
       "</table>\n",
       "<p>2064 rows × 5 columns</p>\n",
       "</div>"
      ],
      "text/plain": [
       "      purchase_id  ...          time_difference\n",
       "3           20004  ... -2 days +10:03:51.607434\n",
       "12          20013  ... -3 days +21:50:19.993229\n",
       "24          20025  ... -3 days +14:17:58.381008\n",
       "29          20030  ... -1 days +02:55:15.292954\n",
       "34          20035  ... -3 days +13:49:29.776848\n",
       "...           ...  ...                      ...\n",
       "6973        26974  ... -1 days +12:44:13.002261\n",
       "6974        26975  ... -3 days +23:16:08.558722\n",
       "6977        26978  ... -2 days +05:42:57.486762\n",
       "6982        26983  ... -3 days +14:58:39.570606\n",
       "6990        26991  ... -5 days +14:43:45.846776\n",
       "\n",
       "[2064 rows x 5 columns]"
      ]
     },
     "metadata": {
      "tags": []
     },
     "execution_count": 15
    }
   ]
  },
  {
   "cell_type": "code",
   "metadata": {
    "id": "MOg_wwgWxzQs",
    "colab": {
     "base_uri": "https://localhost:8080/"
    },
    "outputId": "e8fabdb1-67e6-44b2-bc17-a54fb38713a8"
   },
   "source": [
    "deliveries.dtypes"
   ],
   "execution_count": null,
   "outputs": [
    {
     "output_type": "execute_result",
     "data": {
      "text/plain": [
       "purchase_id                     int64\n",
       "purchase_timestamp     datetime64[ns]\n",
       "delivery_timestamp     datetime64[ns]\n",
       "delivery_company              float64\n",
       "time_difference       timedelta64[ns]\n",
       "dtype: object"
      ]
     },
     "metadata": {
      "tags": []
     },
     "execution_count": 17
    }
   ]
  },
  {
   "cell_type": "code",
   "metadata": {
    "id": "Qwx2VCvjWgkG"
   },
   "source": [
    "preped = deliveries[deliveries[\"purchase_timestamp\"] < deliveries[\"delivery_timestamp\"]].copy()"
   ],
   "execution_count": null,
   "outputs": []
  },
  {
   "cell_type": "code",
   "metadata": {
    "colab": {
     "base_uri": "https://localhost:8080/",
     "height": 206
    },
    "id": "mT0MX-TuWAyE",
    "outputId": "508204b2-3879-4b8f-d834-e9b131c027c7"
   },
   "source": [
    "def to_seconds (time_delta):\n",
    "  return time_delta.seconds\n",
    "preped[\"time[s]\"]=preped[\"time_difference\"].apply(to_seconds)\n",
    "preped.head()"
   ],
   "execution_count": null,
   "outputs": [
    {
     "output_type": "execute_result",
     "data": {
      "text/html": [
       "<div>\n",
       "<style scoped>\n",
       "    .dataframe tbody tr th:only-of-type {\n",
       "        vertical-align: middle;\n",
       "    }\n",
       "\n",
       "    .dataframe tbody tr th {\n",
       "        vertical-align: top;\n",
       "    }\n",
       "\n",
       "    .dataframe thead th {\n",
       "        text-align: right;\n",
       "    }\n",
       "</style>\n",
       "<table border=\"1\" class=\"dataframe\">\n",
       "  <thead>\n",
       "    <tr style=\"text-align: right;\">\n",
       "      <th></th>\n",
       "      <th>purchase_id</th>\n",
       "      <th>purchase_timestamp</th>\n",
       "      <th>delivery_timestamp</th>\n",
       "      <th>delivery_company</th>\n",
       "      <th>time_difference</th>\n",
       "      <th>time[s]</th>\n",
       "    </tr>\n",
       "  </thead>\n",
       "  <tbody>\n",
       "    <tr>\n",
       "      <th>0</th>\n",
       "      <td>20001</td>\n",
       "      <td>2021-02-21 12:09:40</td>\n",
       "      <td>2021-02-22 15:06:21.051360</td>\n",
       "      <td>620.0</td>\n",
       "      <td>1 days 02:56:41.051360</td>\n",
       "      <td>10601</td>\n",
       "    </tr>\n",
       "    <tr>\n",
       "      <th>1</th>\n",
       "      <td>20002</td>\n",
       "      <td>2021-02-17 15:08:51</td>\n",
       "      <td>2021-02-21 12:16:54.977640</td>\n",
       "      <td>360.0</td>\n",
       "      <td>3 days 21:08:03.977640</td>\n",
       "      <td>76083</td>\n",
       "    </tr>\n",
       "    <tr>\n",
       "      <th>2</th>\n",
       "      <td>20003</td>\n",
       "      <td>2021-01-22 14:41:01</td>\n",
       "      <td>2021-01-22 15:19:19.040428</td>\n",
       "      <td>516.0</td>\n",
       "      <td>0 days 00:38:18.040428</td>\n",
       "      <td>2298</td>\n",
       "    </tr>\n",
       "    <tr>\n",
       "      <th>4</th>\n",
       "      <td>20005</td>\n",
       "      <td>2021-01-14 02:50:19</td>\n",
       "      <td>2021-01-14 11:35:28.612753</td>\n",
       "      <td>516.0</td>\n",
       "      <td>0 days 08:45:09.612753</td>\n",
       "      <td>31509</td>\n",
       "    </tr>\n",
       "    <tr>\n",
       "      <th>5</th>\n",
       "      <td>20006</td>\n",
       "      <td>2021-02-16 08:27:14</td>\n",
       "      <td>2021-02-19 09:58:54.243499</td>\n",
       "      <td>620.0</td>\n",
       "      <td>3 days 01:31:40.243499</td>\n",
       "      <td>5500</td>\n",
       "    </tr>\n",
       "  </tbody>\n",
       "</table>\n",
       "</div>"
      ],
      "text/plain": [
       "   purchase_id  purchase_timestamp  ...        time_difference  time[s]\n",
       "0        20001 2021-02-21 12:09:40  ... 1 days 02:56:41.051360    10601\n",
       "1        20002 2021-02-17 15:08:51  ... 3 days 21:08:03.977640    76083\n",
       "2        20003 2021-01-22 14:41:01  ... 0 days 00:38:18.040428     2298\n",
       "4        20005 2021-01-14 02:50:19  ... 0 days 08:45:09.612753    31509\n",
       "5        20006 2021-02-16 08:27:14  ... 3 days 01:31:40.243499     5500\n",
       "\n",
       "[5 rows x 6 columns]"
      ]
     },
     "metadata": {
      "tags": []
     },
     "execution_count": 24
    }
   ]
  },
  {
   "cell_type": "code",
   "metadata": {
    "colab": {
     "base_uri": "https://localhost:8080/",
     "height": 623
    },
    "id": "CvftlVPpWv1b",
    "outputId": "bee47759-4f82-4863-ea55-a3145737189a"
   },
   "source": [
    "import matplotlib.pyplot as plt\n",
    "import seaborn as sns\n",
    "\n",
    "def to_day(timestamp)\n",
    "\n",
    "\n",
    "plt.figure(figsize=(20,10))\n",
    "sns.histplot(preped[\"purchase_timestamp\"])"
   ],
   "execution_count": null,
   "outputs": [
    {
     "output_type": "execute_result",
     "data": {
      "text/plain": [
       "<matplotlib.axes._subplots.AxesSubplot at 0x7f11f9643d10>"
      ]
     },
     "metadata": {
      "tags": []
     },
     "execution_count": 29
    },
    {
     "output_type": "display_data",
     "data": {
      "image/png": "[encoded data removed]",
      "text/plain": [
       "<Figure size 1440x720 with 1 Axes>"
      ]
     },
     "metadata": {
      "tags": [],
      "needs_background": "light"
     }
    }
   ]
  },
  {
   "cell_type": "code",
   "metadata": {
    "colab": {
     "base_uri": "https://localhost:8080/",
     "height": 1000
    },
    "id": "vGey1n2iYvLa",
    "outputId": "9d1c5f7b-8477-43e2-e2d4-4cdeeb3b1fe5"
   },
   "source": [
    "import numpy as np\n",
    "#map purchase timestamp to days for distplot\n",
    "min_time = np.min(preped[\"purchase_timestamp\"])\n",
    "preped[\"purchase_day\"] = preped[\"purchase_timestamp\"].apply(lambda x: (x - min_time).days)\n",
    "#preped.head()\n",
    "plt.figure(figsize=(20,10))\n",
    "sns.histplot(preped[\"purchase_day\"], binwidth=1)\n",
    "plt.show()\n",
    "\n",
    "#average time by day?\n",
    "plt.figure(figsize=(20,10))\n",
    "days = preped[\"purchase_day\"].unique()\n",
    "avg_time_by_day = [np.average(preped[preped[\"purchase_day\"]==day][\"time[s]\"]) for day in days]\n",
    "\n",
    "sns.lineplot(x=days, y=avg_time_by_day)\n",
    "\n",
    "plt.show()"
   ],
   "execution_count": null,
   "outputs": [
    {
     "output_type": "display_data",
     "data": {
      "image/png": "[encoded data removed]",
      "text/plain": [
       "<Figure size 1440x720 with 1 Axes>"
      ]
     },
     "metadata": {
      "tags": [],
      "needs_background": "light"
     }
    },
    {
     "output_type": "display_data",
     "data": {
      "image/png": "[encoded data removed]",
      "text/plain": [
       "<Figure size 1440x720 with 1 Axes>"
      ]
     },
     "metadata": {
      "tags": [],
      "needs_background": "light"
     }
    }
   ]
  },
  {
   "cell_type": "markdown",
   "metadata": {
    "id": "o-f2QKurbiei"
   },
   "source": [
    "Wydaje się, że dodanie dnia tygodnia jak nowego atrybutu może być przydatne do regresji"
   ]
  },
  {
   "cell_type": "code",
   "metadata": {
    "colab": {
     "base_uri": "https://localhost:8080/",
     "height": 678
    },
    "id": "fai7UQsJbjSi",
    "outputId": "bc2da22c-3e9d-43bb-b47b-67cea635b6b3"
   },
   "source": [
    "plt.figure(figsize=(20,10))\n",
    "sns.boxplot(preped[\"time[s]\"])"
   ],
   "execution_count": null,
   "outputs": [
    {
     "output_type": "stream",
     "text": [
      "/usr/local/lib/python3.7/dist-packages/seaborn/_decorators.py:43: FutureWarning: Pass the following variable as a keyword arg: x. From version 0.12, the only valid positional argument will be `data`, and passing other arguments without an explicit keyword will result in an error or misinterpretation.\n",
      "  FutureWarning\n"
     ],
     "name": "stderr"
    },
    {
     "output_type": "execute_result",
     "data": {
      "text/plain": [
       "<matplotlib.axes._subplots.AxesSubplot at 0x7f11f9308750>"
      ]
     },
     "metadata": {
      "tags": []
     },
     "execution_count": 47
    },
    {
     "output_type": "display_data",
     "data": {
      "image/png": "[encoded data removed]",
      "text/plain": [
       "<Figure size 1440x720 with 1 Axes>"
      ]
     },
     "metadata": {
      "tags": [],
      "needs_background": "light"
     }
    }
   ]
  },
  {
   "cell_type": "code",
   "metadata": {
    "colab": {
     "base_uri": "https://localhost:8080/",
     "height": 623
    },
    "id": "4S5yOewCcQdj",
    "outputId": "8fd76bc4-6f59-4311-cbac-0f69c0e82ab1"
   },
   "source": [
    "plt.figure(figsize=(20,10))\n",
    "sns.histplot(data=preped[\"time[s]\"], binwidth=60*60)"
   ],
   "execution_count": null,
   "outputs": [
    {
     "output_type": "execute_result",
     "data": {
      "text/plain": [
       "<matplotlib.axes._subplots.AxesSubplot at 0x7f11d5828e10>"
      ]
     },
     "metadata": {
      "tags": []
     },
     "execution_count": 50
    },
    {
     "output_type": "display_data",
     "data": {
      "image/png": "[encoded data removed]",
      "text/plain": [
       "<Figure size 1440x720 with 1 Axes>"
      ]
     },
     "metadata": {
      "tags": [],
      "needs_background": "light"
     }
    }
   ]
  },
  {
   "cell_type": "code",
   "metadata": {
    "colab": {
     "base_uri": "https://localhost:8080/",
     "height": 206
    },
    "id": "dt81oowWc0mJ",
    "outputId": "505178a8-76f2-47a8-9575-d5679fa273b4"
   },
   "source": [
    "preped[\"time[h]\"]=preped[\"time_difference\"].apply(lambda x: x.seconds/(60*60))\n",
    "preped.head()"
   ],
   "execution_count": null,
   "outputs": [
    {
     "output_type": "execute_result",
     "data": {
      "text/html": [
       "<div>\n",
       "<style scoped>\n",
       "    .dataframe tbody tr th:only-of-type {\n",
       "        vertical-align: middle;\n",
       "    }\n",
       "\n",
       "    .dataframe tbody tr th {\n",
       "        vertical-align: top;\n",
       "    }\n",
       "\n",
       "    .dataframe thead th {\n",
       "        text-align: right;\n",
       "    }\n",
       "</style>\n",
       "<table border=\"1\" class=\"dataframe\">\n",
       "  <thead>\n",
       "    <tr style=\"text-align: right;\">\n",
       "      <th></th>\n",
       "      <th>purchase_id</th>\n",
       "      <th>purchase_timestamp</th>\n",
       "      <th>delivery_timestamp</th>\n",
       "      <th>delivery_company</th>\n",
       "      <th>time_difference</th>\n",
       "      <th>time[s]</th>\n",
       "      <th>purchase_day</th>\n",
       "      <th>time[h]</th>\n",
       "    </tr>\n",
       "  </thead>\n",
       "  <tbody>\n",
       "    <tr>\n",
       "      <th>0</th>\n",
       "      <td>20001</td>\n",
       "      <td>2021-02-21 12:09:40</td>\n",
       "      <td>2021-02-22 15:06:21.051360</td>\n",
       "      <td>620.0</td>\n",
       "      <td>1 days 02:56:41.051360</td>\n",
       "      <td>10601</td>\n",
       "      <td>51</td>\n",
       "      <td>2.944722</td>\n",
       "    </tr>\n",
       "    <tr>\n",
       "      <th>1</th>\n",
       "      <td>20002</td>\n",
       "      <td>2021-02-17 15:08:51</td>\n",
       "      <td>2021-02-21 12:16:54.977640</td>\n",
       "      <td>360.0</td>\n",
       "      <td>3 days 21:08:03.977640</td>\n",
       "      <td>76083</td>\n",
       "      <td>47</td>\n",
       "      <td>21.134167</td>\n",
       "    </tr>\n",
       "    <tr>\n",
       "      <th>2</th>\n",
       "      <td>20003</td>\n",
       "      <td>2021-01-22 14:41:01</td>\n",
       "      <td>2021-01-22 15:19:19.040428</td>\n",
       "      <td>516.0</td>\n",
       "      <td>0 days 00:38:18.040428</td>\n",
       "      <td>2298</td>\n",
       "      <td>21</td>\n",
       "      <td>0.638333</td>\n",
       "    </tr>\n",
       "    <tr>\n",
       "      <th>4</th>\n",
       "      <td>20005</td>\n",
       "      <td>2021-01-14 02:50:19</td>\n",
       "      <td>2021-01-14 11:35:28.612753</td>\n",
       "      <td>516.0</td>\n",
       "      <td>0 days 08:45:09.612753</td>\n",
       "      <td>31509</td>\n",
       "      <td>13</td>\n",
       "      <td>8.752500</td>\n",
       "    </tr>\n",
       "    <tr>\n",
       "      <th>5</th>\n",
       "      <td>20006</td>\n",
       "      <td>2021-02-16 08:27:14</td>\n",
       "      <td>2021-02-19 09:58:54.243499</td>\n",
       "      <td>620.0</td>\n",
       "      <td>3 days 01:31:40.243499</td>\n",
       "      <td>5500</td>\n",
       "      <td>46</td>\n",
       "      <td>1.527778</td>\n",
       "    </tr>\n",
       "  </tbody>\n",
       "</table>\n",
       "</div>"
      ],
      "text/plain": [
       "   purchase_id  purchase_timestamp  ... purchase_day    time[h]\n",
       "0        20001 2021-02-21 12:09:40  ...           51   2.944722\n",
       "1        20002 2021-02-17 15:08:51  ...           47  21.134167\n",
       "2        20003 2021-01-22 14:41:01  ...           21   0.638333\n",
       "4        20005 2021-01-14 02:50:19  ...           13   8.752500\n",
       "5        20006 2021-02-16 08:27:14  ...           46   1.527778\n",
       "\n",
       "[5 rows x 8 columns]"
      ]
     },
     "metadata": {
      "tags": []
     },
     "execution_count": 52
    }
   ]
  },
  {
   "cell_type": "markdown",
   "metadata": {
    "id": "fuR9ilMkdL4e"
   },
   "source": [
    "Na pierwszy rzut oka martwiące są czasy dostawy poniżej godziny, ale także te krótkie - 2 lub 3 - godzinne. Obecnym standardem w e-commerce jest dostawa przesyłki w ciągu 1-2 dni roboczych, czyli czas dostawy od mniej więcej 10 do 30-kilku godzin. Być może te krótkie dane są poprawne jeśli firma realizuje dostawy ekspresowe (np z usuługą dostawy tego samego dnia) albo np. możlwość odbioru towaru z salonu, jeśli jest on w nim dostępny. \n",
    "\n",
    "Mimo to dane nt. czasu dostawy wymagają dokładniejszego przyjrzenia się ich rozkładowi. "
   ]
  },
  {
   "cell_type": "code",
   "metadata": {
    "colab": {
     "base_uri": "https://localhost:8080/",
     "height": 623
    },
    "id": "R5IM5HSYd6EM",
    "outputId": "ee5b86c6-c249-415f-cad8-4e94ca1a5ecf"
   },
   "source": [
    "plt.figure(figsize=(20,10))\n",
    "sns.histplot(preped[\"time[h]\"], binwidth=1)"
   ],
   "execution_count": null,
   "outputs": [
    {
     "output_type": "execute_result",
     "data": {
      "text/plain": [
       "<matplotlib.axes._subplots.AxesSubplot at 0x7f11f94c0890>"
      ]
     },
     "metadata": {
      "tags": []
     },
     "execution_count": 53
    },
    {
     "output_type": "display_data",
     "data": {
      "image/png": "[encoded data removed]",
      "text/plain": [
       "<Figure size 1440x720 with 1 Axes>"
      ]
     },
     "metadata": {
      "tags": [],
      "needs_background": "light"
     }
    }
   ]
  },
  {
   "cell_type": "markdown",
   "metadata": {
    "id": "QE1ddJTUco5a"
   },
   "source": [
    "Firma ewidentnie realizuje dostawy w przeciągu 24h, czyli raczej krótko. Podejrzanie krótkie czasy dostawy (poniżej 5 godzin) zdecydowanie wymagają wyjaśnienia z przedstawicielem firmy. \n",
    "\n",
    "Warto jeszcze sprawdzić jak wygląda rozkład czasu dostawy w godzinach w podziale na poszczególne firmy kurierskie - być może okaże się, że krótkie dostawy są realizowane tylko przez jedną firmę, co wskazywałoby na prawidłowość hipotezy o możliwości wykupienia ekspresowej dostawy. \n",
    "\n",
    "Ponadto warto też przyjrzeć się godzinom w jakich realizowana jest dostawa - mam podejrzenie, że znajdziemy tam jakieś dostawy w nieprzyzwoicie nocnych godzinach."
   ]
  },
  {
   "cell_type": "code",
   "metadata": {
    "colab": {
     "base_uri": "https://localhost:8080/"
    },
    "id": "mx2pn1c9icSk",
    "outputId": "59ba3a00-c45d-41b3-8f39-7b33de206224"
   },
   "source": [
    "preped[\"delivery_company\"].unique()"
   ],
   "execution_count": null,
   "outputs": [
    {
     "output_type": "execute_result",
     "data": {
      "text/plain": [
       "array([620., 360., 516.,  nan])"
      ]
     },
     "metadata": {
      "tags": []
     },
     "execution_count": 70
    }
   ]
  },
  {
   "cell_type": "code",
   "metadata": {
    "colab": {
     "base_uri": "https://localhost:8080/",
     "height": 730
    },
    "id": "Flm0o9SXezYa",
    "outputId": "1fbd1092-62ec-487e-db9e-e0089be978f7"
   },
   "source": [
    " companies = preped[\"delivery_company\"].unique()\n",
    " dfs = {}\n",
    "\n",
    "dfs[\"unknown\"] = preped[preped['delivery_company'].isna()][\"time[h]\"]\n",
    "dfs[\"360\"] = preped[preped['delivery_company']==360][\"time[h]\"]\n",
    "dfs[\"516\"] = preped[preped['delivery_company']==516][\"time[h]\"]\n",
    "dfs[\"620\"] = preped[preped['delivery_company']==620][\"time[h]\"]\n",
    "\n",
    "fgs, axes = plt.subplots(2, 2, figsize=(12,12))\n",
    "axs = [axes[i][j] for i in [0,1] for j in [0,1]]\n",
    "i=0\n",
    "for key, df in dfs.items():\n",
    "  sns.histplot(data = df, binwidth=1, ax = axs[i])\n",
    "  axs[i].title.set_text(key)\n",
    "  i+=1\n",
    "plt.show()\n"
   ],
   "execution_count": null,
   "outputs": [
    {
     "output_type": "display_data",
     "data": {
      "image/png": "[encoded data removed]",
      "text/plain": [
       "<Figure size 864x864 with 4 Axes>"
      ]
     },
     "metadata": {
      "tags": [],
      "needs_background": "light"
     }
    }
   ]
  },
  {
   "cell_type": "markdown",
   "metadata": {
    "id": "Qm2UNmjCi5fm"
   },
   "source": [
    "Nie wydaje się, żeby któraś z firm kurierskich dostarczała paczki znacznie szybciej od innych, co wskazuje raczej na błąd w pomiarach i nierzetelne dane. Podobnie nieprzekraczalny termin 24h też jest podejrzany - paczki z reguły są dostarczane w dni robocze (czasem również w soboty), więc dziwi że dla zamówień złożonych w soboty nie widzimy czasu powyżej 24h. "
   ]
  },
  {
   "cell_type": "code",
   "metadata": {
    "colab": {
     "base_uri": "https://localhost:8080/",
     "height": 238
    },
    "id": "iLpinq4WjqYh",
    "outputId": "2d8128ab-ffe0-4b46-b441-ce74754e1c16"
   },
   "source": [
    "dataframe = pd.DataFrame({\"purchase\":preped[\"purchase_timestamp\"].to_list(), \"id\": preped[\"purchase_id\"].to_list()}, index=pd.DatetimeIndex(preped[\"delivery_timestamp\"]))\n",
    "dataframe.head()"
   ],
   "execution_count": null,
   "outputs": [
    {
     "output_type": "execute_result",
     "data": {
      "text/html": [
       "<div>\n",
       "<style scoped>\n",
       "    .dataframe tbody tr th:only-of-type {\n",
       "        vertical-align: middle;\n",
       "    }\n",
       "\n",
       "    .dataframe tbody tr th {\n",
       "        vertical-align: top;\n",
       "    }\n",
       "\n",
       "    .dataframe thead th {\n",
       "        text-align: right;\n",
       "    }\n",
       "</style>\n",
       "<table border=\"1\" class=\"dataframe\">\n",
       "  <thead>\n",
       "    <tr style=\"text-align: right;\">\n",
       "      <th></th>\n",
       "      <th>purchase</th>\n",
       "      <th>id</th>\n",
       "    </tr>\n",
       "    <tr>\n",
       "      <th>delivery_timestamp</th>\n",
       "      <th></th>\n",
       "      <th></th>\n",
       "    </tr>\n",
       "  </thead>\n",
       "  <tbody>\n",
       "    <tr>\n",
       "      <th>2021-02-22 15:06:21.051360</th>\n",
       "      <td>2021-02-21 12:09:40</td>\n",
       "      <td>20001</td>\n",
       "    </tr>\n",
       "    <tr>\n",
       "      <th>2021-02-21 12:16:54.977640</th>\n",
       "      <td>2021-02-17 15:08:51</td>\n",
       "      <td>20002</td>\n",
       "    </tr>\n",
       "    <tr>\n",
       "      <th>2021-01-22 15:19:19.040428</th>\n",
       "      <td>2021-01-22 14:41:01</td>\n",
       "      <td>20003</td>\n",
       "    </tr>\n",
       "    <tr>\n",
       "      <th>2021-01-14 11:35:28.612753</th>\n",
       "      <td>2021-01-14 02:50:19</td>\n",
       "      <td>20005</td>\n",
       "    </tr>\n",
       "    <tr>\n",
       "      <th>2021-02-19 09:58:54.243499</th>\n",
       "      <td>2021-02-16 08:27:14</td>\n",
       "      <td>20006</td>\n",
       "    </tr>\n",
       "  </tbody>\n",
       "</table>\n",
       "</div>"
      ],
      "text/plain": [
       "                                      purchase     id\n",
       "delivery_timestamp                                   \n",
       "2021-02-22 15:06:21.051360 2021-02-21 12:09:40  20001\n",
       "2021-02-21 12:16:54.977640 2021-02-17 15:08:51  20002\n",
       "2021-01-22 15:19:19.040428 2021-01-22 14:41:01  20003\n",
       "2021-01-14 11:35:28.612753 2021-01-14 02:50:19  20005\n",
       "2021-02-19 09:58:54.243499 2021-02-16 08:27:14  20006"
      ]
     },
     "metadata": {
      "tags": []
     },
     "execution_count": 95
    }
   ]
  },
  {
   "cell_type": "code",
   "metadata": {
    "colab": {
     "base_uri": "https://localhost:8080/"
    },
    "id": "9aAu-SmSezMs",
    "outputId": "e595f7da-e2a3-4889-ff41-69eb5541ceba"
   },
   "source": [
    "night_deliveries = dataframe.between_time(\"22:00\", \"6:00\")\n",
    "print(len(night_deliveries),night_deliveries)"
   ],
   "execution_count": null,
   "outputs": [
    {
     "output_type": "stream",
     "text": [
      "1568                                       purchase     id\n",
      "delivery_timestamp                                   \n",
      "2021-01-11 04:55:15.205274 2021-01-10 19:17:36  20012\n",
      "2021-01-20 22:33:22.398019 2021-01-18 21:16:10  20014\n",
      "2021-01-07 04:43:12.039676 2021-01-04 02:42:37  20017\n",
      "2021-02-18 22:39:12.233561 2021-02-17 21:46:48  20019\n",
      "2021-03-15 04:55:43.633913 2021-03-14 03:52:29  20022\n",
      "...                                        ...    ...\n",
      "2021-03-06 03:15:20.787949 2021-03-05 20:30:30  26936\n",
      "2021-01-08 02:08:35.492514 2021-01-07 22:22:13  26937\n",
      "2021-01-05 04:03:11.860674 2021-01-03 21:25:45  26941\n",
      "2021-02-23 04:02:47.767588 2021-02-20 09:56:28  26942\n",
      "2021-01-10 23:35:58.426335 2021-01-09 04:53:47  26984\n",
      "\n",
      "[1568 rows x 2 columns]\n"
     ],
     "name": "stdout"
    }
   ]
  },
  {
   "cell_type": "markdown",
   "metadata": {
    "id": "QDVAJafBoVmP"
   },
   "source": [
    "Nie wiem kto odbiera lub dostarcza dostawy po nocy, ale nasza firma najwyraźniej tak..... "
   ]
  },
  {
   "cell_type": "code",
   "metadata": {
    "id": "tS9ry7ICey3D",
    "colab": {
     "base_uri": "https://localhost:8080/",
     "height": 206
    },
    "outputId": "02315cb0-eac7-4744-a836-fdea8d2892b5"
   },
   "source": [
    "users.head()"
   ],
   "execution_count": null,
   "outputs": [
    {
     "output_type": "execute_result",
     "data": {
      "text/html": [
       "<div>\n",
       "<style scoped>\n",
       "    .dataframe tbody tr th:only-of-type {\n",
       "        vertical-align: middle;\n",
       "    }\n",
       "\n",
       "    .dataframe tbody tr th {\n",
       "        vertical-align: top;\n",
       "    }\n",
       "\n",
       "    .dataframe thead th {\n",
       "        text-align: right;\n",
       "    }\n",
       "</style>\n",
       "<table border=\"1\" class=\"dataframe\">\n",
       "  <thead>\n",
       "    <tr style=\"text-align: right;\">\n",
       "      <th></th>\n",
       "      <th>user_id</th>\n",
       "      <th>name</th>\n",
       "      <th>city</th>\n",
       "      <th>street</th>\n",
       "    </tr>\n",
       "  </thead>\n",
       "  <tbody>\n",
       "    <tr>\n",
       "      <th>0</th>\n",
       "      <td>102</td>\n",
       "      <td>Daniel Lenarcik</td>\n",
       "      <td>Konin</td>\n",
       "      <td>ul. Ceglana 28/79</td>\n",
       "    </tr>\n",
       "    <tr>\n",
       "      <th>1</th>\n",
       "      <td>103</td>\n",
       "      <td>Ernest Kusik</td>\n",
       "      <td>Konin</td>\n",
       "      <td>al. Zakole 710</td>\n",
       "    </tr>\n",
       "    <tr>\n",
       "      <th>2</th>\n",
       "      <td>104</td>\n",
       "      <td>Łukasz Fąferek</td>\n",
       "      <td>Konin</td>\n",
       "      <td>plac Kolonia 19</td>\n",
       "    </tr>\n",
       "    <tr>\n",
       "      <th>3</th>\n",
       "      <td>105</td>\n",
       "      <td>Grzegorz Wisz</td>\n",
       "      <td>Kutno</td>\n",
       "      <td>pl. Pomorska 20/90</td>\n",
       "    </tr>\n",
       "    <tr>\n",
       "      <th>4</th>\n",
       "      <td>106</td>\n",
       "      <td>Olaf Pacyga</td>\n",
       "      <td>Radom</td>\n",
       "      <td>ul. Dębowa 06/04</td>\n",
       "    </tr>\n",
       "  </tbody>\n",
       "</table>\n",
       "</div>"
      ],
      "text/plain": [
       "   user_id             name   city              street\n",
       "0      102  Daniel Lenarcik  Konin   ul. Ceglana 28/79\n",
       "1      103     Ernest Kusik  Konin      al. Zakole 710\n",
       "2      104   Łukasz Fąferek  Konin     plac Kolonia 19\n",
       "3      105    Grzegorz Wisz  Kutno  pl. Pomorska 20/90\n",
       "4      106      Olaf Pacyga  Radom    ul. Dębowa 06/04"
      ]
     },
     "metadata": {
      "tags": []
     },
     "execution_count": 4
    }
   ]
  },
  {
   "cell_type": "code",
   "metadata": {
    "id": "KGd5lifLbi9I",
    "colab": {
     "base_uri": "https://localhost:8080/"
    },
    "outputId": "2a9da87a-f2e1-4823-d4d2-d417ecdb88b6"
   },
   "source": [
    "users[\"city\"].unique()"
   ],
   "execution_count": null,
   "outputs": [
    {
     "output_type": "execute_result",
     "data": {
      "text/plain": [
       "array(['Konin', 'Kutno', 'Radom', 'Police', 'Szczecin', 'Warszawa',\n",
       "       'Gdynia', 'Mielec'], dtype=object)"
      ]
     },
     "metadata": {
      "tags": []
     },
     "execution_count": 5
    }
   ]
  },
  {
   "cell_type": "markdown",
   "metadata": {
    "id": "sTt1A8wxtB3V"
   },
   "source": [
    "New Data Analysis\n",
    "===="
   ]
  },
  {
   "cell_type": "code",
   "metadata": {
    "id": "d6gn1VZwj81e"
   },
   "source": [
    "import pandas as pd\n",
    "import numpy as np\n",
    "import matplotlib.pyplot as plt\n",
    "import seaborn as sns"
   ],
   "execution_count": 11,
   "outputs": []
  },
  {
   "cell_type": "code",
   "metadata": {
    "id": "dHKTuHgNtOsv",
    "colab": {
     "base_uri": "https://localhost:8080/",
     "height": 206
    },
    "outputId": "c5218027-0820-4373-a948-78682f6f1746"
   },
   "source": [
    "data_dir =\"/content/drive/MyDrive/Data/IUM/V2/\"\n",
    "\n",
    "deliveries = pd.read_json(data_dir + \"deliveries.jsonl\", lines=True)\n",
    "sessions = pd.read_json(data_dir + \"sessions.jsonl\", lines=True)\n",
    "users = pd.read_json(data_dir + \"users.jsonl\", lines=True)\n",
    "products = pd.read_json(data_dir + \"products.jsonl\", lines=True)\n",
    "\n",
    "data_v2 = {\"products\": products, \"sessions\": sessions, \"users\": users, \"deliveries\":deliveries}\n",
    "\n",
    "deliveries[\"purchase_timestamp\"] = pd.to_datetime ( deliveries[\"purchase_timestamp\"], format='%Y-%m-%dT%H:%M', errors=\"coerce\")\n",
    "deliveries['delivery_timestamp'] = pd.to_datetime ( deliveries[\"delivery_timestamp\"], format='%Y-%m-%dT%H:%M:%S', errors=\"coerce\")\n",
    "deliveries[\"time_difference\"] = deliveries[\"delivery_timestamp\"] - deliveries[\"purchase_timestamp\"]\n",
    "\n",
    "deliveries.head()"
   ],
   "execution_count": 12,
   "outputs": [
    {
     "output_type": "execute_result",
     "data": {
      "text/html": [
       "<div>\n",
       "<style scoped>\n",
       "    .dataframe tbody tr th:only-of-type {\n",
       "        vertical-align: middle;\n",
       "    }\n",
       "\n",
       "    .dataframe tbody tr th {\n",
       "        vertical-align: top;\n",
       "    }\n",
       "\n",
       "    .dataframe thead th {\n",
       "        text-align: right;\n",
       "    }\n",
       "</style>\n",
       "<table border=\"1\" class=\"dataframe\">\n",
       "  <thead>\n",
       "    <tr style=\"text-align: right;\">\n",
       "      <th></th>\n",
       "      <th>purchase_id</th>\n",
       "      <th>purchase_timestamp</th>\n",
       "      <th>delivery_timestamp</th>\n",
       "      <th>delivery_company</th>\n",
       "      <th>time_difference</th>\n",
       "    </tr>\n",
       "  </thead>\n",
       "  <tbody>\n",
       "    <tr>\n",
       "      <th>0</th>\n",
       "      <td>20001</td>\n",
       "      <td>2021-04-01 15:52:47</td>\n",
       "      <td>2021-04-02 14:06:34.432964</td>\n",
       "      <td>620</td>\n",
       "      <td>0 days 22:13:47.432964</td>\n",
       "    </tr>\n",
       "    <tr>\n",
       "      <th>1</th>\n",
       "      <td>20002</td>\n",
       "      <td>2021-04-01 02:26:23</td>\n",
       "      <td>2021-04-02 10:45:27.707128</td>\n",
       "      <td>360</td>\n",
       "      <td>1 days 08:19:04.707128</td>\n",
       "    </tr>\n",
       "    <tr>\n",
       "      <th>2</th>\n",
       "      <td>20003</td>\n",
       "      <td>2021-01-03 05:11:17</td>\n",
       "      <td>2021-01-04 15:43:07.635371</td>\n",
       "      <td>620</td>\n",
       "      <td>1 days 10:31:50.635371</td>\n",
       "    </tr>\n",
       "    <tr>\n",
       "      <th>3</th>\n",
       "      <td>20004</td>\n",
       "      <td>2021-02-17 12:59:54</td>\n",
       "      <td>2021-02-18 11:52:42.608746</td>\n",
       "      <td>620</td>\n",
       "      <td>0 days 22:52:48.608746</td>\n",
       "    </tr>\n",
       "    <tr>\n",
       "      <th>4</th>\n",
       "      <td>20005</td>\n",
       "      <td>2021-02-13 09:17:52</td>\n",
       "      <td>2021-02-15 08:59:28.973167</td>\n",
       "      <td>620</td>\n",
       "      <td>1 days 23:41:36.973167</td>\n",
       "    </tr>\n",
       "  </tbody>\n",
       "</table>\n",
       "</div>"
      ],
      "text/plain": [
       "   purchase_id  purchase_timestamp  ... delivery_company        time_difference\n",
       "0        20001 2021-04-01 15:52:47  ...              620 0 days 22:13:47.432964\n",
       "1        20002 2021-04-01 02:26:23  ...              360 1 days 08:19:04.707128\n",
       "2        20003 2021-01-03 05:11:17  ...              620 1 days 10:31:50.635371\n",
       "3        20004 2021-02-17 12:59:54  ...              620 0 days 22:52:48.608746\n",
       "4        20005 2021-02-13 09:17:52  ...              620 1 days 23:41:36.973167\n",
       "\n",
       "[5 rows x 5 columns]"
      ]
     },
     "metadata": {
      "tags": []
     },
     "execution_count": 12
    }
   ]
  },
  {
   "cell_type": "markdown",
   "metadata": {
    "id": "C75mJCkDumGk"
   },
   "source": [
    "Sprawdzenie poprzednich problemów i analiza kompletności w pełni połączonych danych\n",
    "----\n"
   ]
  },
  {
   "cell_type": "code",
   "metadata": {
    "colab": {
     "base_uri": "https://localhost:8080/",
     "height": 641
    },
    "id": "5zW85rIxjGEn",
    "outputId": "35a476e7-5b8e-4d11-bd12-6186baa06c2b"
   },
   "source": [
    "print(\"Num delivered before bought: \", len(deliveries[deliveries[\"purchase_timestamp\"] > deliveries[\"delivery_timestamp\"]]))\n",
    "\n",
    "def to_seconds (time_delta):\n",
    "  return time_delta.seconds\n",
    "deliveries[\"time[s]\"]=deliveries[\"time_difference\"].apply(to_seconds)\n",
    "\n",
    "plt.figure(figsize=(20,10))\n",
    "sns.histplot(data=deliveries[\"time[s]\"], binwidth=60*60)"
   ],
   "execution_count": 14,
   "outputs": [
    {
     "output_type": "stream",
     "text": [
      "0\n"
     ],
     "name": "stdout"
    },
    {
     "output_type": "execute_result",
     "data": {
      "text/plain": [
       "<matplotlib.axes._subplots.AxesSubplot at 0x7f55f5a31c10>"
      ]
     },
     "metadata": {
      "tags": []
     },
     "execution_count": 14
    },
    {
     "output_type": "display_data",
     "data": {
      "image/png": "[encoded data removed]",
      "text/plain": [
       "<Figure size 1440x720 with 1 Axes>"
      ]
     },
     "metadata": {
      "tags": [],
      "needs_background": "light"
     }
    }
   ]
  },
  {
   "cell_type": "code",
   "metadata": {
    "colab": {
     "base_uri": "https://localhost:8080/",
     "height": 623
    },
    "id": "JDQUkyJrktMe",
    "outputId": "cd47b588-62d3-4223-a7bf-8fffbdfccdbc"
   },
   "source": [
    "deliveries[\"time[hr]\"]=deliveries[\"time[s]\"].apply(lambda x: x/(60*60))\n",
    "\n",
    "plt.figure(figsize=(20,10))\n",
    "sns.histplot(data=deliveries[\"time[hr]\"], binwidth=1)"
   ],
   "execution_count": 16,
   "outputs": [
    {
     "output_type": "execute_result",
     "data": {
      "text/plain": [
       "<matplotlib.axes._subplots.AxesSubplot at 0x7f55f5cde450>"
      ]
     },
     "metadata": {
      "tags": []
     },
     "execution_count": 16
    },
    {
     "output_type": "display_data",
     "data": {
      "image/png": "[encoded data removed]",
      "text/plain": [
       "<Figure size 1440x720 with 1 Axes>"
      ]
     },
     "metadata": {
      "tags": [],
      "needs_background": "light"
     }
    }
   ]
  },
  {
   "cell_type": "markdown",
   "metadata": {
    "id": "WlHt5VX3lHtK"
   },
   "source": [
    "W nowych danych czas dostawy wciąż jest lekko podejrzany - wiele produktów jest dostarczanych w ciągu godziny.... Jest ich 306, czyli wciąż sporo. "
   ]
  },
  {
   "cell_type": "code",
   "metadata": {
    "colab": {
     "base_uri": "https://localhost:8080/",
     "height": 206
    },
    "id": "AhMCC0nhlHbm",
    "outputId": "ce412ddc-3fb5-46ee-db80-15216247b004"
   },
   "source": [
    "very_quick = deliveries[deliveries[\"time[hr]\"]<1]\n",
    "\n",
    "\n",
    "\n",
    "len(very_quick)\n",
    "deliveries.head()"
   ],
   "execution_count": 18,
   "outputs": [
    {
     "output_type": "execute_result",
     "data": {
      "text/html": [
       "<div>\n",
       "<style scoped>\n",
       "    .dataframe tbody tr th:only-of-type {\n",
       "        vertical-align: middle;\n",
       "    }\n",
       "\n",
       "    .dataframe tbody tr th {\n",
       "        vertical-align: top;\n",
       "    }\n",
       "\n",
       "    .dataframe thead th {\n",
       "        text-align: right;\n",
       "    }\n",
       "</style>\n",
       "<table border=\"1\" class=\"dataframe\">\n",
       "  <thead>\n",
       "    <tr style=\"text-align: right;\">\n",
       "      <th></th>\n",
       "      <th>purchase_id</th>\n",
       "      <th>purchase_timestamp</th>\n",
       "      <th>delivery_timestamp</th>\n",
       "      <th>delivery_company</th>\n",
       "      <th>time_difference</th>\n",
       "      <th>time[s]</th>\n",
       "      <th>time[hr]</th>\n",
       "    </tr>\n",
       "  </thead>\n",
       "  <tbody>\n",
       "    <tr>\n",
       "      <th>0</th>\n",
       "      <td>20001</td>\n",
       "      <td>2021-04-01 15:52:47</td>\n",
       "      <td>2021-04-02 14:06:34.432964</td>\n",
       "      <td>620</td>\n",
       "      <td>0 days 22:13:47.432964</td>\n",
       "      <td>80027</td>\n",
       "      <td>22.229722</td>\n",
       "    </tr>\n",
       "    <tr>\n",
       "      <th>1</th>\n",
       "      <td>20002</td>\n",
       "      <td>2021-04-01 02:26:23</td>\n",
       "      <td>2021-04-02 10:45:27.707128</td>\n",
       "      <td>360</td>\n",
       "      <td>1 days 08:19:04.707128</td>\n",
       "      <td>29944</td>\n",
       "      <td>8.317778</td>\n",
       "    </tr>\n",
       "    <tr>\n",
       "      <th>2</th>\n",
       "      <td>20003</td>\n",
       "      <td>2021-01-03 05:11:17</td>\n",
       "      <td>2021-01-04 15:43:07.635371</td>\n",
       "      <td>620</td>\n",
       "      <td>1 days 10:31:50.635371</td>\n",
       "      <td>37910</td>\n",
       "      <td>10.530556</td>\n",
       "    </tr>\n",
       "    <tr>\n",
       "      <th>3</th>\n",
       "      <td>20004</td>\n",
       "      <td>2021-02-17 12:59:54</td>\n",
       "      <td>2021-02-18 11:52:42.608746</td>\n",
       "      <td>620</td>\n",
       "      <td>0 days 22:52:48.608746</td>\n",
       "      <td>82368</td>\n",
       "      <td>22.880000</td>\n",
       "    </tr>\n",
       "    <tr>\n",
       "      <th>4</th>\n",
       "      <td>20005</td>\n",
       "      <td>2021-02-13 09:17:52</td>\n",
       "      <td>2021-02-15 08:59:28.973167</td>\n",
       "      <td>620</td>\n",
       "      <td>1 days 23:41:36.973167</td>\n",
       "      <td>85296</td>\n",
       "      <td>23.693333</td>\n",
       "    </tr>\n",
       "  </tbody>\n",
       "</table>\n",
       "</div>"
      ],
      "text/plain": [
       "   purchase_id  purchase_timestamp  ... time[s]   time[hr]\n",
       "0        20001 2021-04-01 15:52:47  ...   80027  22.229722\n",
       "1        20002 2021-04-01 02:26:23  ...   29944   8.317778\n",
       "2        20003 2021-01-03 05:11:17  ...   37910  10.530556\n",
       "3        20004 2021-02-17 12:59:54  ...   82368  22.880000\n",
       "4        20005 2021-02-13 09:17:52  ...   85296  23.693333\n",
       "\n",
       "[5 rows x 7 columns]"
      ]
     },
     "metadata": {
      "tags": []
     },
     "execution_count": 18
    }
   ]
  },
  {
   "cell_type": "code",
   "metadata": {
    "colab": {
     "base_uri": "https://localhost:8080/"
    },
    "id": "Uz5DNXOOl5Bc",
    "outputId": "eff68341-ef05-42f5-e473-f37803432fcd"
   },
   "source": [
    "sessions_purchases = sessions[sessions[\"purchase_id\"].notnull()].copy()\n",
    "print(sessions_purchases.shape, deliveries.shape)"
   ],
   "execution_count": 22,
   "outputs": [
    {
     "output_type": "stream",
     "text": [
      "(7812, 7) (7812, 7)\n"
     ],
     "name": "stdout"
    }
   ]
  },
  {
   "cell_type": "code",
   "metadata": {
    "colab": {
     "base_uri": "https://localhost:8080/",
     "height": 573
    },
    "id": "6S6iBPeIm3cL",
    "outputId": "b1795779-11bb-4657-d7e8-189a2c863ec9"
   },
   "source": [
    "sessions_purchases.sort_values(\"purchase_id\", axis=0, inplace=True)\n",
    "deliveries.sort_values(\"purchase_id\", axis=0, inplace=True)\n",
    "\n",
    "merged = pd.merge(sessions_purchases, deliveries, on='purchase_id', how = \"outer\")\n",
    "print(deliveries.shape, sessions_purchases.shape, merged.shape) #sanity check\n",
    "\n",
    "print(merged.isnull().sum())\n",
    "merged.head()"
   ],
   "execution_count": 32,
   "outputs": [
    {
     "output_type": "stream",
     "text": [
      "(7812, 7) (7812, 7) (7812, 13)\n",
      "session_id              0\n",
      "timestamp               0\n",
      "user_id               402\n",
      "product_id            384\n",
      "event_type              0\n",
      "offered_discount        0\n",
      "purchase_id             0\n",
      "purchase_timestamp      0\n",
      "delivery_timestamp      0\n",
      "delivery_company        0\n",
      "time_difference         0\n",
      "time[s]                 0\n",
      "time[hr]                0\n",
      "dtype: int64\n"
     ],
     "name": "stdout"
    },
    {
     "output_type": "execute_result",
     "data": {
      "text/html": [
       "<div>\n",
       "<style scoped>\n",
       "    .dataframe tbody tr th:only-of-type {\n",
       "        vertical-align: middle;\n",
       "    }\n",
       "\n",
       "    .dataframe tbody tr th {\n",
       "        vertical-align: top;\n",
       "    }\n",
       "\n",
       "    .dataframe thead th {\n",
       "        text-align: right;\n",
       "    }\n",
       "</style>\n",
       "<table border=\"1\" class=\"dataframe\">\n",
       "  <thead>\n",
       "    <tr style=\"text-align: right;\">\n",
       "      <th></th>\n",
       "      <th>session_id</th>\n",
       "      <th>timestamp</th>\n",
       "      <th>user_id</th>\n",
       "      <th>product_id</th>\n",
       "      <th>event_type</th>\n",
       "      <th>offered_discount</th>\n",
       "      <th>purchase_id</th>\n",
       "      <th>purchase_timestamp</th>\n",
       "      <th>delivery_timestamp</th>\n",
       "      <th>delivery_company</th>\n",
       "      <th>time_difference</th>\n",
       "      <th>time[s]</th>\n",
       "      <th>time[hr]</th>\n",
       "    </tr>\n",
       "  </thead>\n",
       "  <tbody>\n",
       "    <tr>\n",
       "      <th>0</th>\n",
       "      <td>100002</td>\n",
       "      <td>2021-04-01 15:52:47</td>\n",
       "      <td>102.0</td>\n",
       "      <td>1234.0</td>\n",
       "      <td>BUY_PRODUCT</td>\n",
       "      <td>0</td>\n",
       "      <td>20001.0</td>\n",
       "      <td>2021-04-01 15:52:47</td>\n",
       "      <td>2021-04-02 14:06:34.432964</td>\n",
       "      <td>620</td>\n",
       "      <td>0 days 22:13:47.432964</td>\n",
       "      <td>80027</td>\n",
       "      <td>22.229722</td>\n",
       "    </tr>\n",
       "    <tr>\n",
       "      <th>1</th>\n",
       "      <td>100003</td>\n",
       "      <td>2021-04-01 02:26:23</td>\n",
       "      <td>102.0</td>\n",
       "      <td>1289.0</td>\n",
       "      <td>BUY_PRODUCT</td>\n",
       "      <td>15</td>\n",
       "      <td>20002.0</td>\n",
       "      <td>2021-04-01 02:26:23</td>\n",
       "      <td>2021-04-02 10:45:27.707128</td>\n",
       "      <td>360</td>\n",
       "      <td>1 days 08:19:04.707128</td>\n",
       "      <td>29944</td>\n",
       "      <td>8.317778</td>\n",
       "    </tr>\n",
       "    <tr>\n",
       "      <th>2</th>\n",
       "      <td>100004</td>\n",
       "      <td>2021-01-03 05:11:17</td>\n",
       "      <td>102.0</td>\n",
       "      <td>1009.0</td>\n",
       "      <td>BUY_PRODUCT</td>\n",
       "      <td>0</td>\n",
       "      <td>20003.0</td>\n",
       "      <td>2021-01-03 05:11:17</td>\n",
       "      <td>2021-01-04 15:43:07.635371</td>\n",
       "      <td>620</td>\n",
       "      <td>1 days 10:31:50.635371</td>\n",
       "      <td>37910</td>\n",
       "      <td>10.530556</td>\n",
       "    </tr>\n",
       "    <tr>\n",
       "      <th>3</th>\n",
       "      <td>100005</td>\n",
       "      <td>2021-02-17 12:59:54</td>\n",
       "      <td>NaN</td>\n",
       "      <td>1001.0</td>\n",
       "      <td>BUY_PRODUCT</td>\n",
       "      <td>5</td>\n",
       "      <td>20004.0</td>\n",
       "      <td>2021-02-17 12:59:54</td>\n",
       "      <td>2021-02-18 11:52:42.608746</td>\n",
       "      <td>620</td>\n",
       "      <td>0 days 22:52:48.608746</td>\n",
       "      <td>82368</td>\n",
       "      <td>22.880000</td>\n",
       "    </tr>\n",
       "    <tr>\n",
       "      <th>4</th>\n",
       "      <td>100006</td>\n",
       "      <td>2021-02-13 09:17:52</td>\n",
       "      <td>102.0</td>\n",
       "      <td>1057.0</td>\n",
       "      <td>BUY_PRODUCT</td>\n",
       "      <td>5</td>\n",
       "      <td>20005.0</td>\n",
       "      <td>2021-02-13 09:17:52</td>\n",
       "      <td>2021-02-15 08:59:28.973167</td>\n",
       "      <td>620</td>\n",
       "      <td>1 days 23:41:36.973167</td>\n",
       "      <td>85296</td>\n",
       "      <td>23.693333</td>\n",
       "    </tr>\n",
       "  </tbody>\n",
       "</table>\n",
       "</div>"
      ],
      "text/plain": [
       "   session_id           timestamp  ...  time[s]   time[hr]\n",
       "0      100002 2021-04-01 15:52:47  ...    80027  22.229722\n",
       "1      100003 2021-04-01 02:26:23  ...    29944   8.317778\n",
       "2      100004 2021-01-03 05:11:17  ...    37910  10.530556\n",
       "3      100005 2021-02-17 12:59:54  ...    82368  22.880000\n",
       "4      100006 2021-02-13 09:17:52  ...    85296  23.693333\n",
       "\n",
       "[5 rows x 13 columns]"
      ]
     },
     "metadata": {
      "tags": []
     },
     "execution_count": 32
    }
   ]
  },
  {
   "cell_type": "code",
   "metadata": {
    "colab": {
     "base_uri": "https://localhost:8080/",
     "height": 712
    },
    "id": "1ywtahympIDy",
    "outputId": "ee511a5f-43db-4009-f68e-8948370b7a9a"
   },
   "source": [
    "merged2 = pd.merge(merged, users, on=\"user_id\", how = \"outer\")\n",
    "print(merged.shape, users.shape, merged2.shape)\n",
    "print(merged2.isnull().sum())\n",
    "merged2.head()"
   ],
   "execution_count": 33,
   "outputs": [
    {
     "output_type": "stream",
     "text": [
      "(7812, 13) (200, 4) (7812, 16)\n",
      "session_id              0\n",
      "timestamp               0\n",
      "user_id               402\n",
      "product_id            384\n",
      "event_type              0\n",
      "offered_discount        0\n",
      "purchase_id             0\n",
      "purchase_timestamp      0\n",
      "delivery_timestamp      0\n",
      "delivery_company        0\n",
      "time_difference         0\n",
      "time[s]                 0\n",
      "time[hr]                0\n",
      "name                  402\n",
      "city                  402\n",
      "street                402\n",
      "dtype: int64\n"
     ],
     "name": "stdout"
    },
    {
     "output_type": "execute_result",
     "data": {
      "text/html": [
       "<div>\n",
       "<style scoped>\n",
       "    .dataframe tbody tr th:only-of-type {\n",
       "        vertical-align: middle;\n",
       "    }\n",
       "\n",
       "    .dataframe tbody tr th {\n",
       "        vertical-align: top;\n",
       "    }\n",
       "\n",
       "    .dataframe thead th {\n",
       "        text-align: right;\n",
       "    }\n",
       "</style>\n",
       "<table border=\"1\" class=\"dataframe\">\n",
       "  <thead>\n",
       "    <tr style=\"text-align: right;\">\n",
       "      <th></th>\n",
       "      <th>session_id</th>\n",
       "      <th>timestamp</th>\n",
       "      <th>user_id</th>\n",
       "      <th>product_id</th>\n",
       "      <th>event_type</th>\n",
       "      <th>offered_discount</th>\n",
       "      <th>purchase_id</th>\n",
       "      <th>purchase_timestamp</th>\n",
       "      <th>delivery_timestamp</th>\n",
       "      <th>delivery_company</th>\n",
       "      <th>time_difference</th>\n",
       "      <th>time[s]</th>\n",
       "      <th>time[hr]</th>\n",
       "      <th>name</th>\n",
       "      <th>city</th>\n",
       "      <th>street</th>\n",
       "    </tr>\n",
       "  </thead>\n",
       "  <tbody>\n",
       "    <tr>\n",
       "      <th>0</th>\n",
       "      <td>100002</td>\n",
       "      <td>2021-04-01 15:52:47</td>\n",
       "      <td>102.0</td>\n",
       "      <td>1234.0</td>\n",
       "      <td>BUY_PRODUCT</td>\n",
       "      <td>0</td>\n",
       "      <td>20001.0</td>\n",
       "      <td>2021-04-01 15:52:47</td>\n",
       "      <td>2021-04-02 14:06:34.432964</td>\n",
       "      <td>620</td>\n",
       "      <td>0 days 22:13:47.432964</td>\n",
       "      <td>80027</td>\n",
       "      <td>22.229722</td>\n",
       "      <td>Aurelia Malon</td>\n",
       "      <td>Police</td>\n",
       "      <td>pl. Brzoskwiniowa 11/53</td>\n",
       "    </tr>\n",
       "    <tr>\n",
       "      <th>1</th>\n",
       "      <td>100003</td>\n",
       "      <td>2021-04-01 02:26:23</td>\n",
       "      <td>102.0</td>\n",
       "      <td>1289.0</td>\n",
       "      <td>BUY_PRODUCT</td>\n",
       "      <td>15</td>\n",
       "      <td>20002.0</td>\n",
       "      <td>2021-04-01 02:26:23</td>\n",
       "      <td>2021-04-02 10:45:27.707128</td>\n",
       "      <td>360</td>\n",
       "      <td>1 days 08:19:04.707128</td>\n",
       "      <td>29944</td>\n",
       "      <td>8.317778</td>\n",
       "      <td>Aurelia Malon</td>\n",
       "      <td>Police</td>\n",
       "      <td>pl. Brzoskwiniowa 11/53</td>\n",
       "    </tr>\n",
       "    <tr>\n",
       "      <th>2</th>\n",
       "      <td>100004</td>\n",
       "      <td>2021-01-03 05:11:17</td>\n",
       "      <td>102.0</td>\n",
       "      <td>1009.0</td>\n",
       "      <td>BUY_PRODUCT</td>\n",
       "      <td>0</td>\n",
       "      <td>20003.0</td>\n",
       "      <td>2021-01-03 05:11:17</td>\n",
       "      <td>2021-01-04 15:43:07.635371</td>\n",
       "      <td>620</td>\n",
       "      <td>1 days 10:31:50.635371</td>\n",
       "      <td>37910</td>\n",
       "      <td>10.530556</td>\n",
       "      <td>Aurelia Malon</td>\n",
       "      <td>Police</td>\n",
       "      <td>pl. Brzoskwiniowa 11/53</td>\n",
       "    </tr>\n",
       "    <tr>\n",
       "      <th>3</th>\n",
       "      <td>100006</td>\n",
       "      <td>2021-02-13 09:17:52</td>\n",
       "      <td>102.0</td>\n",
       "      <td>1057.0</td>\n",
       "      <td>BUY_PRODUCT</td>\n",
       "      <td>5</td>\n",
       "      <td>20005.0</td>\n",
       "      <td>2021-02-13 09:17:52</td>\n",
       "      <td>2021-02-15 08:59:28.973167</td>\n",
       "      <td>620</td>\n",
       "      <td>1 days 23:41:36.973167</td>\n",
       "      <td>85296</td>\n",
       "      <td>23.693333</td>\n",
       "      <td>Aurelia Malon</td>\n",
       "      <td>Police</td>\n",
       "      <td>pl. Brzoskwiniowa 11/53</td>\n",
       "    </tr>\n",
       "    <tr>\n",
       "      <th>4</th>\n",
       "      <td>100007</td>\n",
       "      <td>2021-01-15 15:42:34</td>\n",
       "      <td>102.0</td>\n",
       "      <td>1072.0</td>\n",
       "      <td>BUY_PRODUCT</td>\n",
       "      <td>0</td>\n",
       "      <td>20006.0</td>\n",
       "      <td>2021-01-15 15:42:34</td>\n",
       "      <td>2021-01-16 18:09:23.624555</td>\n",
       "      <td>516</td>\n",
       "      <td>1 days 02:26:49.624555</td>\n",
       "      <td>8809</td>\n",
       "      <td>2.446944</td>\n",
       "      <td>Aurelia Malon</td>\n",
       "      <td>Police</td>\n",
       "      <td>pl. Brzoskwiniowa 11/53</td>\n",
       "    </tr>\n",
       "  </tbody>\n",
       "</table>\n",
       "</div>"
      ],
      "text/plain": [
       "   session_id           timestamp  ...    city                   street\n",
       "0      100002 2021-04-01 15:52:47  ...  Police  pl. Brzoskwiniowa 11/53\n",
       "1      100003 2021-04-01 02:26:23  ...  Police  pl. Brzoskwiniowa 11/53\n",
       "2      100004 2021-01-03 05:11:17  ...  Police  pl. Brzoskwiniowa 11/53\n",
       "3      100006 2021-02-13 09:17:52  ...  Police  pl. Brzoskwiniowa 11/53\n",
       "4      100007 2021-01-15 15:42:34  ...  Police  pl. Brzoskwiniowa 11/53\n",
       "\n",
       "[5 rows x 16 columns]"
      ]
     },
     "metadata": {
      "tags": []
     },
     "execution_count": 33
    }
   ]
  },
  {
   "cell_type": "code",
   "metadata": {
    "colab": {
     "base_uri": "https://localhost:8080/",
     "height": 764
    },
    "id": "T30TpR-fpURu",
    "outputId": "096ee9f5-67c4-4591-e4b3-e64b1e6bc9e2"
   },
   "source": [
    "merged_full = pd.merge(merged2, products, on=\"product_id\", how = \"left\")\n",
    "print(merged2.shape, users.shape, merged_full.shape)\n",
    "print(merged_full.isnull().sum())\n",
    "merged_full.head()"
   ],
   "execution_count": 36,
   "outputs": [
    {
     "output_type": "stream",
     "text": [
      "(7812, 16) (200, 4) (7812, 19)\n",
      "session_id              0\n",
      "timestamp               0\n",
      "user_id               402\n",
      "product_id            384\n",
      "event_type              0\n",
      "offered_discount        0\n",
      "purchase_id             0\n",
      "purchase_timestamp      0\n",
      "delivery_timestamp      0\n",
      "delivery_company        0\n",
      "time_difference         0\n",
      "time[s]                 0\n",
      "time[hr]                0\n",
      "name                  402\n",
      "city                  402\n",
      "street                402\n",
      "product_name          384\n",
      "category_path         384\n",
      "price                 384\n",
      "dtype: int64\n"
     ],
     "name": "stdout"
    },
    {
     "output_type": "execute_result",
     "data": {
      "text/html": [
       "<div>\n",
       "<style scoped>\n",
       "    .dataframe tbody tr th:only-of-type {\n",
       "        vertical-align: middle;\n",
       "    }\n",
       "\n",
       "    .dataframe tbody tr th {\n",
       "        vertical-align: top;\n",
       "    }\n",
       "\n",
       "    .dataframe thead th {\n",
       "        text-align: right;\n",
       "    }\n",
       "</style>\n",
       "<table border=\"1\" class=\"dataframe\">\n",
       "  <thead>\n",
       "    <tr style=\"text-align: right;\">\n",
       "      <th></th>\n",
       "      <th>session_id</th>\n",
       "      <th>timestamp</th>\n",
       "      <th>user_id</th>\n",
       "      <th>product_id</th>\n",
       "      <th>event_type</th>\n",
       "      <th>offered_discount</th>\n",
       "      <th>purchase_id</th>\n",
       "      <th>purchase_timestamp</th>\n",
       "      <th>delivery_timestamp</th>\n",
       "      <th>delivery_company</th>\n",
       "      <th>time_difference</th>\n",
       "      <th>time[s]</th>\n",
       "      <th>time[hr]</th>\n",
       "      <th>name</th>\n",
       "      <th>city</th>\n",
       "      <th>street</th>\n",
       "      <th>product_name</th>\n",
       "      <th>category_path</th>\n",
       "      <th>price</th>\n",
       "    </tr>\n",
       "  </thead>\n",
       "  <tbody>\n",
       "    <tr>\n",
       "      <th>0</th>\n",
       "      <td>100002</td>\n",
       "      <td>2021-04-01 15:52:47</td>\n",
       "      <td>102.0</td>\n",
       "      <td>1234.0</td>\n",
       "      <td>BUY_PRODUCT</td>\n",
       "      <td>0</td>\n",
       "      <td>20001.0</td>\n",
       "      <td>2021-04-01 15:52:47</td>\n",
       "      <td>2021-04-02 14:06:34.432964</td>\n",
       "      <td>620</td>\n",
       "      <td>0 days 22:13:47.432964</td>\n",
       "      <td>80027</td>\n",
       "      <td>22.229722</td>\n",
       "      <td>Aurelia Malon</td>\n",
       "      <td>Police</td>\n",
       "      <td>pl. Brzoskwiniowa 11/53</td>\n",
       "      <td>Sony DVP-SR760</td>\n",
       "      <td>Sprzęt RTV;Video;Odtwarzacze DVD</td>\n",
       "      <td>193.00</td>\n",
       "    </tr>\n",
       "    <tr>\n",
       "      <th>1</th>\n",
       "      <td>100003</td>\n",
       "      <td>2021-04-01 02:26:23</td>\n",
       "      <td>102.0</td>\n",
       "      <td>1289.0</td>\n",
       "      <td>BUY_PRODUCT</td>\n",
       "      <td>15</td>\n",
       "      <td>20002.0</td>\n",
       "      <td>2021-04-01 02:26:23</td>\n",
       "      <td>2021-04-02 10:45:27.707128</td>\n",
       "      <td>360</td>\n",
       "      <td>1 days 08:19:04.707128</td>\n",
       "      <td>29944</td>\n",
       "      <td>8.317778</td>\n",
       "      <td>Aurelia Malon</td>\n",
       "      <td>Police</td>\n",
       "      <td>pl. Brzoskwiniowa 11/53</td>\n",
       "      <td>Philips SDV5225</td>\n",
       "      <td>Sprzęt RTV;Video;Telewizory i akcesoria;Anteny...</td>\n",
       "      <td>129.00</td>\n",
       "    </tr>\n",
       "    <tr>\n",
       "      <th>2</th>\n",
       "      <td>100004</td>\n",
       "      <td>2021-01-03 05:11:17</td>\n",
       "      <td>102.0</td>\n",
       "      <td>1009.0</td>\n",
       "      <td>BUY_PRODUCT</td>\n",
       "      <td>0</td>\n",
       "      <td>20003.0</td>\n",
       "      <td>2021-01-03 05:11:17</td>\n",
       "      <td>2021-01-04 15:43:07.635371</td>\n",
       "      <td>620</td>\n",
       "      <td>1 days 10:31:50.635371</td>\n",
       "      <td>37910</td>\n",
       "      <td>10.530556</td>\n",
       "      <td>Aurelia Malon</td>\n",
       "      <td>Police</td>\n",
       "      <td>pl. Brzoskwiniowa 11/53</td>\n",
       "      <td>Kinect Joy Ride (Xbox 360)</td>\n",
       "      <td>Gry i konsole;Gry na konsole;Gry Xbox 360</td>\n",
       "      <td>69000000.00</td>\n",
       "    </tr>\n",
       "    <tr>\n",
       "      <th>3</th>\n",
       "      <td>100006</td>\n",
       "      <td>2021-02-13 09:17:52</td>\n",
       "      <td>102.0</td>\n",
       "      <td>1057.0</td>\n",
       "      <td>BUY_PRODUCT</td>\n",
       "      <td>5</td>\n",
       "      <td>20005.0</td>\n",
       "      <td>2021-02-13 09:17:52</td>\n",
       "      <td>2021-02-15 08:59:28.973167</td>\n",
       "      <td>620</td>\n",
       "      <td>1 days 23:41:36.973167</td>\n",
       "      <td>85296</td>\n",
       "      <td>23.693333</td>\n",
       "      <td>Aurelia Malon</td>\n",
       "      <td>Police</td>\n",
       "      <td>pl. Brzoskwiniowa 11/53</td>\n",
       "      <td>Doom 3 (PC)</td>\n",
       "      <td>Gry i konsole;Gry komputerowe</td>\n",
       "      <td>19.99</td>\n",
       "    </tr>\n",
       "    <tr>\n",
       "      <th>4</th>\n",
       "      <td>100007</td>\n",
       "      <td>2021-01-15 15:42:34</td>\n",
       "      <td>102.0</td>\n",
       "      <td>1072.0</td>\n",
       "      <td>BUY_PRODUCT</td>\n",
       "      <td>0</td>\n",
       "      <td>20006.0</td>\n",
       "      <td>2021-01-15 15:42:34</td>\n",
       "      <td>2021-01-16 18:09:23.624555</td>\n",
       "      <td>516</td>\n",
       "      <td>1 days 02:26:49.624555</td>\n",
       "      <td>8809</td>\n",
       "      <td>2.446944</td>\n",
       "      <td>Aurelia Malon</td>\n",
       "      <td>Police</td>\n",
       "      <td>pl. Brzoskwiniowa 11/53</td>\n",
       "      <td>Jabra Freeway</td>\n",
       "      <td>Telefony i akcesoria;Akcesoria telefoniczne;Ze...</td>\n",
       "      <td>299.00</td>\n",
       "    </tr>\n",
       "  </tbody>\n",
       "</table>\n",
       "</div>"
      ],
      "text/plain": [
       "   session_id  ...        price\n",
       "0      100002  ...       193.00\n",
       "1      100003  ...       129.00\n",
       "2      100004  ...  69000000.00\n",
       "3      100006  ...        19.99\n",
       "4      100007  ...       299.00\n",
       "\n",
       "[5 rows x 19 columns]"
      ]
     },
     "metadata": {
      "tags": []
     },
     "execution_count": 36
    }
   ]
  },
  {
   "cell_type": "markdown",
   "metadata": {
    "id": "8s0rnlbcpsTu"
   },
   "source": [
    "Po połączeniu wszystkich dostępnych danych w jedną megatabelę widać, że do 402 dostaw brakuje kluczowych informacji o adresie dostawy (wynika to z braków w tabeli sessions, gdzie w miejscu id użytkownika była wartość pusta). To dość niewiele rekordów w porównaniu z całym rozmiarem zbioru danych, więc jeśli nie będzie dało się ich uzupełnić to będzie można po prostu zrezygnować z tych wierszy i nie wykorzystywać ich do predykcji. "
   ]
  },
  {
   "cell_type": "code",
   "metadata": {
    "colab": {
     "base_uri": "https://localhost:8080/"
    },
    "id": "FZRQ8SO_qTHF",
    "outputId": "bd664d2b-e398-4b0c-94d5-50a623d9aa37"
   },
   "source": [
    "quick_deliveries = merged_full[merged_full[\"time[hr]\"]< 1]\n",
    "len(quick_deliveries)"
   ],
   "execution_count": 37,
   "outputs": [
    {
     "output_type": "execute_result",
     "data": {
      "text/plain": [
       "306"
      ]
     },
     "metadata": {
      "tags": []
     },
     "execution_count": 37
    }
   ]
  },
  {
   "cell_type": "code",
   "metadata": {
    "colab": {
     "base_uri": "https://localhost:8080/"
    },
    "id": "x6LQNR9zqfXu",
    "outputId": "9541a8ed-e54d-43d8-a009-2c7ced9a3edd"
   },
   "source": [
    "quick_deliveries[\"city\"].unique()"
   ],
   "execution_count": 38,
   "outputs": [
    {
     "output_type": "execute_result",
     "data": {
      "text/plain": [
       "array(['Police', nan, 'Mielec', 'Szczecin', 'Warszawa', 'Radom', 'Gdynia',\n",
       "       'Kutno', 'Konin'], dtype=object)"
      ]
     },
     "metadata": {
      "tags": []
     },
     "execution_count": 38
    }
   ]
  },
  {
   "cell_type": "code",
   "metadata": {
    "colab": {
     "base_uri": "https://localhost:8080/"
    },
    "id": "X7SLFSfgqvlK",
    "outputId": "087b8b19-cc3c-4313-ddd8-dc3a6d2df87e"
   },
   "source": [
    "quick_deliveries[\"city\"].isnull().sum()"
   ],
   "execution_count": 39,
   "outputs": [
    {
     "output_type": "execute_result",
     "data": {
      "text/plain": [
       "14"
      ]
     },
     "metadata": {
      "tags": []
     },
     "execution_count": 39
    }
   ]
  },
  {
   "cell_type": "markdown",
   "metadata": {
    "id": "yq7a8ShWq5im"
   },
   "source": [
    "Wyjątkowo szybkie dostawy są wysyłane do 8 różnych miast w Polsce, co brzmi co najmniej nieprawdopodobnie. "
   ]
  },
  {
   "cell_type": "code",
   "metadata": {
    "colab": {
     "base_uri": "https://localhost:8080/"
    },
    "id": "EzN2KZ3XrJXR",
    "outputId": "cf5accf7-4a54-4960-da1e-83ad36d43f0e"
   },
   "source": [
    "# days of the week\n",
    "merged_full[\"day-of-week\"]= merged_full[\"delivery_timestamp\"].apply(lambda x: x.weekday())\n",
    "weekend_deliveries = merged_full[merged_full[\"day-of-week\"]>=5]\n",
    "sunday_deliveries = merged_full[merged_full[\"day-of-week\"]>5]\n",
    "\n",
    "print(merged_full.shape, weekend_deliveries.shape, sunday_deliveries.shape)"
   ],
   "execution_count": 56,
   "outputs": [
    {
     "output_type": "stream",
     "text": [
      "(7812, 20) (1103, 20) (0, 20)\n"
     ],
     "name": "stdout"
    }
   ]
  },
  {
   "cell_type": "markdown",
   "metadata": {
    "id": "ghkoQMD6t_hv"
   },
   "source": [
    "Okej, sobota to już prawdopodobny czas na dostawy, a w niedzielę już nie dostarczamy, uff! :) "
   ]
  },
  {
   "cell_type": "code",
   "metadata": {
    "colab": {
     "base_uri": "https://localhost:8080/",
     "height": 237
    },
    "id": "GP29gXe3rKOf",
    "outputId": "8a36f619-db05-484d-991f-e5b8050dd8da"
   },
   "source": [
    "# delivery hours\n",
    "dataframe = pd.DataFrame({\"purchase\":merged_full[\"purchase_timestamp\"].to_list(), \"id\": merged_full[\"purchase_id\"].to_list()}, index=pd.DatetimeIndex(merged_full[\"delivery_timestamp\"]))\n",
    "\n",
    "dataframe.head()"
   ],
   "execution_count": 42,
   "outputs": [
    {
     "output_type": "execute_result",
     "data": {
      "text/html": [
       "<div>\n",
       "<style scoped>\n",
       "    .dataframe tbody tr th:only-of-type {\n",
       "        vertical-align: middle;\n",
       "    }\n",
       "\n",
       "    .dataframe tbody tr th {\n",
       "        vertical-align: top;\n",
       "    }\n",
       "\n",
       "    .dataframe thead th {\n",
       "        text-align: right;\n",
       "    }\n",
       "</style>\n",
       "<table border=\"1\" class=\"dataframe\">\n",
       "  <thead>\n",
       "    <tr style=\"text-align: right;\">\n",
       "      <th></th>\n",
       "      <th>purchase</th>\n",
       "      <th>id</th>\n",
       "    </tr>\n",
       "    <tr>\n",
       "      <th>delivery_timestamp</th>\n",
       "      <th></th>\n",
       "      <th></th>\n",
       "    </tr>\n",
       "  </thead>\n",
       "  <tbody>\n",
       "    <tr>\n",
       "      <th>2021-04-02 14:06:34.432964</th>\n",
       "      <td>2021-04-01 15:52:47</td>\n",
       "      <td>20001.0</td>\n",
       "    </tr>\n",
       "    <tr>\n",
       "      <th>2021-04-02 10:45:27.707128</th>\n",
       "      <td>2021-04-01 02:26:23</td>\n",
       "      <td>20002.0</td>\n",
       "    </tr>\n",
       "    <tr>\n",
       "      <th>2021-01-04 15:43:07.635371</th>\n",
       "      <td>2021-01-03 05:11:17</td>\n",
       "      <td>20003.0</td>\n",
       "    </tr>\n",
       "    <tr>\n",
       "      <th>2021-02-15 08:59:28.973167</th>\n",
       "      <td>2021-02-13 09:17:52</td>\n",
       "      <td>20005.0</td>\n",
       "    </tr>\n",
       "    <tr>\n",
       "      <th>2021-01-16 18:09:23.624555</th>\n",
       "      <td>2021-01-15 15:42:34</td>\n",
       "      <td>20006.0</td>\n",
       "    </tr>\n",
       "  </tbody>\n",
       "</table>\n",
       "</div>"
      ],
      "text/plain": [
       "                                      purchase       id\n",
       "delivery_timestamp                                     \n",
       "2021-04-02 14:06:34.432964 2021-04-01 15:52:47  20001.0\n",
       "2021-04-02 10:45:27.707128 2021-04-01 02:26:23  20002.0\n",
       "2021-01-04 15:43:07.635371 2021-01-03 05:11:17  20003.0\n",
       "2021-02-15 08:59:28.973167 2021-02-13 09:17:52  20005.0\n",
       "2021-01-16 18:09:23.624555 2021-01-15 15:42:34  20006.0"
      ]
     },
     "metadata": {
      "tags": []
     },
     "execution_count": 42
    }
   ]
  },
  {
   "cell_type": "code",
   "metadata": {
    "colab": {
     "base_uri": "https://localhost:8080/"
    },
    "id": "NGIg6p8JrKGh",
    "outputId": "0fd1add0-5ea4-4db0-c9c5-2179edc7dcf4"
   },
   "source": [
    "night_deliveries = dataframe.between_time(\"22:00\", \"6:00\")\n",
    "print(night_deliveries.shape)\n"
   ],
   "execution_count": 44,
   "outputs": [
    {
     "output_type": "stream",
     "text": [
      "(0, 2)\n"
     ],
     "name": "stdout"
    }
   ]
  },
  {
   "cell_type": "markdown",
   "metadata": {
    "id": "mTxPmioBsala"
   },
   "source": [
    "Dobrze, nowe dane nie mają już nocnych godzin dostaw!"
   ]
  },
  {
   "cell_type": "markdown",
   "metadata": {
    "id": "eLc8BskTuiH1"
   },
   "source": [
    "Kwestia reprezentatywności \n",
    "----\n"
   ]
  },
  {
   "cell_type": "code",
   "metadata": {
    "colab": {
     "base_uri": "https://localhost:8080/"
    },
    "id": "AH1afunkrJ_O",
    "outputId": "95243aea-aa51-49bc-883b-e2365e6c4f77"
   },
   "source": [
    "merged_full[\"city\"].unique()"
   ],
   "execution_count": 57,
   "outputs": [
    {
     "output_type": "execute_result",
     "data": {
      "text/plain": [
       "array(['Police', nan, 'Mielec', 'Szczecin', 'Warszawa', 'Radom', 'Kutno',\n",
       "       'Gdynia', 'Konin'], dtype=object)"
      ]
     },
     "metadata": {
      "tags": []
     },
     "execution_count": 57
    }
   ]
  },
  {
   "cell_type": "code",
   "metadata": {
    "colab": {
     "base_uri": "https://localhost:8080/"
    },
    "id": "RhxmXUuJrJ33",
    "outputId": "02260a95-1650-41ac-c969-082890ebdf16"
   },
   "source": [
    "users[\"city\"].unique()"
   ],
   "execution_count": 58,
   "outputs": [
    {
     "output_type": "execute_result",
     "data": {
      "text/plain": [
       "array(['Police', 'Mielec', 'Szczecin', 'Warszawa', 'Radom', 'Kutno',\n",
       "       'Gdynia', 'Konin'], dtype=object)"
      ]
     },
     "metadata": {
      "tags": []
     },
     "execution_count": 58
    }
   ]
  },
  {
   "cell_type": "markdown",
   "metadata": {
    "id": "GKAzS-ZAu3m5"
   },
   "source": [
    "Wydaje się, że mamy dane dotyczące wszystkich interesujących nas miejsc dostaw, jednak warto byłoby się upewnić, czy firma faktycznie działa tylko w tych 8 miastach. "
   ]
  },
  {
   "cell_type": "code",
   "metadata": {
    "colab": {
     "base_uri": "https://localhost:8080/"
    },
    "id": "1ua_USYOrJvE",
    "outputId": "711489fa-c79b-4764-ec10-20c041b3c636"
   },
   "source": [
    "cities = merged_full[\"city\"].unique().tolist()\n",
    "cities_count = [(city, len(merged_full[merged_full[\"city\"]==city])) for city in cities]\n",
    "cities_count.append((\"NaN\", len(merged_full[merged_full[\"city\"].isnull()])))\n",
    "for c, n in cities_count:\n",
    "  print(f\"{c}: {n}\")"
   ],
   "execution_count": 64,
   "outputs": [
    {
     "output_type": "stream",
     "text": [
      "Police: 1181\n",
      "nan: 0\n",
      "Mielec: 761\n",
      "Szczecin: 1118\n",
      "Warszawa: 1045\n",
      "Radom: 1005\n",
      "Kutno: 575\n",
      "Gdynia: 711\n",
      "Konin: 1014\n",
      "NaN: 402\n"
     ],
     "name": "stdout"
    }
   ]
  },
  {
   "cell_type": "markdown",
   "metadata": {
    "id": "8vSmLjJtwWc7"
   },
   "source": [
    "Okej, położenie geograficzne odbiorców jest w miarę równomiernie rozłożone i nie powinno wywoływać problemów. "
   ]
  }
 ]
}