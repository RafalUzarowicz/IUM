{
 "nbformat": 4,
 "nbformat_minor": 0,
 "metadata": {
  "colab": {
   "name": "data-analysis.ipynb",
   "provenance": [],
   "collapsed_sections": [],
   "toc_visible": true,
   "mount_file_id": "1uBw7iGPrnO12Fav0ftfv7j2psxEiqc2R",
   "authorship_tag": "ABX9TyNR5v8V+GqpO3HHBYn/p+hi",
   "include_colab_link": true
  },
  "kernelspec": {
   "name": "python3",
   "language": "python",
   "display_name": "Python 3"
  },
  "language_info": {
   "name": "python"
  }
 },
 "cells": [
  {
   "cell_type": "markdown",
   "source": [],
   "metadata": {
    "collapsed": false
   }
  },
  {
   "cell_type": "markdown",
   "metadata": {
    "id": "view-in-github",
    "colab_type": "text"
   },
   "source": [
    "<a href=\"https://colab.research.google.com/github/RafalUzarowicz/IUM/blob/master/data_analysis.ipynb\" target=\"_parent\"><img src=\"https://colab.research.google.com/assets/colab-badge.svg\" alt=\"Open In Colab\"/></a>"
   ]
  },
  {
   "cell_type": "markdown",
   "source": [],
   "metadata": {
    "collapsed": false
   }
  },
  {
   "cell_type": "markdown",
   "metadata": {
    "id": "yIr8DWdJXwxm"
   },
   "source": [
    "Setup\n",
    "===\n"
   ]
  },
  {
   "cell_type": "markdown",
   "metadata": {
    "id": "x3VEvlReX8Nz"
   },
   "source": [
    "Zadanie biznesowe: \n",
    "\n",
    "*Wygląda na to, że nasze firmy kurierskie czasami nie radzą sobie z dostawami. Gdybyśmy wiedzieli, ile taka dostawa dla danego zamówienia potrwa – moglibyśmy przekazywać tą informację klientom.*\n",
    "\n",
    "Zadanie modelowania:\n",
    "\n",
    "Zadanie regregresji - przewidzieć czas dostawy zamówienia. Kryteria oceny modelu mogą być takie jak zazwyczaj dla regresji np. MSE, lub absolute mean error. Dodatkowo można zamiast jednego czasu dostawy przewidywać okno dostawy o założonej szerokości np. 2h i zastosować własną, niestandardową funkcję celu, która traktuje wszystkie dostawy, które wpadły w okienko jako przewidziane poprawnie."
   ]
  },
  {
   "cell_type": "code",
   "metadata": {
    "id": "Xnat2DuhXAG7"
   },
   "source": [
    "import pandas as pd\n",
    "\n"
   ],
   "execution_count": 9,
   "outputs": []
  },
  {
   "cell_type": "code",
   "metadata": {
    "id": "ZhWbsasxYbR5"
   },
   "source": [
    "data_dir =\"/content/drive/MyDrive/Data/IUM/\"\n",
    "\n",
    "deliveries = pd.read_json(data_dir + \"deliveries.jsonl\", lines=True)\n",
    "sessions = pd.read_json(data_dir + \"sessions.jsonl\", lines=True)\n",
    "users = pd.read_json(data_dir + \"users.jsonl\", lines=True)\n",
    "products = pd.read_json(data_dir + \"products.jsonl\", lines=True)\n",
    "\n",
    "data = {\"products\": products, \"sessions\": sessions, \"users\": users, \"deliveries\":deliveries}"
   ],
   "execution_count": 10,
   "outputs": [
    {
     "ename": "ValueError",
     "evalue": "Expected object or value",
     "output_type": "error",
     "traceback": [
      "\u001B[1;31m---------------------------------------------------------------------------\u001B[0m",
      "\u001B[1;31mValueError\u001B[0m                                Traceback (most recent call last)",
      "\u001B[1;32m<ipython-input-10-40730bd55b80>\u001B[0m in \u001B[0;36m<module>\u001B[1;34m\u001B[0m\n\u001B[0;32m      1\u001B[0m \u001B[0mdata_dir\u001B[0m \u001B[1;33m=\u001B[0m\u001B[1;34m\"/content/drive/MyDrive/Data/IUM/\"\u001B[0m\u001B[1;33m\u001B[0m\u001B[1;33m\u001B[0m\u001B[0m\n\u001B[0;32m      2\u001B[0m \u001B[1;33m\u001B[0m\u001B[0m\n\u001B[1;32m----> 3\u001B[1;33m \u001B[0mdeliveries\u001B[0m \u001B[1;33m=\u001B[0m \u001B[0mpd\u001B[0m\u001B[1;33m.\u001B[0m\u001B[0mread_json\u001B[0m\u001B[1;33m(\u001B[0m\u001B[0mdata_dir\u001B[0m \u001B[1;33m+\u001B[0m \u001B[1;34m\"deliveries.jsonl\"\u001B[0m\u001B[1;33m,\u001B[0m \u001B[0mlines\u001B[0m\u001B[1;33m=\u001B[0m\u001B[1;32mTrue\u001B[0m\u001B[1;33m)\u001B[0m\u001B[1;33m\u001B[0m\u001B[1;33m\u001B[0m\u001B[0m\n\u001B[0m\u001B[0;32m      4\u001B[0m \u001B[0msessions\u001B[0m \u001B[1;33m=\u001B[0m \u001B[0mpd\u001B[0m\u001B[1;33m.\u001B[0m\u001B[0mread_json\u001B[0m\u001B[1;33m(\u001B[0m\u001B[0mdata_dir\u001B[0m \u001B[1;33m+\u001B[0m \u001B[1;34m\"sessions.jsonl\"\u001B[0m\u001B[1;33m,\u001B[0m \u001B[0mlines\u001B[0m\u001B[1;33m=\u001B[0m\u001B[1;32mTrue\u001B[0m\u001B[1;33m)\u001B[0m\u001B[1;33m\u001B[0m\u001B[1;33m\u001B[0m\u001B[0m\n\u001B[0;32m      5\u001B[0m \u001B[0musers\u001B[0m \u001B[1;33m=\u001B[0m \u001B[0mpd\u001B[0m\u001B[1;33m.\u001B[0m\u001B[0mread_json\u001B[0m\u001B[1;33m(\u001B[0m\u001B[0mdata_dir\u001B[0m \u001B[1;33m+\u001B[0m \u001B[1;34m\"users.jsonl\"\u001B[0m\u001B[1;33m,\u001B[0m \u001B[0mlines\u001B[0m\u001B[1;33m=\u001B[0m\u001B[1;32mTrue\u001B[0m\u001B[1;33m)\u001B[0m\u001B[1;33m\u001B[0m\u001B[1;33m\u001B[0m\u001B[0m\n",
      "\u001B[1;32mc:\\users\\szafer\\appdata\\local\\programs\\python\\python38\\lib\\site-packages\\pandas\\util\\_decorators.py\u001B[0m in \u001B[0;36mwrapper\u001B[1;34m(*args, **kwargs)\u001B[0m\n\u001B[0;32m    197\u001B[0m                 \u001B[1;32melse\u001B[0m\u001B[1;33m:\u001B[0m\u001B[1;33m\u001B[0m\u001B[1;33m\u001B[0m\u001B[0m\n\u001B[0;32m    198\u001B[0m                     \u001B[0mkwargs\u001B[0m\u001B[1;33m[\u001B[0m\u001B[0mnew_arg_name\u001B[0m\u001B[1;33m]\u001B[0m \u001B[1;33m=\u001B[0m \u001B[0mnew_arg_value\u001B[0m\u001B[1;33m\u001B[0m\u001B[1;33m\u001B[0m\u001B[0m\n\u001B[1;32m--> 199\u001B[1;33m             \u001B[1;32mreturn\u001B[0m \u001B[0mfunc\u001B[0m\u001B[1;33m(\u001B[0m\u001B[1;33m*\u001B[0m\u001B[0margs\u001B[0m\u001B[1;33m,\u001B[0m \u001B[1;33m**\u001B[0m\u001B[0mkwargs\u001B[0m\u001B[1;33m)\u001B[0m\u001B[1;33m\u001B[0m\u001B[1;33m\u001B[0m\u001B[0m\n\u001B[0m\u001B[0;32m    200\u001B[0m \u001B[1;33m\u001B[0m\u001B[0m\n\u001B[0;32m    201\u001B[0m         \u001B[1;32mreturn\u001B[0m \u001B[0mcast\u001B[0m\u001B[1;33m(\u001B[0m\u001B[0mF\u001B[0m\u001B[1;33m,\u001B[0m \u001B[0mwrapper\u001B[0m\u001B[1;33m)\u001B[0m\u001B[1;33m\u001B[0m\u001B[1;33m\u001B[0m\u001B[0m\n",
      "\u001B[1;32mc:\\users\\szafer\\appdata\\local\\programs\\python\\python38\\lib\\site-packages\\pandas\\util\\_decorators.py\u001B[0m in \u001B[0;36mwrapper\u001B[1;34m(*args, **kwargs)\u001B[0m\n\u001B[0;32m    297\u001B[0m                 )\n\u001B[0;32m    298\u001B[0m                 \u001B[0mwarnings\u001B[0m\u001B[1;33m.\u001B[0m\u001B[0mwarn\u001B[0m\u001B[1;33m(\u001B[0m\u001B[0mmsg\u001B[0m\u001B[1;33m,\u001B[0m \u001B[0mFutureWarning\u001B[0m\u001B[1;33m,\u001B[0m \u001B[0mstacklevel\u001B[0m\u001B[1;33m=\u001B[0m\u001B[0mstacklevel\u001B[0m\u001B[1;33m)\u001B[0m\u001B[1;33m\u001B[0m\u001B[1;33m\u001B[0m\u001B[0m\n\u001B[1;32m--> 299\u001B[1;33m             \u001B[1;32mreturn\u001B[0m \u001B[0mfunc\u001B[0m\u001B[1;33m(\u001B[0m\u001B[1;33m*\u001B[0m\u001B[0margs\u001B[0m\u001B[1;33m,\u001B[0m \u001B[1;33m**\u001B[0m\u001B[0mkwargs\u001B[0m\u001B[1;33m)\u001B[0m\u001B[1;33m\u001B[0m\u001B[1;33m\u001B[0m\u001B[0m\n\u001B[0m\u001B[0;32m    300\u001B[0m \u001B[1;33m\u001B[0m\u001B[0m\n\u001B[0;32m    301\u001B[0m         \u001B[1;32mreturn\u001B[0m \u001B[0mwrapper\u001B[0m\u001B[1;33m\u001B[0m\u001B[1;33m\u001B[0m\u001B[0m\n",
      "\u001B[1;32mc:\\users\\szafer\\appdata\\local\\programs\\python\\python38\\lib\\site-packages\\pandas\\io\\json\\_json.py\u001B[0m in \u001B[0;36mread_json\u001B[1;34m(path_or_buf, orient, typ, dtype, convert_axes, convert_dates, keep_default_dates, numpy, precise_float, date_unit, encoding, lines, chunksize, compression, nrows, storage_options)\u001B[0m\n\u001B[0;32m    561\u001B[0m \u001B[1;33m\u001B[0m\u001B[0m\n\u001B[0;32m    562\u001B[0m     \u001B[1;32mwith\u001B[0m \u001B[0mjson_reader\u001B[0m\u001B[1;33m:\u001B[0m\u001B[1;33m\u001B[0m\u001B[1;33m\u001B[0m\u001B[0m\n\u001B[1;32m--> 563\u001B[1;33m         \u001B[1;32mreturn\u001B[0m \u001B[0mjson_reader\u001B[0m\u001B[1;33m.\u001B[0m\u001B[0mread\u001B[0m\u001B[1;33m(\u001B[0m\u001B[1;33m)\u001B[0m\u001B[1;33m\u001B[0m\u001B[1;33m\u001B[0m\u001B[0m\n\u001B[0m\u001B[0;32m    564\u001B[0m \u001B[1;33m\u001B[0m\u001B[0m\n\u001B[0;32m    565\u001B[0m \u001B[1;33m\u001B[0m\u001B[0m\n",
      "\u001B[1;32mc:\\users\\szafer\\appdata\\local\\programs\\python\\python38\\lib\\site-packages\\pandas\\io\\json\\_json.py\u001B[0m in \u001B[0;36mread\u001B[1;34m(self)\u001B[0m\n\u001B[0;32m    690\u001B[0m                 \u001B[0mdata\u001B[0m \u001B[1;33m=\u001B[0m \u001B[0mensure_str\u001B[0m\u001B[1;33m(\u001B[0m\u001B[0mself\u001B[0m\u001B[1;33m.\u001B[0m\u001B[0mdata\u001B[0m\u001B[1;33m)\u001B[0m\u001B[1;33m\u001B[0m\u001B[1;33m\u001B[0m\u001B[0m\n\u001B[0;32m    691\u001B[0m                 \u001B[0mdata_lines\u001B[0m \u001B[1;33m=\u001B[0m \u001B[0mdata\u001B[0m\u001B[1;33m.\u001B[0m\u001B[0msplit\u001B[0m\u001B[1;33m(\u001B[0m\u001B[1;34m\"\\n\"\u001B[0m\u001B[1;33m)\u001B[0m\u001B[1;33m\u001B[0m\u001B[1;33m\u001B[0m\u001B[0m\n\u001B[1;32m--> 692\u001B[1;33m                 \u001B[0mobj\u001B[0m \u001B[1;33m=\u001B[0m \u001B[0mself\u001B[0m\u001B[1;33m.\u001B[0m\u001B[0m_get_object_parser\u001B[0m\u001B[1;33m(\u001B[0m\u001B[0mself\u001B[0m\u001B[1;33m.\u001B[0m\u001B[0m_combine_lines\u001B[0m\u001B[1;33m(\u001B[0m\u001B[0mdata_lines\u001B[0m\u001B[1;33m)\u001B[0m\u001B[1;33m)\u001B[0m\u001B[1;33m\u001B[0m\u001B[1;33m\u001B[0m\u001B[0m\n\u001B[0m\u001B[0;32m    693\u001B[0m         \u001B[1;32melse\u001B[0m\u001B[1;33m:\u001B[0m\u001B[1;33m\u001B[0m\u001B[1;33m\u001B[0m\u001B[0m\n\u001B[0;32m    694\u001B[0m             \u001B[0mobj\u001B[0m \u001B[1;33m=\u001B[0m \u001B[0mself\u001B[0m\u001B[1;33m.\u001B[0m\u001B[0m_get_object_parser\u001B[0m\u001B[1;33m(\u001B[0m\u001B[0mself\u001B[0m\u001B[1;33m.\u001B[0m\u001B[0mdata\u001B[0m\u001B[1;33m)\u001B[0m\u001B[1;33m\u001B[0m\u001B[1;33m\u001B[0m\u001B[0m\n",
      "\u001B[1;32mc:\\users\\szafer\\appdata\\local\\programs\\python\\python38\\lib\\site-packages\\pandas\\io\\json\\_json.py\u001B[0m in \u001B[0;36m_get_object_parser\u001B[1;34m(self, json)\u001B[0m\n\u001B[0;32m    714\u001B[0m         \u001B[0mobj\u001B[0m \u001B[1;33m=\u001B[0m \u001B[1;32mNone\u001B[0m\u001B[1;33m\u001B[0m\u001B[1;33m\u001B[0m\u001B[0m\n\u001B[0;32m    715\u001B[0m         \u001B[1;32mif\u001B[0m \u001B[0mtyp\u001B[0m \u001B[1;33m==\u001B[0m \u001B[1;34m\"frame\"\u001B[0m\u001B[1;33m:\u001B[0m\u001B[1;33m\u001B[0m\u001B[1;33m\u001B[0m\u001B[0m\n\u001B[1;32m--> 716\u001B[1;33m             \u001B[0mobj\u001B[0m \u001B[1;33m=\u001B[0m \u001B[0mFrameParser\u001B[0m\u001B[1;33m(\u001B[0m\u001B[0mjson\u001B[0m\u001B[1;33m,\u001B[0m \u001B[1;33m**\u001B[0m\u001B[0mkwargs\u001B[0m\u001B[1;33m)\u001B[0m\u001B[1;33m.\u001B[0m\u001B[0mparse\u001B[0m\u001B[1;33m(\u001B[0m\u001B[1;33m)\u001B[0m\u001B[1;33m\u001B[0m\u001B[1;33m\u001B[0m\u001B[0m\n\u001B[0m\u001B[0;32m    717\u001B[0m \u001B[1;33m\u001B[0m\u001B[0m\n\u001B[0;32m    718\u001B[0m         \u001B[1;32mif\u001B[0m \u001B[0mtyp\u001B[0m \u001B[1;33m==\u001B[0m \u001B[1;34m\"series\"\u001B[0m \u001B[1;32mor\u001B[0m \u001B[0mobj\u001B[0m \u001B[1;32mis\u001B[0m \u001B[1;32mNone\u001B[0m\u001B[1;33m:\u001B[0m\u001B[1;33m\u001B[0m\u001B[1;33m\u001B[0m\u001B[0m\n",
      "\u001B[1;32mc:\\users\\szafer\\appdata\\local\\programs\\python\\python38\\lib\\site-packages\\pandas\\io\\json\\_json.py\u001B[0m in \u001B[0;36mparse\u001B[1;34m(self)\u001B[0m\n\u001B[0;32m    829\u001B[0m \u001B[1;33m\u001B[0m\u001B[0m\n\u001B[0;32m    830\u001B[0m         \u001B[1;32melse\u001B[0m\u001B[1;33m:\u001B[0m\u001B[1;33m\u001B[0m\u001B[1;33m\u001B[0m\u001B[0m\n\u001B[1;32m--> 831\u001B[1;33m             \u001B[0mself\u001B[0m\u001B[1;33m.\u001B[0m\u001B[0m_parse_no_numpy\u001B[0m\u001B[1;33m(\u001B[0m\u001B[1;33m)\u001B[0m\u001B[1;33m\u001B[0m\u001B[1;33m\u001B[0m\u001B[0m\n\u001B[0m\u001B[0;32m    832\u001B[0m \u001B[1;33m\u001B[0m\u001B[0m\n\u001B[0;32m    833\u001B[0m         \u001B[1;32mif\u001B[0m \u001B[0mself\u001B[0m\u001B[1;33m.\u001B[0m\u001B[0mobj\u001B[0m \u001B[1;32mis\u001B[0m \u001B[1;32mNone\u001B[0m\u001B[1;33m:\u001B[0m\u001B[1;33m\u001B[0m\u001B[1;33m\u001B[0m\u001B[0m\n",
      "\u001B[1;32mc:\\users\\szafer\\appdata\\local\\programs\\python\\python38\\lib\\site-packages\\pandas\\io\\json\\_json.py\u001B[0m in \u001B[0;36m_parse_no_numpy\u001B[1;34m(self)\u001B[0m\n\u001B[0;32m   1077\u001B[0m         \u001B[1;32mif\u001B[0m \u001B[0morient\u001B[0m \u001B[1;33m==\u001B[0m \u001B[1;34m\"columns\"\u001B[0m\u001B[1;33m:\u001B[0m\u001B[1;33m\u001B[0m\u001B[1;33m\u001B[0m\u001B[0m\n\u001B[0;32m   1078\u001B[0m             self.obj = DataFrame(\n\u001B[1;32m-> 1079\u001B[1;33m                 \u001B[0mloads\u001B[0m\u001B[1;33m(\u001B[0m\u001B[0mjson\u001B[0m\u001B[1;33m,\u001B[0m \u001B[0mprecise_float\u001B[0m\u001B[1;33m=\u001B[0m\u001B[0mself\u001B[0m\u001B[1;33m.\u001B[0m\u001B[0mprecise_float\u001B[0m\u001B[1;33m)\u001B[0m\u001B[1;33m,\u001B[0m \u001B[0mdtype\u001B[0m\u001B[1;33m=\u001B[0m\u001B[1;32mNone\u001B[0m\u001B[1;33m\u001B[0m\u001B[1;33m\u001B[0m\u001B[0m\n\u001B[0m\u001B[0;32m   1080\u001B[0m             )\n\u001B[0;32m   1081\u001B[0m         \u001B[1;32melif\u001B[0m \u001B[0morient\u001B[0m \u001B[1;33m==\u001B[0m \u001B[1;34m\"split\"\u001B[0m\u001B[1;33m:\u001B[0m\u001B[1;33m\u001B[0m\u001B[1;33m\u001B[0m\u001B[0m\n",
      "\u001B[1;31mValueError\u001B[0m: Expected object or value"
     ]
    }
   ]
  },
  {
   "cell_type": "code",
   "metadata": {
    "colab": {
     "base_uri": "https://localhost:8080/",
     "height": 206
    },
    "id": "21uzQm3DutiD",
    "outputId": "a5bd1443-05b6-469f-b868-7c6a824dac0d"
   },
   "source": [
    "deliveries.head()"
   ],
   "execution_count": null,
   "outputs": []
  },
  {
   "cell_type": "markdown",
   "metadata": {
    "id": "0NFY_7RkutSH"
   },
   "source": []
  },
  {
   "cell_type": "markdown",
   "metadata": {
    "id": "Cznw7mzglsWC"
   },
   "source": [
    "Eksploracyjna analiza danych \n",
    "======"
   ]
  },
  {
   "cell_type": "code",
   "metadata": {
    "colab": {
     "base_uri": "https://localhost:8080/"
    },
    "id": "T0Q0anYTZSXl",
    "outputId": "60fb38b1-7015-4481-95ca-a8d4de93f055"
   },
   "source": [
    "print(deliveries.shape, sessions.shape, users.shape, products.shape)\n",
    "print(deliveries.columns, \"\\n\", sessions.columns,\"\\n\", users.columns,\"\\n\", products.columns)"
   ],
   "execution_count": null,
   "outputs": []
  },
  {
   "cell_type": "markdown",
   "metadata": {
    "id": "1XzO4FD6mOuX"
   },
   "source": [
    "Ilościowo danych wydaje się być dostatecznie dużo, w najbardziej interesującej nas tabeli (deliveries) jest niemal 7 tysięcy wierszy, co powinno być dość zarówno do wytrenowania, walidacji jak i testowania modelu. \n"
   ]
  },
  {
   "cell_type": "code",
   "metadata": {
    "colab": {
     "base_uri": "https://localhost:8080/",
     "height": 206
    },
    "id": "muLfv8CdZ36k",
    "outputId": "43800529-da0c-46b9-fea9-4a794bc0b904"
   },
   "source": [
    "deliveries.head()"
   ],
   "execution_count": null,
   "outputs": []
  },
  {
   "cell_type": "code",
   "metadata": {
    "colab": {
     "base_uri": "https://localhost:8080/",
     "height": 206
    },
    "id": "ty-qEwMWZ334",
    "outputId": "5f37664b-913e-46e6-a66c-c2f0f88b2c52"
   },
   "source": [
    "sessions.head()"
   ],
   "execution_count": null,
   "outputs": []
  },
  {
   "cell_type": "code",
   "metadata": {
    "colab": {
     "base_uri": "https://localhost:8080/",
     "height": 206
    },
    "id": "NAj4ux89Z31U",
    "outputId": "141e8aee-937c-420f-9e7a-33709bd65ced"
   },
   "source": [
    "users.head()"
   ],
   "execution_count": null,
   "outputs": []
  },
  {
   "cell_type": "code",
   "metadata": {
    "colab": {
     "base_uri": "https://localhost:8080/",
     "height": 206
    },
    "id": "3iq1bMmQZ3ya",
    "outputId": "03a74ea2-6ab7-4cdd-8ed9-2693841585d7"
   },
   "source": [
    "products.head()"
   ],
   "execution_count": null,
   "outputs": []
  },
  {
   "cell_type": "markdown",
   "metadata": {
    "id": "-d6AzQMIZyHq"
   },
   "source": [
    "Omówienie kolumn\n",
    "----\n",
    "\n",
    "**Dane które na pewno będą istotne:**\n",
    "- adres użytkownika (może być konieczne dodanie do niego kolumny z kodem pocztowym - powinno dać to lepsze pojęcie o położeniu punktów dostaw w tym samym rejonie, dalszym przetworzeniem może być też odległość absolutna pomiędzy magazynem/miejscem wysyłki a celem)\n",
    "- dane dt. czasu złożenia zamówienia (prawdopodobnie trzeba będzie je przekszałcić w format bardziej nadający się do obróbki)\n",
    "- dane dt. czasu dostawy (atrybut którego wartość będziemy próbowali przewidzieć wprost tj. datę lub pośrednio tj. czas między złożeniem zamówienia, a dostawą)\n",
    "- dane dt. firmy kurierskiej (firma prawdopodobnie będzie mocno wpływać na czas dostawy)\n",
    "\n",
    "**Dane które by się przydały:**\n",
    "- dane dt. momentu i miejsca wysyłki produktów (czy zawsze wysyłane są z tego samego miejsca, czy istnieją jakieś opóźnienia)\n",
    "- dane dt. punktów pośrednich na drodze przesyłki (o ile istnieją) np. punktów spedycyjnych, magazynów, to potencjalnie mogłoby pozwolić na ulepszanie predykcji w trakcie podróży przesyłki i im bliżej celu, tym dokładniejsze dane można by było zaprezentować użytkownikowi\n",
    "- \n",
    "\n",
    "**Pozostałe dane:**\n",
    "\n",
    "- session_id - raczej nieistotne \n",
    "-\ttimestamp z tabeli sessions - też raczej nieistotny, podobne informacje niesie timestamp zakupu produktu z tabeli deliveries, gdyż nie obchodzi nas jakie produkty przeglądał użytkownik, a tylko akcje kupna\n",
    "- user_id - samo w sobie raczej nie niesie wartości, choć może być przydatne do łączenia z innymi tablicami (np. deliveries)\n",
    "- product_id \t- przydatne do łączenia\n",
    "- event_type \t- raczej nieistotne\n",
    "- offered_discount \t- raczej nieistotne\n",
    "- purchase_id - istotne do łączenia\n",
    "- name \t- samo w sobie nieważne, można by z niego wyciągnąć takie dane jak np. płeć, jednak nie będzie to miało wpływu na czas dostawy\n",
    "- product_name - raczej nie istotne\n",
    "- category_path - może być o tyle ważne, że pewne produkty mogłyby być gabarytami, wtedy ich czas dostawy mógłby się znacznie różnic przez konieczność specjalnego ich traktowania\n",
    "- price - cena sama w sobie raczej nie niesie wartości\n",
    "\n",
    "\n",
    "**Ogólny komentarz**\n",
    "\n",
    "Tabela deliveries - ważna, niesie istotne dane, choć może być konieczność poddania ich odpowiedniemu przetworzeniu przed utworzeniem modelu. Zawarte w niej daty i godziny są prawdopodobnie bardzo ważne w budowie modelu, ale będą wymagały przetworzenia - np. wyciągnięcia oddzielnie miesiąca, dnia, godziny, może też dnia tygodnia. \n",
    "\n",
    "Tabela sessions - raczej nieważna, choć spodziewam się że może nieść nieco istotnych danych nt. obciążenia systemu w poszczególnych okresach, co prawdopodobnie wpływa na czas dostaw. \n",
    ":owe użytkowników. \n",
    "\n",
    "Tabela products - przy wstępnej analizie nie wydaje się istotna, ale może da się na jej podstawie utworzyć nowe atrybuty bardziej przydatne dla problemu. Być może warto np. dodać do kolumny deliveries kolumnę zliczającą ile przedmiotów jest w jednym zamówieniu - wielkość zamówienia może wpływać na możliwości firm kurierskich co do czasu dostawy.\n"
   ]
  },
  {
   "cell_type": "code",
   "metadata": {
    "colab": {
     "base_uri": "https://localhost:8080/"
    },
    "id": "3XQ83fD1ba6Q",
    "outputId": "6774dcec-f421-4d38-c934-bc555cfc2d9f"
   },
   "source": [
    "for key in data.keys():\n",
    "  print(key, \":\\n\", data[key].isnull().sum(), \"\\n\")"
   ],
   "execution_count": null,
   "outputs": []
  },
  {
   "cell_type": "markdown",
   "metadata": {
    "id": "MFH9Jo5Wferz"
   },
   "source": [
    "Brakujące dane w tabeli deliveries są raczej martwiące, dobrze by było jakby dało się je uzupełnić, jednak jeśli nie będzie to możliwe to pozostałe dane powinny być wystarczające do wytrenowania modelu (max 662 wiersze są wybrakowane, to poniżej 10% danych)\n",
    "\n",
    "Cieszy brak pustych wartości w tabelach dotyczących użytkowników - nie powinno być problemu z nieznanymi adresami dostaw.\n",
    "\n",
    "Braki w tabeli sessions nie zaskakują - wynikają prawdopodobnie ze sposobu jaki są gromadzone dane, np. puste wartości w kolumnie purchase_id wynikają najpewniej z tego że dany wiersz odpowiada wartości event_type innej niż BUY_PRODUCT"
   ]
  },
  {
   "cell_type": "code",
   "metadata": {
    "colab": {
     "base_uri": "https://localhost:8080/"
    },
    "id": "J-CUkbfcZsB6",
    "outputId": "68054e29-c2d6-4924-d7c7-bd8a8123378a"
   },
   "source": [
    "categories = set()\n",
    "for value in products[\"category_path\"]:\n",
    "  categories.update(value.split(\";\"))\n",
    "\n",
    "categories"
   ],
   "execution_count": null,
   "outputs": []
  },
  {
   "cell_type": "markdown",
   "metadata": {
    "id": "v4ZF2sG8g-6j"
   },
   "source": [
    "Po przyjrzeniu się kategoriom można zauważyć, że gabaryty sprzedawanych przedmiotów nie będą się bardzo różnić - choć transport monitorów LCD i Słuchawek jest różny, to raczej nie dość różny by wpłynąć na czas dostawy. Mimo to można dodać kolumnę dzielącą przedmioty na większe np. Drukarki i skaner, Komputery, Monitory i Monitory LCD jako urządzenia \"duże\", a telefony komorkowe, zestawy słuchawkowe i gry na konsole jako \"małe\". "
   ]
  },
  {
   "cell_type": "code",
   "metadata": {
    "id": "iCe1sV5Gg-Up"
   },
   "source": [],
   "execution_count": null,
   "outputs": []
  },
  {
   "cell_type": "code",
   "metadata": {
    "id": "eNXZtsTjgbwc"
   },
   "source": [],
   "execution_count": null,
   "outputs": []
  },
  {
   "cell_type": "markdown",
   "metadata": {
    "id": "2Ap1U_u7l3W2"
   },
   "source": [
    "Feature engineering\n",
    "-----\n",
    "\n",
    "Dane czasowe - zamienić na czas absolutny, policzyć kolumnę czasu dostawy, pokazać dane na grafie i sprawdzić jakie są w nich trendy.\n",
    "\n",
    "Adres - kod pocztowy, odległość absolutna"
   ]
  },
  {
   "cell_type": "code",
   "metadata": {
    "colab": {
     "base_uri": "https://localhost:8080/",
     "height": 206
    },
    "id": "xZHcvP2smKMz",
    "outputId": "40e3f487-a259-4fe7-cf27-fb1631906328"
   },
   "source": [
    "deliveries.head()\n"
   ],
   "execution_count": null,
   "outputs": []
  },
  {
   "cell_type": "code",
   "metadata": {
    "colab": {
     "base_uri": "https://localhost:8080/",
     "height": 206
    },
    "id": "d9RNf-5At49T",
    "outputId": "9db5a7eb-5b0e-4f04-c8e1-e87757d089ea"
   },
   "source": [
    "deliveries[\"purchase_timestamp\"] = pd.to_datetime ( deliveries[\"purchase_timestamp\"], format='%Y-%m-%dT%H:%M', errors=\"coerce\")\n",
    "deliveries['delivery_timestamp'] = pd.to_datetime ( deliveries[\"delivery_timestamp\"], format='%Y-%m-%dT%H:%M:%S', errors=\"coerce\")\n",
    "deliveries.head()"
   ],
   "execution_count": null,
   "outputs": []
  },
  {
   "cell_type": "code",
   "metadata": {
    "colab": {
     "base_uri": "https://localhost:8080/",
     "height": 206
    },
    "id": "IpX3ufgXvn-g",
    "outputId": "a4a2a247-62d3-4fae-dc3a-e097fcbb0ba5"
   },
   "source": [
    "deliveries[\"time_difference\"] = deliveries[\"delivery_timestamp\"] - deliveries[\"purchase_timestamp\"]\n",
    "deliveries.head()"
   ],
   "execution_count": null,
   "outputs": []
  },
  {
   "cell_type": "code",
   "metadata": {
    "colab": {
     "base_uri": "https://localhost:8080/"
    },
    "id": "eu8KzpjbwSPG",
    "outputId": "7b6670ce-c26e-4015-bad1-fc72739ce81f"
   },
   "source": [
    "len(deliveries[deliveries[\"purchase_timestamp\"] > deliveries[\"delivery_timestamp\"]])"
   ],
   "execution_count": null,
   "outputs": []
  },
  {
   "cell_type": "markdown",
   "metadata": {
    "id": "O73gDEJdvzWw"
   },
   "source": [
    "Ujemne wartości w nowoutworzonej kolumnie wskazują na to, że dane są zanieczyszczone - produkt nie mógł być dostarczony przed zakupem. Takich zanieczyszczeń jest stosunkowo wiele - 2 tysiące wierszy, które przez to nie będą mogły zostać wykorzystane w modelowaniu. To zbyt wiele danych, żebyśmy mogli je po prostu pominąć, jak w przypadku brakujących czasów dostawy. "
   ]
  },
  {
   "cell_type": "code",
   "metadata": {
    "colab": {
     "base_uri": "https://localhost:8080/",
     "height": 424
    },
    "id": "-FPT5qDIwi9T",
    "outputId": "e6e52f69-5887-43bd-fe19-9f5e81ef3c53"
   },
   "source": [
    "deliveries[deliveries[\"purchase_timestamp\"] > deliveries[\"delivery_timestamp\"]]"
   ],
   "execution_count": null,
   "outputs": []
  },
  {
   "cell_type": "code",
   "metadata": {
    "id": "MOg_wwgWxzQs",
    "colab": {
     "base_uri": "https://localhost:8080/"
    },
    "outputId": "e8fabdb1-67e6-44b2-bc17-a54fb38713a8"
   },
   "source": [
    "deliveries.dtypes"
   ],
   "execution_count": null,
   "outputs": []
  },
  {
   "cell_type": "code",
   "metadata": {
    "id": "Qwx2VCvjWgkG"
   },
   "source": [
    "preped = deliveries[deliveries[\"purchase_timestamp\"] < deliveries[\"delivery_timestamp\"]].copy()"
   ],
   "execution_count": null,
   "outputs": []
  },
  {
   "cell_type": "code",
   "metadata": {
    "colab": {
     "base_uri": "https://localhost:8080/",
     "height": 206
    },
    "id": "mT0MX-TuWAyE",
    "outputId": "508204b2-3879-4b8f-d834-e9b131c027c7"
   },
   "source": [
    "def to_seconds (time_delta):\n",
    "  return time_delta.total_seconds()\n",
    "preped[\"time[s]\"]=preped[\"time_difference\"].apply(to_seconds)\n",
    "preped.head()"
   ],
   "execution_count": null,
   "outputs": []
  },
  {
   "cell_type": "code",
   "metadata": {
    "colab": {
     "base_uri": "https://localhost:8080/",
     "height": 623
    },
    "id": "CvftlVPpWv1b",
    "outputId": "bee47759-4f82-4863-ea55-a3145737189a"
   },
   "source": [
    "import matplotlib.pyplot as plt\n",
    "import seaborn as sns\n",
    "\n",
    "def to_day(timestamp):\n",
    "    timestamp.to_day()\n",
    "\n",
    "\n",
    "plt.figure(figsize=(20,10))\n",
    "sns.histplot(preped[\"purchase_timestamp\"])"
   ],
   "execution_count": null,
   "outputs": []
  },
  {
   "cell_type": "code",
   "metadata": {
    "colab": {
     "base_uri": "https://localhost:8080/",
     "height": 1000
    },
    "id": "vGey1n2iYvLa",
    "outputId": "9d1c5f7b-8477-43e2-e2d4-4cdeeb3b1fe5"
   },
   "source": [
    "import numpy as np\n",
    "#map purchase timestamp to days for distplot\n",
    "min_time = np.min(preped[\"purchase_timestamp\"])\n",
    "preped[\"purchase_day\"] = preped[\"purchase_timestamp\"].apply(lambda x: (x - min_time).days)\n",
    "#preped.head()\n",
    "plt.figure(figsize=(20,10))\n",
    "sns.histplot(preped[\"purchase_day\"], binwidth=1)\n",
    "plt.show()\n",
    "\n",
    "#average time by day?\n",
    "plt.figure(figsize=(20,10))\n",
    "days = preped[\"purchase_day\"].unique()\n",
    "avg_time_by_day = [np.average(preped[preped[\"purchase_day\"]==day][\"time[s]\"]) for day in days]\n",
    "\n",
    "sns.lineplot(x=days, y=avg_time_by_day)\n",
    "\n",
    "plt.show()"
   ],
   "execution_count": null,
   "outputs": []
  },
  {
   "cell_type": "markdown",
   "metadata": {
    "id": "o-f2QKurbiei"
   },
   "source": [
    "Wydaje się, że dodanie dnia tygodnia jak nowego atrybutu może być przydatne do regresji"
   ]
  },
  {
   "cell_type": "code",
   "metadata": {
    "colab": {
     "base_uri": "https://localhost:8080/",
     "height": 678
    },
    "id": "fai7UQsJbjSi",
    "outputId": "bc2da22c-3e9d-43bb-b47b-67cea635b6b3"
   },
   "source": [
    "plt.figure(figsize=(20,10))\n",
    "sns.boxplot(preped[\"time[s]\"])"
   ],
   "execution_count": null,
   "outputs": []
  },
  {
   "cell_type": "code",
   "metadata": {
    "colab": {
     "base_uri": "https://localhost:8080/",
     "height": 623
    },
    "id": "4S5yOewCcQdj",
    "outputId": "8fd76bc4-6f59-4311-cbac-0f69c0e82ab1"
   },
   "source": [
    "plt.figure(figsize=(20,10))\n",
    "sns.histplot(data=preped[\"time[s]\"], binwidth=60*60)"
   ],
   "execution_count": null,
   "outputs": []
  },
  {
   "cell_type": "code",
   "metadata": {
    "colab": {
     "base_uri": "https://localhost:8080/",
     "height": 206
    },
    "id": "dt81oowWc0mJ",
    "outputId": "505178a8-76f2-47a8-9575-d5679fa273b4"
   },
   "source": [
    "preped[\"time[h]\"]=preped[\"time_difference\"].apply(lambda x: x.total_seconds()/(60*60))\n",
    "preped.head()"
   ],
   "execution_count": null,
   "outputs": []
  },
  {
   "cell_type": "markdown",
   "metadata": {
    "id": "fuR9ilMkdL4e"
   },
   "source": [
    "Na pierwszy rzut oka martwiące są czasy dostawy poniżej godziny, ale także te krótkie - 2 lub 3 - godzinne. Obecnym standardem w e-commerce jest dostawa przesyłki w ciągu 1-2 dni roboczych, czyli czas dostawy od mniej więcej 10 do 30-kilku godzin. Być może te krótkie dane są poprawne jeśli firma realizuje dostawy ekspresowe (np z usuługą dostawy tego samego dnia) albo np. możlwość odbioru towaru z salonu, jeśli jest on w nim dostępny. \n",
    "\n",
    "Mimo to dane nt. czasu dostawy wymagają dokładniejszego przyjrzenia się ich rozkładowi. "
   ]
  },
  {
   "cell_type": "code",
   "metadata": {
    "colab": {
     "base_uri": "https://localhost:8080/",
     "height": 623
    },
    "id": "R5IM5HSYd6EM",
    "outputId": "ee5b86c6-c249-415f-cad8-4e94ca1a5ecf"
   },
   "source": [
    "plt.figure(figsize=(20,10))\n",
    "sns.histplot(preped[\"time[h]\"], binwidth=1)"
   ],
   "execution_count": 4,
   "outputs": [
    {
     "ename": "NameError",
     "evalue": "name 'plt' is not defined",
     "output_type": "error",
     "traceback": [
      "\u001B[1;31m---------------------------------------------------------------------------\u001B[0m",
      "\u001B[1;31mNameError\u001B[0m                                 Traceback (most recent call last)",
      "\u001B[1;32m<ipython-input-4-820a1ff3ecd1>\u001B[0m in \u001B[0;36m<module>\u001B[1;34m\u001B[0m\n\u001B[1;32m----> 1\u001B[1;33m \u001B[0mplt\u001B[0m\u001B[1;33m.\u001B[0m\u001B[0mfigure\u001B[0m\u001B[1;33m(\u001B[0m\u001B[0mfigsize\u001B[0m\u001B[1;33m=\u001B[0m\u001B[1;33m(\u001B[0m\u001B[1;36m20\u001B[0m\u001B[1;33m,\u001B[0m\u001B[1;36m10\u001B[0m\u001B[1;33m)\u001B[0m\u001B[1;33m)\u001B[0m\u001B[1;33m\u001B[0m\u001B[1;33m\u001B[0m\u001B[0m\n\u001B[0m\u001B[0;32m      2\u001B[0m \u001B[0msns\u001B[0m\u001B[1;33m.\u001B[0m\u001B[0mhistplot\u001B[0m\u001B[1;33m(\u001B[0m\u001B[0mpreped\u001B[0m\u001B[1;33m[\u001B[0m\u001B[1;34m\"time[h]\"\u001B[0m\u001B[1;33m]\u001B[0m\u001B[1;33m,\u001B[0m \u001B[0mbinwidth\u001B[0m\u001B[1;33m=\u001B[0m\u001B[1;36m1\u001B[0m\u001B[1;33m)\u001B[0m\u001B[1;33m\u001B[0m\u001B[1;33m\u001B[0m\u001B[0m\n\u001B[0;32m      3\u001B[0m \u001B[1;33m\u001B[0m\u001B[0m\n",
      "\u001B[1;31mNameError\u001B[0m: name 'plt' is not defined"
     ]
    }
   ]
  },
  {
   "cell_type": "markdown",
   "metadata": {
    "id": "QE1ddJTUco5a"
   },
   "source": [
    "Firma ewidentnie realizuje dostawy w przeciągu 24h, czyli raczej krótko. Podejrzanie krótkie czasy dostawy (poniżej 5 godzin) zdecydowanie wymagają wyjaśnienia z przedstawicielem firmy. \n",
    "\n",
    "Warto jeszcze sprawdzić jak wygląda rozkład czasu dostawy w godzinach w podziale na poszczególne firmy kurierskie - być może okaże się, że krótkie dostawy są realizowane tylko przez jedną firmę, co wskazywałoby na prawidłowość hipotezy o możliwości wykupienia ekspresowej dostawy. \n",
    "\n",
    "Ponadto warto też przyjrzeć się godzinom w jakich realizowana jest dostawa - mam podejrzenie, że znajdziemy tam jakieś dostawy w nieprzyzwoicie nocnych godzinach."
   ]
  },
  {
   "cell_type": "code",
   "metadata": {
    "colab": {
     "base_uri": "https://localhost:8080/"
    },
    "id": "mx2pn1c9icSk",
    "outputId": "59ba3a00-c45d-41b3-8f39-7b33de206224"
   },
   "source": [
    "preped[\"delivery_company\"].unique()"
   ],
   "execution_count": null,
   "outputs": [
    {
     "output_type": "execute_result",
     "data": {
      "text/plain": [
       "array([620., 360., 516.,  nan])"
      ]
     },
     "metadata": {
      "tags": []
     },
     "execution_count": 70
    }
   ]
  },
  {
   "cell_type": "code",
   "metadata": {
    "colab": {
     "base_uri": "https://localhost:8080/",
     "height": 730
    },
    "id": "Flm0o9SXezYa",
    "outputId": "1fbd1092-62ec-487e-db9e-e0089be978f7"
   },
   "source": [
    "companies = preped[\"delivery_company\"].unique()\n",
    "dfs = {\n",
    "    \"unknown\": preped[preped['delivery_company'].isna()][\"time[h]\"],\n",
    "    \"360\": preped[preped['delivery_company']==360][\"time[h]\"],\n",
    "    \"516\": preped[preped['delivery_company']==516][\"time[h]\"],\n",
    "    \"620\": preped[preped['delivery_company']==620][\"time[h]\"]\n",
    "}\n",
    "\n",
    "fgs, axes = plt.subplots(2, 2, figsize=(12,12))\n",
    "axs = [axes[i][j] for i in [0,1] for j in [0,1]]\n",
    "i=0\n",
    "for key, df in dfs.items():\n",
    "  sns.histplot(data = df, binwidth=1, ax = axs[i])\n",
    "  axs[i].title.set_text(key)\n",
    "  i+=1\n",
    "plt.show()\n"
   ],
   "execution_count": null,
   "outputs": [
    {
     "output_type": "display_data",
     "data": {
      "image/png": "[encoded data removed]",
      "text/plain": [
       "<Figure size 864x864 with 4 Axes>"
      ]
     },
     "metadata": {
      "tags": [],
      "needs_background": "light"
     }
    }
   ]
  },
  {
   "cell_type": "markdown",
   "metadata": {
    "id": "Qm2UNmjCi5fm"
   },
   "source": [
    "Nie wydaje się, żeby któraś z firm kurierskich dostarczała paczki znacznie szybciej od innych, co wskazuje raczej na błąd w pomiarach i nierzetelne dane. Podobnie nieprzekraczalny termin 24h też jest podejrzany - paczki z reguły są dostarczane w dni robocze (czasem również w soboty), więc dziwi że dla zamówień złożonych w soboty nie widzimy czasu powyżej 24h. "
   ]
  },
  {
   "cell_type": "code",
   "metadata": {
    "colab": {
     "base_uri": "https://localhost:8080/",
     "height": 238
    },
    "id": "iLpinq4WjqYh",
    "outputId": "2d8128ab-ffe0-4b46-b441-ce74754e1c16"
   },
   "source": [
    "dataframe = pd.DataFrame({\"purchase\":preped[\"purchase_timestamp\"].to_list(), \"id\": preped[\"purchase_id\"].to_list()}, index=pd.DatetimeIndex(preped[\"delivery_timestamp\"]))\n",
    "dataframe.head()"
   ],
   "execution_count": null,
   "outputs": [
    {
     "output_type": "execute_result",
     "data": {
      "text/html": [
       "<div>\n",
       "<style scoped>\n",
       "    .dataframe tbody tr th:only-of-type {\n",
       "        vertical-align: middle;\n",
       "    }\n",
       "\n",
       "    .dataframe tbody tr th {\n",
       "        vertical-align: top;\n",
       "    }\n",
       "\n",
       "    .dataframe thead th {\n",
       "        text-align: right;\n",
       "    }\n",
       "</style>\n",
       "<table border=\"1\" class=\"dataframe\">\n",
       "  <thead>\n",
       "    <tr style=\"text-align: right;\">\n",
       "      <th></th>\n",
       "      <th>purchase</th>\n",
       "      <th>id</th>\n",
       "    </tr>\n",
       "    <tr>\n",
       "      <th>delivery_timestamp</th>\n",
       "      <th></th>\n",
       "      <th></th>\n",
       "    </tr>\n",
       "  </thead>\n",
       "  <tbody>\n",
       "    <tr>\n",
       "      <th>2021-02-22 15:06:21.051360</th>\n",
       "      <td>2021-02-21 12:09:40</td>\n",
       "      <td>20001</td>\n",
       "    </tr>\n",
       "    <tr>\n",
       "      <th>2021-02-21 12:16:54.977640</th>\n",
       "      <td>2021-02-17 15:08:51</td>\n",
       "      <td>20002</td>\n",
       "    </tr>\n",
       "    <tr>\n",
       "      <th>2021-01-22 15:19:19.040428</th>\n",
       "      <td>2021-01-22 14:41:01</td>\n",
       "      <td>20003</td>\n",
       "    </tr>\n",
       "    <tr>\n",
       "      <th>2021-01-14 11:35:28.612753</th>\n",
       "      <td>2021-01-14 02:50:19</td>\n",
       "      <td>20005</td>\n",
       "    </tr>\n",
       "    <tr>\n",
       "      <th>2021-02-19 09:58:54.243499</th>\n",
       "      <td>2021-02-16 08:27:14</td>\n",
       "      <td>20006</td>\n",
       "    </tr>\n",
       "  </tbody>\n",
       "</table>\n",
       "</div>"
      ],
      "text/plain": [
       "                                      purchase     id\n",
       "delivery_timestamp                                   \n",
       "2021-02-22 15:06:21.051360 2021-02-21 12:09:40  20001\n",
       "2021-02-21 12:16:54.977640 2021-02-17 15:08:51  20002\n",
       "2021-01-22 15:19:19.040428 2021-01-22 14:41:01  20003\n",
       "2021-01-14 11:35:28.612753 2021-01-14 02:50:19  20005\n",
       "2021-02-19 09:58:54.243499 2021-02-16 08:27:14  20006"
      ]
     },
     "metadata": {
      "tags": []
     },
     "execution_count": 95
    }
   ]
  },
  {
   "cell_type": "code",
   "metadata": {
    "colab": {
     "base_uri": "https://localhost:8080/"
    },
    "id": "9aAu-SmSezMs",
    "outputId": "e595f7da-e2a3-4889-ff41-69eb5541ceba"
   },
   "source": [
    "night_deliveries = dataframe.between_time(\"22:00\", \"6:00\")\n",
    "print(len(night_deliveries),night_deliveries)"
   ],
   "execution_count": null,
   "outputs": [
    {
     "output_type": "stream",
     "text": [
      "1568                                       purchase     id\n",
      "delivery_timestamp                                   \n",
      "2021-01-11 04:55:15.205274 2021-01-10 19:17:36  20012\n",
      "2021-01-20 22:33:22.398019 2021-01-18 21:16:10  20014\n",
      "2021-01-07 04:43:12.039676 2021-01-04 02:42:37  20017\n",
      "2021-02-18 22:39:12.233561 2021-02-17 21:46:48  20019\n",
      "2021-03-15 04:55:43.633913 2021-03-14 03:52:29  20022\n",
      "...                                        ...    ...\n",
      "2021-03-06 03:15:20.787949 2021-03-05 20:30:30  26936\n",
      "2021-01-08 02:08:35.492514 2021-01-07 22:22:13  26937\n",
      "2021-01-05 04:03:11.860674 2021-01-03 21:25:45  26941\n",
      "2021-02-23 04:02:47.767588 2021-02-20 09:56:28  26942\n",
      "2021-01-10 23:35:58.426335 2021-01-09 04:53:47  26984\n",
      "\n",
      "[1568 rows x 2 columns]\n"
     ],
     "name": "stdout"
    }
   ]
  },
  {
   "cell_type": "markdown",
   "metadata": {
    "id": "QDVAJafBoVmP"
   },
   "source": [
    "Nie wiem kto odbiera lub dostarcza dostawy po nocy, ale nasza firma najwyraźniej tak..... "
   ]
  },
  {
   "cell_type": "code",
   "metadata": {
    "id": "tS9ry7ICey3D",
    "colab": {
     "base_uri": "https://localhost:8080/",
     "height": 206
    },
    "outputId": "02315cb0-eac7-4744-a836-fdea8d2892b5"
   },
   "source": [
    "users.head()"
   ],
   "execution_count": null,
   "outputs": [
    {
     "output_type": "execute_result",
     "data": {
      "text/html": [
       "<div>\n",
       "<style scoped>\n",
       "    .dataframe tbody tr th:only-of-type {\n",
       "        vertical-align: middle;\n",
       "    }\n",
       "\n",
       "    .dataframe tbody tr th {\n",
       "        vertical-align: top;\n",
       "    }\n",
       "\n",
       "    .dataframe thead th {\n",
       "        text-align: right;\n",
       "    }\n",
       "</style>\n",
       "<table border=\"1\" class=\"dataframe\">\n",
       "  <thead>\n",
       "    <tr style=\"text-align: right;\">\n",
       "      <th></th>\n",
       "      <th>user_id</th>\n",
       "      <th>name</th>\n",
       "      <th>city</th>\n",
       "      <th>street</th>\n",
       "    </tr>\n",
       "  </thead>\n",
       "  <tbody>\n",
       "    <tr>\n",
       "      <th>0</th>\n",
       "      <td>102</td>\n",
       "      <td>Daniel Lenarcik</td>\n",
       "      <td>Konin</td>\n",
       "      <td>ul. Ceglana 28/79</td>\n",
       "    </tr>\n",
       "    <tr>\n",
       "      <th>1</th>\n",
       "      <td>103</td>\n",
       "      <td>Ernest Kusik</td>\n",
       "      <td>Konin</td>\n",
       "      <td>al. Zakole 710</td>\n",
       "    </tr>\n",
       "    <tr>\n",
       "      <th>2</th>\n",
       "      <td>104</td>\n",
       "      <td>Łukasz Fąferek</td>\n",
       "      <td>Konin</td>\n",
       "      <td>plac Kolonia 19</td>\n",
       "    </tr>\n",
       "    <tr>\n",
       "      <th>3</th>\n",
       "      <td>105</td>\n",
       "      <td>Grzegorz Wisz</td>\n",
       "      <td>Kutno</td>\n",
       "      <td>pl. Pomorska 20/90</td>\n",
       "    </tr>\n",
       "    <tr>\n",
       "      <th>4</th>\n",
       "      <td>106</td>\n",
       "      <td>Olaf Pacyga</td>\n",
       "      <td>Radom</td>\n",
       "      <td>ul. Dębowa 06/04</td>\n",
       "    </tr>\n",
       "  </tbody>\n",
       "</table>\n",
       "</div>"
      ],
      "text/plain": [
       "   user_id             name   city              street\n",
       "0      102  Daniel Lenarcik  Konin   ul. Ceglana 28/79\n",
       "1      103     Ernest Kusik  Konin      al. Zakole 710\n",
       "2      104   Łukasz Fąferek  Konin     plac Kolonia 19\n",
       "3      105    Grzegorz Wisz  Kutno  pl. Pomorska 20/90\n",
       "4      106      Olaf Pacyga  Radom    ul. Dębowa 06/04"
      ]
     },
     "metadata": {
      "tags": []
     },
     "execution_count": 4
    }
   ]
  },
  {
   "cell_type": "code",
   "metadata": {
    "id": "KGd5lifLbi9I",
    "colab": {
     "base_uri": "https://localhost:8080/"
    },
    "outputId": "2a9da87a-f2e1-4823-d4d2-d417ecdb88b6"
   },
   "source": [
    "users[\"city\"].unique()"
   ],
   "execution_count": null,
   "outputs": [
    {
     "output_type": "execute_result",
     "data": {
      "text/plain": [
       "array(['Konin', 'Kutno', 'Radom', 'Police', 'Szczecin', 'Warszawa',\n",
       "       'Gdynia', 'Mielec'], dtype=object)"
      ]
     },
     "metadata": {
      "tags": []
     },
     "execution_count": 5
    }
   ]
  },
  {
   "cell_type": "markdown",
   "metadata": {
    "id": "sTt1A8wxtB3V"
   },
   "source": [
    "New Data Analysis\n",
    "===="
   ]
  },
  {
   "cell_type": "code",
   "metadata": {
    "id": "d6gn1VZwj81e"
   },
   "source": [
    "import pandas as pd\n",
    "import matplotlib.pyplot as plt\n",
    "import seaborn as sns"
   ],
   "execution_count": 11,
   "outputs": []
  },
  {
   "cell_type": "code",
   "metadata": {
    "id": "dHKTuHgNtOsv",
    "colab": {
     "base_uri": "https://localhost:8080/",
     "height": 206
    },
    "outputId": "c5218027-0820-4373-a948-78682f6f1746"
   },
   "source": [
    "data_dir =\"/content/drive/MyDrive/Data/IUM/V2/\"\n",
    "\n",
    "deliveries = pd.read_json(data_dir + \"deliveries.jsonl\", lines=True)\n",
    "sessions = pd.read_json(data_dir + \"sessions.jsonl\", lines=True)\n",
    "users = pd.read_json(data_dir + \"users.jsonl\", lines=True)\n",
    "products = pd.read_json(data_dir + \"products.jsonl\", lines=True)\n",
    "\n",
    "data_v2 = {\"products\": products, \"sessions\": sessions, \"users\": users, \"deliveries\":deliveries}\n",
    "\n",
    "deliveries[\"purchase_timestamp\"] = pd.to_datetime ( deliveries[\"purchase_timestamp\"], format='%Y-%m-%dT%H:%M', errors=\"coerce\")\n",
    "deliveries['delivery_timestamp'] = pd.to_datetime ( deliveries[\"delivery_timestamp\"], format='%Y-%m-%dT%H:%M:%S', errors=\"coerce\")\n",
    "deliveries[\"time_difference\"] = deliveries[\"delivery_timestamp\"] - deliveries[\"purchase_timestamp\"]\n",
    "\n",
    "deliveries.head()"
   ],
   "execution_count": 12,
   "outputs": [
    {
     "output_type": "execute_result",
     "data": {
      "text/html": [
       "<div>\n",
       "<style scoped>\n",
       "    .dataframe tbody tr th:only-of-type {\n",
       "        vertical-align: middle;\n",
       "    }\n",
       "\n",
       "    .dataframe tbody tr th {\n",
       "        vertical-align: top;\n",
       "    }\n",
       "\n",
       "    .dataframe thead th {\n",
       "        text-align: right;\n",
       "    }\n",
       "</style>\n",
       "<table border=\"1\" class=\"dataframe\">\n",
       "  <thead>\n",
       "    <tr style=\"text-align: right;\">\n",
       "      <th></th>\n",
       "      <th>purchase_id</th>\n",
       "      <th>purchase_timestamp</th>\n",
       "      <th>delivery_timestamp</th>\n",
       "      <th>delivery_company</th>\n",
       "      <th>time_difference</th>\n",
       "    </tr>\n",
       "  </thead>\n",
       "  <tbody>\n",
       "    <tr>\n",
       "      <th>0</th>\n",
       "      <td>20001</td>\n",
       "      <td>2021-04-01 15:52:47</td>\n",
       "      <td>2021-04-02 14:06:34.432964</td>\n",
       "      <td>620</td>\n",
       "      <td>0 days 22:13:47.432964</td>\n",
       "    </tr>\n",
       "    <tr>\n",
       "      <th>1</th>\n",
       "      <td>20002</td>\n",
       "      <td>2021-04-01 02:26:23</td>\n",
       "      <td>2021-04-02 10:45:27.707128</td>\n",
       "      <td>360</td>\n",
       "      <td>1 days 08:19:04.707128</td>\n",
       "    </tr>\n",
       "    <tr>\n",
       "      <th>2</th>\n",
       "      <td>20003</td>\n",
       "      <td>2021-01-03 05:11:17</td>\n",
       "      <td>2021-01-04 15:43:07.635371</td>\n",
       "      <td>620</td>\n",
       "      <td>1 days 10:31:50.635371</td>\n",
       "    </tr>\n",
       "    <tr>\n",
       "      <th>3</th>\n",
       "      <td>20004</td>\n",
       "      <td>2021-02-17 12:59:54</td>\n",
       "      <td>2021-02-18 11:52:42.608746</td>\n",
       "      <td>620</td>\n",
       "      <td>0 days 22:52:48.608746</td>\n",
       "    </tr>\n",
       "    <tr>\n",
       "      <th>4</th>\n",
       "      <td>20005</td>\n",
       "      <td>2021-02-13 09:17:52</td>\n",
       "      <td>2021-02-15 08:59:28.973167</td>\n",
       "      <td>620</td>\n",
       "      <td>1 days 23:41:36.973167</td>\n",
       "    </tr>\n",
       "  </tbody>\n",
       "</table>\n",
       "</div>"
      ],
      "text/plain": [
       "   purchase_id  purchase_timestamp  ... delivery_company        time_difference\n",
       "0        20001 2021-04-01 15:52:47  ...              620 0 days 22:13:47.432964\n",
       "1        20002 2021-04-01 02:26:23  ...              360 1 days 08:19:04.707128\n",
       "2        20003 2021-01-03 05:11:17  ...              620 1 days 10:31:50.635371\n",
       "3        20004 2021-02-17 12:59:54  ...              620 0 days 22:52:48.608746\n",
       "4        20005 2021-02-13 09:17:52  ...              620 1 days 23:41:36.973167\n",
       "\n",
       "[5 rows x 5 columns]"
      ]
     },
     "metadata": {
      "tags": []
     },
     "execution_count": 12
    }
   ]
  },
  {
   "cell_type": "markdown",
   "metadata": {
    "id": "C75mJCkDumGk"
   },
   "source": [
    "Sprawdzenie poprzednich problemów i analiza kompletności w pełni połączonych danych\n",
    "----\n"
   ]
  },
  {
   "cell_type": "code",
   "metadata": {
    "colab": {
     "base_uri": "https://localhost:8080/",
     "height": 641
    },
    "id": "5zW85rIxjGEn",
    "outputId": "35a476e7-5b8e-4d11-bd12-6186baa06c2b"
   },
   "source": [
    "print(\"Num delivered before bought: \", len(deliveries[deliveries[\"purchase_timestamp\"] > deliveries[\"delivery_timestamp\"]]))\n",
    "\n",
    "def to_seconds (time_delta):\n",
    "  return time_delta.seconds\n",
    "deliveries[\"time[s]\"]=deliveries[\"time_difference\"].apply(to_seconds)\n",
    "\n",
    "plt.figure(figsize=(20,10))\n",
    "sns.histplot(data=deliveries[\"time[s]\"], binwidth=60*60)"
   ],
   "execution_count": 14,
   "outputs": [
    {
     "output_type": "stream",
     "text": [
      "0\n"
     ],
     "name": "stdout"
    },
    {
     "output_type": "execute_result",
     "data": {
      "text/plain": [
       "<matplotlib.axes._subplots.AxesSubplot at 0x7f55f5a31c10>"
      ]
     },
     "metadata": {
      "tags": []
     },
     "execution_count": 14
    },
    {
     "output_type": "display_data",
     "data": {
      "image/png": "[encoded data removed]",
      "text/plain": [
       "<Figure size 1440x720 with 1 Axes>"
      ]
     },
     "metadata": {
      "tags": [],
      "needs_background": "light"
     }
    }
   ]
  },
  {
   "cell_type": "code",
   "metadata": {
    "colab": {
     "base_uri": "https://localhost:8080/",
     "height": 623
    },
    "id": "JDQUkyJrktMe",
    "outputId": "cd47b588-62d3-4223-a7bf-8fffbdfccdbc"
   },
   "source": [
    "deliveries[\"time[hr]\"]=deliveries[\"time[s]\"].apply(lambda x: x/(60*60))\n",
    "\n",
    "plt.figure(figsize=(20,10))\n",
    "sns.histplot(data=deliveries[\"time[hr]\"], binwidth=1)"
   ],
   "execution_count": 16,
   "outputs": [
    {
     "output_type": "execute_result",
     "data": {
      "text/plain": [
       "<matplotlib.axes._subplots.AxesSubplot at 0x7f55f5cde450>"
      ]
     },
     "metadata": {
      "tags": []
     },
     "execution_count": 16
    },
    {
     "output_type": "display_data",
     "data": {
      "image/png": "[encoded data removed]",
      "text/plain": [
       "<Figure size 1440x720 with 1 Axes>"
      ]
     },
     "metadata": {
      "tags": [],
      "needs_background": "light"
     }
    }
   ]
  },
  {
   "cell_type": "markdown",
   "metadata": {
    "id": "WlHt5VX3lHtK"
   },
   "source": [
    "W nowych danych czas dostawy wciąż jest lekko podejrzany - wiele produktów jest dostarczanych w ciągu godziny.... Jest ich 306, czyli wciąż sporo. "
   ]
  },
  {
   "cell_type": "code",
   "metadata": {
    "colab": {
     "base_uri": "https://localhost:8080/",
     "height": 206
    },
    "id": "AhMCC0nhlHbm",
    "outputId": "ce412ddc-3fb5-46ee-db80-15216247b004"
   },
   "source": [
    "very_quick = deliveries[deliveries[\"time[hr]\"]<1]\n",
    "\n",
    "\n",
    "\n",
    "len(very_quick)\n",
    "deliveries.head()"
   ],
   "execution_count": 18,
   "outputs": [
    {
     "output_type": "execute_result",
     "data": {
      "text/html": [
       "<div>\n",
       "<style scoped>\n",
       "    .dataframe tbody tr th:only-of-type {\n",
       "        vertical-align: middle;\n",
       "    }\n",
       "\n",
       "    .dataframe tbody tr th {\n",
       "        vertical-align: top;\n",
       "    }\n",
       "\n",
       "    .dataframe thead th {\n",
       "        text-align: right;\n",
       "    }\n",
       "</style>\n",
       "<table border=\"1\" class=\"dataframe\">\n",
       "  <thead>\n",
       "    <tr style=\"text-align: right;\">\n",
       "      <th></th>\n",
       "      <th>purchase_id</th>\n",
       "      <th>purchase_timestamp</th>\n",
       "      <th>delivery_timestamp</th>\n",
       "      <th>delivery_company</th>\n",
       "      <th>time_difference</th>\n",
       "      <th>time[s]</th>\n",
       "      <th>time[hr]</th>\n",
       "    </tr>\n",
       "  </thead>\n",
       "  <tbody>\n",
       "    <tr>\n",
       "      <th>0</th>\n",
       "      <td>20001</td>\n",
       "      <td>2021-04-01 15:52:47</td>\n",
       "      <td>2021-04-02 14:06:34.432964</td>\n",
       "      <td>620</td>\n",
       "      <td>0 days 22:13:47.432964</td>\n",
       "      <td>80027</td>\n",
       "      <td>22.229722</td>\n",
       "    </tr>\n",
       "    <tr>\n",
       "      <th>1</th>\n",
       "      <td>20002</td>\n",
       "      <td>2021-04-01 02:26:23</td>\n",
       "      <td>2021-04-02 10:45:27.707128</td>\n",
       "      <td>360</td>\n",
       "      <td>1 days 08:19:04.707128</td>\n",
       "      <td>29944</td>\n",
       "      <td>8.317778</td>\n",
       "    </tr>\n",
       "    <tr>\n",
       "      <th>2</th>\n",
       "      <td>20003</td>\n",
       "      <td>2021-01-03 05:11:17</td>\n",
       "      <td>2021-01-04 15:43:07.635371</td>\n",
       "      <td>620</td>\n",
       "      <td>1 days 10:31:50.635371</td>\n",
       "      <td>37910</td>\n",
       "      <td>10.530556</td>\n",
       "    </tr>\n",
       "    <tr>\n",
       "      <th>3</th>\n",
       "      <td>20004</td>\n",
       "      <td>2021-02-17 12:59:54</td>\n",
       "      <td>2021-02-18 11:52:42.608746</td>\n",
       "      <td>620</td>\n",
       "      <td>0 days 22:52:48.608746</td>\n",
       "      <td>82368</td>\n",
       "      <td>22.880000</td>\n",
       "    </tr>\n",
       "    <tr>\n",
       "      <th>4</th>\n",
       "      <td>20005</td>\n",
       "      <td>2021-02-13 09:17:52</td>\n",
       "      <td>2021-02-15 08:59:28.973167</td>\n",
       "      <td>620</td>\n",
       "      <td>1 days 23:41:36.973167</td>\n",
       "      <td>85296</td>\n",
       "      <td>23.693333</td>\n",
       "    </tr>\n",
       "  </tbody>\n",
       "</table>\n",
       "</div>"
      ],
      "text/plain": [
       "   purchase_id  purchase_timestamp  ... time[s]   time[hr]\n",
       "0        20001 2021-04-01 15:52:47  ...   80027  22.229722\n",
       "1        20002 2021-04-01 02:26:23  ...   29944   8.317778\n",
       "2        20003 2021-01-03 05:11:17  ...   37910  10.530556\n",
       "3        20004 2021-02-17 12:59:54  ...   82368  22.880000\n",
       "4        20005 2021-02-13 09:17:52  ...   85296  23.693333\n",
       "\n",
       "[5 rows x 7 columns]"
      ]
     },
     "metadata": {
      "tags": []
     },
     "execution_count": 18
    }
   ]
  },
  {
   "cell_type": "code",
   "metadata": {
    "colab": {
     "base_uri": "https://localhost:8080/"
    },
    "id": "Uz5DNXOOl5Bc",
    "outputId": "eff68341-ef05-42f5-e473-f37803432fcd"
   },
   "source": [
    "sessions_purchases = sessions[sessions[\"purchase_id\"].notnull()].copy()\n",
    "print(sessions_purchases.shape, deliveries.shape)"
   ],
   "execution_count": 22,
   "outputs": [
    {
     "output_type": "stream",
     "text": [
      "(7812, 7) (7812, 7)\n"
     ],
     "name": "stdout"
    }
   ]
  },
  {
   "cell_type": "code",
   "metadata": {
    "colab": {
     "base_uri": "https://localhost:8080/",
     "height": 573
    },
    "id": "6S6iBPeIm3cL",
    "outputId": "b1795779-11bb-4657-d7e8-189a2c863ec9"
   },
   "source": [
    "sessions_purchases.sort_values(\"purchase_id\", axis=0, inplace=True)\n",
    "deliveries.sort_values(\"purchase_id\", axis=0, inplace=True)\n",
    "\n",
    "merged = pd.merge(sessions_purchases, deliveries, on='purchase_id', how = \"outer\")\n",
    "print(deliveries.shape, sessions_purchases.shape, merged.shape) #sanity check\n",
    "\n",
    "print(merged.isnull().sum())\n",
    "merged.head()"
   ],
   "execution_count": 32,
   "outputs": [
    {
     "output_type": "stream",
     "text": [
      "(7812, 7) (7812, 7) (7812, 13)\n",
      "session_id              0\n",
      "timestamp               0\n",
      "user_id               402\n",
      "product_id            384\n",
      "event_type              0\n",
      "offered_discount        0\n",
      "purchase_id             0\n",
      "purchase_timestamp      0\n",
      "delivery_timestamp      0\n",
      "delivery_company        0\n",
      "time_difference         0\n",
      "time[s]                 0\n",
      "time[hr]                0\n",
      "dtype: int64\n"
     ],
     "name": "stdout"
    },
    {
     "output_type": "execute_result",
     "data": {
      "text/html": [
       "<div>\n",
       "<style scoped>\n",
       "    .dataframe tbody tr th:only-of-type {\n",
       "        vertical-align: middle;\n",
       "    }\n",
       "\n",
       "    .dataframe tbody tr th {\n",
       "        vertical-align: top;\n",
       "    }\n",
       "\n",
       "    .dataframe thead th {\n",
       "        text-align: right;\n",
       "    }\n",
       "</style>\n",
       "<table border=\"1\" class=\"dataframe\">\n",
       "  <thead>\n",
       "    <tr style=\"text-align: right;\">\n",
       "      <th></th>\n",
       "      <th>session_id</th>\n",
       "      <th>timestamp</th>\n",
       "      <th>user_id</th>\n",
       "      <th>product_id</th>\n",
       "      <th>event_type</th>\n",
       "      <th>offered_discount</th>\n",
       "      <th>purchase_id</th>\n",
       "      <th>purchase_timestamp</th>\n",
       "      <th>delivery_timestamp</th>\n",
       "      <th>delivery_company</th>\n",
       "      <th>time_difference</th>\n",
       "      <th>time[s]</th>\n",
       "      <th>time[hr]</th>\n",
       "    </tr>\n",
       "  </thead>\n",
       "  <tbody>\n",
       "    <tr>\n",
       "      <th>0</th>\n",
       "      <td>100002</td>\n",
       "      <td>2021-04-01 15:52:47</td>\n",
       "      <td>102.0</td>\n",
       "      <td>1234.0</td>\n",
       "      <td>BUY_PRODUCT</td>\n",
       "      <td>0</td>\n",
       "      <td>20001.0</td>\n",
       "      <td>2021-04-01 15:52:47</td>\n",
       "      <td>2021-04-02 14:06:34.432964</td>\n",
       "      <td>620</td>\n",
       "      <td>0 days 22:13:47.432964</td>\n",
       "      <td>80027</td>\n",
       "      <td>22.229722</td>\n",
       "    </tr>\n",
       "    <tr>\n",
       "      <th>1</th>\n",
       "      <td>100003</td>\n",
       "      <td>2021-04-01 02:26:23</td>\n",
       "      <td>102.0</td>\n",
       "      <td>1289.0</td>\n",
       "      <td>BUY_PRODUCT</td>\n",
       "      <td>15</td>\n",
       "      <td>20002.0</td>\n",
       "      <td>2021-04-01 02:26:23</td>\n",
       "      <td>2021-04-02 10:45:27.707128</td>\n",
       "      <td>360</td>\n",
       "      <td>1 days 08:19:04.707128</td>\n",
       "      <td>29944</td>\n",
       "      <td>8.317778</td>\n",
       "    </tr>\n",
       "    <tr>\n",
       "      <th>2</th>\n",
       "      <td>100004</td>\n",
       "      <td>2021-01-03 05:11:17</td>\n",
       "      <td>102.0</td>\n",
       "      <td>1009.0</td>\n",
       "      <td>BUY_PRODUCT</td>\n",
       "      <td>0</td>\n",
       "      <td>20003.0</td>\n",
       "      <td>2021-01-03 05:11:17</td>\n",
       "      <td>2021-01-04 15:43:07.635371</td>\n",
       "      <td>620</td>\n",
       "      <td>1 days 10:31:50.635371</td>\n",
       "      <td>37910</td>\n",
       "      <td>10.530556</td>\n",
       "    </tr>\n",
       "    <tr>\n",
       "      <th>3</th>\n",
       "      <td>100005</td>\n",
       "      <td>2021-02-17 12:59:54</td>\n",
       "      <td>NaN</td>\n",
       "      <td>1001.0</td>\n",
       "      <td>BUY_PRODUCT</td>\n",
       "      <td>5</td>\n",
       "      <td>20004.0</td>\n",
       "      <td>2021-02-17 12:59:54</td>\n",
       "      <td>2021-02-18 11:52:42.608746</td>\n",
       "      <td>620</td>\n",
       "      <td>0 days 22:52:48.608746</td>\n",
       "      <td>82368</td>\n",
       "      <td>22.880000</td>\n",
       "    </tr>\n",
       "    <tr>\n",
       "      <th>4</th>\n",
       "      <td>100006</td>\n",
       "      <td>2021-02-13 09:17:52</td>\n",
       "      <td>102.0</td>\n",
       "      <td>1057.0</td>\n",
       "      <td>BUY_PRODUCT</td>\n",
       "      <td>5</td>\n",
       "      <td>20005.0</td>\n",
       "      <td>2021-02-13 09:17:52</td>\n",
       "      <td>2021-02-15 08:59:28.973167</td>\n",
       "      <td>620</td>\n",
       "      <td>1 days 23:41:36.973167</td>\n",
       "      <td>85296</td>\n",
       "      <td>23.693333</td>\n",
       "    </tr>\n",
       "  </tbody>\n",
       "</table>\n",
       "</div>"
      ],
      "text/plain": [
       "   session_id           timestamp  ...  time[s]   time[hr]\n",
       "0      100002 2021-04-01 15:52:47  ...    80027  22.229722\n",
       "1      100003 2021-04-01 02:26:23  ...    29944   8.317778\n",
       "2      100004 2021-01-03 05:11:17  ...    37910  10.530556\n",
       "3      100005 2021-02-17 12:59:54  ...    82368  22.880000\n",
       "4      100006 2021-02-13 09:17:52  ...    85296  23.693333\n",
       "\n",
       "[5 rows x 13 columns]"
      ]
     },
     "metadata": {
      "tags": []
     },
     "execution_count": 32
    }
   ]
  },
  {
   "cell_type": "code",
   "metadata": {
    "colab": {
     "base_uri": "https://localhost:8080/",
     "height": 712
    },
    "id": "1ywtahympIDy",
    "outputId": "ee511a5f-43db-4009-f68e-8948370b7a9a"
   },
   "source": [
    "merged2 = pd.merge(merged, users, on=\"user_id\", how = \"outer\")\n",
    "print(merged.shape, users.shape, merged2.shape)\n",
    "print(merged2.isnull().sum())\n",
    "merged2.head()"
   ],
   "execution_count": 33,
   "outputs": [
    {
     "output_type": "stream",
     "text": [
      "(7812, 13) (200, 4) (7812, 16)\n",
      "session_id              0\n",
      "timestamp               0\n",
      "user_id               402\n",
      "product_id            384\n",
      "event_type              0\n",
      "offered_discount        0\n",
      "purchase_id             0\n",
      "purchase_timestamp      0\n",
      "delivery_timestamp      0\n",
      "delivery_company        0\n",
      "time_difference         0\n",
      "time[s]                 0\n",
      "time[hr]                0\n",
      "name                  402\n",
      "city                  402\n",
      "street                402\n",
      "dtype: int64\n"
     ],
     "name": "stdout"
    },
    {
     "output_type": "execute_result",
     "data": {
      "text/html": [
       "<div>\n",
       "<style scoped>\n",
       "    .dataframe tbody tr th:only-of-type {\n",
       "        vertical-align: middle;\n",
       "    }\n",
       "\n",
       "    .dataframe tbody tr th {\n",
       "        vertical-align: top;\n",
       "    }\n",
       "\n",
       "    .dataframe thead th {\n",
       "        text-align: right;\n",
       "    }\n",
       "</style>\n",
       "<table border=\"1\" class=\"dataframe\">\n",
       "  <thead>\n",
       "    <tr style=\"text-align: right;\">\n",
       "      <th></th>\n",
       "      <th>session_id</th>\n",
       "      <th>timestamp</th>\n",
       "      <th>user_id</th>\n",
       "      <th>product_id</th>\n",
       "      <th>event_type</th>\n",
       "      <th>offered_discount</th>\n",
       "      <th>purchase_id</th>\n",
       "      <th>purchase_timestamp</th>\n",
       "      <th>delivery_timestamp</th>\n",
       "      <th>delivery_company</th>\n",
       "      <th>time_difference</th>\n",
       "      <th>time[s]</th>\n",
       "      <th>time[hr]</th>\n",
       "      <th>name</th>\n",
       "      <th>city</th>\n",
       "      <th>street</th>\n",
       "    </tr>\n",
       "  </thead>\n",
       "  <tbody>\n",
       "    <tr>\n",
       "      <th>0</th>\n",
       "      <td>100002</td>\n",
       "      <td>2021-04-01 15:52:47</td>\n",
       "      <td>102.0</td>\n",
       "      <td>1234.0</td>\n",
       "      <td>BUY_PRODUCT</td>\n",
       "      <td>0</td>\n",
       "      <td>20001.0</td>\n",
       "      <td>2021-04-01 15:52:47</td>\n",
       "      <td>2021-04-02 14:06:34.432964</td>\n",
       "      <td>620</td>\n",
       "      <td>0 days 22:13:47.432964</td>\n",
       "      <td>80027</td>\n",
       "      <td>22.229722</td>\n",
       "      <td>Aurelia Malon</td>\n",
       "      <td>Police</td>\n",
       "      <td>pl. Brzoskwiniowa 11/53</td>\n",
       "    </tr>\n",
       "    <tr>\n",
       "      <th>1</th>\n",
       "      <td>100003</td>\n",
       "      <td>2021-04-01 02:26:23</td>\n",
       "      <td>102.0</td>\n",
       "      <td>1289.0</td>\n",
       "      <td>BUY_PRODUCT</td>\n",
       "      <td>15</td>\n",
       "      <td>20002.0</td>\n",
       "      <td>2021-04-01 02:26:23</td>\n",
       "      <td>2021-04-02 10:45:27.707128</td>\n",
       "      <td>360</td>\n",
       "      <td>1 days 08:19:04.707128</td>\n",
       "      <td>29944</td>\n",
       "      <td>8.317778</td>\n",
       "      <td>Aurelia Malon</td>\n",
       "      <td>Police</td>\n",
       "      <td>pl. Brzoskwiniowa 11/53</td>\n",
       "    </tr>\n",
       "    <tr>\n",
       "      <th>2</th>\n",
       "      <td>100004</td>\n",
       "      <td>2021-01-03 05:11:17</td>\n",
       "      <td>102.0</td>\n",
       "      <td>1009.0</td>\n",
       "      <td>BUY_PRODUCT</td>\n",
       "      <td>0</td>\n",
       "      <td>20003.0</td>\n",
       "      <td>2021-01-03 05:11:17</td>\n",
       "      <td>2021-01-04 15:43:07.635371</td>\n",
       "      <td>620</td>\n",
       "      <td>1 days 10:31:50.635371</td>\n",
       "      <td>37910</td>\n",
       "      <td>10.530556</td>\n",
       "      <td>Aurelia Malon</td>\n",
       "      <td>Police</td>\n",
       "      <td>pl. Brzoskwiniowa 11/53</td>\n",
       "    </tr>\n",
       "    <tr>\n",
       "      <th>3</th>\n",
       "      <td>100006</td>\n",
       "      <td>2021-02-13 09:17:52</td>\n",
       "      <td>102.0</td>\n",
       "      <td>1057.0</td>\n",
       "      <td>BUY_PRODUCT</td>\n",
       "      <td>5</td>\n",
       "      <td>20005.0</td>\n",
       "      <td>2021-02-13 09:17:52</td>\n",
       "      <td>2021-02-15 08:59:28.973167</td>\n",
       "      <td>620</td>\n",
       "      <td>1 days 23:41:36.973167</td>\n",
       "      <td>85296</td>\n",
       "      <td>23.693333</td>\n",
       "      <td>Aurelia Malon</td>\n",
       "      <td>Police</td>\n",
       "      <td>pl. Brzoskwiniowa 11/53</td>\n",
       "    </tr>\n",
       "    <tr>\n",
       "      <th>4</th>\n",
       "      <td>100007</td>\n",
       "      <td>2021-01-15 15:42:34</td>\n",
       "      <td>102.0</td>\n",
       "      <td>1072.0</td>\n",
       "      <td>BUY_PRODUCT</td>\n",
       "      <td>0</td>\n",
       "      <td>20006.0</td>\n",
       "      <td>2021-01-15 15:42:34</td>\n",
       "      <td>2021-01-16 18:09:23.624555</td>\n",
       "      <td>516</td>\n",
       "      <td>1 days 02:26:49.624555</td>\n",
       "      <td>8809</td>\n",
       "      <td>2.446944</td>\n",
       "      <td>Aurelia Malon</td>\n",
       "      <td>Police</td>\n",
       "      <td>pl. Brzoskwiniowa 11/53</td>\n",
       "    </tr>\n",
       "  </tbody>\n",
       "</table>\n",
       "</div>"
      ],
      "text/plain": [
       "   session_id           timestamp  ...    city                   street\n",
       "0      100002 2021-04-01 15:52:47  ...  Police  pl. Brzoskwiniowa 11/53\n",
       "1      100003 2021-04-01 02:26:23  ...  Police  pl. Brzoskwiniowa 11/53\n",
       "2      100004 2021-01-03 05:11:17  ...  Police  pl. Brzoskwiniowa 11/53\n",
       "3      100006 2021-02-13 09:17:52  ...  Police  pl. Brzoskwiniowa 11/53\n",
       "4      100007 2021-01-15 15:42:34  ...  Police  pl. Brzoskwiniowa 11/53\n",
       "\n",
       "[5 rows x 16 columns]"
      ]
     },
     "metadata": {
      "tags": []
     },
     "execution_count": 33
    }
   ]
  },
  {
   "cell_type": "code",
   "metadata": {
    "colab": {
     "base_uri": "https://localhost:8080/",
     "height": 764
    },
    "id": "T30TpR-fpURu",
    "outputId": "096ee9f5-67c4-4591-e4b3-e64b1e6bc9e2"
   },
   "source": [
    "merged_full = pd.merge(merged2, products, on=\"product_id\", how = \"left\")\n",
    "print(merged2.shape, users.shape, merged_full.shape)\n",
    "print(merged_full.isnull().sum())\n",
    "merged_full.head()"
   ],
   "execution_count": 36,
   "outputs": [
    {
     "output_type": "stream",
     "text": [
      "(7812, 16) (200, 4) (7812, 19)\n",
      "session_id              0\n",
      "timestamp               0\n",
      "user_id               402\n",
      "product_id            384\n",
      "event_type              0\n",
      "offered_discount        0\n",
      "purchase_id             0\n",
      "purchase_timestamp      0\n",
      "delivery_timestamp      0\n",
      "delivery_company        0\n",
      "time_difference         0\n",
      "time[s]                 0\n",
      "time[hr]                0\n",
      "name                  402\n",
      "city                  402\n",
      "street                402\n",
      "product_name          384\n",
      "category_path         384\n",
      "price                 384\n",
      "dtype: int64\n"
     ],
     "name": "stdout"
    },
    {
     "output_type": "execute_result",
     "data": {
      "text/html": [
       "<div>\n",
       "<style scoped>\n",
       "    .dataframe tbody tr th:only-of-type {\n",
       "        vertical-align: middle;\n",
       "    }\n",
       "\n",
       "    .dataframe tbody tr th {\n",
       "        vertical-align: top;\n",
       "    }\n",
       "\n",
       "    .dataframe thead th {\n",
       "        text-align: right;\n",
       "    }\n",
       "</style>\n",
       "<table border=\"1\" class=\"dataframe\">\n",
       "  <thead>\n",
       "    <tr style=\"text-align: right;\">\n",
       "      <th></th>\n",
       "      <th>session_id</th>\n",
       "      <th>timestamp</th>\n",
       "      <th>user_id</th>\n",
       "      <th>product_id</th>\n",
       "      <th>event_type</th>\n",
       "      <th>offered_discount</th>\n",
       "      <th>purchase_id</th>\n",
       "      <th>purchase_timestamp</th>\n",
       "      <th>delivery_timestamp</th>\n",
       "      <th>delivery_company</th>\n",
       "      <th>time_difference</th>\n",
       "      <th>time[s]</th>\n",
       "      <th>time[hr]</th>\n",
       "      <th>name</th>\n",
       "      <th>city</th>\n",
       "      <th>street</th>\n",
       "      <th>product_name</th>\n",
       "      <th>category_path</th>\n",
       "      <th>price</th>\n",
       "    </tr>\n",
       "  </thead>\n",
       "  <tbody>\n",
       "    <tr>\n",
       "      <th>0</th>\n",
       "      <td>100002</td>\n",
       "      <td>2021-04-01 15:52:47</td>\n",
       "      <td>102.0</td>\n",
       "      <td>1234.0</td>\n",
       "      <td>BUY_PRODUCT</td>\n",
       "      <td>0</td>\n",
       "      <td>20001.0</td>\n",
       "      <td>2021-04-01 15:52:47</td>\n",
       "      <td>2021-04-02 14:06:34.432964</td>\n",
       "      <td>620</td>\n",
       "      <td>0 days 22:13:47.432964</td>\n",
       "      <td>80027</td>\n",
       "      <td>22.229722</td>\n",
       "      <td>Aurelia Malon</td>\n",
       "      <td>Police</td>\n",
       "      <td>pl. Brzoskwiniowa 11/53</td>\n",
       "      <td>Sony DVP-SR760</td>\n",
       "      <td>Sprzęt RTV;Video;Odtwarzacze DVD</td>\n",
       "      <td>193.00</td>\n",
       "    </tr>\n",
       "    <tr>\n",
       "      <th>1</th>\n",
       "      <td>100003</td>\n",
       "      <td>2021-04-01 02:26:23</td>\n",
       "      <td>102.0</td>\n",
       "      <td>1289.0</td>\n",
       "      <td>BUY_PRODUCT</td>\n",
       "      <td>15</td>\n",
       "      <td>20002.0</td>\n",
       "      <td>2021-04-01 02:26:23</td>\n",
       "      <td>2021-04-02 10:45:27.707128</td>\n",
       "      <td>360</td>\n",
       "      <td>1 days 08:19:04.707128</td>\n",
       "      <td>29944</td>\n",
       "      <td>8.317778</td>\n",
       "      <td>Aurelia Malon</td>\n",
       "      <td>Police</td>\n",
       "      <td>pl. Brzoskwiniowa 11/53</td>\n",
       "      <td>Philips SDV5225</td>\n",
       "      <td>Sprzęt RTV;Video;Telewizory i akcesoria;Anteny...</td>\n",
       "      <td>129.00</td>\n",
       "    </tr>\n",
       "    <tr>\n",
       "      <th>2</th>\n",
       "      <td>100004</td>\n",
       "      <td>2021-01-03 05:11:17</td>\n",
       "      <td>102.0</td>\n",
       "      <td>1009.0</td>\n",
       "      <td>BUY_PRODUCT</td>\n",
       "      <td>0</td>\n",
       "      <td>20003.0</td>\n",
       "      <td>2021-01-03 05:11:17</td>\n",
       "      <td>2021-01-04 15:43:07.635371</td>\n",
       "      <td>620</td>\n",
       "      <td>1 days 10:31:50.635371</td>\n",
       "      <td>37910</td>\n",
       "      <td>10.530556</td>\n",
       "      <td>Aurelia Malon</td>\n",
       "      <td>Police</td>\n",
       "      <td>pl. Brzoskwiniowa 11/53</td>\n",
       "      <td>Kinect Joy Ride (Xbox 360)</td>\n",
       "      <td>Gry i konsole;Gry na konsole;Gry Xbox 360</td>\n",
       "      <td>69000000.00</td>\n",
       "    </tr>\n",
       "    <tr>\n",
       "      <th>3</th>\n",
       "      <td>100006</td>\n",
       "      <td>2021-02-13 09:17:52</td>\n",
       "      <td>102.0</td>\n",
       "      <td>1057.0</td>\n",
       "      <td>BUY_PRODUCT</td>\n",
       "      <td>5</td>\n",
       "      <td>20005.0</td>\n",
       "      <td>2021-02-13 09:17:52</td>\n",
       "      <td>2021-02-15 08:59:28.973167</td>\n",
       "      <td>620</td>\n",
       "      <td>1 days 23:41:36.973167</td>\n",
       "      <td>85296</td>\n",
       "      <td>23.693333</td>\n",
       "      <td>Aurelia Malon</td>\n",
       "      <td>Police</td>\n",
       "      <td>pl. Brzoskwiniowa 11/53</td>\n",
       "      <td>Doom 3 (PC)</td>\n",
       "      <td>Gry i konsole;Gry komputerowe</td>\n",
       "      <td>19.99</td>\n",
       "    </tr>\n",
       "    <tr>\n",
       "      <th>4</th>\n",
       "      <td>100007</td>\n",
       "      <td>2021-01-15 15:42:34</td>\n",
       "      <td>102.0</td>\n",
       "      <td>1072.0</td>\n",
       "      <td>BUY_PRODUCT</td>\n",
       "      <td>0</td>\n",
       "      <td>20006.0</td>\n",
       "      <td>2021-01-15 15:42:34</td>\n",
       "      <td>2021-01-16 18:09:23.624555</td>\n",
       "      <td>516</td>\n",
       "      <td>1 days 02:26:49.624555</td>\n",
       "      <td>8809</td>\n",
       "      <td>2.446944</td>\n",
       "      <td>Aurelia Malon</td>\n",
       "      <td>Police</td>\n",
       "      <td>pl. Brzoskwiniowa 11/53</td>\n",
       "      <td>Jabra Freeway</td>\n",
       "      <td>Telefony i akcesoria;Akcesoria telefoniczne;Ze...</td>\n",
       "      <td>299.00</td>\n",
       "    </tr>\n",
       "  </tbody>\n",
       "</table>\n",
       "</div>"
      ],
      "text/plain": [
       "   session_id  ...        price\n",
       "0      100002  ...       193.00\n",
       "1      100003  ...       129.00\n",
       "2      100004  ...  69000000.00\n",
       "3      100006  ...        19.99\n",
       "4      100007  ...       299.00\n",
       "\n",
       "[5 rows x 19 columns]"
      ]
     },
     "metadata": {
      "tags": []
     },
     "execution_count": 36
    }
   ]
  },
  {
   "cell_type": "markdown",
   "metadata": {
    "id": "8s0rnlbcpsTu"
   },
   "source": [
    "Po połączeniu wszystkich dostępnych danych w jedną megatabelę widać, że do 402 dostaw brakuje kluczowych informacji o adresie dostawy (wynika to z braków w tabeli sessions, gdzie w miejscu id użytkownika była wartość pusta). To dość niewiele rekordów w porównaniu z całym rozmiarem zbioru danych, więc jeśli nie będzie dało się ich uzupełnić to będzie można po prostu zrezygnować z tych wierszy i nie wykorzystywać ich do predykcji. "
   ]
  },
  {
   "cell_type": "code",
   "metadata": {
    "colab": {
     "base_uri": "https://localhost:8080/"
    },
    "id": "FZRQ8SO_qTHF",
    "outputId": "bd664d2b-e398-4b0c-94d5-50a623d9aa37"
   },
   "source": [
    "quick_deliveries = merged_full[merged_full[\"time[hr]\"]< 1]\n",
    "len(quick_deliveries)"
   ],
   "execution_count": 37,
   "outputs": [
    {
     "output_type": "execute_result",
     "data": {
      "text/plain": [
       "306"
      ]
     },
     "metadata": {
      "tags": []
     },
     "execution_count": 37
    }
   ]
  },
  {
   "cell_type": "code",
   "metadata": {
    "colab": {
     "base_uri": "https://localhost:8080/"
    },
    "id": "x6LQNR9zqfXu",
    "outputId": "9541a8ed-e54d-43d8-a009-2c7ced9a3edd"
   },
   "source": [
    "quick_deliveries[\"city\"].unique()"
   ],
   "execution_count": 38,
   "outputs": [
    {
     "output_type": "execute_result",
     "data": {
      "text/plain": [
       "array(['Police', nan, 'Mielec', 'Szczecin', 'Warszawa', 'Radom', 'Gdynia',\n",
       "       'Kutno', 'Konin'], dtype=object)"
      ]
     },
     "metadata": {
      "tags": []
     },
     "execution_count": 38
    }
   ]
  },
  {
   "cell_type": "code",
   "metadata": {
    "colab": {
     "base_uri": "https://localhost:8080/"
    },
    "id": "X7SLFSfgqvlK",
    "outputId": "087b8b19-cc3c-4313-ddd8-dc3a6d2df87e"
   },
   "source": [
    "quick_deliveries[\"city\"].isnull().sum()"
   ],
   "execution_count": 39,
   "outputs": [
    {
     "output_type": "execute_result",
     "data": {
      "text/plain": [
       "14"
      ]
     },
     "metadata": {
      "tags": []
     },
     "execution_count": 39
    }
   ]
  },
  {
   "cell_type": "markdown",
   "metadata": {
    "id": "yq7a8ShWq5im"
   },
   "source": [
    "Wyjątkowo szybkie dostawy są wysyłane do 8 różnych miast w Polsce, co brzmi co najmniej nieprawdopodobnie. "
   ]
  },
  {
   "cell_type": "code",
   "metadata": {
    "colab": {
     "base_uri": "https://localhost:8080/"
    },
    "id": "EzN2KZ3XrJXR",
    "outputId": "cf5accf7-4a54-4960-da1e-83ad36d43f0e"
   },
   "source": [
    "# days of the week\n",
    "merged_full[\"day-of-week\"]= merged_full[\"delivery_timestamp\"].apply(lambda x: x.weekday())\n",
    "weekend_deliveries = merged_full[merged_full[\"day-of-week\"]>=5]\n",
    "sunday_deliveries = merged_full[merged_full[\"day-of-week\"]>5]\n",
    "\n",
    "print(merged_full.shape, weekend_deliveries.shape, sunday_deliveries.shape)"
   ],
   "execution_count": 56,
   "outputs": [
    {
     "output_type": "stream",
     "text": [
      "(7812, 20) (1103, 20) (0, 20)\n"
     ],
     "name": "stdout"
    }
   ]
  },
  {
   "cell_type": "markdown",
   "metadata": {
    "id": "ghkoQMD6t_hv"
   },
   "source": [
    "Okej, sobota to już prawdopodobny czas na dostawy, a w niedzielę już nie dostarczamy, uff! :) "
   ]
  },
  {
   "cell_type": "code",
   "metadata": {
    "colab": {
     "base_uri": "https://localhost:8080/",
     "height": 237
    },
    "id": "GP29gXe3rKOf",
    "outputId": "8a36f619-db05-484d-991f-e5b8050dd8da"
   },
   "source": [
    "# delivery hours\n",
    "dataframe = pd.DataFrame({\"purchase\":merged_full[\"purchase_timestamp\"].to_list(), \"id\": merged_full[\"purchase_id\"].to_list()}, index=pd.DatetimeIndex(merged_full[\"delivery_timestamp\"]))\n",
    "\n",
    "dataframe.head()"
   ],
   "execution_count": 42,
   "outputs": [
    {
     "output_type": "execute_result",
     "data": {
      "text/html": [
       "<div>\n",
       "<style scoped>\n",
       "    .dataframe tbody tr th:only-of-type {\n",
       "        vertical-align: middle;\n",
       "    }\n",
       "\n",
       "    .dataframe tbody tr th {\n",
       "        vertical-align: top;\n",
       "    }\n",
       "\n",
       "    .dataframe thead th {\n",
       "        text-align: right;\n",
       "    }\n",
       "</style>\n",
       "<table border=\"1\" class=\"dataframe\">\n",
       "  <thead>\n",
       "    <tr style=\"text-align: right;\">\n",
       "      <th></th>\n",
       "      <th>purchase</th>\n",
       "      <th>id</th>\n",
       "    </tr>\n",
       "    <tr>\n",
       "      <th>delivery_timestamp</th>\n",
       "      <th></th>\n",
       "      <th></th>\n",
       "    </tr>\n",
       "  </thead>\n",
       "  <tbody>\n",
       "    <tr>\n",
       "      <th>2021-04-02 14:06:34.432964</th>\n",
       "      <td>2021-04-01 15:52:47</td>\n",
       "      <td>20001.0</td>\n",
       "    </tr>\n",
       "    <tr>\n",
       "      <th>2021-04-02 10:45:27.707128</th>\n",
       "      <td>2021-04-01 02:26:23</td>\n",
       "      <td>20002.0</td>\n",
       "    </tr>\n",
       "    <tr>\n",
       "      <th>2021-01-04 15:43:07.635371</th>\n",
       "      <td>2021-01-03 05:11:17</td>\n",
       "      <td>20003.0</td>\n",
       "    </tr>\n",
       "    <tr>\n",
       "      <th>2021-02-15 08:59:28.973167</th>\n",
       "      <td>2021-02-13 09:17:52</td>\n",
       "      <td>20005.0</td>\n",
       "    </tr>\n",
       "    <tr>\n",
       "      <th>2021-01-16 18:09:23.624555</th>\n",
       "      <td>2021-01-15 15:42:34</td>\n",
       "      <td>20006.0</td>\n",
       "    </tr>\n",
       "  </tbody>\n",
       "</table>\n",
       "</div>"
      ],
      "text/plain": [
       "                                      purchase       id\n",
       "delivery_timestamp                                     \n",
       "2021-04-02 14:06:34.432964 2021-04-01 15:52:47  20001.0\n",
       "2021-04-02 10:45:27.707128 2021-04-01 02:26:23  20002.0\n",
       "2021-01-04 15:43:07.635371 2021-01-03 05:11:17  20003.0\n",
       "2021-02-15 08:59:28.973167 2021-02-13 09:17:52  20005.0\n",
       "2021-01-16 18:09:23.624555 2021-01-15 15:42:34  20006.0"
      ]
     },
     "metadata": {
      "tags": []
     },
     "execution_count": 42
    }
   ]
  },
  {
   "cell_type": "code",
   "metadata": {
    "colab": {
     "base_uri": "https://localhost:8080/"
    },
    "id": "NGIg6p8JrKGh",
    "outputId": "0fd1add0-5ea4-4db0-c9c5-2179edc7dcf4"
   },
   "source": [
    "night_deliveries = dataframe.between_time(\"22:00\", \"6:00\")\n",
    "print(night_deliveries.shape)\n"
   ],
   "execution_count": 44,
   "outputs": [
    {
     "output_type": "stream",
     "text": [
      "(0, 2)\n"
     ],
     "name": "stdout"
    }
   ]
  },
  {
   "cell_type": "markdown",
   "metadata": {
    "id": "mTxPmioBsala"
   },
   "source": [
    "Dobrze, nowe dane nie mają już nocnych godzin dostaw!"
   ]
  },
  {
   "cell_type": "markdown",
   "metadata": {
    "id": "eLc8BskTuiH1"
   },
   "source": [
    "Kwestia reprezentatywności \n",
    "----\n"
   ]
  },
  {
   "cell_type": "code",
   "metadata": {
    "colab": {
     "base_uri": "https://localhost:8080/"
    },
    "id": "AH1afunkrJ_O",
    "outputId": "95243aea-aa51-49bc-883b-e2365e6c4f77"
   },
   "source": [
    "merged_full[\"city\"].unique()"
   ],
   "execution_count": 57,
   "outputs": [
    {
     "output_type": "execute_result",
     "data": {
      "text/plain": [
       "array(['Police', nan, 'Mielec', 'Szczecin', 'Warszawa', 'Radom', 'Kutno',\n",
       "       'Gdynia', 'Konin'], dtype=object)"
      ]
     },
     "metadata": {
      "tags": []
     },
     "execution_count": 57
    }
   ]
  },
  {
   "cell_type": "code",
   "metadata": {
    "colab": {
     "base_uri": "https://localhost:8080/"
    },
    "id": "RhxmXUuJrJ33",
    "outputId": "02260a95-1650-41ac-c969-082890ebdf16"
   },
   "source": [
    "users[\"city\"].unique()"
   ],
   "execution_count": 58,
   "outputs": [
    {
     "output_type": "execute_result",
     "data": {
      "text/plain": [
       "array(['Police', 'Mielec', 'Szczecin', 'Warszawa', 'Radom', 'Kutno',\n",
       "       'Gdynia', 'Konin'], dtype=object)"
      ]
     },
     "metadata": {
      "tags": []
     },
     "execution_count": 58
    }
   ]
  },
  {
   "cell_type": "markdown",
   "metadata": {
    "id": "GKAzS-ZAu3m5"
   },
   "source": [
    "Wydaje się, że mamy dane dotyczące wszystkich interesujących nas miejsc dostaw, jednak warto byłoby się upewnić, czy firma faktycznie działa tylko w tych 8 miastach. "
   ]
  },
  {
   "cell_type": "code",
   "metadata": {
    "colab": {
     "base_uri": "https://localhost:8080/"
    },
    "id": "1ua_USYOrJvE",
    "outputId": "711489fa-c79b-4764-ec10-20c041b3c636"
   },
   "source": [
    "cities = merged_full[\"city\"].unique().tolist()\n",
    "cities_count = [(city, len(merged_full[merged_full[\"city\"]==city])) for city in cities]\n",
    "cities_count.append((\"NaN\", len(merged_full[merged_full[\"city\"].isnull()])))\n",
    "for c, n in cities_count:\n",
    "  print(f\"{c}: {n}\")"
   ],
   "execution_count": 64,
   "outputs": [
    {
     "output_type": "stream",
     "text": [
      "Police: 1181\n",
      "nan: 0\n",
      "Mielec: 761\n",
      "Szczecin: 1118\n",
      "Warszawa: 1045\n",
      "Radom: 1005\n",
      "Kutno: 575\n",
      "Gdynia: 711\n",
      "Konin: 1014\n",
      "NaN: 402\n"
     ],
     "name": "stdout"
    }
   ]
  },
  {
   "cell_type": "markdown",
   "metadata": {
    "id": "8vSmLjJtwWc7"
   },
   "source": [
    "Okej, położenie geograficzne odbiorców jest w miarę równomiernie rozłożone i nie powinno wywoływać problemów. "
   ]
  }
 ]
}