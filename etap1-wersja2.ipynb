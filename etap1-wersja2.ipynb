{
  "nbformat": 4,
  "nbformat_minor": 0,
  "metadata": {
    "kernelspec": {
      "display_name": "Python 3",
      "language": "python",
      "name": "python3"
    },
    "language_info": {
      "codemirror_mode": {
        "name": "ipython",
        "version": 2
      },
      "file_extension": ".py",
      "mimetype": "text/x-python",
      "name": "python",
      "nbconvert_exporter": "python",
      "pygments_lexer": "ipython2",
      "version": "2.7.6"
    },
    "colab": {
      "name": "etap1.ipynb",
      "provenance": [],
      "toc_visible": true
    }
  },
  "cells": [
    {
      "cell_type": "markdown",
      "metadata": {
        "collapsed": false,
        "id": "gbVno9EQH3N1"
      },
      "source": [
        "# Niejasności/głupoty/pytania:\n",
        "\n",
        "- Jakie powinno być biznesowe kryterium sukcesu? +- godzina? Czy to ma sens tylko przy cichym założeniu że czas dostawy <24h? *Myślę, że zawsze ma czas, choć może raczej +/- 30 minut, skoro jednak operujemy w niewielkim oknie. Nie jestem pewna czy to nie jest jednak analityczne krterium sukcesu, a czy biznesowym nie powinno być coś w rodzaju \"wzrostu zadowolenia klientów\"*\n",
        "- W jaki sposób ustalić na podstawie danych kryterium sukcesu? Zbudować już wstępny model żeby to zrobić? *To jedyny sposób, który znam - zasadniczo zbudowanie np. drzewa decyzyjnego, pomijając zupełnie brakujące dane, nie powinno zająć wiele czasu, a da niezłe pojęcie o tym, co da się uzyskać*\n",
        "- Może głupie ale czy powinniśmy sprawdzić powiązanie wszystkich atrybutów ze zmienną celu i dopiero wtedy wybierać czy raczej od razu cisnąć na logikę to co się wydaje? *Zaczynałabym od policzenia powiązań/korelacji/informacji wzajemnej, a pote dopisywać do tego logikę*"
      ]
    },
    {
      "cell_type": "markdown",
      "metadata": {
        "collapsed": true,
        "pycharm": {
          "name": "#%% md\n"
        },
        "id": "Fdb_9y4LH3OB"
      },
      "source": [
        "# TODO:\n",
        "- definicję problemu biznesowego,\n",
        "- zdefiniowanie zadania/zadań modelowania i\n",
        "- wszystkich założeń, zaproponowania kryteriów sukcesu),\n",
        "- ii) analizę danych z perspektywy realizacji tych zadań (trzeba ocenić,\n",
        "- czy dostarczone dane są wystarczające – może czegoś brakuje, może coś trzeba poprawić, domagać się\n",
        "innych danych, …),\n",
        "- wstępne dane wejściowe i zmienna celu\n",
        "- wartości kryterium sukcesu na podstawie danych\n",
        "-\n",
        "\n",
        "\n",
        "- oszacowanie tego jaką dokładnie wartość powinna mieć miara, którą będziemy stosować na podstawie tego, co mamy\n",
        "- no jakieś takie sensowne spięcie całości.\n",
        "- komentarze odnośnie nowych danych (po połączeniu wszystkiego wciąż są brakujące wartości, dalej mamy dostawy <1h)\n",
        "- macierz korelacji zmiennych zobrazowana na heatmapie (sns.heatmap)\n",
        "- podzielić to co wiemy o danych na jakieś sensowne sekcje (nwm analiza starych danych, analiza nowych danych, sformułowanie problemów, etc)\n",
        "\n",
        "\n",
        "- info o atrybutach czyli typ i wartosci\n",
        "- sprawdzenie bledow i brakow\n",
        "- czy dane sie wgl nadaja do modelowania\n",
        "- informacja o zmiennej celu"
      ]
    },
    {
      "cell_type": "markdown",
      "metadata": {
        "collapsed": false,
        "id": "IWTXnmLJH3OD"
      },
      "source": [
        "## IUM - projekt\n",
        "#### Autorzy:\n",
        "Joanna Sokołowska, Rafał Uzarowicz\n",
        "#### Zadanie:\n",
        "3. “Wygląda na to, że nasze firmy kurierskie czasami nie radzą sobie z dostawami. Gdybyśmy\n",
        "wiedzieli, ile taka dostawa dla danego zamówienia potrwa – moglibyśmy przekazywać tą\n",
        "informację klientom.\""
      ]
    },
    {
      "cell_type": "code",
      "metadata": {
        "colab": {
          "base_uri": "https://localhost:8080/"
        },
        "id": "cr8tN8G8GFaj",
        "outputId": "c23b77ed-eaf5-4744-d908-bd082b66034d"
      },
      "source": [
        "from google.colab import drive\n",
        "drive.mount('/content/drive')"
      ],
      "execution_count": 1,
      "outputs": [
        {
          "output_type": "stream",
          "text": [
            "Drive already mounted at /content/drive; to attempt to forcibly remount, call drive.mount(\"/content/drive\", force_remount=True).\n"
          ],
          "name": "stdout"
        }
      ]
    },
    {
      "cell_type": "code",
      "metadata": {
        "pycharm": {
          "name": "#%%\n"
        },
        "id": "jFjTgQ84H3OE"
      },
      "source": [
        "# Ustawienie środowiska\n",
        "\n",
        "# Wstępne dane\n",
        "data_v1_dir = \"/content/drive/MyDrive/Data/IUM/\"\n",
        "#data_v1_dir =\"./data/data_v1/\"\n",
        "\n",
        "deliveries_v1_path = data_v1_dir + \"deliveries.jsonl\"\n",
        "sessions_v1_path = data_v1_dir + \"sessions.jsonl\"\n",
        "users_v1_path = data_v1_dir + \"users.jsonl\"\n",
        "products_v1_path = data_v1_dir + \"products.jsonl\"\n",
        "\n",
        "# Pierwsza aktualizacja\n",
        "data_v2_dir = \"/content/drive/MyDrive/Data/IUM/V2/\"\n",
        "#data_v2_dir =\"./data/data_v2/\"\n",
        "\n",
        "deliveries_v2_path = data_v2_dir + \"deliveries.jsonl\"\n",
        "sessions_v2_path = data_v2_dir + \"sessions.jsonl\"\n",
        "users_v2_path = data_v2_dir + \"users.jsonl\"\n",
        "products_v2_path = data_v2_dir + \"products.jsonl\"\n",
        "\n",
        "# Biblioteki\n",
        "import pandas as pd\n",
        "import numpy as np\n",
        "import matplotlib.pyplot as plt\n",
        "import seaborn as sns"
      ],
      "execution_count": 2,
      "outputs": []
    },
    {
      "cell_type": "markdown",
      "metadata": {
        "collapsed": false,
        "id": "HNt0wC7NH3OH"
      },
      "source": [
        "# Zadanie\n",
        "\n",
        "### Tło biznesowe\n",
        "\n",
        "#### Zadanie biznesowe\n",
        "Przewidywanie przybliżonego czasu dostawy produktu.\n",
        "\n",
        "#### Biznesowe kryterium sukcesu\n",
        "Przewidywany przez system czas dostawy nie powinien zbytnio odstawać od rzeczywistego czasu dostawy.????\n",
        "\n",
        "\n",
        "### Model\n",
        "\n",
        "#### Zadanie modelowania\n",
        "Przewidywanie czasu dostawy przy użyciu regresji.\n",
        "\n",
        "#### Analityczne kryterium sukcesu\n",
        "\n",
        "NIE WIEM CO TUTEJ KURLA \n",
        "\n",
        "Kryteria oceny modelu mogą być takie jak zazwyczaj dla regresji np. MSE, lub absolute mean error. Dodatkowo można zamiast\n",
        "jednego czasu dostawy przewidywać okno dostawy o założonej szerokości np. 2h i zastosować własną, niestandardową funkcję celu,\n",
        "która traktuje wszystkie dostawy, które wpadły w okienko jako przewidziane poprawnie.\n",
        "\n",
        "#### Zmienna celu\n",
        "Przybliżona liczba godzin potrzebnych na dostawę produktu.\n"
      ]
    },
    {
      "cell_type": "markdown",
      "metadata": {
        "collapsed": false,
        "id": "ctGs27hXH3OJ"
      },
      "source": [
        "## Wstępne obserwacje dotyczące danych"
      ]
    },
    {
      "cell_type": "code",
      "metadata": {
        "pycharm": {
          "name": "#%%\n"
        },
        "id": "ZjU6IfB_F8Sn"
      },
      "source": [
        "deliveries_v1 = pd.read_json(deliveries_v1_path, lines=True)\n",
        "sessions_v1 = pd.read_json(sessions_v1_path, lines=True)\n",
        "users_v1 = pd.read_json(users_v1_path, lines=True)\n",
        "products_v1 = pd.read_json(products_v1_path, lines=True)\n",
        "\n",
        "data_v1 = {\"products\": products_v1, \"sessions\": sessions_v1, \"users\": users_v1, \"deliveries\":deliveries_v1}\n"
      ],
      "execution_count": 3,
      "outputs": []
    },
    {
      "cell_type": "markdown",
      "metadata": {
        "collapsed": false,
        "id": "v4YOrF3bF8Sr"
      },
      "source": [
        "### Krótki opis danych\n",
        "Dane, które dostaliśmy, dotyczą firmy internetowej sprzedającej elektronikę i gry komputerowe. Dostaliśmy bazę użytkowników,\n",
        " katalog produktów, historię sesji oraz dane dotyczące wysyłki zakupionych produktów. Ze względu na specyfikę problemu\n",
        " wydaje się, że jedynymi istotnymi informacjami będą te powiązane z samym transportem."
      ]
    },
    {
      "cell_type": "markdown",
      "metadata": {
        "collapsed": false,
        "id": "MKIQlam0F8Ss"
      },
      "source": [
        "### Przegląd dostępnych kolumn"
      ]
    },
    {
      "cell_type": "code",
      "metadata": {
        "pycharm": {
          "name": "#%%\n"
        },
        "colab": {
          "base_uri": "https://localhost:8080/"
        },
        "id": "1b7mOr0YF8St",
        "outputId": "b6c8ab73-29fe-4821-d3d5-35d1c7b4f15c"
      },
      "source": [
        "for key, value in data_v1.items():\n",
        "    print(key, \" : \", value.columns.tolist())"
      ],
      "execution_count": 4,
      "outputs": [
        {
          "output_type": "stream",
          "text": [
            "products  :  ['product_id', 'product_name', 'category_path', 'price']\n",
            "sessions  :  ['session_id', 'timestamp', 'user_id', 'product_id', 'event_type', 'offered_discount', 'purchase_id']\n",
            "users  :  ['user_id', 'name', 'city', 'street']\n",
            "deliveries  :  ['purchase_id', 'purchase_timestamp', 'delivery_timestamp', 'delivery_company']\n"
          ],
          "name": "stdout"
        }
      ]
    },
    {
      "cell_type": "markdown",
      "metadata": {
        "collapsed": false,
        "id": "ac8UwaePF8Sv"
      },
      "source": [
        "#### Dane, które wydają się mieć największy wpływ na nasze zadanie:\n",
        "- adres użytkownika (może być konieczne dodanie do niego kolumny z kodem pocztowym-powinno dać to lepsze pojęcie o\n",
        "położeniu punktów dostaw w tym samym rejonie, dalszym przetworzeniem może być też odległość absolutna pomiędzy magazynem/miejscem wysyłki a celem).\n",
        "- dane dt. czasu złożenia zamówienia (prawdopodobnie trzeba będzie je przekształcić w format bardziej nadający się do obróbki).\n",
        "- dane dt. czasu dostawy (atrybut, którego wartość będziemy próbowali przewidzieć wprost tj. datę lub pośrednio tj. czas między złożeniem zamówienia a dostawą).\n",
        "- dane dt. firmy kurierskiej (firma prawdopodobnie będzie mocno wpływać na czas dostawy).\n",
        "\n",
        "#### Omówienie pozostałych danych:\n",
        "- session_id-raczej nieistotne, sesja nie powinna mieć wpływu na czas transportu.\n",
        "- timestamp z tabeli sessions-też raczej nieistotny, podobne informacje niesie timestamp zakupu produktu z tabeli deliveries,\n",
        "gdyż nie obchodzi nas jakie produkty przeglądał użytkownik, a tylko akcje kupna.\n",
        "- user_id-samo w sobie raczej nie niesie wartości, choć może być przydatne do łączenia z innymi tablicami (np. deliveries).\n",
        "Sklep internetowy raczej nie przyspiesza dostaw ze względu na osobę.\n",
        "- product_id-przydatne tylko do łączenia tabel.\n",
        "- event_type-raczej nieistotne, to co wykonywał użytkownik w sesji, raczej nie ma wpływu na czas dostawy.\n",
        "- offered_discount-nie powinno mieć to wpływu na czas dostawy.\n",
        "- purchase_id-istotne do łączenia tabel.\n",
        "- name-samo w sobie nieważne, można by z niego wyciągnąć takie dane jak np. płeć, jednak nie będzie to miało wpływu na czas dostawy.\n",
        "- product_name-raczej nie powinno wpłynąć na czas dostawy.\n",
        "- category_path-może być o tyle ważne, że pewne produkty mogłyby być gabarytami, wtedy ich czas dostawy mógłby się znacznie różnic przez konieczność specjalnego ich traktowania.\n",
        "- price-cena sama w sobie raczej nie niesie informacji o czasie dostawy.\n",
        "\n",
        "#### Dane, które przydałoby się dostać:\n",
        "- dane dt. momentu i miejsca wysyłki produktów (czy zawsze wysyłane są z tego samego miejsca, czy istnieją jakieś opóźnienia).\n",
        "- dane dt. punktów pośrednich na drodze przesyłki (o ile istnieją) np. punktów spedycyjnych, magazynów,\n",
        "to potencjalnie mogłoby pozwolić na ulepszanie predykcji w trakcie podróży przesyłki i im bliżej celu, tym\n",
        "dokładniejsze dane można by było zaprezentować użytkownikowi.\n",
        "\n",
        "### Ogólne komentarze do tabel\n",
        "\n",
        "Tabela deliveries-ważna niesie istotne dane, choć może być konieczność poddania ich odpowiedniemu przetworzeniu\n",
        "przed utworzeniem modelu. Zawarte w niej daty i godziny są prawdopodobnie bardzo ważne w budowie modelu, ale będą\n",
        "wymagały przetworzenia-np. wyciągnięcia oddzielnie miesiąca, dnia, godziny, może też dnia tygodnia.\n",
        "\n",
        "Tabela sessions-raczej nieważna, choć spodziewam się, że może nieść nieco istotnych danych nt. obciążenia systemu\n",
        "w poszczególnych okresach, co prawdopodobnie wpływa na czas dostaw.\n",
        "\n",
        "Tabela products-przy wstępnej analizie nie wydaje się istotna, ale może da się na jej podstawie utworzyć nowe atrybuty\n",
        "bardziej przydatne dla problemu. Być może warto np. dodać do kolumny deliveries kolumnę zliczającą, ile przedmiotów\n",
        "jest w jednym zamówieniu-wielkość zamówienia może wpływać na możliwości firm kurierskich co do czasu dostawy.\n",
        "\n",
        "Tabela users-raczej ważna mówi nam o adresie dostawy-odległość może znacząco wpływać na długość dostawy."
      ]
    },
    {
      "cell_type": "markdown",
      "metadata": {
        "collapsed": false,
        "pycharm": {
          "name": "#%% md\n"
        },
        "id": "PLNaEWIHH3OL"
      },
      "source": [
        "## Analiza pierwszej wersji danych\n",
        "\n",
        "- sprawdzenie reprezentatywności danych\n",
        "\n",
        "- tutaj wnioski\n",
        "\n",
        "- tutaj pytania ktore trzeba zadac do klienta\n"
      ]
    },
    {
      "cell_type": "markdown",
      "metadata": {
        "collapsed": false,
        "id": "er4oCgI3F8Sy"
      },
      "source": [
        "### Sprawdzenie ilości danych"
      ]
    },
    {
      "cell_type": "code",
      "metadata": {
        "pycharm": {
          "name": "#%%\n"
        },
        "colab": {
          "base_uri": "https://localhost:8080/"
        },
        "id": "ZqDOuSmwF8Sy",
        "outputId": "24480f3d-86da-46b1-e6f2-0ed5dd7d14ec"
      },
      "source": [
        "for key, value in data_v1.items():\n",
        "    print(key, \" : \", value.shape)"
      ],
      "execution_count": 5,
      "outputs": [
        {
          "output_type": "stream",
          "text": [
            "products  :  (319, 4)\n",
            "sessions  :  (37690, 7)\n",
            "users  :  (200, 4)\n",
            "deliveries  :  (6993, 4)\n"
          ],
          "name": "stdout"
        }
      ]
    },
    {
      "cell_type": "markdown",
      "metadata": {
        "collapsed": false,
        "id": "SyzqSs0tF8Sz"
      },
      "source": [
        "Ilościowo danych wydaje się dostatecznie dużo, w najbardziej interesującej nas tabeli (deliveries) jest niemal 7 tysięcy\n",
        "wierszy, co powinno być dość zarówno do wytrenowania, walidacji, jak i testowania modelu."
      ]
    },
    {
      "cell_type": "markdown",
      "metadata": {
        "collapsed": false,
        "id": "Zn0k2mrDF8S0"
      },
      "source": [
        "### Sprawdzenie jakości danych"
      ]
    },
    {
      "cell_type": "markdown",
      "metadata": {
        "collapsed": false,
        "id": "F12ZdwaUF8S0"
      },
      "source": [
        "#### Sprawdzenie braków w danych"
      ]
    },
    {
      "cell_type": "code",
      "metadata": {
        "pycharm": {
          "name": "#%%\n"
        },
        "colab": {
          "base_uri": "https://localhost:8080/"
        },
        "id": "TNYgWKnZF8S1",
        "outputId": "51a29fa0-a7a2-42cb-83cb-21903c2d084a"
      },
      "source": [
        "for key, value in data_v1.items():\n",
        "  print(key, \":\\n\", value.isnull().sum(), \"\\n\")"
      ],
      "execution_count": 6,
      "outputs": [
        {
          "output_type": "stream",
          "text": [
            "products :\n",
            " product_id       0\n",
            "product_name     0\n",
            "category_path    0\n",
            "price            0\n",
            "dtype: int64 \n",
            "\n",
            "sessions :\n",
            " session_id              0\n",
            "timestamp               0\n",
            "user_id              1915\n",
            "product_id           1913\n",
            "event_type              0\n",
            "offered_discount        0\n",
            "purchase_id         30697\n",
            "dtype: int64 \n",
            "\n",
            "users :\n",
            " user_id    0\n",
            "name       0\n",
            "city       0\n",
            "street     0\n",
            "dtype: int64 \n",
            "\n",
            "deliveries :\n",
            " purchase_id             0\n",
            "purchase_timestamp      0\n",
            "delivery_timestamp    333\n",
            "delivery_company      329\n",
            "dtype: int64 \n",
            "\n"
          ],
          "name": "stdout"
        }
      ]
    },
    {
      "cell_type": "markdown",
      "metadata": {
        "collapsed": false,
        "id": "uQs4N_KYF8S3"
      },
      "source": [
        "Brakujące dane w tabeli deliveries są raczej martwiące, dobrze by było jakby dało się je uzupełnić, jednak jeśli nie\n",
        "będzie to możliwe, to pozostałe dane powinny być wystarczające do wytrenowania modelu\n",
        "(maksymalnie 662 wiersze są wybrakowane, to poniżej 10% danych).\n",
        "\n",
        "Cieszy brak pustych wartości w tabelach dotyczących użytkowników-nie powinno być problemu z nieznanymi adresami dostaw.\n",
        "\n",
        "Braki w tabeli sessions nie zaskakują-wynikają prawdopodobnie ze sposobu, w jaki są gromadzone dane,\n",
        "np. puste wartości w kolumnie purchase_id wynikają najpewniej z tego, że dany wiersz odpowiada wartości\n",
        "event_type innej niż BUY_PRODUCT."
      ]
    },
    {
      "cell_type": "markdown",
      "metadata": {
        "collapsed": false,
        "id": "Xnwa4QMLF8S3"
      },
      "source": [
        "#### Sprawdzenie błędów w danych"
      ]
    },
    {
      "cell_type": "markdown",
      "metadata": {
        "collapsed": false,
        "id": "VDxrWzORF8S4"
      },
      "source": [
        "##### Dane czasowe"
      ]
    },
    {
      "cell_type": "code",
      "metadata": {
        "pycharm": {
          "name": "#%%\n"
        },
        "colab": {
          "base_uri": "https://localhost:8080/",
          "height": 206
        },
        "id": "NNH1otwTF8S4",
        "outputId": "2182ed15-f4c4-4a44-b2b9-8af53ad024b5"
      },
      "source": [
        "deliveries_v1.head()"
      ],
      "execution_count": 7,
      "outputs": [
        {
          "output_type": "execute_result",
          "data": {
            "text/html": [
              "<div>\n",
              "<style scoped>\n",
              "    .dataframe tbody tr th:only-of-type {\n",
              "        vertical-align: middle;\n",
              "    }\n",
              "\n",
              "    .dataframe tbody tr th {\n",
              "        vertical-align: top;\n",
              "    }\n",
              "\n",
              "    .dataframe thead th {\n",
              "        text-align: right;\n",
              "    }\n",
              "</style>\n",
              "<table border=\"1\" class=\"dataframe\">\n",
              "  <thead>\n",
              "    <tr style=\"text-align: right;\">\n",
              "      <th></th>\n",
              "      <th>purchase_id</th>\n",
              "      <th>purchase_timestamp</th>\n",
              "      <th>delivery_timestamp</th>\n",
              "      <th>delivery_company</th>\n",
              "    </tr>\n",
              "  </thead>\n",
              "  <tbody>\n",
              "    <tr>\n",
              "      <th>0</th>\n",
              "      <td>20001</td>\n",
              "      <td>2021-02-21T12:09:40</td>\n",
              "      <td>2021-02-22T15:06:21.051360</td>\n",
              "      <td>620.0</td>\n",
              "    </tr>\n",
              "    <tr>\n",
              "      <th>1</th>\n",
              "      <td>20002</td>\n",
              "      <td>2021-02-17T15:08:51</td>\n",
              "      <td>2021-02-21T12:16:54.977640</td>\n",
              "      <td>360.0</td>\n",
              "    </tr>\n",
              "    <tr>\n",
              "      <th>2</th>\n",
              "      <td>20003</td>\n",
              "      <td>2021-01-22T14:41:01</td>\n",
              "      <td>2021-01-22T15:19:19.040428</td>\n",
              "      <td>516.0</td>\n",
              "    </tr>\n",
              "    <tr>\n",
              "      <th>3</th>\n",
              "      <td>20004</td>\n",
              "      <td>2021-01-15T12:41:14</td>\n",
              "      <td>2021-01-13T22:45:05.607434</td>\n",
              "      <td>516.0</td>\n",
              "    </tr>\n",
              "    <tr>\n",
              "      <th>4</th>\n",
              "      <td>20005</td>\n",
              "      <td>2021-01-14T02:50:19</td>\n",
              "      <td>2021-01-14T11:35:28.612753</td>\n",
              "      <td>516.0</td>\n",
              "    </tr>\n",
              "  </tbody>\n",
              "</table>\n",
              "</div>"
            ],
            "text/plain": [
              "   purchase_id  ... delivery_company\n",
              "0        20001  ...            620.0\n",
              "1        20002  ...            360.0\n",
              "2        20003  ...            516.0\n",
              "3        20004  ...            516.0\n",
              "4        20005  ...            516.0\n",
              "\n",
              "[5 rows x 4 columns]"
            ]
          },
          "metadata": {
            "tags": []
          },
          "execution_count": 7
        }
      ]
    },
    {
      "cell_type": "code",
      "metadata": {
        "pycharm": {
          "name": "#%%\n"
        },
        "colab": {
          "base_uri": "https://localhost:8080/",
          "height": 206
        },
        "id": "1rLRaZaTF8S5",
        "outputId": "bf657ff2-41f4-411c-87de-44cdd0d1cd54"
      },
      "source": [
        "deliveries_v1[\"purchase_timestamp\"] = pd.to_datetime ( deliveries_v1[\"purchase_timestamp\"], format='%Y-%m-%dT%H:%M', errors=\"coerce\")\n",
        "deliveries_v1['delivery_timestamp'] = pd.to_datetime ( deliveries_v1[\"delivery_timestamp\"], format='%Y-%m-%dT%H:%M:%S', errors=\"coerce\")\n",
        "deliveries_v1[\"time_difference\"] = deliveries_v1[\"delivery_timestamp\"] - deliveries_v1[\"purchase_timestamp\"]\n",
        "deliveries_v1.head()"
      ],
      "execution_count": 8,
      "outputs": [
        {
          "output_type": "execute_result",
          "data": {
            "text/html": [
              "<div>\n",
              "<style scoped>\n",
              "    .dataframe tbody tr th:only-of-type {\n",
              "        vertical-align: middle;\n",
              "    }\n",
              "\n",
              "    .dataframe tbody tr th {\n",
              "        vertical-align: top;\n",
              "    }\n",
              "\n",
              "    .dataframe thead th {\n",
              "        text-align: right;\n",
              "    }\n",
              "</style>\n",
              "<table border=\"1\" class=\"dataframe\">\n",
              "  <thead>\n",
              "    <tr style=\"text-align: right;\">\n",
              "      <th></th>\n",
              "      <th>purchase_id</th>\n",
              "      <th>purchase_timestamp</th>\n",
              "      <th>delivery_timestamp</th>\n",
              "      <th>delivery_company</th>\n",
              "      <th>time_difference</th>\n",
              "    </tr>\n",
              "  </thead>\n",
              "  <tbody>\n",
              "    <tr>\n",
              "      <th>0</th>\n",
              "      <td>20001</td>\n",
              "      <td>2021-02-21 12:09:40</td>\n",
              "      <td>2021-02-22 15:06:21.051360</td>\n",
              "      <td>620.0</td>\n",
              "      <td>1 days 02:56:41.051360</td>\n",
              "    </tr>\n",
              "    <tr>\n",
              "      <th>1</th>\n",
              "      <td>20002</td>\n",
              "      <td>2021-02-17 15:08:51</td>\n",
              "      <td>2021-02-21 12:16:54.977640</td>\n",
              "      <td>360.0</td>\n",
              "      <td>3 days 21:08:03.977640</td>\n",
              "    </tr>\n",
              "    <tr>\n",
              "      <th>2</th>\n",
              "      <td>20003</td>\n",
              "      <td>2021-01-22 14:41:01</td>\n",
              "      <td>2021-01-22 15:19:19.040428</td>\n",
              "      <td>516.0</td>\n",
              "      <td>0 days 00:38:18.040428</td>\n",
              "    </tr>\n",
              "    <tr>\n",
              "      <th>3</th>\n",
              "      <td>20004</td>\n",
              "      <td>2021-01-15 12:41:14</td>\n",
              "      <td>2021-01-13 22:45:05.607434</td>\n",
              "      <td>516.0</td>\n",
              "      <td>-2 days +10:03:51.607434</td>\n",
              "    </tr>\n",
              "    <tr>\n",
              "      <th>4</th>\n",
              "      <td>20005</td>\n",
              "      <td>2021-01-14 02:50:19</td>\n",
              "      <td>2021-01-14 11:35:28.612753</td>\n",
              "      <td>516.0</td>\n",
              "      <td>0 days 08:45:09.612753</td>\n",
              "    </tr>\n",
              "  </tbody>\n",
              "</table>\n",
              "</div>"
            ],
            "text/plain": [
              "   purchase_id  purchase_timestamp  ... delivery_company          time_difference\n",
              "0        20001 2021-02-21 12:09:40  ...            620.0   1 days 02:56:41.051360\n",
              "1        20002 2021-02-17 15:08:51  ...            360.0   3 days 21:08:03.977640\n",
              "2        20003 2021-01-22 14:41:01  ...            516.0   0 days 00:38:18.040428\n",
              "3        20004 2021-01-15 12:41:14  ...            516.0 -2 days +10:03:51.607434\n",
              "4        20005 2021-01-14 02:50:19  ...            516.0   0 days 08:45:09.612753\n",
              "\n",
              "[5 rows x 5 columns]"
            ]
          },
          "metadata": {
            "tags": []
          },
          "execution_count": 8
        }
      ]
    },
    {
      "cell_type": "code",
      "metadata": {
        "pycharm": {
          "name": "#%%\n"
        },
        "colab": {
          "base_uri": "https://localhost:8080/"
        },
        "id": "7xhUMBEMF8S6",
        "outputId": "a9bd9efa-d7c4-4391-9bd6-a6196ec14b30"
      },
      "source": [
        "len(deliveries_v1[deliveries_v1[\"time_difference\"] > pd.Timedelta(hours=0)])"
      ],
      "execution_count": 9,
      "outputs": [
        {
          "output_type": "execute_result",
          "data": {
            "text/plain": [
              "4596"
            ]
          },
          "metadata": {
            "tags": []
          },
          "execution_count": 9
        }
      ]
    },
    {
      "cell_type": "code",
      "metadata": {
        "pycharm": {
          "name": "#%%\n"
        },
        "colab": {
          "base_uri": "https://localhost:8080/"
        },
        "id": "hl4r6tOMF8S7",
        "outputId": "661c0c84-d4eb-4f11-9482-78351788a50e"
      },
      "source": [
        "len(deliveries_v1[deliveries_v1[\"time_difference\"] > pd.Timedelta(hours=24)])"
      ],
      "execution_count": 10,
      "outputs": [
        {
          "output_type": "execute_result",
          "data": {
            "text/plain": [
              "3312"
            ]
          },
          "metadata": {
            "tags": []
          },
          "execution_count": 10
        }
      ]
    },
    {
      "cell_type": "code",
      "metadata": {
        "pycharm": {
          "name": "#%%\n"
        },
        "colab": {
          "base_uri": "https://localhost:8080/"
        },
        "id": "a9vE4kLpF8S8",
        "outputId": "522eb2a1-c692-477d-a405-c5a24ab3255e"
      },
      "source": [
        "len(deliveries_v1[deliveries_v1[\"time_difference\"] < pd.Timedelta(hours=0)])"
      ],
      "execution_count": 11,
      "outputs": [
        {
          "output_type": "execute_result",
          "data": {
            "text/plain": [
              "2064"
            ]
          },
          "metadata": {
            "tags": []
          },
          "execution_count": 11
        }
      ]
    },
    {
      "cell_type": "markdown",
      "metadata": {
        "collapsed": false,
        "pycharm": {
          "name": "#%% md\n"
        },
        "id": "wdjqxZvlF8S9"
      },
      "source": [
        "Ujemne wartości w nowoutworzonej kolumnie wskazują na to, że dane są zanieczyszczone-produkt nie mógł być dostarczony\n",
        "przed zakupem. Takich zanieczyszczeń jest stosunkowo wiele - 2 tysiące wierszy, które przez to nie będą mogły zostać\n",
        "wykorzystane w modelowaniu. To zbyt wiele danych, żebyśmy mogli je po prostu pominąć, jak w przypadku brakujących czasów dostawy."
      ]
    },
    {
      "cell_type": "code",
      "metadata": {
        "pycharm": {
          "name": "#%%\n"
        },
        "colab": {
          "base_uri": "https://localhost:8080/",
          "height": 206
        },
        "id": "zLTuD7JQF8S9",
        "outputId": "29297ce8-8dd5-406b-8627-205f5244e97c"
      },
      "source": [
        "preped = deliveries_v1[deliveries_v1[\"time_difference\"] > pd.Timedelta(hours=0)].copy()\n",
        "preped[\"time[s]\"]=preped[\"time_difference\"].apply(lambda time_delta: time_delta.total_seconds())\n",
        "preped[\"time[h]\"]=preped[\"time_difference\"].apply(lambda x: x.total_seconds()/(60*60))\n",
        "preped[\"delivery_weekday\"]=preped['delivery_timestamp'].dt.day_name()\n",
        "preped.head()"
      ],
      "execution_count": 12,
      "outputs": [
        {
          "output_type": "execute_result",
          "data": {
            "text/html": [
              "<div>\n",
              "<style scoped>\n",
              "    .dataframe tbody tr th:only-of-type {\n",
              "        vertical-align: middle;\n",
              "    }\n",
              "\n",
              "    .dataframe tbody tr th {\n",
              "        vertical-align: top;\n",
              "    }\n",
              "\n",
              "    .dataframe thead th {\n",
              "        text-align: right;\n",
              "    }\n",
              "</style>\n",
              "<table border=\"1\" class=\"dataframe\">\n",
              "  <thead>\n",
              "    <tr style=\"text-align: right;\">\n",
              "      <th></th>\n",
              "      <th>purchase_id</th>\n",
              "      <th>purchase_timestamp</th>\n",
              "      <th>delivery_timestamp</th>\n",
              "      <th>delivery_company</th>\n",
              "      <th>time_difference</th>\n",
              "      <th>time[s]</th>\n",
              "      <th>time[h]</th>\n",
              "      <th>delivery_weekday</th>\n",
              "    </tr>\n",
              "  </thead>\n",
              "  <tbody>\n",
              "    <tr>\n",
              "      <th>0</th>\n",
              "      <td>20001</td>\n",
              "      <td>2021-02-21 12:09:40</td>\n",
              "      <td>2021-02-22 15:06:21.051360</td>\n",
              "      <td>620.0</td>\n",
              "      <td>1 days 02:56:41.051360</td>\n",
              "      <td>97001.051360</td>\n",
              "      <td>26.944736</td>\n",
              "      <td>Monday</td>\n",
              "    </tr>\n",
              "    <tr>\n",
              "      <th>1</th>\n",
              "      <td>20002</td>\n",
              "      <td>2021-02-17 15:08:51</td>\n",
              "      <td>2021-02-21 12:16:54.977640</td>\n",
              "      <td>360.0</td>\n",
              "      <td>3 days 21:08:03.977640</td>\n",
              "      <td>335283.977640</td>\n",
              "      <td>93.134438</td>\n",
              "      <td>Sunday</td>\n",
              "    </tr>\n",
              "    <tr>\n",
              "      <th>2</th>\n",
              "      <td>20003</td>\n",
              "      <td>2021-01-22 14:41:01</td>\n",
              "      <td>2021-01-22 15:19:19.040428</td>\n",
              "      <td>516.0</td>\n",
              "      <td>0 days 00:38:18.040428</td>\n",
              "      <td>2298.040428</td>\n",
              "      <td>0.638345</td>\n",
              "      <td>Friday</td>\n",
              "    </tr>\n",
              "    <tr>\n",
              "      <th>4</th>\n",
              "      <td>20005</td>\n",
              "      <td>2021-01-14 02:50:19</td>\n",
              "      <td>2021-01-14 11:35:28.612753</td>\n",
              "      <td>516.0</td>\n",
              "      <td>0 days 08:45:09.612753</td>\n",
              "      <td>31509.612753</td>\n",
              "      <td>8.752670</td>\n",
              "      <td>Thursday</td>\n",
              "    </tr>\n",
              "    <tr>\n",
              "      <th>5</th>\n",
              "      <td>20006</td>\n",
              "      <td>2021-02-16 08:27:14</td>\n",
              "      <td>2021-02-19 09:58:54.243499</td>\n",
              "      <td>620.0</td>\n",
              "      <td>3 days 01:31:40.243499</td>\n",
              "      <td>264700.243499</td>\n",
              "      <td>73.527845</td>\n",
              "      <td>Friday</td>\n",
              "    </tr>\n",
              "  </tbody>\n",
              "</table>\n",
              "</div>"
            ],
            "text/plain": [
              "   purchase_id  purchase_timestamp  ...    time[h]  delivery_weekday\n",
              "0        20001 2021-02-21 12:09:40  ...  26.944736            Monday\n",
              "1        20002 2021-02-17 15:08:51  ...  93.134438            Sunday\n",
              "2        20003 2021-01-22 14:41:01  ...   0.638345            Friday\n",
              "4        20005 2021-01-14 02:50:19  ...   8.752670          Thursday\n",
              "5        20006 2021-02-16 08:27:14  ...  73.527845            Friday\n",
              "\n",
              "[5 rows x 8 columns]"
            ]
          },
          "metadata": {
            "tags": []
          },
          "execution_count": 12
        }
      ]
    },
    {
      "cell_type": "code",
      "metadata": {
        "pycharm": {
          "name": "#%%\n"
        },
        "colab": {
          "base_uri": "https://localhost:8080/",
          "height": 404
        },
        "id": "1DY7QJZ1F8S-",
        "outputId": "599a0f16-fe68-4977-e9ae-432c745cff83"
      },
      "source": [
        "plt.figure(figsize=(20,10))\n",
        "sns.displot(preped[\"time[s]\"])"
      ],
      "execution_count": 13,
      "outputs": [
        {
          "output_type": "execute_result",
          "data": {
            "text/plain": [
              "<seaborn.axisgrid.FacetGrid at 0x7f627723e110>"
            ]
          },
          "metadata": {
            "tags": []
          },
          "execution_count": 13
        },
        {
          "output_type": "display_data",
          "data": {
            "text/plain": [
              "<Figure size 1440x720 with 0 Axes>"
            ]
          },
          "metadata": {
            "tags": []
          }
        },
        {
          "output_type": "display_data",
          "data": {
            "image/png": "[encoded data removed]",
            "text/plain": [
              "<Figure size 360x360 with 1 Axes>"
            ]
          },
          "metadata": {
            "tags": [],
            "needs_background": "light"
          }
        }
      ]
    },
    {
      "cell_type": "code",
      "metadata": {
        "pycharm": {
          "name": "#%%\n"
        },
        "colab": {
          "base_uri": "https://localhost:8080/",
          "height": 386
        },
        "id": "XzVfE6xCF8S_",
        "outputId": "b71618d9-ee73-470f-a72a-75493e5e6f41"
      },
      "source": [
        "#map purchase timestamp to days for distplot\n",
        "plt.figure(figsize=(20,10))\n",
        "sns.displot(preped[\"delivery_weekday\"])\n",
        "plt.show()\n",
        "# average time by day?\n",
        "# plt.figure(figsize=(20,10))\n",
        "# days = ['Monday' 'Sunday' 'Friday' 'Thursday' 'Tuesday' 'Saturday' 'Wednesday']\n",
        "# avg_time_by_day = [np.average(preped[preped[\"delivery_weekday\"]==day][\"time[s]\"]) for day in days]\n",
        "# sns.lineplot(x=days, y=avg_time_by_day)\n",
        "# plt.show()"
      ],
      "execution_count": 14,
      "outputs": [
        {
          "output_type": "display_data",
          "data": {
            "text/plain": [
              "<Figure size 1440x720 with 0 Axes>"
            ]
          },
          "metadata": {
            "tags": []
          }
        },
        {
          "output_type": "display_data",
          "data": {
            "image/png": "[encoded data removed]",
            "text/plain": [
              "<Figure size 360x360 with 1 Axes>"
            ]
          },
          "metadata": {
            "tags": [],
            "needs_background": "light"
          }
        }
      ]
    },
    {
      "cell_type": "markdown",
      "metadata": {
        "collapsed": false,
        "id": "SjFtRm9vF8S_"
      },
      "source": [
        "Paczki są dostarczane równomiernie w całym tygodniu. Jest to dziwne ze względu na dostarczanie paczek również w niedziele.\n",
        "Trzeba będzie te kwestie omówić z klientem.\n",
        "\n",
        "Wydaje się, że dodanie dnia tygodnia jak nowego atrybutu może być przydatne do regresji."
      ]
    },
    {
      "cell_type": "code",
      "metadata": {
        "pycharm": {
          "name": "#%%\n"
        },
        "colab": {
          "base_uri": "https://localhost:8080/",
          "height": 606
        },
        "id": "Q3apZ5kEF8S_",
        "outputId": "decb3d8d-f057-4643-afb6-a37c95d3541a"
      },
      "source": [
        "plt.figure(figsize=(20,10))\n",
        "sns.histplot(preped[\"time[h]\"])\n",
        "plt.show()"
      ],
      "execution_count": 15,
      "outputs": [
        {
          "output_type": "display_data",
          "data": {
            "image/png": "[encoded data removed]",
            "text/plain": [
              "<Figure size 1440x720 with 1 Axes>"
            ]
          },
          "metadata": {
            "tags": [],
            "needs_background": "light"
          }
        }
      ]
    },
    {
      "cell_type": "code",
      "metadata": {
        "pycharm": {
          "name": "#%%\n"
        },
        "colab": {
          "base_uri": "https://localhost:8080/",
          "height": 606
        },
        "id": "GYWvZaW6F8TA",
        "outputId": "51d40d14-f627-4a65-8bea-2208fe9ca7ed"
      },
      "source": [
        "plt.figure(figsize=(20,10))\n",
        "sns.histplot(preped[preped[\"time[h]\"] < 24][\"time[h]\"])\n",
        "plt.show()"
      ],
      "execution_count": 16,
      "outputs": [
        {
          "output_type": "display_data",
          "data": {
            "image/png": "[encoded data removed]",
            "text/plain": [
              "<Figure size 1440x720 with 1 Axes>"
            ]
          },
          "metadata": {
            "tags": [],
            "needs_background": "light"
          }
        }
      ]
    },
    {
      "cell_type": "markdown",
      "metadata": {
        "collapsed": false,
        "id": "SmIFjhkmF8TA"
      },
      "source": [
        "Na pierwszy rzut oka martwiące są czasy dostawy poniżej godziny, ale także te krótkie - 2 lub 3 - godzinne.\n",
        "Obecnym standardem w e-commerce jest dostawa przesyłki w ciągu 1-2 dni roboczych,\n",
        "czyli czas dostawy od mniej więcej 10 do 30-kilku godzin. Być może te krótkie dane są poprawne, jeśli firma realizuje\n",
        "dostawy ekspresowe (np. z usługą dostawy tego samego dnia) albo np. możliwość odbioru towaru z salonu, jeśli jest on w nim dostępny.\n",
        "\n",
        "Podejrzanie krótkie czasy dostawy (poniżej 5 godzin) zdecydowanie wymagają wyjaśnienia z przedstawicielem firmy.\n",
        "\n",
        "Warto jeszcze sprawdzić jak wygląda rozkład czasu dostawy w godzinach w podziale na poszczególne\n",
        "firmy kurierskie-być może okaże się, że krótkie dostawy są realizowane tylko przez jedną firmę,\n",
        "co wskazywałoby na prawidłowość hipotezy o możliwości wykupienia ekspresowej dostawy.\n",
        "\n",
        "Ponadto warto też przyjrzeć się godzinom, w jakich realizowana jest dostawa-jest szansa,\n",
        "że znajdziemy tam jakieś dostawy w nieprzyzwoicie nocnych godzinach.\n",
        "\n",
        "Dane nt. czasu dostawy wymagają dokładniejszego przyjrzenia się ich rozkładowi."
      ]
    },
    {
      "cell_type": "code",
      "metadata": {
        "pycharm": {
          "name": "#%%\n"
        },
        "colab": {
          "base_uri": "https://localhost:8080/",
          "height": 730
        },
        "id": "0iWgtrPcF8TB",
        "outputId": "fa50925e-ad73-4f0a-8032-a03118355cba"
      },
      "source": [
        "companies = preped[\"delivery_company\"].unique()\n",
        "dfs = {\n",
        "    \"unknown\": preped[preped['delivery_company'].isna()][\"time[h]\"],\n",
        "    \"360\": preped[preped['delivery_company']==360][\"time[h]\"],\n",
        "    \"516\": preped[preped['delivery_company']==516][\"time[h]\"],\n",
        "    \"620\": preped[preped['delivery_company']==620][\"time[h]\"]\n",
        "}\n",
        "\n",
        "fgs, axes = plt.subplots(2, 2, figsize=(12,12))\n",
        "axs = [axes[i][j] for i in [0,1] for j in [0,1]]\n",
        "i=0\n",
        "for key, df in dfs.items():\n",
        "  sns.histplot(data = df, binwidth=1, ax = axs[i])\n",
        "  axs[i].title.set_text(key)\n",
        "  i+=1\n",
        "plt.show()"
      ],
      "execution_count": 17,
      "outputs": [
        {
          "output_type": "display_data",
          "data": {
            "image/png": "[encoded data removed]",
            "text/plain": [
              "<Figure size 864x864 with 4 Axes>"
            ]
          },
          "metadata": {
            "tags": [],
            "needs_background": "light"
          }
        }
      ]
    },
    {
      "cell_type": "markdown",
      "metadata": {
        "collapsed": false,
        "id": "vDowa1gzF8TB"
      },
      "source": [
        "Nie wydaje się, żeby któraś z firm kurierskich dostarczała paczki znacznie szybciej od innych."
      ]
    },
    {
      "cell_type": "code",
      "metadata": {
        "pycharm": {
          "name": "#%%\n"
        },
        "colab": {
          "base_uri": "https://localhost:8080/"
        },
        "id": "By-WXU_lF8TB",
        "outputId": "63874ce7-446a-409a-8eda-682f4f597a7d"
      },
      "source": [
        "night_deliveries = pd.DataFrame({\"id\": preped[\"purchase_id\"].to_list()}, index=pd.DatetimeIndex(preped[\"delivery_timestamp\"])).between_time(\"22:00\", \"6:00\")\n",
        "print(len(night_deliveries))"
      ],
      "execution_count": 18,
      "outputs": [
        {
          "output_type": "stream",
          "text": [
            "1568\n"
          ],
          "name": "stdout"
        }
      ]
    },
    {
      "cell_type": "markdown",
      "metadata": {
        "collapsed": false,
        "id": "jLU2IwrmF8TC"
      },
      "source": [
        "Z danych wynika, że paczki są dostarczane nawet w nocy. Jest to bardzo mało prawdopobone i musi być omówione z klientem."
      ]
    },
    {
      "cell_type": "code",
      "metadata": {
        "pycharm": {
          "name": "#%%\n"
        },
        "colab": {
          "base_uri": "https://localhost:8080/"
        },
        "id": "E5z-C6OdF8TC",
        "outputId": "50040726-a325-45a5-9369-e9656389c0d8"
      },
      "source": [
        "users_v1[\"city\"].unique().tolist()\n"
      ],
      "execution_count": 19,
      "outputs": [
        {
          "output_type": "execute_result",
          "data": {
            "text/plain": [
              "['Konin',\n",
              " 'Kutno',\n",
              " 'Radom',\n",
              " 'Police',\n",
              " 'Szczecin',\n",
              " 'Warszawa',\n",
              " 'Gdynia',\n",
              " 'Mielec']"
            ]
          },
          "metadata": {
            "tags": []
          },
          "execution_count": 19
        }
      ]
    },
    {
      "cell_type": "markdown",
      "metadata": {
        "collapsed": false,
        "id": "BZVQiREXF8TD"
      },
      "source": [
        "Paczki są dostarczane do miast w różnych rejonach Polski. Bardzo małe czasy dostawy w takiej sytuacji muszą wynikać z\n",
        "błędu lub paczki są wysyłane z wielu miejsc."
      ]
    },
    {
      "cell_type": "markdown",
      "metadata": {
        "collapsed": false,
        "id": "qU14SGxXF8TD"
      },
      "source": [
        "### Sprawdzenie dostępnych kategorii produktów"
      ]
    },
    {
      "cell_type": "code",
      "metadata": {
        "pycharm": {
          "name": "#%%\n"
        },
        "colab": {
          "base_uri": "https://localhost:8080/"
        },
        "id": "B5HLuO-1F8TD",
        "outputId": "ad8ebc60-bb3e-4886-ea01-9461e108c6e3"
      },
      "source": [
        "categories = set()\n",
        "for value in products_v1[\"category_path\"]:\n",
        "  categories.update(value.split(\";\"))\n",
        "categories"
      ],
      "execution_count": 20,
      "outputs": [
        {
          "output_type": "execute_result",
          "data": {
            "text/plain": [
              "{'Akcesoria telefoniczne',\n",
              " 'Anteny RTV',\n",
              " 'Audio',\n",
              " 'Biurowe urządzenia wielofunkcyjne',\n",
              " 'Drukarki i skanery',\n",
              " 'Gry PlayStation3',\n",
              " 'Gry Xbox 360',\n",
              " 'Gry i konsole',\n",
              " 'Gry komputerowe',\n",
              " 'Gry na konsole',\n",
              " 'Komputery',\n",
              " 'Monitory',\n",
              " 'Monitory LCD',\n",
              " 'Odtwarzacze DVD',\n",
              " 'Odtwarzacze mp3 i mp4',\n",
              " 'Okulary 3D',\n",
              " 'Przenośne audio i video',\n",
              " 'Sprzęt RTV',\n",
              " 'Słuchawki',\n",
              " 'Tablety',\n",
              " 'Tablety i akcesoria',\n",
              " 'Telefony i akcesoria',\n",
              " 'Telefony komórkowe',\n",
              " 'Telefony stacjonarne',\n",
              " 'Telewizory i akcesoria',\n",
              " 'Video',\n",
              " 'Zestawy głośnomówiące',\n",
              " 'Zestawy słuchawkowe'}"
            ]
          },
          "metadata": {
            "tags": []
          },
          "execution_count": 20
        }
      ]
    },
    {
      "cell_type": "markdown",
      "metadata": {
        "collapsed": false,
        "id": "H-bOhbSMF8TE"
      },
      "source": [
        "Po przyjrzeniu się kategoriom można zauważyć, że gabaryty sprzedawanych przedmiotów nie będą się bardzo różnić-\n",
        "choć transport monitorów LCD i słuchawek jest różny, to raczej nie dość różny, by wpłynąć na czas dostawy.\n",
        "Mimo to można dodać kolumnę dzielącą przedmioty na większe np. Drukarki i skaner, Komputery, Monitory i Monitory LCD\n",
        "jako urządzenia „duże\", a telefony komórkowe, zestawy słuchawkowe i gry na konsole jako „małe\"."
      ]
    },
    {
      "cell_type": "markdown",
      "metadata": {
        "collapsed": false,
        "id": "-P97cXn0F8TE"
      },
      "source": [
        "### Wnioski\n",
        "\n",
        "Dane, które wydają się mieć znaczenie, nie wyglądają najlepiej. Kontakt z klientem i wyjaśnienie podstawowych kwestii będzie kluczowe.\n",
        "\n",
        "Po wstępnym obejrzeniu danych, z klientem należy ustalić następujące szczegóły:\n",
        "- miejsce wysyłki paczek i jego adres\n",
        "- trasa paczki\n",
        "- dostępność produktów w sklepie\n",
        "\n",
        "Wszystkie te kwestie mogą wpłynąć na czas dostawy.\n",
        "\n",
        "Ważną kwestią będzie także zapytanie o uzupełnienie brakujących danych - dane o czasie dostawy są dla nas kluczowe\n",
        "oraz o błędne dane - krótkie czasy dostawy, ujemne czasy dostawy, dostawy w nocy."
      ]
    },
    {
      "cell_type": "markdown",
      "metadata": {
        "collapsed": false,
        "pycharm": {
          "name": "#%% md\n"
        },
        "id": "HtzyJA3kH3ON"
      },
      "source": [
        "## Analiza pierwszej aktualizacji zbioru danych\n",
        "\n",
        "- odpowiedzi od klienta/krotki opis aktualizacji danych\n",
        "\n",
        "- sprawdzenie czy poprawiono poprzednie problemy\n",
        "\n",
        "- sprawdzenie czy istnieja elementy odstajace\n",
        "\n",
        "- sprawdzenie rozkladow?\n",
        "\n",
        "- tutaj wnioski\n",
        "\n",
        "- tutaj pytania ktore trzeba zadac do klienta\n",
        "\n",
        "- heatmap\n",
        "\n",
        "- sprawdzenie powiazania wszystkiego ze zmienna celu?????????????????????????????????????????????????\n",
        "\n",
        "- typ i wartosci wybranych atrybutow\n",
        "\n",
        "- ustalenie wejscia do modelu ?\n",
        "\n",
        "- sprawdzenie powiazania wejscia ze zmienna celu ?"
      ]
    },
    {
      "cell_type": "markdown",
      "metadata": {
        "collapsed": false,
        "id": "uT7MhQz_F8TF"
      },
      "source": [
        "### Opis informacji od klienta\n",
        "\n",
        "Od klienta dowiedzieliśmy się, że istnieje jeden centralny magazyn ( nie ma jego adresu ), nie istnieją żadne miejsca\n",
        "na ścieżce produktu do klienta, nie istnieje żaden czas oczekiwania na wysłanie, można kupic produkty tylko dostępne.\n",
        "\n",
        "Dostaliśmy takę aktualizację danych po przedstawieniu problemów jakie w nich znaleźliśmy."
      ]
    },
    {
      "cell_type": "code",
      "metadata": {
        "pycharm": {
          "name": "#%%\n"
        },
        "id": "MbQlDOIgF8TG"
      },
      "source": [
        "deliveries_v2 = pd.read_json(deliveries_v2_path, lines=True)\n",
        "sessions_v2 = pd.read_json(sessions_v2_path, lines=True)\n",
        "users_v2 = pd.read_json(users_v2_path, lines=True)\n",
        "products_v2 = pd.read_json(products_v2_path, lines=True)\n",
        "\n",
        "data_v2 = {\"products\": products_v2, \"sessions\": sessions_v2, \"users\": users_v2, \"deliveries\":deliveries_v2}"
      ],
      "execution_count": 21,
      "outputs": []
    },
    {
      "cell_type": "markdown",
      "metadata": {
        "collapsed": false,
        "pycharm": {
          "name": "#%% md\n"
        },
        "id": "5SCDJ4W-F8TG"
      },
      "source": [
        "##### Lączenie tabel w jedną tabele"
      ]
    },
    {
      "cell_type": "code",
      "metadata": {
        "pycharm": {
          "name": "#%%\n"
        },
        "colab": {
          "base_uri": "https://localhost:8080/"
        },
        "id": "11dakgCfF8TH",
        "outputId": "f5134f6d-a08f-42cc-f880-36a6114cf2fc"
      },
      "source": [
        "sessions_purchases = sessions_v2[sessions_v2[\"purchase_id\"].notnull()].copy()\n",
        "print(sessions_purchases.shape, sessions_v2.shape)"
      ],
      "execution_count": 22,
      "outputs": [
        {
          "output_type": "stream",
          "text": [
            "(7812, 7) (42883, 7)\n"
          ],
          "name": "stdout"
        }
      ]
    },
    {
      "cell_type": "code",
      "metadata": {
        "pycharm": {
          "name": "#%%\n"
        },
        "colab": {
          "base_uri": "https://localhost:8080/",
          "height": 521
        },
        "id": "yqq0bZ4SF8TI",
        "outputId": "0279d4be-7f9a-4989-dd7f-9556d25df733"
      },
      "source": [
        "merged = pd.merge(sessions_purchases, deliveries_v2, on='purchase_id', how = \"outer\")\n",
        "print(deliveries_v2.shape, sessions_purchases.shape, merged.shape) #sanity check\n",
        "\n",
        "print(merged.isnull().sum())\n",
        "merged.head()"
      ],
      "execution_count": 23,
      "outputs": [
        {
          "output_type": "stream",
          "text": [
            "(7812, 4) (7812, 7) (7812, 10)\n",
            "session_id              0\n",
            "timestamp               0\n",
            "user_id               402\n",
            "product_id            384\n",
            "event_type              0\n",
            "offered_discount        0\n",
            "purchase_id             0\n",
            "purchase_timestamp      0\n",
            "delivery_timestamp      0\n",
            "delivery_company        0\n",
            "dtype: int64\n"
          ],
          "name": "stdout"
        },
        {
          "output_type": "execute_result",
          "data": {
            "text/html": [
              "<div>\n",
              "<style scoped>\n",
              "    .dataframe tbody tr th:only-of-type {\n",
              "        vertical-align: middle;\n",
              "    }\n",
              "\n",
              "    .dataframe tbody tr th {\n",
              "        vertical-align: top;\n",
              "    }\n",
              "\n",
              "    .dataframe thead th {\n",
              "        text-align: right;\n",
              "    }\n",
              "</style>\n",
              "<table border=\"1\" class=\"dataframe\">\n",
              "  <thead>\n",
              "    <tr style=\"text-align: right;\">\n",
              "      <th></th>\n",
              "      <th>session_id</th>\n",
              "      <th>timestamp</th>\n",
              "      <th>user_id</th>\n",
              "      <th>product_id</th>\n",
              "      <th>event_type</th>\n",
              "      <th>offered_discount</th>\n",
              "      <th>purchase_id</th>\n",
              "      <th>purchase_timestamp</th>\n",
              "      <th>delivery_timestamp</th>\n",
              "      <th>delivery_company</th>\n",
              "    </tr>\n",
              "  </thead>\n",
              "  <tbody>\n",
              "    <tr>\n",
              "      <th>0</th>\n",
              "      <td>100002</td>\n",
              "      <td>2021-04-01 15:52:47</td>\n",
              "      <td>102.0</td>\n",
              "      <td>1234.0</td>\n",
              "      <td>BUY_PRODUCT</td>\n",
              "      <td>0</td>\n",
              "      <td>20001.0</td>\n",
              "      <td>2021-04-01T15:52:47</td>\n",
              "      <td>2021-04-02T14:06:34.432964</td>\n",
              "      <td>620</td>\n",
              "    </tr>\n",
              "    <tr>\n",
              "      <th>1</th>\n",
              "      <td>100003</td>\n",
              "      <td>2021-04-01 02:26:23</td>\n",
              "      <td>102.0</td>\n",
              "      <td>1289.0</td>\n",
              "      <td>BUY_PRODUCT</td>\n",
              "      <td>15</td>\n",
              "      <td>20002.0</td>\n",
              "      <td>2021-04-01T02:26:23</td>\n",
              "      <td>2021-04-02T10:45:27.707128</td>\n",
              "      <td>360</td>\n",
              "    </tr>\n",
              "    <tr>\n",
              "      <th>2</th>\n",
              "      <td>100004</td>\n",
              "      <td>2021-01-03 05:11:17</td>\n",
              "      <td>102.0</td>\n",
              "      <td>1009.0</td>\n",
              "      <td>BUY_PRODUCT</td>\n",
              "      <td>0</td>\n",
              "      <td>20003.0</td>\n",
              "      <td>2021-01-03T05:11:17</td>\n",
              "      <td>2021-01-04T15:43:07.635371</td>\n",
              "      <td>620</td>\n",
              "    </tr>\n",
              "    <tr>\n",
              "      <th>3</th>\n",
              "      <td>100005</td>\n",
              "      <td>2021-02-17 12:59:54</td>\n",
              "      <td>NaN</td>\n",
              "      <td>1001.0</td>\n",
              "      <td>BUY_PRODUCT</td>\n",
              "      <td>5</td>\n",
              "      <td>20004.0</td>\n",
              "      <td>2021-02-17T12:59:54</td>\n",
              "      <td>2021-02-18T11:52:42.608746</td>\n",
              "      <td>620</td>\n",
              "    </tr>\n",
              "    <tr>\n",
              "      <th>4</th>\n",
              "      <td>100006</td>\n",
              "      <td>2021-02-13 09:17:52</td>\n",
              "      <td>102.0</td>\n",
              "      <td>1057.0</td>\n",
              "      <td>BUY_PRODUCT</td>\n",
              "      <td>5</td>\n",
              "      <td>20005.0</td>\n",
              "      <td>2021-02-13T09:17:52</td>\n",
              "      <td>2021-02-15T08:59:28.973167</td>\n",
              "      <td>620</td>\n",
              "    </tr>\n",
              "  </tbody>\n",
              "</table>\n",
              "</div>"
            ],
            "text/plain": [
              "   session_id           timestamp  ...          delivery_timestamp  delivery_company\n",
              "0      100002 2021-04-01 15:52:47  ...  2021-04-02T14:06:34.432964               620\n",
              "1      100003 2021-04-01 02:26:23  ...  2021-04-02T10:45:27.707128               360\n",
              "2      100004 2021-01-03 05:11:17  ...  2021-01-04T15:43:07.635371               620\n",
              "3      100005 2021-02-17 12:59:54  ...  2021-02-18T11:52:42.608746               620\n",
              "4      100006 2021-02-13 09:17:52  ...  2021-02-15T08:59:28.973167               620\n",
              "\n",
              "[5 rows x 10 columns]"
            ]
          },
          "metadata": {
            "tags": []
          },
          "execution_count": 23
        }
      ]
    },
    {
      "cell_type": "code",
      "metadata": {
        "pycharm": {
          "name": "#%%\n"
        },
        "colab": {
          "base_uri": "https://localhost:8080/",
          "height": 660
        },
        "id": "8-12WNnAF8TJ",
        "outputId": "3b2d634c-38fe-4a02-c6d6-4062a30acebc"
      },
      "source": [
        "merged2 = pd.merge(merged, users_v2, on=\"user_id\", how = \"outer\")\n",
        "print(merged.shape, users_v2.shape, merged2.shape)\n",
        "print(merged2.isnull().sum())\n",
        "merged2.head()"
      ],
      "execution_count": 24,
      "outputs": [
        {
          "output_type": "stream",
          "text": [
            "(7812, 10) (200, 4) (7812, 13)\n",
            "session_id              0\n",
            "timestamp               0\n",
            "user_id               402\n",
            "product_id            384\n",
            "event_type              0\n",
            "offered_discount        0\n",
            "purchase_id             0\n",
            "purchase_timestamp      0\n",
            "delivery_timestamp      0\n",
            "delivery_company        0\n",
            "name                  402\n",
            "city                  402\n",
            "street                402\n",
            "dtype: int64\n"
          ],
          "name": "stdout"
        },
        {
          "output_type": "execute_result",
          "data": {
            "text/html": [
              "<div>\n",
              "<style scoped>\n",
              "    .dataframe tbody tr th:only-of-type {\n",
              "        vertical-align: middle;\n",
              "    }\n",
              "\n",
              "    .dataframe tbody tr th {\n",
              "        vertical-align: top;\n",
              "    }\n",
              "\n",
              "    .dataframe thead th {\n",
              "        text-align: right;\n",
              "    }\n",
              "</style>\n",
              "<table border=\"1\" class=\"dataframe\">\n",
              "  <thead>\n",
              "    <tr style=\"text-align: right;\">\n",
              "      <th></th>\n",
              "      <th>session_id</th>\n",
              "      <th>timestamp</th>\n",
              "      <th>user_id</th>\n",
              "      <th>product_id</th>\n",
              "      <th>event_type</th>\n",
              "      <th>offered_discount</th>\n",
              "      <th>purchase_id</th>\n",
              "      <th>purchase_timestamp</th>\n",
              "      <th>delivery_timestamp</th>\n",
              "      <th>delivery_company</th>\n",
              "      <th>name</th>\n",
              "      <th>city</th>\n",
              "      <th>street</th>\n",
              "    </tr>\n",
              "  </thead>\n",
              "  <tbody>\n",
              "    <tr>\n",
              "      <th>0</th>\n",
              "      <td>100002</td>\n",
              "      <td>2021-04-01 15:52:47</td>\n",
              "      <td>102.0</td>\n",
              "      <td>1234.0</td>\n",
              "      <td>BUY_PRODUCT</td>\n",
              "      <td>0</td>\n",
              "      <td>20001.0</td>\n",
              "      <td>2021-04-01T15:52:47</td>\n",
              "      <td>2021-04-02T14:06:34.432964</td>\n",
              "      <td>620</td>\n",
              "      <td>Aurelia Malon</td>\n",
              "      <td>Police</td>\n",
              "      <td>pl. Brzoskwiniowa 11/53</td>\n",
              "    </tr>\n",
              "    <tr>\n",
              "      <th>1</th>\n",
              "      <td>100003</td>\n",
              "      <td>2021-04-01 02:26:23</td>\n",
              "      <td>102.0</td>\n",
              "      <td>1289.0</td>\n",
              "      <td>BUY_PRODUCT</td>\n",
              "      <td>15</td>\n",
              "      <td>20002.0</td>\n",
              "      <td>2021-04-01T02:26:23</td>\n",
              "      <td>2021-04-02T10:45:27.707128</td>\n",
              "      <td>360</td>\n",
              "      <td>Aurelia Malon</td>\n",
              "      <td>Police</td>\n",
              "      <td>pl. Brzoskwiniowa 11/53</td>\n",
              "    </tr>\n",
              "    <tr>\n",
              "      <th>2</th>\n",
              "      <td>100004</td>\n",
              "      <td>2021-01-03 05:11:17</td>\n",
              "      <td>102.0</td>\n",
              "      <td>1009.0</td>\n",
              "      <td>BUY_PRODUCT</td>\n",
              "      <td>0</td>\n",
              "      <td>20003.0</td>\n",
              "      <td>2021-01-03T05:11:17</td>\n",
              "      <td>2021-01-04T15:43:07.635371</td>\n",
              "      <td>620</td>\n",
              "      <td>Aurelia Malon</td>\n",
              "      <td>Police</td>\n",
              "      <td>pl. Brzoskwiniowa 11/53</td>\n",
              "    </tr>\n",
              "    <tr>\n",
              "      <th>3</th>\n",
              "      <td>100006</td>\n",
              "      <td>2021-02-13 09:17:52</td>\n",
              "      <td>102.0</td>\n",
              "      <td>1057.0</td>\n",
              "      <td>BUY_PRODUCT</td>\n",
              "      <td>5</td>\n",
              "      <td>20005.0</td>\n",
              "      <td>2021-02-13T09:17:52</td>\n",
              "      <td>2021-02-15T08:59:28.973167</td>\n",
              "      <td>620</td>\n",
              "      <td>Aurelia Malon</td>\n",
              "      <td>Police</td>\n",
              "      <td>pl. Brzoskwiniowa 11/53</td>\n",
              "    </tr>\n",
              "    <tr>\n",
              "      <th>4</th>\n",
              "      <td>100007</td>\n",
              "      <td>2021-01-15 15:42:34</td>\n",
              "      <td>102.0</td>\n",
              "      <td>1072.0</td>\n",
              "      <td>BUY_PRODUCT</td>\n",
              "      <td>0</td>\n",
              "      <td>20006.0</td>\n",
              "      <td>2021-01-15T15:42:34</td>\n",
              "      <td>2021-01-16T18:09:23.624555</td>\n",
              "      <td>516</td>\n",
              "      <td>Aurelia Malon</td>\n",
              "      <td>Police</td>\n",
              "      <td>pl. Brzoskwiniowa 11/53</td>\n",
              "    </tr>\n",
              "  </tbody>\n",
              "</table>\n",
              "</div>"
            ],
            "text/plain": [
              "   session_id           timestamp  ...    city                   street\n",
              "0      100002 2021-04-01 15:52:47  ...  Police  pl. Brzoskwiniowa 11/53\n",
              "1      100003 2021-04-01 02:26:23  ...  Police  pl. Brzoskwiniowa 11/53\n",
              "2      100004 2021-01-03 05:11:17  ...  Police  pl. Brzoskwiniowa 11/53\n",
              "3      100006 2021-02-13 09:17:52  ...  Police  pl. Brzoskwiniowa 11/53\n",
              "4      100007 2021-01-15 15:42:34  ...  Police  pl. Brzoskwiniowa 11/53\n",
              "\n",
              "[5 rows x 13 columns]"
            ]
          },
          "metadata": {
            "tags": []
          },
          "execution_count": 24
        }
      ]
    },
    {
      "cell_type": "code",
      "metadata": {
        "pycharm": {
          "name": "#%%\n"
        },
        "colab": {
          "base_uri": "https://localhost:8080/",
          "height": 712
        },
        "id": "VYpVc3dDF8TK",
        "outputId": "ba918ed9-17f8-4c65-eea8-0af4a314c1d4"
      },
      "source": [
        "merged_full = pd.merge(merged2, products_v2, on=\"product_id\", how = \"left\")\n",
        "print(merged2.shape, users_v2.shape, merged_full.shape)\n",
        "print(merged_full.isnull().sum())\n",
        "merged_full.head()"
      ],
      "execution_count": 25,
      "outputs": [
        {
          "output_type": "stream",
          "text": [
            "(7812, 13) (200, 4) (7812, 16)\n",
            "session_id              0\n",
            "timestamp               0\n",
            "user_id               402\n",
            "product_id            384\n",
            "event_type              0\n",
            "offered_discount        0\n",
            "purchase_id             0\n",
            "purchase_timestamp      0\n",
            "delivery_timestamp      0\n",
            "delivery_company        0\n",
            "name                  402\n",
            "city                  402\n",
            "street                402\n",
            "product_name          384\n",
            "category_path         384\n",
            "price                 384\n",
            "dtype: int64\n"
          ],
          "name": "stdout"
        },
        {
          "output_type": "execute_result",
          "data": {
            "text/html": [
              "<div>\n",
              "<style scoped>\n",
              "    .dataframe tbody tr th:only-of-type {\n",
              "        vertical-align: middle;\n",
              "    }\n",
              "\n",
              "    .dataframe tbody tr th {\n",
              "        vertical-align: top;\n",
              "    }\n",
              "\n",
              "    .dataframe thead th {\n",
              "        text-align: right;\n",
              "    }\n",
              "</style>\n",
              "<table border=\"1\" class=\"dataframe\">\n",
              "  <thead>\n",
              "    <tr style=\"text-align: right;\">\n",
              "      <th></th>\n",
              "      <th>session_id</th>\n",
              "      <th>timestamp</th>\n",
              "      <th>user_id</th>\n",
              "      <th>product_id</th>\n",
              "      <th>event_type</th>\n",
              "      <th>offered_discount</th>\n",
              "      <th>purchase_id</th>\n",
              "      <th>purchase_timestamp</th>\n",
              "      <th>delivery_timestamp</th>\n",
              "      <th>delivery_company</th>\n",
              "      <th>name</th>\n",
              "      <th>city</th>\n",
              "      <th>street</th>\n",
              "      <th>product_name</th>\n",
              "      <th>category_path</th>\n",
              "      <th>price</th>\n",
              "    </tr>\n",
              "  </thead>\n",
              "  <tbody>\n",
              "    <tr>\n",
              "      <th>0</th>\n",
              "      <td>100002</td>\n",
              "      <td>2021-04-01 15:52:47</td>\n",
              "      <td>102.0</td>\n",
              "      <td>1234.0</td>\n",
              "      <td>BUY_PRODUCT</td>\n",
              "      <td>0</td>\n",
              "      <td>20001.0</td>\n",
              "      <td>2021-04-01T15:52:47</td>\n",
              "      <td>2021-04-02T14:06:34.432964</td>\n",
              "      <td>620</td>\n",
              "      <td>Aurelia Malon</td>\n",
              "      <td>Police</td>\n",
              "      <td>pl. Brzoskwiniowa 11/53</td>\n",
              "      <td>Sony DVP-SR760</td>\n",
              "      <td>Sprzęt RTV;Video;Odtwarzacze DVD</td>\n",
              "      <td>193.00</td>\n",
              "    </tr>\n",
              "    <tr>\n",
              "      <th>1</th>\n",
              "      <td>100003</td>\n",
              "      <td>2021-04-01 02:26:23</td>\n",
              "      <td>102.0</td>\n",
              "      <td>1289.0</td>\n",
              "      <td>BUY_PRODUCT</td>\n",
              "      <td>15</td>\n",
              "      <td>20002.0</td>\n",
              "      <td>2021-04-01T02:26:23</td>\n",
              "      <td>2021-04-02T10:45:27.707128</td>\n",
              "      <td>360</td>\n",
              "      <td>Aurelia Malon</td>\n",
              "      <td>Police</td>\n",
              "      <td>pl. Brzoskwiniowa 11/53</td>\n",
              "      <td>Philips SDV5225</td>\n",
              "      <td>Sprzęt RTV;Video;Telewizory i akcesoria;Anteny...</td>\n",
              "      <td>129.00</td>\n",
              "    </tr>\n",
              "    <tr>\n",
              "      <th>2</th>\n",
              "      <td>100004</td>\n",
              "      <td>2021-01-03 05:11:17</td>\n",
              "      <td>102.0</td>\n",
              "      <td>1009.0</td>\n",
              "      <td>BUY_PRODUCT</td>\n",
              "      <td>0</td>\n",
              "      <td>20003.0</td>\n",
              "      <td>2021-01-03T05:11:17</td>\n",
              "      <td>2021-01-04T15:43:07.635371</td>\n",
              "      <td>620</td>\n",
              "      <td>Aurelia Malon</td>\n",
              "      <td>Police</td>\n",
              "      <td>pl. Brzoskwiniowa 11/53</td>\n",
              "      <td>Kinect Joy Ride (Xbox 360)</td>\n",
              "      <td>Gry i konsole;Gry na konsole;Gry Xbox 360</td>\n",
              "      <td>69000000.00</td>\n",
              "    </tr>\n",
              "    <tr>\n",
              "      <th>3</th>\n",
              "      <td>100006</td>\n",
              "      <td>2021-02-13 09:17:52</td>\n",
              "      <td>102.0</td>\n",
              "      <td>1057.0</td>\n",
              "      <td>BUY_PRODUCT</td>\n",
              "      <td>5</td>\n",
              "      <td>20005.0</td>\n",
              "      <td>2021-02-13T09:17:52</td>\n",
              "      <td>2021-02-15T08:59:28.973167</td>\n",
              "      <td>620</td>\n",
              "      <td>Aurelia Malon</td>\n",
              "      <td>Police</td>\n",
              "      <td>pl. Brzoskwiniowa 11/53</td>\n",
              "      <td>Doom 3 (PC)</td>\n",
              "      <td>Gry i konsole;Gry komputerowe</td>\n",
              "      <td>19.99</td>\n",
              "    </tr>\n",
              "    <tr>\n",
              "      <th>4</th>\n",
              "      <td>100007</td>\n",
              "      <td>2021-01-15 15:42:34</td>\n",
              "      <td>102.0</td>\n",
              "      <td>1072.0</td>\n",
              "      <td>BUY_PRODUCT</td>\n",
              "      <td>0</td>\n",
              "      <td>20006.0</td>\n",
              "      <td>2021-01-15T15:42:34</td>\n",
              "      <td>2021-01-16T18:09:23.624555</td>\n",
              "      <td>516</td>\n",
              "      <td>Aurelia Malon</td>\n",
              "      <td>Police</td>\n",
              "      <td>pl. Brzoskwiniowa 11/53</td>\n",
              "      <td>Jabra Freeway</td>\n",
              "      <td>Telefony i akcesoria;Akcesoria telefoniczne;Ze...</td>\n",
              "      <td>299.00</td>\n",
              "    </tr>\n",
              "  </tbody>\n",
              "</table>\n",
              "</div>"
            ],
            "text/plain": [
              "   session_id  ...        price\n",
              "0      100002  ...       193.00\n",
              "1      100003  ...       129.00\n",
              "2      100004  ...  69000000.00\n",
              "3      100006  ...        19.99\n",
              "4      100007  ...       299.00\n",
              "\n",
              "[5 rows x 16 columns]"
            ]
          },
          "metadata": {
            "tags": []
          },
          "execution_count": 25
        }
      ]
    },
    {
      "cell_type": "markdown",
      "metadata": {
        "collapsed": false,
        "id": "vJsW3l46F8TK"
      },
      "source": [
        "Po połączeniu wszystkich dostępnych danych w jedną megatabelę widać, że do 402 dostaw brakuje kluczowych informacji o adresie dostawy (wynika to z braków w tabeli sessions, gdzie w miejscu id użytkownika była wartość pusta). To dość niewiele rekordów w porównaniu z całym rozmiarem zbioru danych, więc jeśli nie będzie dało się ich uzupełnić to będzie można po prostu zrezygnować z tych wierszy i nie wykorzystywać ich do predykcji. \n"
      ]
    },
    {
      "cell_type": "markdown",
      "metadata": {
        "collapsed": false,
        "id": "NrymN5rKF8TL"
      },
      "source": [
        "### Sprawdzenie poprzednich problemów"
      ]
    },
    {
      "cell_type": "markdown",
      "metadata": {
        "collapsed": false,
        "id": "0sx6cIdbF8TL"
      },
      "source": [
        "#### Braki danych"
      ]
    },
    {
      "cell_type": "code",
      "metadata": {
        "pycharm": {
          "name": "#%%\n"
        },
        "colab": {
          "base_uri": "https://localhost:8080/"
        },
        "id": "giTVOIZcF8TM",
        "outputId": "ab2430be-c902-438b-d68e-efc5a335d1ce"
      },
      "source": [
        "for key, value in data_v1.items():\n",
        "  print(key, \":\\n\", value.isnull().sum(), \"\\n\")"
      ],
      "execution_count": 26,
      "outputs": [
        {
          "output_type": "stream",
          "text": [
            "products :\n",
            " product_id       0\n",
            "product_name     0\n",
            "category_path    0\n",
            "price            0\n",
            "dtype: int64 \n",
            "\n",
            "sessions :\n",
            " session_id              0\n",
            "timestamp               0\n",
            "user_id              1915\n",
            "product_id           1913\n",
            "event_type              0\n",
            "offered_discount        0\n",
            "purchase_id         30697\n",
            "dtype: int64 \n",
            "\n",
            "users :\n",
            " user_id    0\n",
            "name       0\n",
            "city       0\n",
            "street     0\n",
            "dtype: int64 \n",
            "\n",
            "deliveries :\n",
            " purchase_id             0\n",
            "purchase_timestamp      0\n",
            "delivery_timestamp    333\n",
            "delivery_company      329\n",
            "time_difference       333\n",
            "dtype: int64 \n",
            "\n"
          ],
          "name": "stdout"
        }
      ]
    },
    {
      "cell_type": "code",
      "metadata": {
        "pycharm": {
          "name": "#%%\n"
        },
        "colab": {
          "base_uri": "https://localhost:8080/"
        },
        "id": "ULVlRFhTF8TM",
        "outputId": "9b525a01-e01b-402b-bb7c-2a96023aea04"
      },
      "source": [
        "for key, value in data_v2.items():\n",
        "  print(key, \":\\n\", value.isnull().sum(), \"\\n\")\n"
      ],
      "execution_count": 27,
      "outputs": [
        {
          "output_type": "stream",
          "text": [
            "products :\n",
            " product_id       0\n",
            "product_name     0\n",
            "category_path    0\n",
            "price            0\n",
            "dtype: int64 \n",
            "\n",
            "sessions :\n",
            " session_id              0\n",
            "timestamp               0\n",
            "user_id              2174\n",
            "product_id           2101\n",
            "event_type              0\n",
            "offered_discount        0\n",
            "purchase_id         35071\n",
            "dtype: int64 \n",
            "\n",
            "users :\n",
            " user_id    0\n",
            "name       0\n",
            "city       0\n",
            "street     0\n",
            "dtype: int64 \n",
            "\n",
            "deliveries :\n",
            " purchase_id           0\n",
            "purchase_timestamp    0\n",
            "delivery_timestamp    0\n",
            "delivery_company      0\n",
            "dtype: int64 \n",
            "\n"
          ],
          "name": "stdout"
        }
      ]
    },
    {
      "cell_type": "markdown",
      "metadata": {
        "collapsed": false,
        "id": "571QLsHqF8TN"
      },
      "source": [
        "Braki w kluczowej tabeli \"deliveries\" zostały uzupełnione. Zwiększyła się liczba braków w tabeli „sessions\", ale\n",
        "nie powinno być to dla nas problemem. Te dane wydają się mało istotne dla naszego problemu."
      ]
    },
    {
      "cell_type": "markdown",
      "metadata": {
        "collapsed": false,
        "pycharm": {
          "name": "#%% md\n"
        },
        "id": "1RQton9XF8TO"
      },
      "source": [
        "#### Błędy danych"
      ]
    },
    {
      "cell_type": "code",
      "metadata": {
        "pycharm": {
          "name": "#%%\n"
        },
        "id": "oduvMZrsF8TO"
      },
      "source": [
        "deliveries_v2[\"purchase_timestamp\"] = pd.to_datetime ( deliveries_v2[\"purchase_timestamp\"], format='%Y-%m-%dT%H:%M', errors=\"coerce\")\n",
        "deliveries_v2['delivery_timestamp'] = pd.to_datetime ( deliveries_v2[\"delivery_timestamp\"], format='%Y-%m-%dT%H:%M:%S', errors=\"coerce\")\n",
        "deliveries_v2[\"time_difference\"] = deliveries_v2[\"delivery_timestamp\"] - deliveries_v2[\"purchase_timestamp\"]"
      ],
      "execution_count": 28,
      "outputs": []
    },
    {
      "cell_type": "markdown",
      "metadata": {
        "collapsed": false,
        "pycharm": {
          "name": "#%% md\n"
        },
        "id": "NHIzgSxdF8TO"
      },
      "source": [
        "##### Ujemne czasy dostawy"
      ]
    },
    {
      "cell_type": "code",
      "metadata": {
        "pycharm": {
          "name": "#%%\n"
        },
        "colab": {
          "base_uri": "https://localhost:8080/"
        },
        "id": "aZZzIvDUF8TO",
        "outputId": "c42bbb0b-e834-4c49-f7d9-f983986c12c4"
      },
      "source": [
        "len(deliveries_v2[deliveries_v2[\"purchase_timestamp\"] > deliveries_v2[\"delivery_timestamp\"]])"
      ],
      "execution_count": 29,
      "outputs": [
        {
          "output_type": "execute_result",
          "data": {
            "text/plain": [
              "0"
            ]
          },
          "metadata": {
            "tags": []
          },
          "execution_count": 29
        }
      ]
    },
    {
      "cell_type": "markdown",
      "metadata": {
        "collapsed": false,
        "id": "r_UoQsI1F8TP"
      },
      "source": [
        "Na szczęście dane ze złym czasem dostawy zostały poprawione."
      ]
    },
    {
      "cell_type": "markdown",
      "metadata": {
        "collapsed": false,
        "id": "rRAqcCrLF8TP"
      },
      "source": [
        "##### Nocne dostawy"
      ]
    },
    {
      "cell_type": "code",
      "metadata": {
        "pycharm": {
          "name": "#%%\n"
        },
        "colab": {
          "base_uri": "https://localhost:8080/"
        },
        "id": "szwUTSEFF8TP",
        "outputId": "1290348a-3a6f-4657-91a8-5a7ffb02511e"
      },
      "source": [
        "night_deliveries = pd.DataFrame({\"id\": deliveries_v2[\"purchase_id\"].to_list()}, index=pd.DatetimeIndex(deliveries_v2[\"delivery_timestamp\"])).between_time(\"22:00\", \"6:00\")\n",
        "print(len(night_deliveries))\n"
      ],
      "execution_count": 30,
      "outputs": [
        {
          "output_type": "stream",
          "text": [
            "0\n"
          ],
          "name": "stdout"
        }
      ]
    },
    {
      "cell_type": "markdown",
      "metadata": {
        "collapsed": false,
        "id": "IrRQTDX8F8TQ"
      },
      "source": [
        "Dostawy w nocy już nie występują."
      ]
    },
    {
      "cell_type": "markdown",
      "metadata": {
        "collapsed": false,
        "id": "JM-uNJ8WF8TQ"
      },
      "source": [
        "##### Dostawy w niedziele"
      ]
    },
    {
      "cell_type": "code",
      "metadata": {
        "pycharm": {
          "name": "#%%\n"
        },
        "colab": {
          "base_uri": "https://localhost:8080/",
          "height": 386
        },
        "id": "0JAaNP0PF8TQ",
        "outputId": "2aff079c-4b30-43ec-bff4-c57efc4abf39"
      },
      "source": [
        "preped = deliveries_v2.copy()\n",
        "preped[\"delivery_weekday\"]=preped['delivery_timestamp'].dt.day_name()\n",
        "\n",
        "plt.figure(figsize=(20,10))\n",
        "sns.displot(preped[\"delivery_weekday\"])\n",
        "plt.show()"
      ],
      "execution_count": 31,
      "outputs": [
        {
          "output_type": "display_data",
          "data": {
            "text/plain": [
              "<Figure size 1440x720 with 0 Axes>"
            ]
          },
          "metadata": {
            "tags": []
          }
        },
        {
          "output_type": "display_data",
          "data": {
            "image/png": "[encoded data removed]",
            "text/plain": [
              "<Figure size 360x360 with 1 Axes>"
            ]
          },
          "metadata": {
            "tags": [],
            "needs_background": "light"
          }
        }
      ]
    },
    {
      "cell_type": "markdown",
      "metadata": {
        "collapsed": false,
        "id": "Wqa_zD40F8TQ"
      },
      "source": [
        "Dostawy w niedzielę już nie występują. Widać, że dostawy w poniedziałki występują teraz około dwóch razy częściej\n",
        "niż te w inne dni tygodnia."
      ]
    },
    {
      "cell_type": "markdown",
      "metadata": {
        "collapsed": false,
        "id": "PaYhv7jyF8TR"
      },
      "source": [
        "##### Krótkie dostawy"
      ]
    },
    {
      "cell_type": "code",
      "metadata": {
        "pycharm": {
          "name": "#%%\n"
        },
        "colab": {
          "base_uri": "https://localhost:8080/"
        },
        "id": "-eugt-duF8TR",
        "outputId": "3066d848-905a-4910-de74-24bf0f42cc61"
      },
      "source": [
        "len(deliveries_v2[deliveries_v2[\"time_difference\"] < pd.Timedelta(hours=12)])"
      ],
      "execution_count": 32,
      "outputs": [
        {
          "output_type": "execute_result",
          "data": {
            "text/plain": [
              "65"
            ]
          },
          "metadata": {
            "tags": []
          },
          "execution_count": 32
        }
      ]
    },
    {
      "cell_type": "markdown",
      "metadata": {
        "collapsed": false,
        "id": "RAeDr_U0F8TR"
      },
      "source": [
        "Krótkie czasy dostawy ( poniżej dwunastu godzin ) nadal występują, ale jest to niecały procent danych."
      ]
    },
    {
      "cell_type": "code",
      "metadata": {
        "id": "813q8Eu0GsHu"
      },
      "source": [
        ""
      ],
      "execution_count": 32,
      "outputs": []
    },
    {
      "cell_type": "code",
      "metadata": {
        "id": "Q6_CihN9Gr6J"
      },
      "source": [
        ""
      ],
      "execution_count": 32,
      "outputs": []
    },
    {
      "cell_type": "code",
      "metadata": {
        "id": "0V_YyYNQGryO"
      },
      "source": [
        ""
      ],
      "execution_count": 32,
      "outputs": []
    },
    {
      "cell_type": "markdown",
      "metadata": {
        "id": "bpzm5KSbHHKJ"
      },
      "source": [
        "### Sprawdzanie powiązań między zmiennymi i wstępny wybór danych wejściowych"
      ]
    },
    {
      "cell_type": "code",
      "metadata": {
        "colab": {
          "base_uri": "https://localhost:8080/",
          "height": 812
        },
        "id": "m6KkYPvPGro_",
        "outputId": "b096188e-8dee-4f43-98c6-a2211fb72543"
      },
      "source": [
        "from sklearn.metrics import mutual_info_score\n",
        "\n",
        "def calc_mutual_info_score(df):\n",
        "  attributes = df.columns.to_list()\n",
        "  scores = pd.DataFrame(data = np.zeros((len(attributes), len(attributes))), columns = attributes, index = attributes)\n",
        "  for i in range(len(attributes)):\n",
        "    for j in range(i, len(attributes)):\n",
        "      at1 = attributes[i]\n",
        "      at2 = attributes[j]\n",
        "      mi_score = mutual_info_score(df[at1], df[at2])\n",
        "      scores[at1][at2] = mi_score\n",
        "      scores[at2][at1] = mi_score\n",
        "  return scores\n",
        "\n",
        "#data prep\n",
        "merged_full[\"purchase_timestamp\"] = pd.to_datetime ( merged_full[\"purchase_timestamp\"], format='%Y-%m-%dT%H:%M', errors=\"coerce\")\n",
        "merged_full['delivery_timestamp'] = pd.to_datetime ( merged_full[\"delivery_timestamp\"], format='%Y-%m-%dT%H:%M:%S', errors=\"coerce\")\n",
        "merged_full[\"delivery_time[min]\"] = (merged_full['delivery_timestamp'] - merged_full[\"purchase_timestamp\"]).apply(lambda x: x.total_seconds()//60)\n",
        "temp = merged_full.drop(labels=[\"delivery_timestamp\"], axis=1)\n",
        "temp = temp.dropna()\n",
        "\n",
        "mi_scores = calc_mutual_info_score(temp)\n",
        "plt.figure(figsize=(12,12))\n",
        "sns.heatmap(mi_scores)"
      ],
      "execution_count": 33,
      "outputs": [
        {
          "output_type": "execute_result",
          "data": {
            "text/plain": [
              "<matplotlib.axes._subplots.AxesSubplot at 0x7f627577b950>"
            ]
          },
          "metadata": {
            "tags": []
          },
          "execution_count": 33
        },
        {
          "output_type": "display_data",
          "data": {
            "image/png": "[encoded data removed]",
            "text/plain": [
              "<Figure size 864x864 with 2 Axes>"
            ]
          },
          "metadata": {
            "tags": [],
            "needs_background": "light"
          }
        }
      ]
    },
    {
      "cell_type": "code",
      "metadata": {
        "colab": {
          "base_uri": "https://localhost:8080/"
        },
        "id": "Ems-cU66ipm3",
        "outputId": "02bba669-9aff-4989-d92b-09da742055e6"
      },
      "source": [
        "print(\"Identical timestamps for purchase and session: \",len(merged_full[merged_full[\"timestamp\"] == merged_full[\"purchase_timestamp\"]]))\n",
        "print(\"Different session events: \", merged_full[\"event_type\"].nunique())\n",
        "print(\"Different session_ids: \", merged_full[\"session_id\"].nunique())\n",
        "print(\"Different purchase_ids: \", merged_full[\"purchase_id\"].nunique())\n",
        "print(\"Different buy timestamps: \", merged_full[\"timestamp\"].nunique())"
      ],
      "execution_count": 34,
      "outputs": [
        {
          "output_type": "stream",
          "text": [
            "Identical timestamps for purchase and session:  7812\n",
            "Different session events:  1\n",
            "Different session_ids:  7812\n",
            "Different purchase_ids:  7812\n",
            "Different buy timestamps:  7809\n"
          ],
          "name": "stdout"
        }
      ]
    },
    {
      "cell_type": "code",
      "metadata": {
        "id": "XHsd3X1ZlNX2"
      },
      "source": [
        "merged_full[\"purchase_day_of_week\"] = merged_full[\"purchase_timestamp\"].apply(lambda x: x.day_name())\n",
        "merged_full[\"purchase_hour\"] = merged_full[\"purchase_timestamp\"].apply(lambda x: x.hour)"
      ],
      "execution_count": 35,
      "outputs": []
    },
    {
      "cell_type": "markdown",
      "metadata": {
        "id": "mXRsAjJBie3S"
      },
      "source": [
        "\n",
        "Ze zbioru danych wejściowych możemy na pewno na wstępie odrzucić atrybuty:\n",
        "- event_type, gdyż jest tylko jeden (\"BUY_EVENT\"),\n",
        "- session_id i purchase id, gdyż każdy zakup  ma je unikatowe,\n",
        "- timestamp, bo jest identyczny do purchase_timestamp, a nie potrzebujemy idealnie zduplikowanych danych, \n",
        "- purchase timestamp, bo przyjmuje niemal zawsze unikatowe wartości.\n",
        "\n",
        "Atrybuty \"timestamp\" i \"purchase_timestamp\" zastąpione zostaną atrybutami \"purchase_day_of_week\" (dzień tygodnia) i \"purchase_hour\" (godzina zakupu zaokrąglona w dół). Spodziewamy się że te zmienne pozwolą lepiej odzwierciedlić spodziewany dobowy i godzinowy trend w rozkładzie czasu dostay. \n",
        "\n",
        "Ponadto z danych usunięte też będą atrybuty user_id, name i street (która zawiera nie tylko ulicę, ale też numer bloku i mieszkania konkretnego użytkownika), ponieważ nie zawierają informacji, które będą się dobrze generalizować, a raczej te identyfikujące konkretnych użytkowników. Oczywiście adres to prawdopodobnie cenna informacja, przydatna do przewidzenia czasu dostawy, jednak będzie potrzebny na większym poziomie granulacji np. miast, ulic, a może rejonów związanych z kodami pocztowymi. \n",
        "\n",
        "Atrybuty, które planujemy pozostawić w modelu: \n",
        "product_id, offered_discount, delivery_company, city, \n",
        "product_name, category_path, price, purchase_day_of_week, purchase_hour.\n",
        "\n",
        "Atrybutem wyjściowym modelu będzie: delivery_time[min], obliczany z danych jako różnica czasu pomiędzy delivery_timestamp i purchase_timestamp, zaokrąglona do minut. Z tak wyliczonej różnicy czasowej będzie można później z łatwością wyliczyć przewidywany czas dostawy i zaprezentować klientowi."
      ]
    },
    {
      "cell_type": "code",
      "metadata": {
        "id": "g4f3Trx0qrIj"
      },
      "source": [
        "selected = merged_full[['product_id', 'offered_discount', 'delivery_company', \n",
        "                     'city', 'product_name', 'category_path', 'price',\n",
        "                     'purchase_day_of_week', 'purchase_hour', 'delivery_time[min]']]       \n",
        "target = 'delivery_time[min]'         "
      ],
      "execution_count": 36,
      "outputs": []
    },
    {
      "cell_type": "code",
      "metadata": {
        "colab": {
          "base_uri": "https://localhost:8080/",
          "height": 1000
        },
        "id": "Jr4XLA6LtMOt",
        "outputId": "dc48ee1c-b00c-4e0c-e93e-304871e4f885"
      },
      "source": [
        "selected = selected.dropna()\n",
        "mi_scores = calc_mutual_info_score(selected)\n",
        "plt.figure(figsize=(12,12))\n",
        "sns.heatmap(mi_scores)"
      ],
      "execution_count": 39,
      "outputs": [
        {
          "output_type": "execute_result",
          "data": {
            "text/html": [
              "<div>\n",
              "<style scoped>\n",
              "    .dataframe tbody tr th:only-of-type {\n",
              "        vertical-align: middle;\n",
              "    }\n",
              "\n",
              "    .dataframe tbody tr th {\n",
              "        vertical-align: top;\n",
              "    }\n",
              "\n",
              "    .dataframe thead th {\n",
              "        text-align: right;\n",
              "    }\n",
              "</style>\n",
              "<table border=\"1\" class=\"dataframe\">\n",
              "  <thead>\n",
              "    <tr style=\"text-align: right;\">\n",
              "      <th></th>\n",
              "      <th>product_id</th>\n",
              "      <th>offered_discount</th>\n",
              "      <th>delivery_company</th>\n",
              "      <th>city</th>\n",
              "      <th>product_name</th>\n",
              "      <th>category_path</th>\n",
              "      <th>price</th>\n",
              "      <th>purchase_day_of_week</th>\n",
              "      <th>purchase_hour</th>\n",
              "      <th>delivery_time[min]</th>\n",
              "    </tr>\n",
              "  </thead>\n",
              "  <tbody>\n",
              "    <tr>\n",
              "      <th>product_id</th>\n",
              "      <td>3.998606</td>\n",
              "      <td>0.018381</td>\n",
              "      <td>0.010912</td>\n",
              "      <td>0.042108</td>\n",
              "      <td>3.998606</td>\n",
              "      <td>2.706870</td>\n",
              "      <td>3.822205</td>\n",
              "      <td>0.032310</td>\n",
              "      <td>0.137268</td>\n",
              "      <td>3.209581</td>\n",
              "    </tr>\n",
              "    <tr>\n",
              "      <th>offered_discount</th>\n",
              "      <td>0.018381</td>\n",
              "      <td>1.241218</td>\n",
              "      <td>0.000506</td>\n",
              "      <td>0.001786</td>\n",
              "      <td>0.018381</td>\n",
              "      <td>0.003504</td>\n",
              "      <td>0.015485</td>\n",
              "      <td>0.001270</td>\n",
              "      <td>0.007211</td>\n",
              "      <td>0.783091</td>\n",
              "    </tr>\n",
              "    <tr>\n",
              "      <th>delivery_company</th>\n",
              "      <td>0.010912</td>\n",
              "      <td>0.000506</td>\n",
              "      <td>1.098610</td>\n",
              "      <td>0.001607</td>\n",
              "      <td>0.010912</td>\n",
              "      <td>0.002128</td>\n",
              "      <td>0.009661</td>\n",
              "      <td>0.001007</td>\n",
              "      <td>0.003787</td>\n",
              "      <td>0.623090</td>\n",
              "    </tr>\n",
              "    <tr>\n",
              "      <th>city</th>\n",
              "      <td>0.042108</td>\n",
              "      <td>0.001786</td>\n",
              "      <td>0.001607</td>\n",
              "      <td>2.054569</td>\n",
              "      <td>0.042108</td>\n",
              "      <td>0.007248</td>\n",
              "      <td>0.035853</td>\n",
              "      <td>0.004273</td>\n",
              "      <td>0.012005</td>\n",
              "      <td>1.450433</td>\n",
              "    </tr>\n",
              "    <tr>\n",
              "      <th>product_name</th>\n",
              "      <td>3.998606</td>\n",
              "      <td>0.018381</td>\n",
              "      <td>0.010912</td>\n",
              "      <td>0.042108</td>\n",
              "      <td>3.998606</td>\n",
              "      <td>2.706870</td>\n",
              "      <td>3.822205</td>\n",
              "      <td>0.032310</td>\n",
              "      <td>0.137268</td>\n",
              "      <td>3.209581</td>\n",
              "    </tr>\n",
              "  </tbody>\n",
              "</table>\n",
              "</div>"
            ],
            "text/plain": [
              "                  product_id  ...  delivery_time[min]\n",
              "product_id          3.998606  ...            3.209581\n",
              "offered_discount    0.018381  ...            0.783091\n",
              "delivery_company    0.010912  ...            0.623090\n",
              "city                0.042108  ...            1.450433\n",
              "product_name        3.998606  ...            3.209581\n",
              "\n",
              "[5 rows x 10 columns]"
            ]
          },
          "metadata": {
            "tags": []
          },
          "execution_count": 39
        },
        {
          "output_type": "display_data",
          "data": {
            "image/png": "[encoded data removed]",
            "text/plain": [
              "<Figure size 864x864 with 2 Axes>"
            ]
          },
          "metadata": {
            "tags": [],
            "needs_background": "light"
          }
        }
      ]
    },
    {
      "cell_type": "markdown",
      "metadata": {
        "id": "G8CCRSZ-Uw_R"
      },
      "source": [
        "### Drzewo decyzyjne"
      ]
    },
    {
      "cell_type": "code",
      "metadata": {
        "colab": {
          "base_uri": "https://localhost:8080/"
        },
        "id": "mFlH-GxnUwlg",
        "outputId": "506c6a2e-06c4-40a6-945d-f6b29be5d116"
      },
      "source": [
        "from sklearn.linear_model import LinearRegression\n",
        "from sklearn.model_selection import train_test_split\n",
        "from sklearn.metrics import median_absolute_error\n",
        "from sklearn.preprocessing import LabelEncoder\n",
        "\n",
        "\n",
        "x_train, x_test, y_train, y_test = train_test_split(\n",
        "    selected.drop(target, axis=1),selected[target], random_state=23, test_size=0.2)\n",
        "\n",
        "categoricals = x_train.select_dtypes(object).columns.to_list()\n",
        "encoder = LabelEncoder()\n",
        "for c in categoricals:\n",
        "  x_train.loc[:,c] = encoder.fit_transform(x_train[c].astype(str))\n",
        "  x_test.loc[:,c] = encoder.transform(x_test[c].astype(str))\n",
        "\n",
        "\n",
        "\n",
        "reg = LinearRegression()\n",
        "reg.fit(x_train, y_train)\n",
        "pred_train = reg.predict(x_train)\n",
        "pred_test = reg.predict(x_test)\n",
        "\n",
        "train_score = median_absolute_error(pred_train, y_train)\n",
        "test_score = median_absolute_error(pred_test, y_test)\n",
        "print(f'Train Median absolute error: {train_score}, test Median absolute error: {test_score}')\n",
        "#print(pred_train, y_train)"
      ],
      "execution_count": 38,
      "outputs": [
        {
          "output_type": "stream",
          "text": [
            "Train Median absolute error: 780.3592599998249, test Median absolute error: 803.5931909265801\n"
          ],
          "name": "stdout"
        }
      ]
    },
    {
      "cell_type": "code",
      "metadata": {
        "id": "GkvnqTI_f81h"
      },
      "source": [
        ""
      ],
      "execution_count": 38,
      "outputs": []
    }
  ]
}