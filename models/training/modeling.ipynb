{
  "nbformat": 4,
  "nbformat_minor": 0,
  "metadata": {
    "kernelspec": {
      "display_name": "Python 3",
      "language": "python",
      "name": "python3"
    },
    "language_info": {
      "codemirror_mode": {
        "name": "ipython",
        "version": 2
      },
      "file_extension": ".py",
      "mimetype": "text/x-python",
      "name": "python",
      "nbconvert_exporter": "python",
      "pygments_lexer": "ipython2",
      "version": "2.7.6"
    },
    "colab": {
      "name": "modeling.ipynb",
      "provenance": []
    }
  },
  "cells": [
    {
      "cell_type": "code",
      "metadata": {
        "colab": {
          "base_uri": "https://localhost:8080/"
        },
        "id": "jJctIYS_sSqA",
        "outputId": "28c72352-913d-49b8-d671-730141a74bc6"
      },
      "source": [
        "from google.colab import drive\n",
        "drive.mount('/content/drive')"
      ],
      "execution_count": 1,
      "outputs": [
        {
          "output_type": "stream",
          "text": [
            "Mounted at /content/drive\n"
          ],
          "name": "stdout"
        }
      ]
    },
    {
      "cell_type": "code",
      "metadata": {
        "pycharm": {
          "name": "#%%\n"
        },
        "id": "3LIz0rYYryi_"
      },
      "source": [
        "from sklearn.tree import DecisionTreeRegressor\n",
        "import pandas as pd\n",
        "import datetime\n",
        "\n",
        "def load():\n",
        "    # data_dir = \"/home/asia/Documents/projects/PyCharm/IUM/data/data_v3/\"\n",
        "    data_dir = \"/content/drive/MyDrive/Data/IUM/V3/\"\n",
        "    data = {}\n",
        "    data[\"deliveries\"] = pd.read_json(data_dir + \"deliveries.jsonl\", lines = True)\n",
        "    data[\"sessions\"] = pd.read_json(data_dir + \"sessions.jsonl\", lines = True)\n",
        "    data[\"products\"] = pd.read_json(data_dir + \"products.jsonl\", lines = True)\n",
        "    data[\"users\"] = pd.read_json(data_dir + \"users.jsonl\", lines = True)\n",
        "    return data\n",
        "\n",
        "def preprocess_time(deliveries: pd.DataFrame):\n",
        "    deliveries[\"purchase_timestamp\"] = pd.to_datetime ( deliveries[\"purchase_timestamp\"], format='%Y-%m-%dT%H:%M', errors=\"coerce\")\n",
        "    deliveries['delivery_timestamp'] = pd.to_datetime ( deliveries[\"delivery_timestamp\"], format='%Y-%m-%dT%H:%M:%S', errors=\"coerce\")\n",
        "    return deliveries\n",
        "\n",
        "\n",
        "def merge(data: {}) -> pd.DataFrame:\n",
        "    s = data[\"sessions\"]\n",
        "    d = data[\"deliveries\"]\n",
        "    p = data[\"products\"]\n",
        "    u = data[\"users\"]\n",
        "    purchases = s[s[\"purchase_id\"].notnull()].copy()\n",
        "    merged = pd.merge(purchases, d, on='purchase_id', how = \"outer\")\n",
        "    merged2 = pd.merge(merged, u, on=\"user_id\", how = \"outer\")\n",
        "    merged_full = pd.merge(merged2, p, on=\"product_id\", how = \"left\")\n",
        "    return merged_full\n",
        "\n",
        "def select_columns (merged):\n",
        "    to_select = [\"product_id\", \"offered_discount\", \"purchase_timestamp\", \"delivery_timestamp\", \"delivery_company\", \"city\", \"street\", \"product_name\", \"category_path\", \"price\"]\n",
        "    return merged[to_select]"
      ],
      "execution_count": 2,
      "outputs": []
    },
    {
      "cell_type": "code",
      "metadata": {
        "pycharm": {
          "name": "#%%\n"
        },
        "colab": {
          "base_uri": "https://localhost:8080/",
          "height": 400
        },
        "id": "8aKh3vLlryjP",
        "outputId": "c2627c19-2500-4a34-f43a-c10bf220d232"
      },
      "source": [
        "# load data, make sure timestamps are of datetime type and merge data\n",
        "data = load()\n",
        "data[\"deliveries\"] = preprocess_time(data[\"deliveries\"])\n",
        "merged = merge(data)\n",
        "merged.head()"
      ],
      "execution_count": 3,
      "outputs": [
        {
          "output_type": "execute_result",
          "data": {
            "text/html": [
              "<div>\n",
              "<style scoped>\n",
              "    .dataframe tbody tr th:only-of-type {\n",
              "        vertical-align: middle;\n",
              "    }\n",
              "\n",
              "    .dataframe tbody tr th {\n",
              "        vertical-align: top;\n",
              "    }\n",
              "\n",
              "    .dataframe thead th {\n",
              "        text-align: right;\n",
              "    }\n",
              "</style>\n",
              "<table border=\"1\" class=\"dataframe\">\n",
              "  <thead>\n",
              "    <tr style=\"text-align: right;\">\n",
              "      <th></th>\n",
              "      <th>session_id</th>\n",
              "      <th>timestamp</th>\n",
              "      <th>user_id</th>\n",
              "      <th>product_id</th>\n",
              "      <th>event_type</th>\n",
              "      <th>offered_discount</th>\n",
              "      <th>purchase_id</th>\n",
              "      <th>purchase_timestamp</th>\n",
              "      <th>delivery_timestamp</th>\n",
              "      <th>delivery_company</th>\n",
              "      <th>name</th>\n",
              "      <th>city</th>\n",
              "      <th>street</th>\n",
              "      <th>product_name</th>\n",
              "      <th>category_path</th>\n",
              "      <th>price</th>\n",
              "    </tr>\n",
              "  </thead>\n",
              "  <tbody>\n",
              "    <tr>\n",
              "      <th>0</th>\n",
              "      <td>100002.0</td>\n",
              "      <td>2021-04-01 15:52:47</td>\n",
              "      <td>102</td>\n",
              "      <td>1234.0</td>\n",
              "      <td>BUY_PRODUCT</td>\n",
              "      <td>0.0</td>\n",
              "      <td>20001.0</td>\n",
              "      <td>2021-04-01 15:52:47</td>\n",
              "      <td>2021-04-02 14:06:34.432964</td>\n",
              "      <td>620.0</td>\n",
              "      <td>Aurelia Malon</td>\n",
              "      <td>Police</td>\n",
              "      <td>pl. Brzoskwiniowa 11/53</td>\n",
              "      <td>Sony DVP-SR760</td>\n",
              "      <td>Sprzęt RTV;Video;Odtwarzacze DVD</td>\n",
              "      <td>193.00</td>\n",
              "    </tr>\n",
              "    <tr>\n",
              "      <th>1</th>\n",
              "      <td>100003.0</td>\n",
              "      <td>2021-04-01 02:26:23</td>\n",
              "      <td>102</td>\n",
              "      <td>1289.0</td>\n",
              "      <td>BUY_PRODUCT</td>\n",
              "      <td>15.0</td>\n",
              "      <td>20002.0</td>\n",
              "      <td>2021-04-01 02:26:23</td>\n",
              "      <td>2021-04-02 10:45:27.707128</td>\n",
              "      <td>360.0</td>\n",
              "      <td>Aurelia Malon</td>\n",
              "      <td>Police</td>\n",
              "      <td>pl. Brzoskwiniowa 11/53</td>\n",
              "      <td>Philips SDV5225</td>\n",
              "      <td>Sprzęt RTV;Video;Telewizory i akcesoria;Anteny...</td>\n",
              "      <td>129.00</td>\n",
              "    </tr>\n",
              "    <tr>\n",
              "      <th>2</th>\n",
              "      <td>100004.0</td>\n",
              "      <td>2021-01-03 05:11:17</td>\n",
              "      <td>102</td>\n",
              "      <td>1009.0</td>\n",
              "      <td>BUY_PRODUCT</td>\n",
              "      <td>0.0</td>\n",
              "      <td>20003.0</td>\n",
              "      <td>2021-01-03 05:11:17</td>\n",
              "      <td>2021-01-04 15:43:07.635371</td>\n",
              "      <td>620.0</td>\n",
              "      <td>Aurelia Malon</td>\n",
              "      <td>Police</td>\n",
              "      <td>pl. Brzoskwiniowa 11/53</td>\n",
              "      <td>Kinect Joy Ride (Xbox 360)</td>\n",
              "      <td>Gry i konsole;Gry na konsole;Gry Xbox 360</td>\n",
              "      <td>69.00</td>\n",
              "    </tr>\n",
              "    <tr>\n",
              "      <th>3</th>\n",
              "      <td>100005.0</td>\n",
              "      <td>2021-02-17 12:59:54</td>\n",
              "      <td>102</td>\n",
              "      <td>1001.0</td>\n",
              "      <td>BUY_PRODUCT</td>\n",
              "      <td>5.0</td>\n",
              "      <td>20004.0</td>\n",
              "      <td>2021-02-17 12:59:54</td>\n",
              "      <td>2021-02-18 11:52:42.608746</td>\n",
              "      <td>620.0</td>\n",
              "      <td>Aurelia Malon</td>\n",
              "      <td>Police</td>\n",
              "      <td>pl. Brzoskwiniowa 11/53</td>\n",
              "      <td>Telefon Siemens Gigaset DA310</td>\n",
              "      <td>Telefony i akcesoria;Telefony stacjonarne</td>\n",
              "      <td>58.97</td>\n",
              "    </tr>\n",
              "    <tr>\n",
              "      <th>4</th>\n",
              "      <td>100006.0</td>\n",
              "      <td>2021-02-13 09:17:52</td>\n",
              "      <td>102</td>\n",
              "      <td>1057.0</td>\n",
              "      <td>BUY_PRODUCT</td>\n",
              "      <td>5.0</td>\n",
              "      <td>20005.0</td>\n",
              "      <td>2021-02-13 09:17:52</td>\n",
              "      <td>2021-02-15 08:59:28.973167</td>\n",
              "      <td>620.0</td>\n",
              "      <td>Aurelia Malon</td>\n",
              "      <td>Police</td>\n",
              "      <td>pl. Brzoskwiniowa 11/53</td>\n",
              "      <td>Doom 3 (PC)</td>\n",
              "      <td>Gry i konsole;Gry komputerowe</td>\n",
              "      <td>19.99</td>\n",
              "    </tr>\n",
              "  </tbody>\n",
              "</table>\n",
              "</div>"
            ],
            "text/plain": [
              "   session_id  ...   price\n",
              "0    100002.0  ...  193.00\n",
              "1    100003.0  ...  129.00\n",
              "2    100004.0  ...   69.00\n",
              "3    100005.0  ...   58.97\n",
              "4    100006.0  ...   19.99\n",
              "\n",
              "[5 rows x 16 columns]"
            ]
          },
          "metadata": {
            "tags": []
          },
          "execution_count": 3
        }
      ]
    },
    {
      "cell_type": "code",
      "metadata": {
        "colab": {
          "base_uri": "https://localhost:8080/"
        },
        "id": "wVzdMZwUzEqx",
        "outputId": "9227a33c-39fd-4394-b2f0-58f3e11faacf"
      },
      "source": [
        "# drop that one row with user who didn't make a purchase\n",
        "merged = merged.dropna()\n",
        "merged.shape"
      ],
      "execution_count": 4,
      "outputs": [
        {
          "output_type": "execute_result",
          "data": {
            "text/plain": [
              "(7287, 16)"
            ]
          },
          "metadata": {
            "tags": []
          },
          "execution_count": 4
        }
      ]
    },
    {
      "cell_type": "code",
      "metadata": {
        "id": "qRjoCmBeyb7C"
      },
      "source": [
        "def transform_columns(merged_df):\n",
        "  merged_df[\"time_difference\"] = merged_df[\"delivery_timestamp\"] - merged_df[\"purchase_timestamp\"]\n",
        "  merged_df[\"time[min]\"] = merged_df[\"time_difference\"].apply(lambda x: int(round(x.total_seconds()/60)))\n",
        "  merged_df = merged_df.drop(labels=[\"time_difference\", \"delivery_timestamp\"], axis=1)\n",
        "\n",
        "  merged_df[\"street_name\"] = merged_df[\"street\"].apply(lambda x: x.split(\" \")[1])\n",
        "  merged_df[\"street_name*num\"] = merged_df[\"street\"].apply(lambda x: x.split(\" \")[1] + \" \" + x.split(\" \")[2])\n",
        "  merged_df = add_city_street(merged_df)\n",
        "  merged_df = merged_df.drop(labels=[\"street\"], axis=1)\n",
        "\n",
        "  merged_df[\"purchase_day_of_week\"] = merged_df[\"purchase_timestamp\"].apply(lambda x: x.dayofweek)\n",
        "  return merged_df\n",
        "\n",
        "def add_city_street(merged_df):\n",
        "  cities = merged_df[\"city\"].to_list()\n",
        "  streets = merged_df[\"street_name\"].to_list()\n",
        "\n",
        "  city_street = [cities[i] + \"/\" + streets[i] for i in range(len(cities))]\n",
        "\n",
        "  merged_df[\"city*stret_name\"] = city_street\n",
        "  return merged_df\n",
        "\n",
        "merged = select_columns(merged)\n",
        "merged = transform_columns(merged)\n"
      ],
      "execution_count": 5,
      "outputs": []
    },
    {
      "cell_type": "code",
      "metadata": {
        "colab": {
          "base_uri": "https://localhost:8080/",
          "height": 365
        },
        "id": "2t-x9jN82ZCP",
        "outputId": "6a6cdf5f-d50b-4eaf-ec64-573e93f23eb2"
      },
      "source": [
        "merged.head()"
      ],
      "execution_count": 6,
      "outputs": [
        {
          "output_type": "execute_result",
          "data": {
            "text/html": [
              "<div>\n",
              "<style scoped>\n",
              "    .dataframe tbody tr th:only-of-type {\n",
              "        vertical-align: middle;\n",
              "    }\n",
              "\n",
              "    .dataframe tbody tr th {\n",
              "        vertical-align: top;\n",
              "    }\n",
              "\n",
              "    .dataframe thead th {\n",
              "        text-align: right;\n",
              "    }\n",
              "</style>\n",
              "<table border=\"1\" class=\"dataframe\">\n",
              "  <thead>\n",
              "    <tr style=\"text-align: right;\">\n",
              "      <th></th>\n",
              "      <th>product_id</th>\n",
              "      <th>offered_discount</th>\n",
              "      <th>purchase_timestamp</th>\n",
              "      <th>delivery_company</th>\n",
              "      <th>city</th>\n",
              "      <th>product_name</th>\n",
              "      <th>category_path</th>\n",
              "      <th>price</th>\n",
              "      <th>time[min]</th>\n",
              "      <th>street_name</th>\n",
              "      <th>street_name*num</th>\n",
              "      <th>city*stret_name</th>\n",
              "      <th>purchase_day_of_week</th>\n",
              "    </tr>\n",
              "  </thead>\n",
              "  <tbody>\n",
              "    <tr>\n",
              "      <th>0</th>\n",
              "      <td>1234.0</td>\n",
              "      <td>0.0</td>\n",
              "      <td>2021-04-01 15:52:47</td>\n",
              "      <td>620.0</td>\n",
              "      <td>Police</td>\n",
              "      <td>Sony DVP-SR760</td>\n",
              "      <td>Sprzęt RTV;Video;Odtwarzacze DVD</td>\n",
              "      <td>193.00</td>\n",
              "      <td>1334</td>\n",
              "      <td>Brzoskwiniowa</td>\n",
              "      <td>Brzoskwiniowa 11/53</td>\n",
              "      <td>Police/Brzoskwiniowa</td>\n",
              "      <td>3</td>\n",
              "    </tr>\n",
              "    <tr>\n",
              "      <th>1</th>\n",
              "      <td>1289.0</td>\n",
              "      <td>15.0</td>\n",
              "      <td>2021-04-01 02:26:23</td>\n",
              "      <td>360.0</td>\n",
              "      <td>Police</td>\n",
              "      <td>Philips SDV5225</td>\n",
              "      <td>Sprzęt RTV;Video;Telewizory i akcesoria;Anteny...</td>\n",
              "      <td>129.00</td>\n",
              "      <td>1939</td>\n",
              "      <td>Brzoskwiniowa</td>\n",
              "      <td>Brzoskwiniowa 11/53</td>\n",
              "      <td>Police/Brzoskwiniowa</td>\n",
              "      <td>3</td>\n",
              "    </tr>\n",
              "    <tr>\n",
              "      <th>2</th>\n",
              "      <td>1009.0</td>\n",
              "      <td>0.0</td>\n",
              "      <td>2021-01-03 05:11:17</td>\n",
              "      <td>620.0</td>\n",
              "      <td>Police</td>\n",
              "      <td>Kinect Joy Ride (Xbox 360)</td>\n",
              "      <td>Gry i konsole;Gry na konsole;Gry Xbox 360</td>\n",
              "      <td>69.00</td>\n",
              "      <td>2072</td>\n",
              "      <td>Brzoskwiniowa</td>\n",
              "      <td>Brzoskwiniowa 11/53</td>\n",
              "      <td>Police/Brzoskwiniowa</td>\n",
              "      <td>6</td>\n",
              "    </tr>\n",
              "    <tr>\n",
              "      <th>3</th>\n",
              "      <td>1001.0</td>\n",
              "      <td>5.0</td>\n",
              "      <td>2021-02-17 12:59:54</td>\n",
              "      <td>620.0</td>\n",
              "      <td>Police</td>\n",
              "      <td>Telefon Siemens Gigaset DA310</td>\n",
              "      <td>Telefony i akcesoria;Telefony stacjonarne</td>\n",
              "      <td>58.97</td>\n",
              "      <td>1373</td>\n",
              "      <td>Brzoskwiniowa</td>\n",
              "      <td>Brzoskwiniowa 11/53</td>\n",
              "      <td>Police/Brzoskwiniowa</td>\n",
              "      <td>2</td>\n",
              "    </tr>\n",
              "    <tr>\n",
              "      <th>4</th>\n",
              "      <td>1057.0</td>\n",
              "      <td>5.0</td>\n",
              "      <td>2021-02-13 09:17:52</td>\n",
              "      <td>620.0</td>\n",
              "      <td>Police</td>\n",
              "      <td>Doom 3 (PC)</td>\n",
              "      <td>Gry i konsole;Gry komputerowe</td>\n",
              "      <td>19.99</td>\n",
              "      <td>2862</td>\n",
              "      <td>Brzoskwiniowa</td>\n",
              "      <td>Brzoskwiniowa 11/53</td>\n",
              "      <td>Police/Brzoskwiniowa</td>\n",
              "      <td>5</td>\n",
              "    </tr>\n",
              "  </tbody>\n",
              "</table>\n",
              "</div>"
            ],
            "text/plain": [
              "   product_id  offered_discount  ...       city*stret_name  purchase_day_of_week\n",
              "0      1234.0               0.0  ...  Police/Brzoskwiniowa                     3\n",
              "1      1289.0              15.0  ...  Police/Brzoskwiniowa                     3\n",
              "2      1009.0               0.0  ...  Police/Brzoskwiniowa                     6\n",
              "3      1001.0               5.0  ...  Police/Brzoskwiniowa                     2\n",
              "4      1057.0               5.0  ...  Police/Brzoskwiniowa                     5\n",
              "\n",
              "[5 rows x 13 columns]"
            ]
          },
          "metadata": {
            "tags": []
          },
          "execution_count": 6
        }
      ]
    },
    {
      "cell_type": "code",
      "metadata": {
        "id": "oqO0gBAcKN3y"
      },
      "source": [
        "import numpy as np\n",
        "\n",
        "def encode_cyclical(df):\n",
        "  df[\"purchase_month\"] = df[\"purchase_timestamp\"].apply(lambda x: x.month)\n",
        "  df[\"purchase_day\"] = df[\"purchase_timestamp\"].apply(lambda x: x.day)\n",
        "  df[\"purchase_hour\"] = df[\"purchase_timestamp\"].apply(lambda x: x.hour)\n",
        "  df[\"purchase_min\"] = df[\"purchase_timestamp\"].apply(lambda x: x.minute)\n",
        "\n",
        "  cyclical = [(\"purchase_month\", 12), (\"purchase_day\", 30), (\"purchase_hour\", 24), \n",
        "              (\"purchase_min\", 60), (\"purchase_day_of_week\", 7)]\n",
        "\n",
        "  for feature, cycle in cyclical:\n",
        "    df = encode_one_cyclical(df, feature, cycle)\n",
        "    df = df.drop(feature, axis=1)\n",
        "  df = df.drop(\"purchase_timestamp\", axis=1)\n",
        "  return df\n",
        "\n",
        "def encode_one_cyclical(df, feature, num):\n",
        "  df[feature + \"_sin\"] = np.sin(df[feature] * (2 * np.pi/num))\n",
        "  df[feature + \"_cos\"] = np.cos(df[feature] * (2 * np.pi/num))\n",
        "  return df"
      ],
      "execution_count": 7,
      "outputs": []
    },
    {
      "cell_type": "code",
      "metadata": {
        "id": "X_5nF39wLBuK",
        "colab": {
          "base_uri": "https://localhost:8080/",
          "height": 365
        },
        "outputId": "c8778c2e-d0dc-4501-fcb9-cf5519bfbe8c"
      },
      "source": [
        "merged = encode_cyclical(merged)\n",
        "merged.head()"
      ],
      "execution_count": 8,
      "outputs": [
        {
          "output_type": "execute_result",
          "data": {
            "text/html": [
              "<div>\n",
              "<style scoped>\n",
              "    .dataframe tbody tr th:only-of-type {\n",
              "        vertical-align: middle;\n",
              "    }\n",
              "\n",
              "    .dataframe tbody tr th {\n",
              "        vertical-align: top;\n",
              "    }\n",
              "\n",
              "    .dataframe thead th {\n",
              "        text-align: right;\n",
              "    }\n",
              "</style>\n",
              "<table border=\"1\" class=\"dataframe\">\n",
              "  <thead>\n",
              "    <tr style=\"text-align: right;\">\n",
              "      <th></th>\n",
              "      <th>product_id</th>\n",
              "      <th>offered_discount</th>\n",
              "      <th>delivery_company</th>\n",
              "      <th>city</th>\n",
              "      <th>product_name</th>\n",
              "      <th>category_path</th>\n",
              "      <th>price</th>\n",
              "      <th>time[min]</th>\n",
              "      <th>street_name</th>\n",
              "      <th>street_name*num</th>\n",
              "      <th>city*stret_name</th>\n",
              "      <th>purchase_month_sin</th>\n",
              "      <th>purchase_month_cos</th>\n",
              "      <th>purchase_day_sin</th>\n",
              "      <th>purchase_day_cos</th>\n",
              "      <th>purchase_hour_sin</th>\n",
              "      <th>purchase_hour_cos</th>\n",
              "      <th>purchase_min_sin</th>\n",
              "      <th>purchase_min_cos</th>\n",
              "      <th>purchase_day_of_week_sin</th>\n",
              "      <th>purchase_day_of_week_cos</th>\n",
              "    </tr>\n",
              "  </thead>\n",
              "  <tbody>\n",
              "    <tr>\n",
              "      <th>0</th>\n",
              "      <td>1234.0</td>\n",
              "      <td>0.0</td>\n",
              "      <td>620.0</td>\n",
              "      <td>Police</td>\n",
              "      <td>Sony DVP-SR760</td>\n",
              "      <td>Sprzęt RTV;Video;Odtwarzacze DVD</td>\n",
              "      <td>193.00</td>\n",
              "      <td>1334</td>\n",
              "      <td>Brzoskwiniowa</td>\n",
              "      <td>Brzoskwiniowa 11/53</td>\n",
              "      <td>Police/Brzoskwiniowa</td>\n",
              "      <td>0.866025</td>\n",
              "      <td>-0.500000</td>\n",
              "      <td>0.207912</td>\n",
              "      <td>0.978148</td>\n",
              "      <td>-7.071068e-01</td>\n",
              "      <td>-0.707107</td>\n",
              "      <td>-0.743145</td>\n",
              "      <td>0.669131</td>\n",
              "      <td>0.433884</td>\n",
              "      <td>-0.900969</td>\n",
              "    </tr>\n",
              "    <tr>\n",
              "      <th>1</th>\n",
              "      <td>1289.0</td>\n",
              "      <td>15.0</td>\n",
              "      <td>360.0</td>\n",
              "      <td>Police</td>\n",
              "      <td>Philips SDV5225</td>\n",
              "      <td>Sprzęt RTV;Video;Telewizory i akcesoria;Anteny...</td>\n",
              "      <td>129.00</td>\n",
              "      <td>1939</td>\n",
              "      <td>Brzoskwiniowa</td>\n",
              "      <td>Brzoskwiniowa 11/53</td>\n",
              "      <td>Police/Brzoskwiniowa</td>\n",
              "      <td>0.866025</td>\n",
              "      <td>-0.500000</td>\n",
              "      <td>0.207912</td>\n",
              "      <td>0.978148</td>\n",
              "      <td>5.000000e-01</td>\n",
              "      <td>0.866025</td>\n",
              "      <td>0.406737</td>\n",
              "      <td>-0.913545</td>\n",
              "      <td>0.433884</td>\n",
              "      <td>-0.900969</td>\n",
              "    </tr>\n",
              "    <tr>\n",
              "      <th>2</th>\n",
              "      <td>1009.0</td>\n",
              "      <td>0.0</td>\n",
              "      <td>620.0</td>\n",
              "      <td>Police</td>\n",
              "      <td>Kinect Joy Ride (Xbox 360)</td>\n",
              "      <td>Gry i konsole;Gry na konsole;Gry Xbox 360</td>\n",
              "      <td>69.00</td>\n",
              "      <td>2072</td>\n",
              "      <td>Brzoskwiniowa</td>\n",
              "      <td>Brzoskwiniowa 11/53</td>\n",
              "      <td>Police/Brzoskwiniowa</td>\n",
              "      <td>0.500000</td>\n",
              "      <td>0.866025</td>\n",
              "      <td>0.587785</td>\n",
              "      <td>0.809017</td>\n",
              "      <td>9.659258e-01</td>\n",
              "      <td>0.258819</td>\n",
              "      <td>0.913545</td>\n",
              "      <td>0.406737</td>\n",
              "      <td>-0.781831</td>\n",
              "      <td>0.623490</td>\n",
              "    </tr>\n",
              "    <tr>\n",
              "      <th>3</th>\n",
              "      <td>1001.0</td>\n",
              "      <td>5.0</td>\n",
              "      <td>620.0</td>\n",
              "      <td>Police</td>\n",
              "      <td>Telefon Siemens Gigaset DA310</td>\n",
              "      <td>Telefony i akcesoria;Telefony stacjonarne</td>\n",
              "      <td>58.97</td>\n",
              "      <td>1373</td>\n",
              "      <td>Brzoskwiniowa</td>\n",
              "      <td>Brzoskwiniowa 11/53</td>\n",
              "      <td>Police/Brzoskwiniowa</td>\n",
              "      <td>0.866025</td>\n",
              "      <td>0.500000</td>\n",
              "      <td>-0.406737</td>\n",
              "      <td>-0.913545</td>\n",
              "      <td>1.224647e-16</td>\n",
              "      <td>-1.000000</td>\n",
              "      <td>-0.104528</td>\n",
              "      <td>0.994522</td>\n",
              "      <td>0.974928</td>\n",
              "      <td>-0.222521</td>\n",
              "    </tr>\n",
              "    <tr>\n",
              "      <th>4</th>\n",
              "      <td>1057.0</td>\n",
              "      <td>5.0</td>\n",
              "      <td>620.0</td>\n",
              "      <td>Police</td>\n",
              "      <td>Doom 3 (PC)</td>\n",
              "      <td>Gry i konsole;Gry komputerowe</td>\n",
              "      <td>19.99</td>\n",
              "      <td>2862</td>\n",
              "      <td>Brzoskwiniowa</td>\n",
              "      <td>Brzoskwiniowa 11/53</td>\n",
              "      <td>Police/Brzoskwiniowa</td>\n",
              "      <td>0.866025</td>\n",
              "      <td>0.500000</td>\n",
              "      <td>0.406737</td>\n",
              "      <td>-0.913545</td>\n",
              "      <td>7.071068e-01</td>\n",
              "      <td>-0.707107</td>\n",
              "      <td>0.978148</td>\n",
              "      <td>-0.207912</td>\n",
              "      <td>-0.974928</td>\n",
              "      <td>-0.222521</td>\n",
              "    </tr>\n",
              "  </tbody>\n",
              "</table>\n",
              "</div>"
            ],
            "text/plain": [
              "   product_id  ...  purchase_day_of_week_cos\n",
              "0      1234.0  ...                 -0.900969\n",
              "1      1289.0  ...                 -0.900969\n",
              "2      1009.0  ...                  0.623490\n",
              "3      1001.0  ...                 -0.222521\n",
              "4      1057.0  ...                 -0.222521\n",
              "\n",
              "[5 rows x 21 columns]"
            ]
          },
          "metadata": {
            "tags": []
          },
          "execution_count": 8
        }
      ]
    },
    {
      "cell_type": "code",
      "metadata": {
        "id": "pZceWb0uEx1y",
        "colab": {
          "base_uri": "https://localhost:8080/"
        },
        "outputId": "0b578830-49b1-44df-eb8f-1de4e5fe8c93"
      },
      "source": [
        "from sklearn.model_selection import train_test_split\n",
        "categoricals = merged.select_dtypes(object).columns.to_list()\n",
        "categoricals.append(\"delivery_company\")\n",
        "\n",
        "x_df = merged.drop(\"time[min]\", axis=1)\n",
        "y_df = merged[\"time[min]\"]\n",
        "\n",
        "#x_val-0.2, x_test-0.2, x_train - 0.6\n",
        "x_rest, x_val, y_rest, y_val = train_test_split(x_df, y_df, test_size=0.2, random_state=78 )\n",
        "x_train, x_test, y_train, y_test = train_test_split(x_rest, y_rest, test_size=0.25, random_state=78 )\n",
        "print(x_test.shape, y_test.shape, x_val.shape, y_val.shape, x_train.shape, y_train.shape)"
      ],
      "execution_count": 9,
      "outputs": [
        {
          "output_type": "stream",
          "text": [
            "(1458, 20) (1458,) (1458, 20) (1458,) (4371, 20) (4371,)\n"
          ],
          "name": "stdout"
        }
      ]
    },
    {
      "cell_type": "code",
      "metadata": {
        "id": "Myk7QZa3Hjzd",
        "colab": {
          "base_uri": "https://localhost:8080/"
        },
        "outputId": "9197cd7b-3919-4d27-dd53-852a911d30b0"
      },
      "source": [
        "from sklearn.preprocessing import OneHotEncoder\n",
        "\n",
        "encoder = OneHotEncoder(sparse=False, handle_unknown='ignore')\n",
        "\n",
        "encoded_train = pd.DataFrame(encoder.fit_transform(x_train[categoricals]), index = x_train.index)\n",
        "encoded_test = pd.DataFrame(encoder.transform(x_test[categoricals]), index = x_test.index)\n",
        "encoded_val = pd.DataFrame(encoder.transform(x_val[categoricals]), index = x_val.index)\n",
        "\n",
        "x_train = pd.concat([x_train.drop(categoricals, axis=1), encoded_train], axis=1)\n",
        "x_test = pd.concat([x_test.drop(categoricals, axis=1), encoded_test], axis=1)\n",
        "x_val = pd.concat([x_val.drop(categoricals, axis=1), encoded_val], axis=1)\n",
        "\n",
        "print(x_test.shape, y_test.shape, x_val.shape, y_val.shape, x_train.shape, y_train.shape)"
      ],
      "execution_count": 10,
      "outputs": [
        {
          "output_type": "stream",
          "text": [
            "(1458, 658) (1458,) (1458, 658) (1458,) (4371, 658) (4371,)\n"
          ],
          "name": "stdout"
        }
      ]
    },
    {
      "cell_type": "code",
      "metadata": {
        "id": "XUscNAHiRbIY",
        "colab": {
          "base_uri": "https://localhost:8080/"
        },
        "outputId": "c3709690-39cd-4b55-d841-f4d523d0c91e"
      },
      "source": [
        "x_test.dtypes"
      ],
      "execution_count": 11,
      "outputs": [
        {
          "output_type": "execute_result",
          "data": {
            "text/plain": [
              "product_id            float64\n",
              "offered_discount      float64\n",
              "price                 float64\n",
              "purchase_month_sin    float64\n",
              "purchase_month_cos    float64\n",
              "                       ...   \n",
              "640                   float64\n",
              "641                   float64\n",
              "642                   float64\n",
              "643                   float64\n",
              "644                   float64\n",
              "Length: 658, dtype: object"
            ]
          },
          "metadata": {
            "tags": []
          },
          "execution_count": 11
        }
      ]
    },
    {
      "cell_type": "code",
      "metadata": {
        "id": "qQIYHEc-Q2Hp",
        "colab": {
          "base_uri": "https://localhost:8080/"
        },
        "outputId": "35ebd4d1-2c41-45e4-b6a9-0bf0ab1f2e7c"
      },
      "source": [
        "from sklearn.metrics import median_absolute_error\n",
        "from sklearn.linear_model import LinearRegression\n",
        "\n",
        "reg = LinearRegression()\n",
        "reg.fit(x_train, y_train)\n",
        "pred_train = reg.predict(x_train)\n",
        "pred_test = reg.predict(x_test)\n",
        "\n",
        "train_score = median_absolute_error(pred_train, y_train)\n",
        "test_score = median_absolute_error(pred_test, y_test)\n",
        "print(f'LinearRegression - train MAE: {train_score}, test MAE: {test_score}')\n"
      ],
      "execution_count": 12,
      "outputs": [
        {
          "output_type": "stream",
          "text": [
            "LinearRegression - train MAE: 482.32340582092456, test MAE: 537.0152715059535\n"
          ],
          "name": "stdout"
        }
      ]
    },
    {
      "cell_type": "code",
      "metadata": {
        "id": "VFgGM4nlOXt-",
        "colab": {
          "base_uri": "https://localhost:8080/"
        },
        "outputId": "38194f6d-15da-4124-b0d1-98e40bdaf078"
      },
      "source": [
        "\n",
        "from sklearn.tree import DecisionTreeRegressor\n",
        "\n",
        "reg = DecisionTreeRegressor(random_state=78)\n",
        "reg.fit(x_train, y_train)\n",
        "pred_train = reg.predict(x_train)\n",
        "pred_test = reg.predict(x_test)\n",
        "\n",
        "train_score = median_absolute_error(pred_train, y_train)\n",
        "test_score = median_absolute_error(pred_test, y_test)\n",
        "print(f'Decision tree- train MAE: {train_score}, test MAE: {test_score}')\n"
      ],
      "execution_count": 13,
      "outputs": [
        {
          "output_type": "stream",
          "text": [
            "Decision tree- train MAE: 0.0, test MAE: 352.0\n"
          ],
          "name": "stdout"
        }
      ]
    },
    {
      "cell_type": "code",
      "metadata": {
        "id": "miy6aTG7RKqY",
        "colab": {
          "base_uri": "https://localhost:8080/"
        },
        "outputId": "fbca9287-a129-4929-97c8-a2f43d2b29ad"
      },
      "source": [
        "from sklearn.ensemble import RandomForestRegressor\n",
        "\n",
        "reg = RandomForestRegressor(random_state=78)\n",
        "reg.fit(x_train, y_train)\n",
        "pred_train = reg.predict(x_train)\n",
        "pred_test = reg.predict(x_test)\n",
        "\n",
        "train_score = median_absolute_error(pred_train, y_train)\n",
        "test_score = median_absolute_error(pred_test, y_test)\n",
        "print(f'Random Forest - train MAE: {train_score}, test MAE: {test_score}')\n",
        "\n",
        "print(reg.get_params())"
      ],
      "execution_count": 21,
      "outputs": [
        {
          "output_type": "stream",
          "text": [
            "Random Forest - train MAE: 117.65000000000009, test MAE: 319.8699999999999\n",
            "{'bootstrap': True, 'ccp_alpha': 0.0, 'criterion': 'mse', 'max_depth': None, 'max_features': 'auto', 'max_leaf_nodes': None, 'max_samples': None, 'min_impurity_decrease': 0.0, 'min_impurity_split': None, 'min_samples_leaf': 1, 'min_samples_split': 2, 'min_weight_fraction_leaf': 0.0, 'n_estimators': 100, 'n_jobs': None, 'oob_score': False, 'random_state': 78, 'verbose': 0, 'warm_start': False}\n"
          ],
          "name": "stdout"
        }
      ]
    },
    {
      "cell_type": "code",
      "metadata": {
        "id": "hP9r2qbPYJpG",
        "outputId": "b9b48868-4a87-475b-a9f3-b69cd7966b9e",
        "colab": {
          "base_uri": "https://localhost:8080/"
        }
      },
      "source": [
        "params = {\n",
        "    'criterion': [\"mae\"], \n",
        "    'max_depth': [2, 10, 20, 30, 40, 50, 60, 70, 80, 90, 100],\n",
        "    'max_features': ['auto', 'sqrt'],\n",
        "    'min_samples_leaf': [1,2,4,8,10], \n",
        "    'min_samples_split': [2,5,10], \n",
        "    'n_estimators': [100, 150, 200, 300, 400, 500, 600, 1000]}\n",
        "\n",
        "rs_rf = RandomizedSearchCV(reg, params, n_iter=10, cv=3, verbose=2, scoring = make_scorer(median_absolute_error))\n",
        "rs_rf.fit(x_train, y_train)\n",
        "\n",
        "best_score = rs_rf.best_score_\n",
        "best_params = rs_rf.best_params_\n",
        "print(\"Best score on cross validation: {}\".format(best_score))\n",
        "print(\"Best params: \")\n",
        "for param_name in sorted(best_params.keys()):\n",
        "    print('%s: %r' % (param_name, best_params[param_name]))\n",
        "\n",
        "# #best_score = rs_clf.best_score_\n",
        "# best_params = rs_clf.best_params_\n",
        "# print(\"Best score on cross validation: {}\".format(best_score))\n",
        "# print(\"Best params: \")\n",
        "# for param_name in sorted(best_params.keys()):\n",
        "#     print('%s: %r' % (param_name, best_params[param_name]))"
      ],
      "execution_count": 27,
      "outputs": [
        {
          "output_type": "stream",
          "text": [
            "Fitting 3 folds for each of 10 candidates, totalling 30 fits\n",
            "[CV] n_estimators=400, min_samples_split=10, min_samples_leaf=4, max_features=auto, max_depth=50, criterion=mae \n"
          ],
          "name": "stdout"
        },
        {
          "output_type": "stream",
          "text": [
            "[Parallel(n_jobs=1)]: Using backend SequentialBackend with 1 concurrent workers.\n"
          ],
          "name": "stderr"
        },
        {
          "output_type": "stream",
          "text": [
            "[CV]  n_estimators=400, min_samples_split=10, min_samples_leaf=4, max_features=auto, max_depth=50, criterion=mae, total=11.9min\n",
            "[CV] n_estimators=400, min_samples_split=10, min_samples_leaf=4, max_features=auto, max_depth=50, criterion=mae \n"
          ],
          "name": "stdout"
        },
        {
          "output_type": "stream",
          "text": [
            "[Parallel(n_jobs=1)]: Done   1 out of   1 | elapsed: 11.9min remaining:    0.0s\n"
          ],
          "name": "stderr"
        },
        {
          "output_type": "stream",
          "text": [
            "[CV]  n_estimators=400, min_samples_split=10, min_samples_leaf=4, max_features=auto, max_depth=50, criterion=mae, total=11.8min\n",
            "[CV] n_estimators=400, min_samples_split=10, min_samples_leaf=4, max_features=auto, max_depth=50, criterion=mae \n",
            "[CV]  n_estimators=400, min_samples_split=10, min_samples_leaf=4, max_features=auto, max_depth=50, criterion=mae, total=11.8min\n",
            "[CV] n_estimators=500, min_samples_split=2, min_samples_leaf=1, max_features=sqrt, max_depth=20, criterion=mae \n",
            "[CV]  n_estimators=500, min_samples_split=2, min_samples_leaf=1, max_features=sqrt, max_depth=20, criterion=mae, total= 2.0min\n",
            "[CV] n_estimators=500, min_samples_split=2, min_samples_leaf=1, max_features=sqrt, max_depth=20, criterion=mae \n",
            "[CV]  n_estimators=500, min_samples_split=2, min_samples_leaf=1, max_features=sqrt, max_depth=20, criterion=mae, total= 2.0min\n",
            "[CV] n_estimators=500, min_samples_split=2, min_samples_leaf=1, max_features=sqrt, max_depth=20, criterion=mae \n",
            "[CV]  n_estimators=500, min_samples_split=2, min_samples_leaf=1, max_features=sqrt, max_depth=20, criterion=mae, total= 2.0min\n",
            "[CV] n_estimators=300, min_samples_split=10, min_samples_leaf=4, max_features=sqrt, max_depth=20, criterion=mae \n",
            "[CV]  n_estimators=300, min_samples_split=10, min_samples_leaf=4, max_features=sqrt, max_depth=20, criterion=mae, total=  56.7s\n",
            "[CV] n_estimators=300, min_samples_split=10, min_samples_leaf=4, max_features=sqrt, max_depth=20, criterion=mae \n",
            "[CV]  n_estimators=300, min_samples_split=10, min_samples_leaf=4, max_features=sqrt, max_depth=20, criterion=mae, total=  57.2s\n",
            "[CV] n_estimators=300, min_samples_split=10, min_samples_leaf=4, max_features=sqrt, max_depth=20, criterion=mae \n",
            "[CV]  n_estimators=300, min_samples_split=10, min_samples_leaf=4, max_features=sqrt, max_depth=20, criterion=mae, total=  57.4s\n",
            "[CV] n_estimators=150, min_samples_split=2, min_samples_leaf=10, max_features=sqrt, max_depth=2, criterion=mae \n",
            "[CV]  n_estimators=150, min_samples_split=2, min_samples_leaf=10, max_features=sqrt, max_depth=2, criterion=mae, total=   5.3s\n",
            "[CV] n_estimators=150, min_samples_split=2, min_samples_leaf=10, max_features=sqrt, max_depth=2, criterion=mae \n",
            "[CV]  n_estimators=150, min_samples_split=2, min_samples_leaf=10, max_features=sqrt, max_depth=2, criterion=mae, total=   5.3s\n",
            "[CV] n_estimators=150, min_samples_split=2, min_samples_leaf=10, max_features=sqrt, max_depth=2, criterion=mae \n",
            "[CV]  n_estimators=150, min_samples_split=2, min_samples_leaf=10, max_features=sqrt, max_depth=2, criterion=mae, total=   5.4s\n",
            "[CV] n_estimators=200, min_samples_split=2, min_samples_leaf=4, max_features=auto, max_depth=20, criterion=mae \n",
            "[CV]  n_estimators=200, min_samples_split=2, min_samples_leaf=4, max_features=auto, max_depth=20, criterion=mae, total= 5.9min\n",
            "[CV] n_estimators=200, min_samples_split=2, min_samples_leaf=4, max_features=auto, max_depth=20, criterion=mae \n",
            "[CV]  n_estimators=200, min_samples_split=2, min_samples_leaf=4, max_features=auto, max_depth=20, criterion=mae, total= 5.9min\n",
            "[CV] n_estimators=200, min_samples_split=2, min_samples_leaf=4, max_features=auto, max_depth=20, criterion=mae \n",
            "[CV]  n_estimators=200, min_samples_split=2, min_samples_leaf=4, max_features=auto, max_depth=20, criterion=mae, total= 5.8min\n",
            "[CV] n_estimators=500, min_samples_split=2, min_samples_leaf=4, max_features=sqrt, max_depth=100, criterion=mae \n",
            "[CV]  n_estimators=500, min_samples_split=2, min_samples_leaf=4, max_features=sqrt, max_depth=100, criterion=mae, total= 1.7min\n",
            "[CV] n_estimators=500, min_samples_split=2, min_samples_leaf=4, max_features=sqrt, max_depth=100, criterion=mae \n",
            "[16:27:20] ======== Monitor: Learner ========\n",
            "[16:27:20] GetGradient: 0.0217704s, 120 calls @ 181us\n",
            "[16:27:20] PredictRaw: 0.00841611s, 120 calls @ 70us\n",
            "[16:27:20] UpdateOneIter: 2.487s, 120 calls @ 20725us\n",
            "[16:27:20] ======== Monitor: GBTree ========\n",
            "[16:27:20] BoostNewTrees: 1.47664s, 120 calls @ 12305us\n",
            "[16:27:20] CommitModel: 0.979243s, 120 calls @ 8160us\n",
            "[CV]  n_estimators=500, min_samples_split=2, min_samples_leaf=4, max_features=sqrt, max_depth=100, criterion=mae, total= 1.7min\n",
            "[CV] n_estimators=500, min_samples_split=2, min_samples_leaf=4, max_features=sqrt, max_depth=100, criterion=mae \n",
            "[CV]  n_estimators=500, min_samples_split=2, min_samples_leaf=4, max_features=sqrt, max_depth=100, criterion=mae, total= 1.7min\n",
            "[CV] n_estimators=400, min_samples_split=10, min_samples_leaf=1, max_features=auto, max_depth=10, criterion=mae \n",
            "[CV]  n_estimators=400, min_samples_split=10, min_samples_leaf=1, max_features=auto, max_depth=10, criterion=mae, total=14.1min\n",
            "[CV] n_estimators=400, min_samples_split=10, min_samples_leaf=1, max_features=auto, max_depth=10, criterion=mae \n",
            "[CV]  n_estimators=400, min_samples_split=10, min_samples_leaf=1, max_features=auto, max_depth=10, criterion=mae, total=14.0min\n",
            "[CV] n_estimators=400, min_samples_split=10, min_samples_leaf=1, max_features=auto, max_depth=10, criterion=mae \n",
            "[CV]  n_estimators=400, min_samples_split=10, min_samples_leaf=1, max_features=auto, max_depth=10, criterion=mae, total=14.0min\n",
            "[CV] n_estimators=200, min_samples_split=2, min_samples_leaf=10, max_features=sqrt, max_depth=100, criterion=mae \n",
            "[CV]  n_estimators=200, min_samples_split=2, min_samples_leaf=10, max_features=sqrt, max_depth=100, criterion=mae, total=  23.3s\n",
            "[CV] n_estimators=200, min_samples_split=2, min_samples_leaf=10, max_features=sqrt, max_depth=100, criterion=mae \n",
            "[CV]  n_estimators=200, min_samples_split=2, min_samples_leaf=10, max_features=sqrt, max_depth=100, criterion=mae, total=  24.1s\n",
            "[CV] n_estimators=200, min_samples_split=2, min_samples_leaf=10, max_features=sqrt, max_depth=100, criterion=mae \n",
            "[CV]  n_estimators=200, min_samples_split=2, min_samples_leaf=10, max_features=sqrt, max_depth=100, criterion=mae, total=  23.1s\n",
            "[CV] n_estimators=300, min_samples_split=2, min_samples_leaf=4, max_features=auto, max_depth=2, criterion=mae \n",
            "[CV]  n_estimators=300, min_samples_split=2, min_samples_leaf=4, max_features=auto, max_depth=2, criterion=mae, total= 4.6min\n",
            "[CV] n_estimators=300, min_samples_split=2, min_samples_leaf=4, max_features=auto, max_depth=2, criterion=mae \n",
            "[CV]  n_estimators=300, min_samples_split=2, min_samples_leaf=4, max_features=auto, max_depth=2, criterion=mae, total= 4.6min\n",
            "[CV] n_estimators=300, min_samples_split=2, min_samples_leaf=4, max_features=auto, max_depth=2, criterion=mae \n",
            "[CV]  n_estimators=300, min_samples_split=2, min_samples_leaf=4, max_features=auto, max_depth=2, criterion=mae, total= 4.5min\n",
            "[CV] n_estimators=150, min_samples_split=2, min_samples_leaf=4, max_features=auto, max_depth=40, criterion=mae \n",
            "[CV]  n_estimators=150, min_samples_split=2, min_samples_leaf=4, max_features=auto, max_depth=40, criterion=mae, total= 4.5min\n",
            "[CV] n_estimators=150, min_samples_split=2, min_samples_leaf=4, max_features=auto, max_depth=40, criterion=mae \n",
            "[CV]  n_estimators=150, min_samples_split=2, min_samples_leaf=4, max_features=auto, max_depth=40, criterion=mae, total= 4.4min\n",
            "[CV] n_estimators=150, min_samples_split=2, min_samples_leaf=4, max_features=auto, max_depth=40, criterion=mae \n",
            "[CV]  n_estimators=150, min_samples_split=2, min_samples_leaf=4, max_features=auto, max_depth=40, criterion=mae, total= 4.4min\n"
          ],
          "name": "stdout"
        },
        {
          "output_type": "stream",
          "text": [
            "[Parallel(n_jobs=1)]: Done  30 out of  30 | elapsed: 137.9min finished\n"
          ],
          "name": "stderr"
        },
        {
          "output_type": "stream",
          "text": [
            "Best score on cross validation: 729.9133333333334\n",
            "Best params: \n",
            "criterion: 'mae'\n",
            "max_depth: 2\n",
            "max_features: 'sqrt'\n",
            "min_samples_leaf: 10\n",
            "min_samples_split: 2\n",
            "n_estimators: 150\n"
          ],
          "name": "stdout"
        }
      ]
    },
    {
      "cell_type": "code",
      "metadata": {
        "id": "67U_fnI0RTwp",
        "colab": {
          "base_uri": "https://localhost:8080/"
        },
        "outputId": "ec9fae57-8edd-4654-9ae2-13eaae7f9f4b"
      },
      "source": [
        "import xgboost as xgb\n",
        "\n",
        "xgbr = xgb.XGBRegressor(verbosity=0)\n",
        "xgbr.fit(x_train, y_train)\n",
        "pred_test = xgbr.predict(x_test)\n",
        "pred_train = xgbr.predict(x_train)\n",
        "\n",
        "train_score = median_absolute_error(pred_train, y_train)\n",
        "test_score = median_absolute_error(pred_test, y_test)\n",
        "\n",
        "print(f'XGBoost - train MAE: {train_score}, test MAE: {test_score}')"
      ],
      "execution_count": 15,
      "outputs": [
        {
          "output_type": "stream",
          "text": [
            "XGBoost - train MAE: 417.1044921875, test MAE: 460.370361328125\n"
          ],
          "name": "stdout"
        }
      ]
    },
    {
      "cell_type": "code",
      "metadata": {
        "id": "CNDWn1vDX-8C"
      },
      "source": [
        "print()"
      ],
      "execution_count": null,
      "outputs": []
    }
  ]
}