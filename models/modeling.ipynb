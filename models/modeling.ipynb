{
 "nbformat": 4,
 "nbformat_minor": 0,
 "metadata": {
  "kernelspec": {
   "display_name": "Python 3",
   "language": "python",
   "name": "python3"
  },
  "language_info": {
   "codemirror_mode": {
    "name": "ipython",
    "version": 2
   },
   "file_extension": ".py",
   "mimetype": "text/x-python",
   "name": "python",
   "nbconvert_exporter": "python",
   "pygments_lexer": "ipython2",
   "version": "2.7.6"
  },
  "colab": {
   "name": "modeling.ipynb",
   "provenance": []
  }
 },
 "cells": [
  {
   "cell_type": "code",
   "metadata": {
    "pycharm": {
     "name": "#%%\n"
    },
    "id": "3LIz0rYYryi_"
   },
   "source": [
    "from sklearn.tree import DecisionTreeRegressor\n",
    "import pandas as pd\n",
    "import datetime\n",
    "import os\n",
    "\n",
    "def load():\n",
    "    data_dir = os.path.abspath(\"../data/data_v3\") + \"\\\\\"\n",
    "    data = {}\n",
    "    data[\"deliveries\"] = pd.read_json(data_dir + \"deliveries.jsonl\", lines = True)\n",
    "    data[\"sessions\"] = pd.read_json(data_dir + \"sessions.jsonl\", lines = True)\n",
    "    data[\"products\"] = pd.read_json(data_dir + \"products.jsonl\", lines = True)\n",
    "    data[\"users\"] = pd.read_json(data_dir + \"users.jsonl\", lines = True)\n",
    "    return data\n",
    "\n",
    "def preprocess_time(deliveries: pd.DataFrame):\n",
    "    deliveries[\"purchase_timestamp\"] = pd.to_datetime ( deliveries[\"purchase_timestamp\"], format='%Y-%m-%dT%H:%M', errors=\"coerce\")\n",
    "    deliveries['delivery_timestamp'] = pd.to_datetime ( deliveries[\"delivery_timestamp\"], format='%Y-%m-%dT%H:%M:%S', errors=\"coerce\")\n",
    "    return deliveries\n",
    "\n",
    "\n",
    "def merge(data: {}) -> pd.DataFrame:\n",
    "    s = data[\"sessions\"]\n",
    "    d = data[\"deliveries\"]\n",
    "    p = data[\"products\"]\n",
    "    u = data[\"users\"]\n",
    "    purchases = s[s[\"purchase_id\"].notnull()].copy()\n",
    "    merged = pd.merge(purchases, d, on='purchase_id', how = \"outer\")\n",
    "    merged2 = pd.merge(merged, u, on=\"user_id\", how = \"outer\")\n",
    "    merged_full = pd.merge(merged2, p, on=\"product_id\", how = \"left\")\n",
    "    return merged_full\n",
    "\n",
    "def select_columns (merged):\n",
    "    to_select = [\"product_id\", \"offered_discount\", \"purchase_timestamp\", \"delivery_timestamp\", \"delivery_company\", \"city\", \"street\", \"product_name\", \"category_path\", \"price\"]\n",
    "    return merged[to_select]"
   ],
   "execution_count": 1,
   "outputs": []
  },
  {
   "cell_type": "code",
   "metadata": {
    "pycharm": {
     "name": "#%%\n"
    },
    "colab": {
     "base_uri": "https://localhost:8080/",
     "height": 417
    },
    "id": "8aKh3vLlryjP",
    "outputId": "bd8fb533-042e-4b38-a7cf-3683136a24d1"
   },
   "source": [
    "# load data, make sure timestamps are of datetime type and merge data\n",
    "data = load()\n",
    "data[\"deliveries\"] = preprocess_time(data[\"deliveries\"])\n",
    "merged = merge(data)\n",
    "merged.head()"
   ],
   "execution_count": 30,
   "outputs": [
    {
     "output_type": "execute_result",
     "data": {
      "text/html": [
       "<div>\n",
       "<style scoped>\n",
       "    .dataframe tbody tr th:only-of-type {\n",
       "        vertical-align: middle;\n",
       "    }\n",
       "\n",
       "    .dataframe tbody tr th {\n",
       "        vertical-align: top;\n",
       "    }\n",
       "\n",
       "    .dataframe thead th {\n",
       "        text-align: right;\n",
       "    }\n",
       "</style>\n",
       "<table border=\"1\" class=\"dataframe\">\n",
       "  <thead>\n",
       "    <tr style=\"text-align: right;\">\n",
       "      <th></th>\n",
       "      <th>session_id</th>\n",
       "      <th>timestamp</th>\n",
       "      <th>user_id</th>\n",
       "      <th>product_id</th>\n",
       "      <th>event_type</th>\n",
       "      <th>offered_discount</th>\n",
       "      <th>purchase_id</th>\n",
       "      <th>purchase_timestamp</th>\n",
       "      <th>delivery_timestamp</th>\n",
       "      <th>delivery_company</th>\n",
       "      <th>name</th>\n",
       "      <th>city</th>\n",
       "      <th>street</th>\n",
       "      <th>product_name</th>\n",
       "      <th>category_path</th>\n",
       "      <th>price</th>\n",
       "    </tr>\n",
       "  </thead>\n",
       "  <tbody>\n",
       "    <tr>\n",
       "      <th>0</th>\n",
       "      <td>100002.0</td>\n",
       "      <td>2021-04-01 15:52:47</td>\n",
       "      <td>102</td>\n",
       "      <td>1234.0</td>\n",
       "      <td>BUY_PRODUCT</td>\n",
       "      <td>0.0</td>\n",
       "      <td>20001.0</td>\n",
       "      <td>2021-04-01 15:52:47</td>\n",
       "      <td>2021-04-02 14:06:34.432964</td>\n",
       "      <td>620.0</td>\n",
       "      <td>Aurelia Malon</td>\n",
       "      <td>Police</td>\n",
       "      <td>pl. Brzoskwiniowa 11/53</td>\n",
       "      <td>Sony DVP-SR760</td>\n",
       "      <td>Sprzęt RTV;Video;Odtwarzacze DVD</td>\n",
       "      <td>193.00</td>\n",
       "    </tr>\n",
       "    <tr>\n",
       "      <th>1</th>\n",
       "      <td>100003.0</td>\n",
       "      <td>2021-04-01 02:26:23</td>\n",
       "      <td>102</td>\n",
       "      <td>1289.0</td>\n",
       "      <td>BUY_PRODUCT</td>\n",
       "      <td>15.0</td>\n",
       "      <td>20002.0</td>\n",
       "      <td>2021-04-01 02:26:23</td>\n",
       "      <td>2021-04-02 10:45:27.707128</td>\n",
       "      <td>360.0</td>\n",
       "      <td>Aurelia Malon</td>\n",
       "      <td>Police</td>\n",
       "      <td>pl. Brzoskwiniowa 11/53</td>\n",
       "      <td>Philips SDV5225</td>\n",
       "      <td>Sprzęt RTV;Video;Telewizory i akcesoria;Anteny...</td>\n",
       "      <td>129.00</td>\n",
       "    </tr>\n",
       "    <tr>\n",
       "      <th>2</th>\n",
       "      <td>100004.0</td>\n",
       "      <td>2021-01-03 05:11:17</td>\n",
       "      <td>102</td>\n",
       "      <td>1009.0</td>\n",
       "      <td>BUY_PRODUCT</td>\n",
       "      <td>0.0</td>\n",
       "      <td>20003.0</td>\n",
       "      <td>2021-01-03 05:11:17</td>\n",
       "      <td>2021-01-04 15:43:07.635371</td>\n",
       "      <td>620.0</td>\n",
       "      <td>Aurelia Malon</td>\n",
       "      <td>Police</td>\n",
       "      <td>pl. Brzoskwiniowa 11/53</td>\n",
       "      <td>Kinect Joy Ride (Xbox 360)</td>\n",
       "      <td>Gry i konsole;Gry na konsole;Gry Xbox 360</td>\n",
       "      <td>69.00</td>\n",
       "    </tr>\n",
       "    <tr>\n",
       "      <th>3</th>\n",
       "      <td>100005.0</td>\n",
       "      <td>2021-02-17 12:59:54</td>\n",
       "      <td>102</td>\n",
       "      <td>1001.0</td>\n",
       "      <td>BUY_PRODUCT</td>\n",
       "      <td>5.0</td>\n",
       "      <td>20004.0</td>\n",
       "      <td>2021-02-17 12:59:54</td>\n",
       "      <td>2021-02-18 11:52:42.608746</td>\n",
       "      <td>620.0</td>\n",
       "      <td>Aurelia Malon</td>\n",
       "      <td>Police</td>\n",
       "      <td>pl. Brzoskwiniowa 11/53</td>\n",
       "      <td>Telefon Siemens Gigaset DA310</td>\n",
       "      <td>Telefony i akcesoria;Telefony stacjonarne</td>\n",
       "      <td>58.97</td>\n",
       "    </tr>\n",
       "    <tr>\n",
       "      <th>4</th>\n",
       "      <td>100006.0</td>\n",
       "      <td>2021-02-13 09:17:52</td>\n",
       "      <td>102</td>\n",
       "      <td>1057.0</td>\n",
       "      <td>BUY_PRODUCT</td>\n",
       "      <td>5.0</td>\n",
       "      <td>20005.0</td>\n",
       "      <td>2021-02-13 09:17:52</td>\n",
       "      <td>2021-02-15 08:59:28.973167</td>\n",
       "      <td>620.0</td>\n",
       "      <td>Aurelia Malon</td>\n",
       "      <td>Police</td>\n",
       "      <td>pl. Brzoskwiniowa 11/53</td>\n",
       "      <td>Doom 3 (PC)</td>\n",
       "      <td>Gry i konsole;Gry komputerowe</td>\n",
       "      <td>19.99</td>\n",
       "    </tr>\n",
       "  </tbody>\n",
       "</table>\n",
       "</div>"
      ],
      "text/plain": [
       "   session_id  ...   price\n",
       "0    100002.0  ...  193.00\n",
       "1    100003.0  ...  129.00\n",
       "2    100004.0  ...   69.00\n",
       "3    100005.0  ...   58.97\n",
       "4    100006.0  ...   19.99\n",
       "\n",
       "[5 rows x 16 columns]"
      ]
     },
     "metadata": {
      "tags": []
     },
     "execution_count": 30
    }
   ]
  },
  {
   "cell_type": "code",
   "metadata": {
    "colab": {
     "base_uri": "https://localhost:8080/"
    },
    "id": "wVzdMZwUzEqx",
    "outputId": "862b17aa-8afc-42d4-8158-5892d17c6b1b"
   },
   "source": [
    "# drop that one row with user who didn't make a purchase\n",
    "merged = merged.dropna()\n",
    "merged.shape"
   ],
   "execution_count": 31,
   "outputs": [
    {
     "output_type": "execute_result",
     "data": {
      "text/plain": [
       "(7287, 16)"
      ]
     },
     "metadata": {
      "tags": []
     },
     "execution_count": 31
    }
   ]
  },
  {
   "cell_type": "code",
   "metadata": {
    "id": "qRjoCmBeyb7C"
   },
   "source": [
    "def transform_columns(merged_df):\n",
    "  merged_df[\"time_difference\"] = merged_df[\"delivery_timestamp\"] - merged_df[\"purchase_timestamp\"]\n",
    "  merged_df[\"time[min]\"] = merged_df[\"time_difference\"].apply(lambda x: int(round(x.total_seconds()/60)))\n",
    "  merged_df = merged_df.drop(labels=[\"time_difference\", \"delivery_timestamp\"], axis=1)\n",
    "\n",
    "  merged_df[\"street_name\"] = merged_df[\"street\"].apply(lambda x: x.split(\" \")[1])\n",
    "  merged_df[\"street_name*num\"] = merged_df[\"street\"].apply(lambda x: x.split(\" \")[1] + \" \" + x.split(\" \")[2])\n",
    "  merged_df = add_city_street(merged_df)\n",
    "  merged_df = merged_df.drop(labels=[\"street\"], axis=1)\n",
    "\n",
    "  merged_df[\"purchase_day_of_week\"] = merged_df[\"purchase_timestamp\"].apply(lambda x: x.dayofweek)\n",
    "  return merged_df\n",
    "\n",
    "def add_city_street(merged_df):\n",
    "  cities = merged_df[\"city\"].to_list()\n",
    "  streets = merged_df[\"street_name\"].to_list()\n",
    "\n",
    "  city_street = [cities[i] + \"/\" + streets[i] for i in range(len(cities))]\n",
    "\n",
    "  merged_df[\"city*stret_name\"] = city_street\n",
    "  return merged_df\n",
    "\n",
    "merged = select_columns(merged)\n",
    "merged = transform_columns(merged)\n"
   ],
   "execution_count": 32,
   "outputs": []
  },
  {
   "cell_type": "code",
   "metadata": {
    "colab": {
     "base_uri": "https://localhost:8080/",
     "height": 400
    },
    "id": "2t-x9jN82ZCP",
    "outputId": "f5e066df-f732-4289-8b1d-ad225de3b39a"
   },
   "source": [
    "merged.head()"
   ],
   "execution_count": 33,
   "outputs": [
    {
     "output_type": "execute_result",
     "data": {
      "text/html": [
       "<div>\n",
       "<style scoped>\n",
       "    .dataframe tbody tr th:only-of-type {\n",
       "        vertical-align: middle;\n",
       "    }\n",
       "\n",
       "    .dataframe tbody tr th {\n",
       "        vertical-align: top;\n",
       "    }\n",
       "\n",
       "    .dataframe thead th {\n",
       "        text-align: right;\n",
       "    }\n",
       "</style>\n",
       "<table border=\"1\" class=\"dataframe\">\n",
       "  <thead>\n",
       "    <tr style=\"text-align: right;\">\n",
       "      <th></th>\n",
       "      <th>product_id</th>\n",
       "      <th>offered_discount</th>\n",
       "      <th>purchase_timestamp</th>\n",
       "      <th>delivery_company</th>\n",
       "      <th>city</th>\n",
       "      <th>product_name</th>\n",
       "      <th>category_path</th>\n",
       "      <th>price</th>\n",
       "      <th>time[min]</th>\n",
       "      <th>street_name</th>\n",
       "      <th>street_name*num</th>\n",
       "      <th>city*stret_name</th>\n",
       "      <th>purchase_day_of_week</th>\n",
       "    </tr>\n",
       "  </thead>\n",
       "  <tbody>\n",
       "    <tr>\n",
       "      <th>0</th>\n",
       "      <td>1234.0</td>\n",
       "      <td>0.0</td>\n",
       "      <td>2021-04-01 15:52:47</td>\n",
       "      <td>620.0</td>\n",
       "      <td>Police</td>\n",
       "      <td>Sony DVP-SR760</td>\n",
       "      <td>Sprzęt RTV;Video;Odtwarzacze DVD</td>\n",
       "      <td>193.00</td>\n",
       "      <td>1334</td>\n",
       "      <td>Brzoskwiniowa</td>\n",
       "      <td>Brzoskwiniowa 11/53</td>\n",
       "      <td>Police/Brzoskwiniowa</td>\n",
       "      <td>3</td>\n",
       "    </tr>\n",
       "    <tr>\n",
       "      <th>1</th>\n",
       "      <td>1289.0</td>\n",
       "      <td>15.0</td>\n",
       "      <td>2021-04-01 02:26:23</td>\n",
       "      <td>360.0</td>\n",
       "      <td>Police</td>\n",
       "      <td>Philips SDV5225</td>\n",
       "      <td>Sprzęt RTV;Video;Telewizory i akcesoria;Anteny...</td>\n",
       "      <td>129.00</td>\n",
       "      <td>1939</td>\n",
       "      <td>Brzoskwiniowa</td>\n",
       "      <td>Brzoskwiniowa 11/53</td>\n",
       "      <td>Police/Brzoskwiniowa</td>\n",
       "      <td>3</td>\n",
       "    </tr>\n",
       "    <tr>\n",
       "      <th>2</th>\n",
       "      <td>1009.0</td>\n",
       "      <td>0.0</td>\n",
       "      <td>2021-01-03 05:11:17</td>\n",
       "      <td>620.0</td>\n",
       "      <td>Police</td>\n",
       "      <td>Kinect Joy Ride (Xbox 360)</td>\n",
       "      <td>Gry i konsole;Gry na konsole;Gry Xbox 360</td>\n",
       "      <td>69.00</td>\n",
       "      <td>2072</td>\n",
       "      <td>Brzoskwiniowa</td>\n",
       "      <td>Brzoskwiniowa 11/53</td>\n",
       "      <td>Police/Brzoskwiniowa</td>\n",
       "      <td>6</td>\n",
       "    </tr>\n",
       "    <tr>\n",
       "      <th>3</th>\n",
       "      <td>1001.0</td>\n",
       "      <td>5.0</td>\n",
       "      <td>2021-02-17 12:59:54</td>\n",
       "      <td>620.0</td>\n",
       "      <td>Police</td>\n",
       "      <td>Telefon Siemens Gigaset DA310</td>\n",
       "      <td>Telefony i akcesoria;Telefony stacjonarne</td>\n",
       "      <td>58.97</td>\n",
       "      <td>1373</td>\n",
       "      <td>Brzoskwiniowa</td>\n",
       "      <td>Brzoskwiniowa 11/53</td>\n",
       "      <td>Police/Brzoskwiniowa</td>\n",
       "      <td>2</td>\n",
       "    </tr>\n",
       "    <tr>\n",
       "      <th>4</th>\n",
       "      <td>1057.0</td>\n",
       "      <td>5.0</td>\n",
       "      <td>2021-02-13 09:17:52</td>\n",
       "      <td>620.0</td>\n",
       "      <td>Police</td>\n",
       "      <td>Doom 3 (PC)</td>\n",
       "      <td>Gry i konsole;Gry komputerowe</td>\n",
       "      <td>19.99</td>\n",
       "      <td>2862</td>\n",
       "      <td>Brzoskwiniowa</td>\n",
       "      <td>Brzoskwiniowa 11/53</td>\n",
       "      <td>Police/Brzoskwiniowa</td>\n",
       "      <td>5</td>\n",
       "    </tr>\n",
       "  </tbody>\n",
       "</table>\n",
       "</div>"
      ],
      "text/plain": [
       "   product_id  offered_discount  ...       city*stret_name  purchase_day_of_week\n",
       "0      1234.0               0.0  ...  Police/Brzoskwiniowa                     3\n",
       "1      1289.0              15.0  ...  Police/Brzoskwiniowa                     3\n",
       "2      1009.0               0.0  ...  Police/Brzoskwiniowa                     6\n",
       "3      1001.0               5.0  ...  Police/Brzoskwiniowa                     2\n",
       "4      1057.0               5.0  ...  Police/Brzoskwiniowa                     5\n",
       "\n",
       "[5 rows x 13 columns]"
      ]
     },
     "metadata": {
      "tags": []
     },
     "execution_count": 33
    }
   ]
  },
  {
   "cell_type": "code",
   "metadata": {
    "id": "oqO0gBAcKN3y"
   },
   "source": [
    "import numpy as np\n",
    "\n",
    "def encode_cyclical(df):\n",
    "  df[\"purchase_month\"] = df[\"purchase_timestamp\"].apply(lambda x: x.month)\n",
    "  df[\"purchase_day\"] = df[\"purchase_timestamp\"].apply(lambda x: x.day)\n",
    "  df[\"purchase_hour\"] = df[\"purchase_timestamp\"].apply(lambda x: x.hour)\n",
    "  df[\"purchase_min\"] = df[\"purchase_timestamp\"].apply(lambda x: x.minute)\n",
    "\n",
    "  cyclical = [(\"purchase_month\", 12), (\"purchase_day\", 30), (\"purchase_hour\", 24), \n",
    "              (\"purchase_min\", 60), (\"purchase_day_of_week\", 7)]\n",
    "\n",
    "  for feature, cycle in cyclical:\n",
    "    df = encode_one_cyclical(df, feature, cycle)\n",
    "    df = df.drop(feature, axis=1)\n",
    "  df = df.drop(\"purchase_timestamp\", axis=1)\n",
    "  return df\n",
    "\n",
    "def encode_one_cyclical(df, feature, num):\n",
    "  df[feature + \"_sin\"] = np.sin(df[feature] * (2 * np.pi/num))\n",
    "  df[feature + \"_cos\"] = np.cos(df[feature] * (2 * np.pi/num))\n",
    "  return df"
   ],
   "execution_count": 34,
   "outputs": []
  },
  {
   "cell_type": "code",
   "metadata": {
    "id": "X_5nF39wLBuK",
    "colab": {
     "base_uri": "https://localhost:8080/",
     "height": 400
    },
    "outputId": "39392f72-a66e-40a8-b008-e8555be03f19"
   },
   "source": [
    "merged = encode_cyclical(merged)\n",
    "merged.head()"
   ],
   "execution_count": 35,
   "outputs": [
    {
     "output_type": "execute_result",
     "data": {
      "text/html": [
       "<div>\n",
       "<style scoped>\n",
       "    .dataframe tbody tr th:only-of-type {\n",
       "        vertical-align: middle;\n",
       "    }\n",
       "\n",
       "    .dataframe tbody tr th {\n",
       "        vertical-align: top;\n",
       "    }\n",
       "\n",
       "    .dataframe thead th {\n",
       "        text-align: right;\n",
       "    }\n",
       "</style>\n",
       "<table border=\"1\" class=\"dataframe\">\n",
       "  <thead>\n",
       "    <tr style=\"text-align: right;\">\n",
       "      <th></th>\n",
       "      <th>product_id</th>\n",
       "      <th>offered_discount</th>\n",
       "      <th>delivery_company</th>\n",
       "      <th>city</th>\n",
       "      <th>product_name</th>\n",
       "      <th>category_path</th>\n",
       "      <th>price</th>\n",
       "      <th>time[min]</th>\n",
       "      <th>street_name</th>\n",
       "      <th>street_name*num</th>\n",
       "      <th>city*stret_name</th>\n",
       "      <th>purchase_month_sin</th>\n",
       "      <th>purchase_month_cos</th>\n",
       "      <th>purchase_day_sin</th>\n",
       "      <th>purchase_day_cos</th>\n",
       "      <th>purchase_hour_sin</th>\n",
       "      <th>purchase_hour_cos</th>\n",
       "      <th>purchase_min_sin</th>\n",
       "      <th>purchase_min_cos</th>\n",
       "      <th>purchase_day_of_week_sin</th>\n",
       "      <th>purchase_day_of_week_cos</th>\n",
       "    </tr>\n",
       "  </thead>\n",
       "  <tbody>\n",
       "    <tr>\n",
       "      <th>0</th>\n",
       "      <td>1234.0</td>\n",
       "      <td>0.0</td>\n",
       "      <td>620.0</td>\n",
       "      <td>Police</td>\n",
       "      <td>Sony DVP-SR760</td>\n",
       "      <td>Sprzęt RTV;Video;Odtwarzacze DVD</td>\n",
       "      <td>193.00</td>\n",
       "      <td>1334</td>\n",
       "      <td>Brzoskwiniowa</td>\n",
       "      <td>Brzoskwiniowa 11/53</td>\n",
       "      <td>Police/Brzoskwiniowa</td>\n",
       "      <td>0.866025</td>\n",
       "      <td>-0.500000</td>\n",
       "      <td>0.207912</td>\n",
       "      <td>0.978148</td>\n",
       "      <td>-7.071068e-01</td>\n",
       "      <td>-0.707107</td>\n",
       "      <td>-0.743145</td>\n",
       "      <td>0.669131</td>\n",
       "      <td>0.433884</td>\n",
       "      <td>-0.900969</td>\n",
       "    </tr>\n",
       "    <tr>\n",
       "      <th>1</th>\n",
       "      <td>1289.0</td>\n",
       "      <td>15.0</td>\n",
       "      <td>360.0</td>\n",
       "      <td>Police</td>\n",
       "      <td>Philips SDV5225</td>\n",
       "      <td>Sprzęt RTV;Video;Telewizory i akcesoria;Anteny...</td>\n",
       "      <td>129.00</td>\n",
       "      <td>1939</td>\n",
       "      <td>Brzoskwiniowa</td>\n",
       "      <td>Brzoskwiniowa 11/53</td>\n",
       "      <td>Police/Brzoskwiniowa</td>\n",
       "      <td>0.866025</td>\n",
       "      <td>-0.500000</td>\n",
       "      <td>0.207912</td>\n",
       "      <td>0.978148</td>\n",
       "      <td>5.000000e-01</td>\n",
       "      <td>0.866025</td>\n",
       "      <td>0.406737</td>\n",
       "      <td>-0.913545</td>\n",
       "      <td>0.433884</td>\n",
       "      <td>-0.900969</td>\n",
       "    </tr>\n",
       "    <tr>\n",
       "      <th>2</th>\n",
       "      <td>1009.0</td>\n",
       "      <td>0.0</td>\n",
       "      <td>620.0</td>\n",
       "      <td>Police</td>\n",
       "      <td>Kinect Joy Ride (Xbox 360)</td>\n",
       "      <td>Gry i konsole;Gry na konsole;Gry Xbox 360</td>\n",
       "      <td>69.00</td>\n",
       "      <td>2072</td>\n",
       "      <td>Brzoskwiniowa</td>\n",
       "      <td>Brzoskwiniowa 11/53</td>\n",
       "      <td>Police/Brzoskwiniowa</td>\n",
       "      <td>0.500000</td>\n",
       "      <td>0.866025</td>\n",
       "      <td>0.587785</td>\n",
       "      <td>0.809017</td>\n",
       "      <td>9.659258e-01</td>\n",
       "      <td>0.258819</td>\n",
       "      <td>0.913545</td>\n",
       "      <td>0.406737</td>\n",
       "      <td>-0.781831</td>\n",
       "      <td>0.623490</td>\n",
       "    </tr>\n",
       "    <tr>\n",
       "      <th>3</th>\n",
       "      <td>1001.0</td>\n",
       "      <td>5.0</td>\n",
       "      <td>620.0</td>\n",
       "      <td>Police</td>\n",
       "      <td>Telefon Siemens Gigaset DA310</td>\n",
       "      <td>Telefony i akcesoria;Telefony stacjonarne</td>\n",
       "      <td>58.97</td>\n",
       "      <td>1373</td>\n",
       "      <td>Brzoskwiniowa</td>\n",
       "      <td>Brzoskwiniowa 11/53</td>\n",
       "      <td>Police/Brzoskwiniowa</td>\n",
       "      <td>0.866025</td>\n",
       "      <td>0.500000</td>\n",
       "      <td>-0.406737</td>\n",
       "      <td>-0.913545</td>\n",
       "      <td>1.224647e-16</td>\n",
       "      <td>-1.000000</td>\n",
       "      <td>-0.104528</td>\n",
       "      <td>0.994522</td>\n",
       "      <td>0.974928</td>\n",
       "      <td>-0.222521</td>\n",
       "    </tr>\n",
       "    <tr>\n",
       "      <th>4</th>\n",
       "      <td>1057.0</td>\n",
       "      <td>5.0</td>\n",
       "      <td>620.0</td>\n",
       "      <td>Police</td>\n",
       "      <td>Doom 3 (PC)</td>\n",
       "      <td>Gry i konsole;Gry komputerowe</td>\n",
       "      <td>19.99</td>\n",
       "      <td>2862</td>\n",
       "      <td>Brzoskwiniowa</td>\n",
       "      <td>Brzoskwiniowa 11/53</td>\n",
       "      <td>Police/Brzoskwiniowa</td>\n",
       "      <td>0.866025</td>\n",
       "      <td>0.500000</td>\n",
       "      <td>0.406737</td>\n",
       "      <td>-0.913545</td>\n",
       "      <td>7.071068e-01</td>\n",
       "      <td>-0.707107</td>\n",
       "      <td>0.978148</td>\n",
       "      <td>-0.207912</td>\n",
       "      <td>-0.974928</td>\n",
       "      <td>-0.222521</td>\n",
       "    </tr>\n",
       "  </tbody>\n",
       "</table>\n",
       "</div>"
      ],
      "text/plain": [
       "   product_id  ...  purchase_day_of_week_cos\n",
       "0      1234.0  ...                 -0.900969\n",
       "1      1289.0  ...                 -0.900969\n",
       "2      1009.0  ...                  0.623490\n",
       "3      1001.0  ...                 -0.222521\n",
       "4      1057.0  ...                 -0.222521\n",
       "\n",
       "[5 rows x 21 columns]"
      ]
     },
     "metadata": {
      "tags": []
     },
     "execution_count": 35
    }
   ]
  },
  {
   "cell_type": "code",
   "metadata": {
    "id": "pZceWb0uEx1y",
    "colab": {
     "base_uri": "https://localhost:8080/"
    },
    "outputId": "2a6256b8-5579-499b-8717-e44decac3ab0"
   },
   "source": [
    "from sklearn.model_selection import train_test_split\n",
    "categoricals = merged.select_dtypes(object).columns.to_list()\n",
    "categoricals.append(\"delivery_company\")\n",
    "\n",
    "x_df = merged.drop(\"time[min]\", axis=1)\n",
    "y_df = merged[\"time[min]\"]\n",
    "\n",
    "#x_test-0.25, x_train - 0.75\n",
    "x_train, x_test, y_train, y_test = train_test_split(x_df, y_df, test_size=0.25, random_state=78 )\n",
    "print(x_test.shape, y_test.shape, x_train.shape, y_train.shape)"
   ],
   "execution_count": 36,
   "outputs": [
    {
     "output_type": "stream",
     "text": [
      "(1822, 20) (1822,) (5465, 20) (5465,)\n"
     ],
     "name": "stdout"
    }
   ]
  },
  {
   "cell_type": "code",
   "metadata": {
    "id": "Myk7QZa3Hjzd",
    "colab": {
     "base_uri": "https://localhost:8080/"
    },
    "outputId": "af288266-993f-4eb6-8f7e-8c68d9b5a6a2"
   },
   "source": [
    "from sklearn.preprocessing import OneHotEncoder\n",
    "\n",
    "encoder = OneHotEncoder(sparse=False, handle_unknown='ignore')\n",
    "\n",
    "encoded_train = pd.DataFrame(encoder.fit_transform(x_train[categoricals]), index = x_train.index)\n",
    "encoded_test = pd.DataFrame(encoder.transform(x_test[categoricals]), index = x_test.index)\n",
    "\n",
    "x_train = pd.concat([x_train.drop(categoricals, axis=1), encoded_train], axis=1)\n",
    "x_test = pd.concat([x_test.drop(categoricals, axis=1), encoded_test], axis=1)\n",
    "\n",
    "print(x_test.shape, y_test.shape, x_train.shape, y_train.shape)"
   ],
   "execution_count": 37,
   "outputs": [
    {
     "output_type": "stream",
     "text": [
      "(1822, 661) (1822,) (1458, 658) (1458,) (5465, 661) (5465,)\n"
     ],
     "name": "stdout"
    }
   ]
  },
  {
   "cell_type": "code",
   "metadata": {
    "id": "TtFBrCWS3OU6"
   },
   "source": [
    "import pickle\n",
    "with open(\"oh_encoder.pkl\", \"wb\") as f:\n",
    "  pickle.dump(encoder, f)"
   ],
   "execution_count": 38,
   "outputs": []
  },
  {
   "cell_type": "code",
   "metadata": {
    "id": "XUscNAHiRbIY",
    "colab": {
     "base_uri": "https://localhost:8080/"
    },
    "outputId": "bdc26766-99a4-40cd-f5cc-5d266c896884"
   },
   "source": [
    "x_test.dtypes.unique()"
   ],
   "execution_count": 39,
   "outputs": [
    {
     "output_type": "execute_result",
     "data": {
      "text/plain": [
       "array([dtype('float64')], dtype=object)"
      ]
     },
     "metadata": {
      "tags": []
     },
     "execution_count": 39
    }
   ]
  },
  {
   "cell_type": "code",
   "metadata": {
    "id": "qQIYHEc-Q2Hp",
    "colab": {
     "base_uri": "https://localhost:8080/"
    },
    "outputId": "7a9640ef-8eb4-41fd-ecf5-de0e66661487"
   },
   "source": [
    "from sklearn.metrics import median_absolute_error\n",
    "from sklearn.linear_model import LinearRegression\n",
    "\n",
    "reg = LinearRegression()\n",
    "reg.fit(x_train, y_train)\n",
    "pred_train_reg = reg.predict(x_train)\n",
    "pred_test_reg = reg.predict(x_test)\n",
    "\n",
    "train_score = median_absolute_error(pred_train_reg, y_train)\n",
    "test_score = median_absolute_error(pred_test_reg, y_test)\n",
    "print(f'LinearRegression - train MAE: {train_score}, test MAE: {test_score}')\n",
    "\n",
    "with open(\"linear_regression.pkl\", \"wb\") as f:\n",
    "  pickle.dump(reg, f)"
   ],
   "execution_count": 40,
   "outputs": [
    {
     "output_type": "stream",
     "text": [
      "LinearRegression - train MAE: 489.02162159222917, test MAE: 504.14735076582633\n"
     ],
     "name": "stdout"
    }
   ]
  },
  {
   "cell_type": "code",
   "metadata": {
    "id": "miy6aTG7RKqY",
    "colab": {
     "base_uri": "https://localhost:8080/"
    },
    "outputId": "8c51ea7d-befb-43d4-e199-84398e501a58"
   },
   "source": [
    "from sklearn.ensemble import RandomForestRegressor\n",
    "\n",
    "reg = RandomForestRegressor(random_state=78)\n",
    "reg.fit(x_train, y_train)\n",
    "pred_train_rand = reg.predict(x_train)\n",
    "pred_test_rand = reg.predict(x_test)\n",
    "\n",
    "train_score = median_absolute_error(pred_train_rand, y_train)\n",
    "test_score = median_absolute_error(pred_test_rand, y_test)\n",
    "print(f'Random Forest - train MAE: {train_score}, test MAE: {test_score}')"
   ],
   "execution_count": 41,
   "outputs": [
    {
     "output_type": "stream",
     "text": [
      "Random Forest - train MAE: 114.15000000000009, test MAE: 319.20500000000004\n"
     ],
     "name": "stdout"
    }
   ]
  },
  {
   "cell_type": "code",
   "metadata": {
    "id": "z5e7wocbZuzM",
    "outputId": "6c604335-8d2a-4bb7-d1ca-daa031e77552",
    "colab": {
     "base_uri": "https://localhost:8080/",
     "height": 747
    }
   },
   "source": [
    "import seaborn as sns\n",
    "import matplotlib.pyplot as plt\n",
    "\n",
    "fig, axes = plt.subplots(1,2,figsize=(18,12))\n",
    "\n",
    "axes[0].set_title(\"Random Forest\")\n",
    "axes[1].set_title(\"Linear Regression\")\n",
    "\n",
    "sns.histplot(y_test - pred_test_rand, ax = axes[0], color=\"orange\")\n",
    "sns.histplot(y_test - pred_test_reg, ax = axes[1], color= \"red\")"
   ],
   "execution_count": 42,
   "outputs": [
    {
     "output_type": "execute_result",
     "data": {
      "text/plain": [
       "<matplotlib.axes._subplots.AxesSubplot at 0x7f119c56f990>"
      ]
     },
     "metadata": {
      "tags": []
     },
     "execution_count": 42
    },
    {
     "output_type": "display_data",
     "data": {
      "image/png": "[encoded data removed]",
      "text/plain": [
       "<Figure size 1296x864 with 2 Axes>"
      ]
     },
     "metadata": {
      "tags": [],
      "needs_background": "light"
     }
    }
   ]
  },
  {
   "cell_type": "code",
   "metadata": {
    "id": "v9kLNBvkoKML"
   },
   "source": [
    "import pickle\n",
    "with open(\"random_forest.pkl\", \"wb\") as f:\n",
    "  pickle.dump( reg, f)"
   ],
   "execution_count": 43,
   "outputs": []
  }
 ]
}