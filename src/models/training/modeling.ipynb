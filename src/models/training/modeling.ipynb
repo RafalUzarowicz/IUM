{
  "nbformat": 4,
  "nbformat_minor": 0,
  "metadata": {
    "kernelspec": {
      "display_name": "Python 3",
      "language": "python",
      "name": "python3"
    },
    "language_info": {
      "codemirror_mode": {
        "name": "ipython",
        "version": 2
      },
      "file_extension": ".py",
      "mimetype": "text/x-python",
      "name": "python",
      "nbconvert_exporter": "python",
      "pygments_lexer": "ipython2",
      "version": "2.7.6"
    },
    "colab": {
      "name": "modeling.ipynb",
      "provenance": []
    }
  },
  "cells": [
    {
      "cell_type": "code",
      "metadata": {
        "id": "jJctIYS_sSqA",
        "outputId": "fbe8fcde-e7a5-4740-d7be-a0fdd4aedbdc",
        "colab": {
          "base_uri": "https://localhost:8080/"
        }
      },
      "source": [
        "from google.colab import drive\n",
        "drive.mount('/content/drive')"
      ],
      "execution_count": 2,
      "outputs": [
        {
          "output_type": "stream",
          "text": [
            "Mounted at /content/drive\n"
          ],
          "name": "stdout"
        }
      ]
    },
    {
      "cell_type": "code",
      "metadata": {
        "pycharm": {
          "name": "#%%\n"
        },
        "id": "3LIz0rYYryi_"
      },
      "source": [
        "from sklearn.tree import DecisionTreeRegressor\n",
        "import pandas as pd\n",
        "import datetime\n",
        "\n",
        "def load():\n",
        "    # data_dir = \"/home/asia/Documents/projects/PyCharm/IUM/data/data_v3/\"\n",
        "    data_dir = \"/content/drive/MyDrive/Data/IUM/V3/\"\n",
        "    data = {}\n",
        "    data[\"deliveries\"] = pd.read_json(data_dir + \"deliveries.jsonl\", lines = True)\n",
        "    data[\"sessions\"] = pd.read_json(data_dir + \"sessions.jsonl\", lines = True)\n",
        "    data[\"products\"] = pd.read_json(data_dir + \"products.jsonl\", lines = True)\n",
        "    data[\"users\"] = pd.read_json(data_dir + \"users.jsonl\", lines = True)\n",
        "    return data\n",
        "\n",
        "def preprocess_time(deliveries: pd.DataFrame):\n",
        "    deliveries[\"purchase_timestamp\"] = pd.to_datetime ( deliveries[\"purchase_timestamp\"], format='%Y-%m-%dT%H:%M', errors=\"coerce\")\n",
        "    deliveries['delivery_timestamp'] = pd.to_datetime ( deliveries[\"delivery_timestamp\"], format='%Y-%m-%dT%H:%M:%S', errors=\"coerce\")\n",
        "    return deliveries\n",
        "\n",
        "\n",
        "def merge(data: {}) -> pd.DataFrame:\n",
        "    s = data[\"sessions\"]\n",
        "    d = data[\"deliveries\"]\n",
        "    p = data[\"products\"]\n",
        "    u = data[\"users\"]\n",
        "    purchases = s[s[\"purchase_id\"].notnull()].copy()\n",
        "    merged = pd.merge(purchases, d, on='purchase_id', how = \"outer\")\n",
        "    merged2 = pd.merge(merged, u, on=\"user_id\", how = \"outer\")\n",
        "    merged_full = pd.merge(merged2, p, on=\"product_id\", how = \"left\")\n",
        "    return merged_full\n",
        "\n",
        "def select_columns (merged):\n",
        "    to_select = [\"product_id\", \"offered_discount\", \"purchase_timestamp\", \"delivery_timestamp\", \"delivery_company\", \"city\", \"street\", \"product_name\", \"category_path\", \"price\"]\n",
        "    return merged[to_select]"
      ],
      "execution_count": 35,
      "outputs": []
    },
    {
      "cell_type": "code",
      "metadata": {
        "pycharm": {
          "name": "#%%\n"
        },
        "id": "8aKh3vLlryjP",
        "outputId": "19a615ac-da57-4509-8036-efb0a8699028",
        "colab": {
          "base_uri": "https://localhost:8080/",
          "height": 417
        }
      },
      "source": [
        "# load data, make sure timestamps are of datetime type and merge data\n",
        "data = load()\n",
        "data[\"deliveries\"] = preprocess_time(data[\"deliveries\"])\n",
        "merged = merge(data)\n",
        "merged.head()"
      ],
      "execution_count": 58,
      "outputs": [
        {
          "output_type": "execute_result",
          "data": {
            "text/html": [
              "<div>\n",
              "<style scoped>\n",
              "    .dataframe tbody tr th:only-of-type {\n",
              "        vertical-align: middle;\n",
              "    }\n",
              "\n",
              "    .dataframe tbody tr th {\n",
              "        vertical-align: top;\n",
              "    }\n",
              "\n",
              "    .dataframe thead th {\n",
              "        text-align: right;\n",
              "    }\n",
              "</style>\n",
              "<table border=\"1\" class=\"dataframe\">\n",
              "  <thead>\n",
              "    <tr style=\"text-align: right;\">\n",
              "      <th></th>\n",
              "      <th>session_id</th>\n",
              "      <th>timestamp</th>\n",
              "      <th>user_id</th>\n",
              "      <th>product_id</th>\n",
              "      <th>event_type</th>\n",
              "      <th>offered_discount</th>\n",
              "      <th>purchase_id</th>\n",
              "      <th>purchase_timestamp</th>\n",
              "      <th>delivery_timestamp</th>\n",
              "      <th>delivery_company</th>\n",
              "      <th>name</th>\n",
              "      <th>city</th>\n",
              "      <th>street</th>\n",
              "      <th>product_name</th>\n",
              "      <th>category_path</th>\n",
              "      <th>price</th>\n",
              "    </tr>\n",
              "  </thead>\n",
              "  <tbody>\n",
              "    <tr>\n",
              "      <th>0</th>\n",
              "      <td>100002.0</td>\n",
              "      <td>2021-04-01 15:52:47</td>\n",
              "      <td>102</td>\n",
              "      <td>1234.0</td>\n",
              "      <td>BUY_PRODUCT</td>\n",
              "      <td>0.0</td>\n",
              "      <td>20001.0</td>\n",
              "      <td>2021-04-01 15:52:47</td>\n",
              "      <td>2021-04-02 14:06:34.432964</td>\n",
              "      <td>620.0</td>\n",
              "      <td>Aurelia Malon</td>\n",
              "      <td>Police</td>\n",
              "      <td>pl. Brzoskwiniowa 11/53</td>\n",
              "      <td>Sony DVP-SR760</td>\n",
              "      <td>Sprzęt RTV;Video;Odtwarzacze DVD</td>\n",
              "      <td>193.00</td>\n",
              "    </tr>\n",
              "    <tr>\n",
              "      <th>1</th>\n",
              "      <td>100003.0</td>\n",
              "      <td>2021-04-01 02:26:23</td>\n",
              "      <td>102</td>\n",
              "      <td>1289.0</td>\n",
              "      <td>BUY_PRODUCT</td>\n",
              "      <td>15.0</td>\n",
              "      <td>20002.0</td>\n",
              "      <td>2021-04-01 02:26:23</td>\n",
              "      <td>2021-04-02 10:45:27.707128</td>\n",
              "      <td>360.0</td>\n",
              "      <td>Aurelia Malon</td>\n",
              "      <td>Police</td>\n",
              "      <td>pl. Brzoskwiniowa 11/53</td>\n",
              "      <td>Philips SDV5225</td>\n",
              "      <td>Sprzęt RTV;Video;Telewizory i akcesoria;Anteny...</td>\n",
              "      <td>129.00</td>\n",
              "    </tr>\n",
              "    <tr>\n",
              "      <th>2</th>\n",
              "      <td>100004.0</td>\n",
              "      <td>2021-01-03 05:11:17</td>\n",
              "      <td>102</td>\n",
              "      <td>1009.0</td>\n",
              "      <td>BUY_PRODUCT</td>\n",
              "      <td>0.0</td>\n",
              "      <td>20003.0</td>\n",
              "      <td>2021-01-03 05:11:17</td>\n",
              "      <td>2021-01-04 15:43:07.635371</td>\n",
              "      <td>620.0</td>\n",
              "      <td>Aurelia Malon</td>\n",
              "      <td>Police</td>\n",
              "      <td>pl. Brzoskwiniowa 11/53</td>\n",
              "      <td>Kinect Joy Ride (Xbox 360)</td>\n",
              "      <td>Gry i konsole;Gry na konsole;Gry Xbox 360</td>\n",
              "      <td>69.00</td>\n",
              "    </tr>\n",
              "    <tr>\n",
              "      <th>3</th>\n",
              "      <td>100005.0</td>\n",
              "      <td>2021-02-17 12:59:54</td>\n",
              "      <td>102</td>\n",
              "      <td>1001.0</td>\n",
              "      <td>BUY_PRODUCT</td>\n",
              "      <td>5.0</td>\n",
              "      <td>20004.0</td>\n",
              "      <td>2021-02-17 12:59:54</td>\n",
              "      <td>2021-02-18 11:52:42.608746</td>\n",
              "      <td>620.0</td>\n",
              "      <td>Aurelia Malon</td>\n",
              "      <td>Police</td>\n",
              "      <td>pl. Brzoskwiniowa 11/53</td>\n",
              "      <td>Telefon Siemens Gigaset DA310</td>\n",
              "      <td>Telefony i akcesoria;Telefony stacjonarne</td>\n",
              "      <td>58.97</td>\n",
              "    </tr>\n",
              "    <tr>\n",
              "      <th>4</th>\n",
              "      <td>100006.0</td>\n",
              "      <td>2021-02-13 09:17:52</td>\n",
              "      <td>102</td>\n",
              "      <td>1057.0</td>\n",
              "      <td>BUY_PRODUCT</td>\n",
              "      <td>5.0</td>\n",
              "      <td>20005.0</td>\n",
              "      <td>2021-02-13 09:17:52</td>\n",
              "      <td>2021-02-15 08:59:28.973167</td>\n",
              "      <td>620.0</td>\n",
              "      <td>Aurelia Malon</td>\n",
              "      <td>Police</td>\n",
              "      <td>pl. Brzoskwiniowa 11/53</td>\n",
              "      <td>Doom 3 (PC)</td>\n",
              "      <td>Gry i konsole;Gry komputerowe</td>\n",
              "      <td>19.99</td>\n",
              "    </tr>\n",
              "  </tbody>\n",
              "</table>\n",
              "</div>"
            ],
            "text/plain": [
              "   session_id  ...   price\n",
              "0    100002.0  ...  193.00\n",
              "1    100003.0  ...  129.00\n",
              "2    100004.0  ...   69.00\n",
              "3    100005.0  ...   58.97\n",
              "4    100006.0  ...   19.99\n",
              "\n",
              "[5 rows x 16 columns]"
            ]
          },
          "metadata": {
            "tags": []
          },
          "execution_count": 58
        }
      ]
    },
    {
      "cell_type": "code",
      "metadata": {
        "id": "wVzdMZwUzEqx",
        "outputId": "35a38ff5-fe97-470d-af9f-9a62e40ec3b9",
        "colab": {
          "base_uri": "https://localhost:8080/"
        }
      },
      "source": [
        "# drop that one row with user who didn't make a purchase\n",
        "merged = merged.dropna()\n",
        "merged.shape"
      ],
      "execution_count": 59,
      "outputs": [
        {
          "output_type": "execute_result",
          "data": {
            "text/plain": [
              "(7287, 16)"
            ]
          },
          "metadata": {
            "tags": []
          },
          "execution_count": 59
        }
      ]
    },
    {
      "cell_type": "code",
      "metadata": {
        "id": "qRjoCmBeyb7C"
      },
      "source": [
        "def transform_columns(merged_df):\n",
        "  merged_df[\"time_difference\"] = merged_df[\"delivery_timestamp\"] - merged_df[\"purchase_timestamp\"]\n",
        "  merged_df[\"time[min]\"] = merged_df[\"time_difference\"].apply(lambda x: int(round(x.total_seconds()/60)))\n",
        "  merged_df = merged_df.drop(labels=[\"time_difference\", \"delivery_timestamp\"], axis=1)\n",
        "\n",
        "  merged_df[\"street_name\"] = merged_df[\"street\"].apply(lambda x: x.split(\" \")[1])\n",
        "  merged_df[\"street_name*num\"] = merged_df[\"street\"].apply(lambda x: x.split(\" \")[1] + \" \" + x.split(\" \")[2])\n",
        "  merged_df = add_city_street(merged_df)\n",
        "  merged_df = merged_df.drop(labels=[\"street\"], axis=1)\n",
        "\n",
        "  merged_df[\"purchase_day_of_week\"] = merged_df[\"purchase_timestamp\"].apply(lambda x: x.dayofweek)\n",
        "  merged_df[\"purchase_day\"] = merged_df[\"purchase_timestamp\"].apply(lambda x: x.replace(second=0, minute=0, hour=0))\n",
        "  merged_df[\"purchase_minute\"] = merged_df[\"purchase_timestamp\"].apply(lambda x: x.replace(second=0, month=1, day=1))\n",
        "  merged_df = merged_df.drop(labels=[\"purchase_timestamp\"], axis=1)\n",
        "  return merged_df\n",
        "\n",
        "def add_city_street(merged_df):\n",
        "  cities = merged_df[\"city\"].to_list()\n",
        "  streets = merged_df[\"street_name\"].to_list()\n",
        "\n",
        "  city_street = [cities[i] + \"/\" + streets[i] for i in range(len(cities))]\n",
        "\n",
        "  merged_df[\"city*stret_name\"] = city_street\n",
        "  return merged_df\n",
        "\n",
        "merged = select_columns(merged)\n",
        "merged = transform_columns(merged)\n"
      ],
      "execution_count": 60,
      "outputs": []
    },
    {
      "cell_type": "code",
      "metadata": {
        "id": "2t-x9jN82ZCP",
        "outputId": "0be2b4f5-5d88-40fb-fd81-c45d477c816e",
        "colab": {
          "base_uri": "https://localhost:8080/",
          "height": 400
        }
      },
      "source": [
        "merged.head()"
      ],
      "execution_count": 61,
      "outputs": [
        {
          "output_type": "execute_result",
          "data": {
            "text/html": [
              "<div>\n",
              "<style scoped>\n",
              "    .dataframe tbody tr th:only-of-type {\n",
              "        vertical-align: middle;\n",
              "    }\n",
              "\n",
              "    .dataframe tbody tr th {\n",
              "        vertical-align: top;\n",
              "    }\n",
              "\n",
              "    .dataframe thead th {\n",
              "        text-align: right;\n",
              "    }\n",
              "</style>\n",
              "<table border=\"1\" class=\"dataframe\">\n",
              "  <thead>\n",
              "    <tr style=\"text-align: right;\">\n",
              "      <th></th>\n",
              "      <th>product_id</th>\n",
              "      <th>offered_discount</th>\n",
              "      <th>delivery_company</th>\n",
              "      <th>city</th>\n",
              "      <th>product_name</th>\n",
              "      <th>category_path</th>\n",
              "      <th>price</th>\n",
              "      <th>time[min]</th>\n",
              "      <th>street_name</th>\n",
              "      <th>street_name*num</th>\n",
              "      <th>city*stret_name</th>\n",
              "      <th>purchase_day_of_week</th>\n",
              "      <th>purchase_day</th>\n",
              "      <th>purchase_minute</th>\n",
              "    </tr>\n",
              "  </thead>\n",
              "  <tbody>\n",
              "    <tr>\n",
              "      <th>0</th>\n",
              "      <td>1234.0</td>\n",
              "      <td>0.0</td>\n",
              "      <td>620.0</td>\n",
              "      <td>Police</td>\n",
              "      <td>Sony DVP-SR760</td>\n",
              "      <td>Sprzęt RTV;Video;Odtwarzacze DVD</td>\n",
              "      <td>193.00</td>\n",
              "      <td>1334</td>\n",
              "      <td>Brzoskwiniowa</td>\n",
              "      <td>Brzoskwiniowa 11/53</td>\n",
              "      <td>Police/Brzoskwiniowa</td>\n",
              "      <td>3</td>\n",
              "      <td>2021-04-01</td>\n",
              "      <td>2021-01-01 15:52:00</td>\n",
              "    </tr>\n",
              "    <tr>\n",
              "      <th>1</th>\n",
              "      <td>1289.0</td>\n",
              "      <td>15.0</td>\n",
              "      <td>360.0</td>\n",
              "      <td>Police</td>\n",
              "      <td>Philips SDV5225</td>\n",
              "      <td>Sprzęt RTV;Video;Telewizory i akcesoria;Anteny...</td>\n",
              "      <td>129.00</td>\n",
              "      <td>1939</td>\n",
              "      <td>Brzoskwiniowa</td>\n",
              "      <td>Brzoskwiniowa 11/53</td>\n",
              "      <td>Police/Brzoskwiniowa</td>\n",
              "      <td>3</td>\n",
              "      <td>2021-04-01</td>\n",
              "      <td>2021-01-01 02:26:00</td>\n",
              "    </tr>\n",
              "    <tr>\n",
              "      <th>2</th>\n",
              "      <td>1009.0</td>\n",
              "      <td>0.0</td>\n",
              "      <td>620.0</td>\n",
              "      <td>Police</td>\n",
              "      <td>Kinect Joy Ride (Xbox 360)</td>\n",
              "      <td>Gry i konsole;Gry na konsole;Gry Xbox 360</td>\n",
              "      <td>69.00</td>\n",
              "      <td>2072</td>\n",
              "      <td>Brzoskwiniowa</td>\n",
              "      <td>Brzoskwiniowa 11/53</td>\n",
              "      <td>Police/Brzoskwiniowa</td>\n",
              "      <td>6</td>\n",
              "      <td>2021-01-03</td>\n",
              "      <td>2021-01-01 05:11:00</td>\n",
              "    </tr>\n",
              "    <tr>\n",
              "      <th>3</th>\n",
              "      <td>1001.0</td>\n",
              "      <td>5.0</td>\n",
              "      <td>620.0</td>\n",
              "      <td>Police</td>\n",
              "      <td>Telefon Siemens Gigaset DA310</td>\n",
              "      <td>Telefony i akcesoria;Telefony stacjonarne</td>\n",
              "      <td>58.97</td>\n",
              "      <td>1373</td>\n",
              "      <td>Brzoskwiniowa</td>\n",
              "      <td>Brzoskwiniowa 11/53</td>\n",
              "      <td>Police/Brzoskwiniowa</td>\n",
              "      <td>2</td>\n",
              "      <td>2021-02-17</td>\n",
              "      <td>2021-01-01 12:59:00</td>\n",
              "    </tr>\n",
              "    <tr>\n",
              "      <th>4</th>\n",
              "      <td>1057.0</td>\n",
              "      <td>5.0</td>\n",
              "      <td>620.0</td>\n",
              "      <td>Police</td>\n",
              "      <td>Doom 3 (PC)</td>\n",
              "      <td>Gry i konsole;Gry komputerowe</td>\n",
              "      <td>19.99</td>\n",
              "      <td>2862</td>\n",
              "      <td>Brzoskwiniowa</td>\n",
              "      <td>Brzoskwiniowa 11/53</td>\n",
              "      <td>Police/Brzoskwiniowa</td>\n",
              "      <td>5</td>\n",
              "      <td>2021-02-13</td>\n",
              "      <td>2021-01-01 09:17:00</td>\n",
              "    </tr>\n",
              "  </tbody>\n",
              "</table>\n",
              "</div>"
            ],
            "text/plain": [
              "   product_id  offered_discount  ...  purchase_day     purchase_minute\n",
              "0      1234.0               0.0  ...    2021-04-01 2021-01-01 15:52:00\n",
              "1      1289.0              15.0  ...    2021-04-01 2021-01-01 02:26:00\n",
              "2      1009.0               0.0  ...    2021-01-03 2021-01-01 05:11:00\n",
              "3      1001.0               5.0  ...    2021-02-17 2021-01-01 12:59:00\n",
              "4      1057.0               5.0  ...    2021-02-13 2021-01-01 09:17:00\n",
              "\n",
              "[5 rows x 14 columns]"
            ]
          },
          "metadata": {
            "tags": []
          },
          "execution_count": 61
        }
      ]
    }
  ]
}