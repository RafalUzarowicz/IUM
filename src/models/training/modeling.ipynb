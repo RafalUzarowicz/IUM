{
 "cells": [
  {
   "cell_type": "code",
   "execution_count": 1,
   "outputs": [],
   "source": [
    "from sklearn.tree import DecisionTreeRegressor\n",
    "import pandas as pd\n",
    "\n",
    "def load():\n",
    "    data_dir = \"/home/asia/Documents/projects/PyCharm/IUM/data/data_v3/\"\n",
    "    data = {}\n",
    "    data[\"deliveries\"] = pd.read_json(data_dir + \"deliveries.jsonl\", lines = True)\n",
    "    data[\"sessions\"] = pd.read_json(data_dir + \"sessions.jsonl\", lines = True)\n",
    "    data[\"products\"] = pd.read_json(data_dir + \"products.jsonl\", lines = True)\n",
    "    data[\"users\"] = pd.read_json(data_dir + \"users.jsonl\", lines = True)\n",
    "    return data\n",
    "\n",
    "def preprocess_time(deliveries: pd.DataFrame):\n",
    "    deliveries[\"purchase_timestamp\"] = pd.to_datetime ( deliveries[\"purchase_timestamp\"], format='%Y-%m-%dT%H:%M', errors=\"coerce\")\n",
    "    deliveries['delivery_timestamp'] = pd.to_datetime ( deliveries[\"delivery_timestamp\"], format='%Y-%m-%dT%H:%M:%S', errors=\"coerce\")\n",
    "    deliveries[\"time_difference\"] = deliveries[\"delivery_timestamp\"] - deliveries[\"purchase_timestamp\"]\n",
    "    deliveries[\"time[min]\"] = deliveries[\"time_difference\"].apply(lambda x: x.total_seconds()/60)\n",
    "    deliveries = deliveries.drop(labels=[\"time_difference\"], axis=1)\n",
    "    return deliveries\n",
    "\n",
    "\n",
    "def merge(data: {}) -> pd.DataFrame:\n",
    "    s = data[\"sessions\"]\n",
    "    d = data[\"deliveries\"]\n",
    "    p = data[\"products\"]\n",
    "    u = data[\"users\"]\n",
    "    purchases = s[s[\"purchase_id\"].notnull()].copy()\n",
    "    merged = pd.merge(purchases, d, on='purchase_id', how = \"outer\")\n",
    "    merged2 = pd.merge(merged, u, on=\"user_id\", how = \"outer\")\n",
    "    merged_full = pd.merge(merged2, p, on=\"product_id\", how = \"left\")\n",
    "    return merged_full\n",
    "\n",
    "def drop_useless (merged):\n",
    "    to_drop = [\"session_id\", \"event_type\", \"timestamp\", \"delivery_timestamp\", \"purchase_id\", \"name\"]\n",
    "    return merged.drop(labels = to_drop, axis=1)"
   ],
   "metadata": {
    "collapsed": false,
    "pycharm": {
     "name": "#%%\n"
    }
   }
  },
  {
   "cell_type": "code",
   "execution_count": 7,
   "outputs": [
    {
     "data": {
      "text/plain": "(7288, 17)"
     },
     "execution_count": 7,
     "metadata": {},
     "output_type": "execute_result"
    }
   ],
   "source": [
    "data = load()\n",
    "data[\"deliveries\"] = preprocess_time(data[\"deliveries\"])\n",
    "merged = merge(data)\n",
    "merged.head()\n",
    "merged.shape"
   ],
   "metadata": {
    "collapsed": false,
    "pycharm": {
     "name": "#%%\n"
    }
   }
  },
  {
   "cell_type": "code",
   "execution_count": 9,
   "outputs": [
    {
     "data": {
      "text/plain": "200"
     },
     "execution_count": 9,
     "metadata": {},
     "output_type": "execute_result"
    }
   ],
   "source": [
    "len(merged[\"street\"].unique())\n",
    "# add purchase day of week, purchase hour, separate street and block number"
   ],
   "metadata": {
    "collapsed": false,
    "pycharm": {
     "name": "#%%\n"
    }
   }
  },
  {
   "cell_type": "code",
   "execution_count": 6,
   "outputs": [],
   "source": [
    "# add postal code? http://kodpocztowy.intami.pl/"
   ],
   "metadata": {
    "collapsed": false,
    "pycharm": {
     "name": "#%%\n"
    }
   }
  },
  {
   "cell_type": "code",
   "execution_count": 2,
   "outputs": [
    {
     "data": {
      "text/plain": "   user_id              name      city                   street\n0      102     Aurelia Malon    Police  pl. Brzoskwiniowa 11/53\n1      103     Mateusz Kobel    Police        al. Wrocławska 10\n2      104    Radosław Ratka    Mielec           pl. Nowa 89/04\n3      105  Anastazja Oszust  Szczecin     ul. Częstochowska 80\n4      106      Sylwia Nurek  Szczecin          al. Wiosenna 72",
      "text/html": "<div>\n<style scoped>\n    .dataframe tbody tr th:only-of-type {\n        vertical-align: middle;\n    }\n\n    .dataframe tbody tr th {\n        vertical-align: top;\n    }\n\n    .dataframe thead th {\n        text-align: right;\n    }\n</style>\n<table border=\"1\" class=\"dataframe\">\n  <thead>\n    <tr style=\"text-align: right;\">\n      <th></th>\n      <th>user_id</th>\n      <th>name</th>\n      <th>city</th>\n      <th>street</th>\n    </tr>\n  </thead>\n  <tbody>\n    <tr>\n      <th>0</th>\n      <td>102</td>\n      <td>Aurelia Malon</td>\n      <td>Police</td>\n      <td>pl. Brzoskwiniowa 11/53</td>\n    </tr>\n    <tr>\n      <th>1</th>\n      <td>103</td>\n      <td>Mateusz Kobel</td>\n      <td>Police</td>\n      <td>al. Wrocławska 10</td>\n    </tr>\n    <tr>\n      <th>2</th>\n      <td>104</td>\n      <td>Radosław Ratka</td>\n      <td>Mielec</td>\n      <td>pl. Nowa 89/04</td>\n    </tr>\n    <tr>\n      <th>3</th>\n      <td>105</td>\n      <td>Anastazja Oszust</td>\n      <td>Szczecin</td>\n      <td>ul. Częstochowska 80</td>\n    </tr>\n    <tr>\n      <th>4</th>\n      <td>106</td>\n      <td>Sylwia Nurek</td>\n      <td>Szczecin</td>\n      <td>al. Wiosenna 72</td>\n    </tr>\n  </tbody>\n</table>\n</div>"
     },
     "execution_count": 2,
     "metadata": {},
     "output_type": "execute_result"
    }
   ],
   "source": [
    "data_dir = \"/home/asia/Documents/projects/PyCharm/IUM/data/data_v3/\"\n",
    "users = pd.read_json(data_dir + \"users.jsonl\", lines=True)\n",
    "users.head()"
   ],
   "metadata": {
    "collapsed": false,
    "pycharm": {
     "name": "#%%\n"
    }
   }
  },
  {
   "cell_type": "code",
   "execution_count": 4,
   "outputs": [
    {
     "data": {
      "text/plain": "200"
     },
     "execution_count": 4,
     "metadata": {},
     "output_type": "execute_result"
    }
   ],
   "source": [
    "len(users[\"user_id\"].unique())\n"
   ],
   "metadata": {
    "collapsed": false,
    "pycharm": {
     "name": "#%%\n"
    }
   }
  },
  {
   "cell_type": "code",
   "execution_count": 5,
   "outputs": [
    {
     "data": {
      "text/plain": "                   address prefix             st    num      city\n0  pl. Brzoskwiniowa 11/53    pl.  Brzoskwiniowa  11/53    Police\n1        al. Wrocławska 10    al.     Wrocławska     10    Police\n2           pl. Nowa 89/04    pl.           Nowa  89/04    Mielec\n3     ul. Częstochowska 80    ul.  Częstochowska     80  Szczecin\n4          al. Wiosenna 72    al.       Wiosenna     72  Szczecin",
      "text/html": "<div>\n<style scoped>\n    .dataframe tbody tr th:only-of-type {\n        vertical-align: middle;\n    }\n\n    .dataframe tbody tr th {\n        vertical-align: top;\n    }\n\n    .dataframe thead th {\n        text-align: right;\n    }\n</style>\n<table border=\"1\" class=\"dataframe\">\n  <thead>\n    <tr style=\"text-align: right;\">\n      <th></th>\n      <th>address</th>\n      <th>prefix</th>\n      <th>st</th>\n      <th>num</th>\n      <th>city</th>\n    </tr>\n  </thead>\n  <tbody>\n    <tr>\n      <th>0</th>\n      <td>pl. Brzoskwiniowa 11/53</td>\n      <td>pl.</td>\n      <td>Brzoskwiniowa</td>\n      <td>11/53</td>\n      <td>Police</td>\n    </tr>\n    <tr>\n      <th>1</th>\n      <td>al. Wrocławska 10</td>\n      <td>al.</td>\n      <td>Wrocławska</td>\n      <td>10</td>\n      <td>Police</td>\n    </tr>\n    <tr>\n      <th>2</th>\n      <td>pl. Nowa 89/04</td>\n      <td>pl.</td>\n      <td>Nowa</td>\n      <td>89/04</td>\n      <td>Mielec</td>\n    </tr>\n    <tr>\n      <th>3</th>\n      <td>ul. Częstochowska 80</td>\n      <td>ul.</td>\n      <td>Częstochowska</td>\n      <td>80</td>\n      <td>Szczecin</td>\n    </tr>\n    <tr>\n      <th>4</th>\n      <td>al. Wiosenna 72</td>\n      <td>al.</td>\n      <td>Wiosenna</td>\n      <td>72</td>\n      <td>Szczecin</td>\n    </tr>\n  </tbody>\n</table>\n</div>"
     },
     "execution_count": 5,
     "metadata": {},
     "output_type": "execute_result"
    }
   ],
   "source": [
    "streets = pd.DataFrame()\n",
    "streets[\"address\"] = users[\"street\"].to_list()\n",
    "streets[\"prefix\"] = streets[\"address\"].apply(lambda x: x.split(\" \")[0])\n",
    "streets[\"st\"] = streets[\"address\"].apply(lambda x: x.split(\" \")[1])\n",
    "streets[\"num\"] = streets[\"address\"].apply(lambda x: x.split(\" \")[2])\n",
    "streets[\"city\"] = users[\"city\"]\n",
    "\n",
    "streets.head()"
   ],
   "metadata": {
    "collapsed": false,
    "pycharm": {
     "name": "#%%\n"
    }
   }
  },
  {
   "cell_type": "code",
   "execution_count": 7,
   "outputs": [
    {
     "data": {
      "text/plain": "                   address prefix             st num      city\n0  pl. Brzoskwiniowa 11/53    pl.  Brzoskwiniowa  11    Police\n1        al. Wrocławska 10    al.     Wrocławska  10    Police\n2           pl. Nowa 89/04    pl.           Nowa  89    Mielec\n3     ul. Częstochowska 80    ul.  Częstochowska  80  Szczecin\n4          al. Wiosenna 72    al.       Wiosenna  72  Szczecin",
      "text/html": "<div>\n<style scoped>\n    .dataframe tbody tr th:only-of-type {\n        vertical-align: middle;\n    }\n\n    .dataframe tbody tr th {\n        vertical-align: top;\n    }\n\n    .dataframe thead th {\n        text-align: right;\n    }\n</style>\n<table border=\"1\" class=\"dataframe\">\n  <thead>\n    <tr style=\"text-align: right;\">\n      <th></th>\n      <th>address</th>\n      <th>prefix</th>\n      <th>st</th>\n      <th>num</th>\n      <th>city</th>\n    </tr>\n  </thead>\n  <tbody>\n    <tr>\n      <th>0</th>\n      <td>pl. Brzoskwiniowa 11/53</td>\n      <td>pl.</td>\n      <td>Brzoskwiniowa</td>\n      <td>11</td>\n      <td>Police</td>\n    </tr>\n    <tr>\n      <th>1</th>\n      <td>al. Wrocławska 10</td>\n      <td>al.</td>\n      <td>Wrocławska</td>\n      <td>10</td>\n      <td>Police</td>\n    </tr>\n    <tr>\n      <th>2</th>\n      <td>pl. Nowa 89/04</td>\n      <td>pl.</td>\n      <td>Nowa</td>\n      <td>89</td>\n      <td>Mielec</td>\n    </tr>\n    <tr>\n      <th>3</th>\n      <td>ul. Częstochowska 80</td>\n      <td>ul.</td>\n      <td>Częstochowska</td>\n      <td>80</td>\n      <td>Szczecin</td>\n    </tr>\n    <tr>\n      <th>4</th>\n      <td>al. Wiosenna 72</td>\n      <td>al.</td>\n      <td>Wiosenna</td>\n      <td>72</td>\n      <td>Szczecin</td>\n    </tr>\n  </tbody>\n</table>\n</div>"
     },
     "execution_count": 7,
     "metadata": {},
     "output_type": "execute_result"
    }
   ],
   "source": [
    "streets[\"num\"] = streets[\"num\"].apply(lambda x: x.split(\"/\")[0])\n",
    "streets.head()"
   ],
   "metadata": {
    "collapsed": false,
    "pycharm": {
     "name": "#%%\n"
    }
   }
  },
  {
   "cell_type": "code",
   "execution_count": 11,
   "outputs": [],
   "source": [
    "import numpy as np\n",
    "streets[\"code\"] = np.zeros((streets.shape[0],1))"
   ],
   "metadata": {
    "collapsed": false,
    "pycharm": {
     "name": "#%%\n"
    }
   }
  },
  {
   "cell_type": "code",
   "execution_count": 12,
   "outputs": [
    {
     "data": {
      "text/plain": "                   address prefix             st num      city  code\n0  pl. Brzoskwiniowa 11/53    pl.  Brzoskwiniowa  11    Police   0.0\n1        al. Wrocławska 10    al.     Wrocławska  10    Police   0.0\n2           pl. Nowa 89/04    pl.           Nowa  89    Mielec   0.0\n3     ul. Częstochowska 80    ul.  Częstochowska  80  Szczecin   0.0\n4          al. Wiosenna 72    al.       Wiosenna  72  Szczecin   0.0",
      "text/html": "<div>\n<style scoped>\n    .dataframe tbody tr th:only-of-type {\n        vertical-align: middle;\n    }\n\n    .dataframe tbody tr th {\n        vertical-align: top;\n    }\n\n    .dataframe thead th {\n        text-align: right;\n    }\n</style>\n<table border=\"1\" class=\"dataframe\">\n  <thead>\n    <tr style=\"text-align: right;\">\n      <th></th>\n      <th>address</th>\n      <th>prefix</th>\n      <th>st</th>\n      <th>num</th>\n      <th>city</th>\n      <th>code</th>\n    </tr>\n  </thead>\n  <tbody>\n    <tr>\n      <th>0</th>\n      <td>pl. Brzoskwiniowa 11/53</td>\n      <td>pl.</td>\n      <td>Brzoskwiniowa</td>\n      <td>11</td>\n      <td>Police</td>\n      <td>0.0</td>\n    </tr>\n    <tr>\n      <th>1</th>\n      <td>al. Wrocławska 10</td>\n      <td>al.</td>\n      <td>Wrocławska</td>\n      <td>10</td>\n      <td>Police</td>\n      <td>0.0</td>\n    </tr>\n    <tr>\n      <th>2</th>\n      <td>pl. Nowa 89/04</td>\n      <td>pl.</td>\n      <td>Nowa</td>\n      <td>89</td>\n      <td>Mielec</td>\n      <td>0.0</td>\n    </tr>\n    <tr>\n      <th>3</th>\n      <td>ul. Częstochowska 80</td>\n      <td>ul.</td>\n      <td>Częstochowska</td>\n      <td>80</td>\n      <td>Szczecin</td>\n      <td>0.0</td>\n    </tr>\n    <tr>\n      <th>4</th>\n      <td>al. Wiosenna 72</td>\n      <td>al.</td>\n      <td>Wiosenna</td>\n      <td>72</td>\n      <td>Szczecin</td>\n      <td>0.0</td>\n    </tr>\n  </tbody>\n</table>\n</div>"
     },
     "execution_count": 12,
     "metadata": {},
     "output_type": "execute_result"
    }
   ],
   "source": [
    "streets.head()"
   ],
   "metadata": {
    "collapsed": false,
    "pycharm": {
     "name": "#%%\n"
    }
   }
  },
  {
   "cell_type": "code",
   "execution_count": 13,
   "outputs": [
    {
     "data": {
      "text/plain": "                address prefix             st num      city  code\n3  ul. Częstochowska 80    ul.  Częstochowska  80  Szczecin   0.0",
      "text/html": "<div>\n<style scoped>\n    .dataframe tbody tr th:only-of-type {\n        vertical-align: middle;\n    }\n\n    .dataframe tbody tr th {\n        vertical-align: top;\n    }\n\n    .dataframe thead th {\n        text-align: right;\n    }\n</style>\n<table border=\"1\" class=\"dataframe\">\n  <thead>\n    <tr style=\"text-align: right;\">\n      <th></th>\n      <th>address</th>\n      <th>prefix</th>\n      <th>st</th>\n      <th>num</th>\n      <th>city</th>\n      <th>code</th>\n    </tr>\n  </thead>\n  <tbody>\n    <tr>\n      <th>3</th>\n      <td>ul. Częstochowska 80</td>\n      <td>ul.</td>\n      <td>Częstochowska</td>\n      <td>80</td>\n      <td>Szczecin</td>\n      <td>0.0</td>\n    </tr>\n  </tbody>\n</table>\n</div>"
     },
     "execution_count": 13,
     "metadata": {},
     "output_type": "execute_result"
    }
   ],
   "source": [
    "streets.iloc[[3]]"
   ],
   "metadata": {
    "collapsed": false,
    "pycharm": {
     "name": "#%%\n"
    }
   }
  },
  {
   "cell_type": "code",
   "execution_count": null,
   "outputs": [],
   "source": [
    "# city/street/num"
   ],
   "metadata": {
    "collapsed": false,
    "pycharm": {
     "name": "#%%\n"
    }
   }
  }
 ],
 "metadata": {
  "kernelspec": {
   "display_name": "Python 3",
   "language": "python",
   "name": "python3"
  },
  "language_info": {
   "codemirror_mode": {
    "name": "ipython",
    "version": 2
   },
   "file_extension": ".py",
   "mimetype": "text/x-python",
   "name": "python",
   "nbconvert_exporter": "python",
   "pygments_lexer": "ipython2",
   "version": "2.7.6"
  }
 },
 "nbformat": 4,
 "nbformat_minor": 0
}