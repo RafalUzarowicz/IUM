{
 "nbformat": 4,
 "nbformat_minor": 0,
 "metadata": {
  "colab": {
   "name": "data-analysis.ipynb",
   "provenance": [],
   "collapsed_sections": []
  },
  "kernelspec": {
   "name": "golemcomp",
   "language": "python",
   "display_name": "golemComp"
  },
  "language_info": {
   "name": "python"
  }
 },
 "cells": [
  {
   "cell_type": "markdown",
   "metadata": {
    "id": "yIr8DWdJXwxm"
   },
   "source": [
    "Setup\n",
    "===\n"
   ]
  },
  {
   "cell_type": "markdown",
   "metadata": {
    "id": "x3VEvlReX8Nz"
   },
   "source": [
    "Zadanie biznesowe: \n",
    "\n",
    "*Wygląda na to, że nasze firmy kurierskie czasami nie radzą sobie z dostawami. Gdybyśmy wiedzieli, ile taka dostawa dla danego zamówienia potrwa – moglibyśmy przekazywać tą informację klientom.*\n",
    "\n",
    "Zadanie modelowania:\n",
    "\n",
    "Zadanie regregresji - przewidzieć czas dostawy zamówienia. Kryteria oceny modelu mogą być takie jak zazwyczaj dla regresji np. MSE, lub absolute mean error. Dodatkowo można zamiast jednego czasu dostawy przewidywać okno dostawy o założonej szerokości np. 2h i zastosować własną, niestandardową funkcję celu, która traktuje wszystkie dostawy, które wpadły w okienko jako przewidziane poprawnie."
   ]
  },
  {
   "cell_type": "code",
   "metadata": {
    "id": "Xnat2DuhXAG7"
   },
   "source": [
    "import pandas as pd\n",
    "\n"
   ],
   "execution_count": 1,
   "outputs": []
  },
  {
   "cell_type": "code",
   "metadata": {
    "id": "ZhWbsasxYbR5"
   },
   "source": [
    "data_dir =\"drive/MyDrive/Data/IUM/\"\n",
    "\n",
    "deliveries = pd.read_json(data_dir + \"deliveries.jsonl\", lines=True)\n",
    "sessions = pd.read_json(data_dir + \"sessions.jsonl\", lines=True)\n",
    "users = pd.read_json(data_dir + \"users.jsonl\", lines=True)\n",
    "products = pd.read_json(data_dir + \"products.jsonl\", lines=True)\n",
    "\n",
    "data = {\"products\": products, \"sessions\": sessions, \"users\": users, \"deliveries\":deliveries}"
   ],
   "execution_count": null,
   "outputs": []
  },
  {
   "cell_type": "code",
   "metadata": {
    "colab": {
     "base_uri": "https://localhost:8080/",
     "height": 206
    },
    "id": "21uzQm3DutiD",
    "outputId": "045b6521-0495-4307-9dc1-068d717c5bca"
   },
   "source": [
    "deliveries.head()"
   ],
   "execution_count": null,
   "outputs": []
  },
  {
   "cell_type": "markdown",
   "metadata": {
    "id": "0NFY_7RkutSH"
   },
   "source": [
    ""
   ]
  },
  {
   "cell_type": "markdown",
   "metadata": {
    "id": "Cznw7mzglsWC"
   },
   "source": [
    "Eksploracyjna analiza danych \n",
    "======"
   ]
  },
  {
   "cell_type": "code",
   "metadata": {
    "colab": {
     "base_uri": "https://localhost:8080/"
    },
    "id": "T0Q0anYTZSXl",
    "outputId": "ee11984b-3ab0-43bd-d76c-e1488fbc2242"
   },
   "source": [
    "print(deliveries.shape, sessions.shape, users.shape, products.shape)\n",
    "print(deliveries.columns, \"\\n\", sessions.columns,\"\\n\", users.columns,\"\\n\", products.columns)"
   ],
   "execution_count": null,
   "outputs": []
  },
  {
   "cell_type": "markdown",
   "metadata": {
    "id": "1XzO4FD6mOuX"
   },
   "source": [
    "Ilościowo danych wydaje się być dostatecznie dużo, w najbardziej interesującej nas tabeli (deliveries) jest niemal 7 tysięcy wierszy, co powinno być dość zarówno do wytrenowania, walidacji jak i testowania modelu. \n"
   ]
  },
  {
   "cell_type": "code",
   "metadata": {
    "colab": {
     "base_uri": "https://localhost:8080/",
     "height": 206
    },
    "id": "muLfv8CdZ36k",
    "outputId": "d01361de-c1e4-41b3-ca1b-50a7e4a2ada4"
   },
   "source": [
    "deliveries.head()"
   ],
   "execution_count": null,
   "outputs": []
  },
  {
   "cell_type": "code",
   "metadata": {
    "colab": {
     "base_uri": "https://localhost:8080/",
     "height": 293
    },
    "id": "ty-qEwMWZ334",
    "outputId": "255eea36-5ea1-43fd-a65a-9aa955fea6c4"
   },
   "source": [
    "sessions.head()"
   ],
   "execution_count": null,
   "outputs": []
  },
  {
   "cell_type": "code",
   "metadata": {
    "colab": {
     "base_uri": "https://localhost:8080/",
     "height": 206
    },
    "id": "NAj4ux89Z31U",
    "outputId": "704d65a8-c241-49f7-b40d-f0aa4ce60d6a"
   },
   "source": [
    "users.head()"
   ],
   "execution_count": null,
   "outputs": []
  },
  {
   "cell_type": "code",
   "metadata": {
    "colab": {
     "base_uri": "https://localhost:8080/",
     "height": 258
    },
    "id": "3iq1bMmQZ3ya",
    "outputId": "2afa9a7b-0a94-47c4-8e72-6b64bd45ef73"
   },
   "source": [
    "products.head()"
   ],
   "execution_count": null,
   "outputs": []
  },
  {
   "cell_type": "markdown",
   "metadata": {
    "id": "-d6AzQMIZyHq"
   },
   "source": [
    "Omówienie kolumn\n",
    "----\n",
    "\n",
    "**Dane które na pewno będą istotne:**\n",
    "- adres użytkownika (może być konieczne dodanie do niego kolumny z kodem pocztowym - powinno dać to lepsze pojęcie o położeniu punktów dostaw w tym samym rejonie, dalszym przetworzeniem może być też odległość absolutna pomiędzy magazynem/miejscem wysyłki a celem)\n",
    "- dane dt. czasu złożenia zamówienia (prawdopodobnie trzeba będzie je przekszałcić w format bardziej nadający się do obróbki)\n",
    "- dane dt. czasu dostawy (atrybut którego wartość będziemy próbowali przewidzieć wprost tj. datę lub pośrednio tj. czas między złożeniem zamówienia, a dostawą)\n",
    "- dane dt. firmy kurierskiej (firma prawdopodobnie będzie mocno wpływać na czas dostawy)\n",
    "\n",
    "**Dane które by się przydały:**\n",
    "- dane dt. momentu i miejsca wysyłki produktów (czy zawsze wysyłane są z tego samego miejsca, czy istnieją jakieś opóźnienia)\n",
    "- dane dt. punktów pośrednich na drodze przesyłki (o ile istnieją) np. punktów spedycyjnych, magazynów, to potencjalnie mogłoby pozwolić na ulepszanie predykcji w trakcie podróży przesyłki i im bliżej celu, tym dokładniejsze dane można by było zaprezentować użytkownikowi\n",
    "- \n",
    "\n",
    "**Pozostałe dane:**\n",
    "\n",
    "- session_id - raczej nieistotne \n",
    "-\ttimestamp z tabeli sessions - też raczej nieistotny, podobne informacje niesie timestamp zakupu produktu z tabeli deliveries, gdyż nie obchodzi nas jakie produkty przeglądał użytkownik, a tylko akcje kupna\n",
    "- user_id - samo w sobie raczej nie niesie wartości, choć może być przydatne do łączenia z innymi tablicami (np. deliveries)\n",
    "- product_id \t- przydatne do łączenia\n",
    "- event_type \t- raczej nieistotne\n",
    "- offered_discount \t- raczej nieistotne\n",
    "- purchase_id - istotne do łączenia\n",
    "- name \t- samo w sobie nieważne, można by z niego wyciągnąć takie dane jak np. płeć, jednak nie będzie to miało wpływu na czas dostawy\n",
    "- product_name - raczej nie istotne\n",
    "- category_path - może być o tyle ważne, że pewne produkty mogłyby być gabarytami, wtedy ich czas dostawy mógłby się znacznie różnic przez konieczność specjalnego ich traktowania\n",
    "- price - cena sama w sobie raczej nie niesie wartości\n",
    "\n",
    "\n",
    "**Ogólny komentarz**\n",
    "\n",
    "Tabela deliveries - ważna, niesie istotne dane, choć może być konieczność poddania ich odpowiedniemu przetworzeniu przed utworzeniem modelu. Zawarte w niej daty i godziny są prawdopodobnie bardzo ważne w budowie modelu, ale będą wymagały przetworzenia - np. wyciągnięcia oddzielnie miesiąca, dnia, godziny, może też dnia tygodnia. \n",
    "\n",
    "Tabela sessions - raczej nieważna, choć spodziewam się że może nieść nieco istotnych danych nt. obciążenia systemu w poszczególnych okresach, co prawdopodobnie wpływa na czas dostaw. \n",
    ":owe użytkowników. \n",
    "\n",
    "Tabela products - przy wstępnej analizie nie wydaje się istotna, ale może da się na jej podstawie utworzyć nowe atrybuty bardziej przydatne dla problemu. Być może warto np. dodać do kolumny deliveries kolumnę zliczającą ile przedmiotów jest w jednym zamówieniu - wielkość zamówienia może wpływać na możliwości firm kurierskich co do czasu dostawy.\n"
   ]
  },
  {
   "cell_type": "code",
   "metadata": {
    "colab": {
     "base_uri": "https://localhost:8080/"
    },
    "id": "3XQ83fD1ba6Q",
    "outputId": "429ec8b0-bb3d-4a15-b7b0-84b503b5315d"
   },
   "source": [
    "for key in data.keys():\n",
    "  print(key, \":\\n\", data[key].isnull().sum(), \"\\n\")"
   ],
   "execution_count": null,
   "outputs": []
  },
  {
   "cell_type": "markdown",
   "metadata": {
    "id": "MFH9Jo5Wferz"
   },
   "source": [
    "Brakujące dane w tabeli deliveries są raczej martwiące, dobrze by było jakby dało się je uzupełnić, jednak jeśli nie będzie to możliwe to pozostałe dane powinny być wystarczające do wytrenowania modelu (max 662 wiersze są wybrakowane, to poniżej 10% danych)\n",
    "\n",
    "Cieszy brak pustych wartości w tabelach dotyczących użytkowników - nie powinno być problemu z nieznanymi adresami dostaw.\n",
    "\n",
    "Braki w tabeli sessions nie zaskakują - wynikają prawdopodobnie ze sposobu jaki są gromadzone dane, np. puste wartości w kolumnie purchase_id wynikają najpewniej z tego że dany wiersz odpowiada wartości event_type innej niż BUY_PRODUCT"
   ]
  },
  {
   "cell_type": "code",
   "metadata": {
    "colab": {
     "base_uri": "https://localhost:8080/"
    },
    "id": "J-CUkbfcZsB6",
    "outputId": "4e33f632-9271-4557-a5c9-9c5b198b7c7f"
   },
   "source": [
    "categories = set()\n",
    "for value in products[\"category_path\"]:\n",
    "  categories.update(value.split(\";\"))\n",
    "\n",
    "categories"
   ],
   "execution_count": null,
   "outputs": []
  },
  {
   "cell_type": "markdown",
   "metadata": {
    "id": "v4ZF2sG8g-6j"
   },
   "source": [
    "Po przyjrzeniu się kategoriom można zauważyć, że gabaryty sprzedawanych przedmiotów nie będą się bardzo różnić - choć transport monitorów LCD i Słuchawek jest różny, to raczej nie dość różny by wpłynąć na czas dostawy. Mimo to można dodać kolumnę dzielącą przedmioty na większe np. Drukarki i skaner, Komputery, Monitory i Monitory LCD jako urządzenia \"duże\", a telefony komorkowe, zestawy słuchawkowe i gry na konsole jako \"małe\". "
   ]
  },
  {
   "cell_type": "code",
   "metadata": {
    "id": "iCe1sV5Gg-Up"
   },
   "source": [
    ""
   ],
   "execution_count": null,
   "outputs": []
  },
  {
   "cell_type": "code",
   "metadata": {
    "id": "eNXZtsTjgbwc"
   },
   "source": [
    ""
   ],
   "execution_count": null,
   "outputs": []
  },
  {
   "cell_type": "markdown",
   "metadata": {
    "id": "2Ap1U_u7l3W2"
   },
   "source": [
    "Feature engineering\n",
    "-----\n",
    "\n",
    "Dane czasowe - zamienić na czas absolutny, policzyć kolumnę czasu dostawy, pokazać dane na grafie i sprawdzić jakie są w nich trendy.\n",
    "\n",
    "Adres - kod pocztowy, odległość absolutna"
   ]
  },
  {
   "cell_type": "code",
   "metadata": {
    "colab": {
     "base_uri": "https://localhost:8080/",
     "height": 206
    },
    "id": "xZHcvP2smKMz",
    "outputId": "3f5f1655-6642-421d-a4a8-d2ecbbd7b9c0"
   },
   "source": [
    "deliveries.head()\n"
   ],
   "execution_count": null,
   "outputs": []
  },
  {
   "cell_type": "code",
   "metadata": {
    "colab": {
     "base_uri": "https://localhost:8080/",
     "height": 206
    },
    "id": "d9RNf-5At49T",
    "outputId": "92768ae6-b160-4f57-e276-31fed72aafb2"
   },
   "source": [
    "deliveries[\"purchase_timestamp\"] = pd.to_datetime ( deliveries[\"purchase_timestamp\"], format='%Y-%m-%dT%H:%M', errors=\"coerce\")\n",
    "deliveries['delivery_timestamp'] = pd.to_datetime ( deliveries[\"delivery_timestamp\"], format='%Y-%m-%dT%H:%M:%S', errors=\"coerce\")\n",
    "deliveries.head()"
   ],
   "execution_count": null,
   "outputs": []
  },
  {
   "cell_type": "code",
   "metadata": {
    "colab": {
     "base_uri": "https://localhost:8080/",
     "height": 293
    },
    "id": "IpX3ufgXvn-g",
    "outputId": "36466867-3461-40a3-90e9-b1ff7e148c4b"
   },
   "source": [
    "deliveries[\"time_difference\"] = deliveries[\"delivery_timestamp\"] - deliveries[\"purchase_timestamp\"]\n",
    "deliveries.head()"
   ],
   "execution_count": null,
   "outputs": []
  },
  {
   "cell_type": "code",
   "metadata": {
    "colab": {
     "base_uri": "https://localhost:8080/"
    },
    "id": "eu8KzpjbwSPG",
    "outputId": "4c39eb87-c420-4865-b5f5-9db1d2cf4b7a"
   },
   "source": [
    "len(deliveries[deliveries[\"purchase_timestamp\"] > deliveries[\"delivery_timestamp\"]])"
   ],
   "execution_count": null,
   "outputs": []
  },
  {
   "cell_type": "markdown",
   "metadata": {
    "id": "O73gDEJdvzWw"
   },
   "source": [
    "Ujemne wartości w nowoutworzonej kolumnie wskazują na to, że dane są zanieczyszczone - produkt nie mógł być dostarczony przed zakupem. Takich zanieczyszczeń jest stosunkowo wiele - 2 tysiące wierszy, które przez to nie będą mogły zostać wykorzystane w modelowaniu. To zbyt wiele danych, żebyśmy mogli je po prostu pominąć, jak w przypadku brakujących czasów dostawy. "
   ]
  },
  {
   "cell_type": "code",
   "metadata": {
    "colab": {
     "base_uri": "https://localhost:8080/",
     "height": 597
    },
    "id": "-FPT5qDIwi9T",
    "outputId": "73e43997-7c19-4b81-a5d8-46d6bc1f7b5c"
   },
   "source": [
    "deliveries[deliveries[\"purchase_timestamp\"] > deliveries[\"delivery_timestamp\"]]"
   ],
   "execution_count": null,
   "outputs": []
  },
  {
   "cell_type": "code",
   "metadata": {
    "colab": {
     "base_uri": "https://localhost:8080/"
    },
    "id": "AgHTcmh9xLZp",
    "outputId": "90ce23ef-b3e7-4b35-d021-daad85c0c00a"
   },
   "source": [
    " deliveries[\"delivery_company\"].unique()\n"
   ],
   "execution_count": null,
   "outputs": []
  },
  {
   "cell_type": "code",
   "metadata": {
    "id": "MOg_wwgWxzQs"
   },
   "source": [
    ""
   ],
   "execution_count": null,
   "outputs": []
  },
  {
   "cell_type": "markdown",
   "metadata": {
    "id": "sTt1A8wxtB3V"
   },
   "source": [
    "TO-DO\n",
    "=====\n",
    "- feature engineering\n",
    "- outliers detection \n",
    "- categorical data encoding"
   ]
  },
  {
   "cell_type": "code",
   "metadata": {
    "id": "dHKTuHgNtOsv"
   },
   "source": [
    ""
   ],
   "execution_count": null,
   "outputs": []
  }
 ]
}